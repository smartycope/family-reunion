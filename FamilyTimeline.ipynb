{
 "cells": [
  {
   "cell_type": "code",
   "execution_count": 2,
   "metadata": {},
   "outputs": [],
   "source": [
    "import datetime\n",
    "import polars as pl\n",
    "import dateparser\n",
    "import plotly.express as px\n",
    "import re\n",
    "import numpy as np\n"
   ]
  },
  {
   "cell_type": "code",
   "execution_count": 3,
   "metadata": {},
   "outputs": [
    {
     "name": "stderr",
     "output_type": "stream",
     "text": [
      "sys:1: MapWithoutReturnDtypeWarning: Calling `map_elements` without specifying `return_dtype` can lead to unpredictable results. Specify `return_dtype` to silence this warning.\n",
      "sys:1: MapWithoutReturnDtypeWarning: Calling `map_elements` without specifying `return_dtype` can lead to unpredictable results. Specify `return_dtype` to silence this warning.\n"
     ]
    }
   ],
   "source": [
    "\n",
    "file = \"/home/zeke/Downloads/FamilyTimeline - Sheet1 (4).csv\"\n",
    "\n",
    "# with open(file) as f:\n",
    "#     lines = f.readlines()\n",
    "\n",
    "# lines = filter(lambda l: len(l) > 4, lines)\n",
    "# splitted = [re.split(r'(?:(?:\\ ){2,})?(?:\\t|(?:\\ ){2,})', line, maxsplit=1) for line in lines]\n",
    "# print(list(filter(lambda l: len(l) < 2, splitted)))\n",
    "raw = pl.read_csv(file)\n",
    "# df = pl.DataFrame(splitted).transpose()\n",
    "df = raw.select(\n",
    "    start=(pl.col('date')\n",
    "        .str.replace(r'(.+)\\-.+', '$1')\n",
    "        # If has a season, but doesn't have a - in it\n",
    "        .str.replace(r'(?i)^(?:[^\\-])*(spring)(?:[^\\-])*$', 'march')\n",
    "        .str.replace(r'(?i)^(?:[^\\-])*(fall)(?:[^\\-])*$', 'september')\n",
    "        .str.replace(r'(?i)^(?:[^\\-])*(winter)(?:[^\\-])*$', 'december')\n",
    "        .str.replace(r'(?i)^(?:[^\\-])*(summer)(?:[^\\-])*$', 'june')\n",
    "        # is a year-year, only capturing the first year\n",
    "        # .str.replace(r'(?i)((?:\\d){4})(?:\\s+)?\\-(?:\\s+)?(?:\\d){4}', '$1')\n",
    "        .map_elements(lambda r: dateparser.parse(r, settings={\"PREFER_MONTH_OF_YEAR\": \"first\"}))\n",
    "    ),\n",
    "    end=(pl.col('date')\n",
    "        .str.replace(r'.+\\-(.+)', '$1')\n",
    "        # If has a season, but doesn't have a - in it\n",
    "        .str.replace(r'(?i)^(?:[^\\-])*(spring)(?:[^\\-])*$', 'march')\n",
    "        .str.replace(r'(?i)^(?:[^\\-])*(fall)(?:[^\\-])*$', 'september')\n",
    "        .str.replace(r'(?i)^(?:[^\\-])*(winter)(?:[^\\-])*$', 'december')\n",
    "        .str.replace(r'(?i)^(?:[^\\-])*(summer)(?:[^\\-])*$', 'june')\n",
    "        # is a year-year, only capturing the second year\n",
    "        # .str.replace(r'(?i)(?:\\d){4}(?:\\s+)?\\-(?:\\s+)?((?:\\d){4})', '$1')\n",
    "        .map_elements(lambda r: dateparser.parse(r, settings={\"PREFER_MONTH_OF_YEAR\": \"last\"}))\n",
    "    ),\n",
    "    entry=pl.col('date'),\n",
    "    event=pl.col('event'),\n",
    ").filter(~pl.col('event').is_null())\n",
    "# print(df)\n",
    "\n",
    "# df.write_excel(\"C:\\\\Users\\\\donna\\\\OneDrive\\\\Documents\\\\From Clickfree\\\\Family History\\\\histories\\\\FamilyTimeline.xlsx\")\n",
    "# df = pl.read_excel(\"C:\\\\Users\\\\donna\\\\OneDrive\\\\Documents\\\\From Clickfree\\\\Family History\\\\histories\\\\FamilyTimeline.xlsx\")\n",
    "\n",
    "# df = df.drop_nulls('date')\n",
    "\n",
    "# df = df.with_columns(date2=pl.col('date') + pl.duration(days=20), y=pl.lit(np.random.rand(df.height)))\n",
    "# print(df)\n",
    "# fig = px.timeline(data_frame=df, x_start='date', x_end='date2', text='event', y='y')\n",
    "# fig.show()\n"
   ]
  },
  {
   "cell_type": "code",
   "execution_count": 4,
   "metadata": {},
   "outputs": [],
   "source": [
    "df = (df.with_columns(end=pl.when(pl.col('start') == pl.col('end'))\n",
    "    .then(pl.col('start') + pl.duration(days=10))\n",
    "    .otherwise(pl.col('end')))\n",
    ")"
   ]
  },
  {
   "cell_type": "code",
   "execution_count": 5,
   "metadata": {},
   "outputs": [
    {
     "name": "stderr",
     "output_type": "stream",
     "text": [
      "sys:1: MapWithoutReturnDtypeWarning: Calling `map_elements` without specifying `return_dtype` can lead to unpredictable results. Specify `return_dtype` to silence this warning.\n"
     ]
    },
    {
     "data": {
      "text/html": [
       "<div><style>\n",
       ".dataframe > thead > tr,\n",
       ".dataframe > tbody > tr {\n",
       "  text-align: right;\n",
       "  white-space: pre-wrap;\n",
       "}\n",
       "</style>\n",
       "<small>shape: (1_010, 8)</small><table border=\"1\" class=\"dataframe\"><thead><tr><th>start</th><th>end</th><th>entry</th><th>event</th><th>decade</th><th>adj_start</th><th>adj_end</th><th>event_short</th></tr><tr><td>datetime[μs]</td><td>datetime[μs]</td><td>str</td><td>str</td><td>datetime[μs]</td><td>date</td><td>date</td><td>str</td></tr></thead><tbody><tr><td>1957-02-08 00:00:00</td><td>1957-02-18 00:00:00</td><td>&quot;1957 Feb 8&quot;</td><td>&quot;Dee &amp; Donna married in Idaho F…</td><td>1960-01-01 00:00:00</td><td>0008-02-08</td><td>0008-02-18</td><td>&quot;Dee &amp; Donna married in Idaho F…</td></tr><tr><td>1957-02-09 00:00:00</td><td>1957-02-19 00:00:00</td><td>&quot;1957 Feb&quot;</td><td>&quot;Moved in Lewisville little hou…</td><td>1960-01-01 00:00:00</td><td>0008-02-09</td><td>0008-02-19</td><td>&quot;Moved in Lewisville little hou…</td></tr><tr><td>1957-03-09 00:00:00</td><td>1957-03-19 00:00:00</td><td>&quot;1957 Mar&quot;</td><td>&quot;Moved to Terreton (the pig hou…</td><td>1960-01-01 00:00:00</td><td>0008-03-09</td><td>0008-03-19</td><td>&quot;Moved to Terreton (the pig hou…</td></tr><tr><td>1957-04-09 00:00:00</td><td>1957-04-19 00:00:00</td><td>&quot;1957 Apr&quot;</td><td>&quot;Donna Relief Society Visiting …</td><td>1960-01-01 00:00:00</td><td>0008-04-09</td><td>0008-04-19</td><td>&quot;Donna Relief Society Visiting …</td></tr><tr><td>2024-09-09 00:00:00</td><td>2024-09-19 00:00:00</td><td>&quot;1957 Fall&quot;</td><td>&quot;Donna called Relief Society Si…</td><td>2020-01-01 00:00:00</td><td>0005-09-09</td><td>0005-09-19</td><td>&quot;Donna called Relief Society Si…</td></tr><tr><td>&hellip;</td><td>&hellip;</td><td>&hellip;</td><td>&hellip;</td><td>&hellip;</td><td>&hellip;</td><td>&hellip;</td><td>&hellip;</td></tr><tr><td>2024-05-29 00:00:00</td><td>2024-06-08 00:00:00</td><td>&quot;2024 May 29&quot;</td><td>&quot;Ellie Lynn graduated from Suga…</td><td>2020-01-01 00:00:00</td><td>0005-05-29</td><td>0005-06-08</td><td>&quot;Ellie Lynn graduated from Suga…</td></tr><tr><td>2024-01-09 00:00:00</td><td>2024-05-25 00:00:00</td><td>&quot;2024-25 May&quot;</td><td>&quot;Hampton chosen for Student Lea…</td><td>2020-01-01 00:00:00</td><td>0005-01-09</td><td>0005-05-25</td><td>&quot;Hampton chosen for Student Lea…</td></tr><tr><td>2024-04-24 00:00:00</td><td>2024-05-04 00:00:00</td><td>&quot;2024 Apr 24&quot;</td><td>&quot;Gideon Hardy was born to Ammon…</td><td>2020-01-01 00:00:00</td><td>0005-04-24</td><td>0005-05-04</td><td>&quot;Gideon Hardy was born to Ammon…</td></tr><tr><td>2024-06-09 00:00:00</td><td>2024-06-19 00:00:00</td><td>&quot;2024 Jun&quot;</td><td>&quot;Steve &amp; Deidra LDS Mission to …</td><td>2020-01-01 00:00:00</td><td>0005-06-09</td><td>0005-06-19</td><td>&quot;Steve &amp; Deidra LDS Mission to …</td></tr><tr><td>2024-06-05 00:00:00</td><td>2024-06-15 00:00:00</td><td>&quot;2024 Jun 5&quot;</td><td>&quot;Hazel LaRae Roberts was born t…</td><td>2020-01-01 00:00:00</td><td>0005-06-05</td><td>0005-06-15</td><td>&quot;Hazel LaRae Roberts was born t…</td></tr></tbody></table></div>"
      ],
      "text/plain": [
       "shape: (1_010, 8)\n",
       "┌────────────┬────────────┬────────────┬───────────┬───────────┬───────────┬───────────┬───────────┐\n",
       "│ start      ┆ end        ┆ entry      ┆ event     ┆ decade    ┆ adj_start ┆ adj_end   ┆ event_sho │\n",
       "│ ---        ┆ ---        ┆ ---        ┆ ---       ┆ ---       ┆ ---       ┆ ---       ┆ rt        │\n",
       "│ datetime[μ ┆ datetime[μ ┆ str        ┆ str       ┆ datetime[ ┆ date      ┆ date      ┆ ---       │\n",
       "│ s]         ┆ s]         ┆            ┆           ┆ μs]       ┆           ┆           ┆ str       │\n",
       "╞════════════╪════════════╪════════════╪═══════════╪═══════════╪═══════════╪═══════════╪═══════════╡\n",
       "│ 1957-02-08 ┆ 1957-02-18 ┆ 1957 Feb 8 ┆ Dee &     ┆ 1960-01-0 ┆ 0008-02-0 ┆ 0008-02-1 ┆ Dee &     │\n",
       "│ 00:00:00   ┆ 00:00:00   ┆            ┆ Donna     ┆ 1         ┆ 8         ┆ 8         ┆ Donna     │\n",
       "│            ┆            ┆            ┆ married   ┆ 00:00:00  ┆           ┆           ┆ married   │\n",
       "│            ┆            ┆            ┆ in Idaho  ┆           ┆           ┆           ┆ in Idaho  │\n",
       "│            ┆            ┆            ┆ F…        ┆           ┆           ┆           ┆ F…        │\n",
       "│ 1957-02-09 ┆ 1957-02-19 ┆ 1957 Feb   ┆ Moved in  ┆ 1960-01-0 ┆ 0008-02-0 ┆ 0008-02-1 ┆ Moved in  │\n",
       "│ 00:00:00   ┆ 00:00:00   ┆            ┆ Lewisvill ┆ 1         ┆ 9         ┆ 9         ┆ Lewisvill │\n",
       "│            ┆            ┆            ┆ e little  ┆ 00:00:00  ┆           ┆           ┆ e little  │\n",
       "│            ┆            ┆            ┆ hou…      ┆           ┆           ┆           ┆ hou…      │\n",
       "│ 1957-03-09 ┆ 1957-03-19 ┆ 1957 Mar   ┆ Moved to  ┆ 1960-01-0 ┆ 0008-03-0 ┆ 0008-03-1 ┆ Moved to  │\n",
       "│ 00:00:00   ┆ 00:00:00   ┆            ┆ Terreton  ┆ 1         ┆ 9         ┆ 9         ┆ Terreton  │\n",
       "│            ┆            ┆            ┆ (the pig  ┆ 00:00:00  ┆           ┆           ┆ (the pig  │\n",
       "│            ┆            ┆            ┆ hou…      ┆           ┆           ┆           ┆ hou…      │\n",
       "│ 1957-04-09 ┆ 1957-04-19 ┆ 1957 Apr   ┆ Donna     ┆ 1960-01-0 ┆ 0008-04-0 ┆ 0008-04-1 ┆ Donna     │\n",
       "│ 00:00:00   ┆ 00:00:00   ┆            ┆ Relief    ┆ 1         ┆ 9         ┆ 9         ┆ Relief    │\n",
       "│            ┆            ┆            ┆ Society   ┆ 00:00:00  ┆           ┆           ┆ Society   │\n",
       "│            ┆            ┆            ┆ Visiting  ┆           ┆           ┆           ┆ Visiting  │\n",
       "│            ┆            ┆            ┆ …         ┆           ┆           ┆           ┆ …         │\n",
       "│ 2024-09-09 ┆ 2024-09-19 ┆ 1957 Fall  ┆ Donna     ┆ 2020-01-0 ┆ 0005-09-0 ┆ 0005-09-1 ┆ Donna     │\n",
       "│ 00:00:00   ┆ 00:00:00   ┆            ┆ called    ┆ 1         ┆ 9         ┆ 9         ┆ called    │\n",
       "│            ┆            ┆            ┆ Relief    ┆ 00:00:00  ┆           ┆           ┆ Relief    │\n",
       "│            ┆            ┆            ┆ Society   ┆           ┆           ┆           ┆ Society   │\n",
       "│            ┆            ┆            ┆ Si…       ┆           ┆           ┆           ┆ Si…       │\n",
       "│ …          ┆ …          ┆ …          ┆ …         ┆ …         ┆ …         ┆ …         ┆ …         │\n",
       "│ 2024-05-29 ┆ 2024-06-08 ┆ 2024 May   ┆ Ellie     ┆ 2020-01-0 ┆ 0005-05-2 ┆ 0005-06-0 ┆ Ellie     │\n",
       "│ 00:00:00   ┆ 00:00:00   ┆ 29         ┆ Lynn      ┆ 1         ┆ 9         ┆ 8         ┆ Lynn      │\n",
       "│            ┆            ┆            ┆ graduated ┆ 00:00:00  ┆           ┆           ┆ graduated │\n",
       "│            ┆            ┆            ┆ from      ┆           ┆           ┆           ┆ from      │\n",
       "│            ┆            ┆            ┆ Suga…     ┆           ┆           ┆           ┆ Suga…     │\n",
       "│ 2024-01-09 ┆ 2024-05-25 ┆ 2024-25    ┆ Hampton   ┆ 2020-01-0 ┆ 0005-01-0 ┆ 0005-05-2 ┆ Hampton   │\n",
       "│ 00:00:00   ┆ 00:00:00   ┆ May        ┆ chosen    ┆ 1         ┆ 9         ┆ 5         ┆ chosen    │\n",
       "│            ┆            ┆            ┆ for       ┆ 00:00:00  ┆           ┆           ┆ for       │\n",
       "│            ┆            ┆            ┆ Student   ┆           ┆           ┆           ┆ Student   │\n",
       "│            ┆            ┆            ┆ Lea…      ┆           ┆           ┆           ┆ Lea…      │\n",
       "│ 2024-04-24 ┆ 2024-05-04 ┆ 2024 Apr   ┆ Gideon    ┆ 2020-01-0 ┆ 0005-04-2 ┆ 0005-05-0 ┆ Gideon    │\n",
       "│ 00:00:00   ┆ 00:00:00   ┆ 24         ┆ Hardy was ┆ 1         ┆ 4         ┆ 4         ┆ Hardy was │\n",
       "│            ┆            ┆            ┆ born to   ┆ 00:00:00  ┆           ┆           ┆ born to   │\n",
       "│            ┆            ┆            ┆ Ammon…    ┆           ┆           ┆           ┆ Ammon…    │\n",
       "│ 2024-06-09 ┆ 2024-06-19 ┆ 2024 Jun   ┆ Steve &   ┆ 2020-01-0 ┆ 0005-06-0 ┆ 0005-06-1 ┆ Steve &   │\n",
       "│ 00:00:00   ┆ 00:00:00   ┆            ┆ Deidra    ┆ 1         ┆ 9         ┆ 9         ┆ Deidra    │\n",
       "│            ┆            ┆            ┆ LDS       ┆ 00:00:00  ┆           ┆           ┆ LDS       │\n",
       "│            ┆            ┆            ┆ Mission   ┆           ┆           ┆           ┆ Mission   │\n",
       "│            ┆            ┆            ┆ to …      ┆           ┆           ┆           ┆ to …      │\n",
       "│ 2024-06-05 ┆ 2024-06-15 ┆ 2024 Jun 5 ┆ Hazel     ┆ 2020-01-0 ┆ 0005-06-0 ┆ 0005-06-1 ┆ Hazel     │\n",
       "│ 00:00:00   ┆ 00:00:00   ┆            ┆ LaRae     ┆ 1         ┆ 5         ┆ 5         ┆ LaRae     │\n",
       "│            ┆            ┆            ┆ Roberts   ┆ 00:00:00  ┆           ┆           ┆ Roberts   │\n",
       "│            ┆            ┆            ┆ was born  ┆           ┆           ┆           ┆ was born  │\n",
       "│            ┆            ┆            ┆ t…        ┆           ┆           ┆           ┆ t…        │\n",
       "└────────────┴────────────┴────────────┴───────────┴───────────┴───────────┴───────────┴───────────┘"
      ]
     },
     "execution_count": 5,
     "metadata": {},
     "output_type": "execute_result"
    }
   ],
   "source": [
    "from datetime import timedelta\n",
    "\n",
    "wrap = 50\n",
    "# df['start'].dt.round(timedelta(365*10))\n",
    "df = df.with_columns(\n",
    "    decade=df['start'].dt.round('10y'),\n",
    "    # year_small=df['start'].dt.year().cast(str).str.slice(-1, 1),\n",
    "    adj_start=pl.date(\n",
    "        day=pl.when(pl.col('start').dt.month().cast(pl.Int64).eq(2) & pl.col('start').dt.day().cast(pl.Int64).eq(29)).then(28).otherwise(pl.col('start').dt.day()),\n",
    "        month=df['start'].dt.month(),\n",
    "        year=df['start'].dt.year().cast(str).str.slice(-1, 1).cast(int) + 1\n",
    "    ),\n",
    "    adj_end=pl.date(\n",
    "        day=pl.when(pl.col('end').dt.month().cast(pl.Int64).eq(2) & pl.col('end').dt.day().cast(pl.Int64).eq(29)).then(28).otherwise(pl.col('end').dt.day()),\n",
    "        month=df['end'].dt.month(),\n",
    "        year=df['end'].dt.year().cast(str).str.slice(-1, 1).cast(int) + 1\n",
    "    ),\n",
    "    event_short=pl.col('event').map_elements(lambda txt: txt[:wrap] + '...' if len(txt) > wrap else txt)\n",
    "    # adj_end=pl.date(\n",
    "    #     day=pl.lit(28) if df['end'].dt.month() == 2 & df['end'].dt.day() == 29 else df['end'].dt.day(),\n",
    "    #     month=df['end'].dt.month(),\n",
    "    #     year=df['end'].dt.year().cast(str).str.slice(-1, 1).cast(int) + 1\n",
    "    # ),\n",
    ")\n",
    "df"
   ]
  },
  {
   "cell_type": "code",
   "execution_count": 15,
   "metadata": {},
   "outputs": [
    {
     "data": {
      "application/vnd.plotly.v1+json": {
       "config": {
        "plotlyServerURL": "https://plot.ly"
       },
       "data": [
        {
         "alignmentgroup": "True",
         "base": [
          "0008-02-08T00:00:00",
          "0008-02-09T00:00:00",
          "0008-03-09T00:00:00",
          "0008-04-09T00:00:00",
          "0009-01-09T00:00:00",
          "0010-01-09T00:00:00",
          "0010-01-09T00:00:00",
          "0010-02-09T00:00:00",
          "0010-02-09T00:00:00",
          "0010-04-09T00:00:00",
          "0010-05-09T00:00:00",
          "0010-06-01T00:00:00",
          "0010-06-13T00:00:00",
          "0010-01-09T00:00:00",
          "0010-08-07T00:00:00",
          "0010-01-09T00:00:00",
          "0010-09-09T00:00:00",
          "0010-09-09T00:00:00",
          "0001-01-09T00:00:00",
          "0001-11-26T00:00:00",
          "0002-01-01T00:00:00",
          "0002-11-08T00:00:00",
          "0003-01-07T00:00:00",
          "0003-07-19T00:00:00",
          "0003-12-09T00:00:00",
          "0004-01-09T00:00:00",
          "0004-05-09T00:00:00",
          "0004-06-09T00:00:00",
          "0004-11-18T00:00:00",
          "0004-11-09T00:00:00",
          "0004-12-25T00:00:00",
          "0005-03-23T00:00:00",
          "0005-04-03T00:00:00",
          "0005-04-04T00:00:00",
          "0005-05-03T00:00:00",
          "0005-05-31T00:00:00",
          "0005-06-09T00:00:00",
          "0005-01-09T00:00:00",
          "0005-12-25T00:00:00",
          "0006-01-09T00:00:00",
          "0006-05-09T00:00:00",
          "0006-05-09T00:00:00"
         ],
         "customdata": [
          [
           "Dee & Donna married in Idaho Falls Temple",
           "1957 Feb 8",
           "Dee & Donna married in Idaho Falls Temple",
           "1960-01-01T00:00:00"
          ],
          [
           "Moved in Lewisville little house",
           "1957 Feb",
           "Moved in Lewisville little house",
           "1960-01-01T00:00:00"
          ],
          [
           "Moved to Terreton (the pig house)",
           "1957 Mar",
           "Moved to Terreton (the pig house)",
           "1960-01-01T00:00:00"
          ],
          [
           "Donna Relief Society Visiting Teacher Terreton Ward",
           "1957 Apr",
           "Donna Relief Society Visiting Teacher Terreton War...",
           "1960-01-01T00:00:00"
          ],
          [
           "Dee Secretary to the Elders Quorum Terreton Ward",
           "1958",
           "Dee Secretary to the Elders Quorum Terreton Ward",
           "1960-01-01T00:00:00"
          ],
          [
           "Dee out of work",
           "1959 Jan",
           "Dee out of work",
           "1960-01-01T00:00:00"
          ],
          [
           "Dee worked for Delbert Lott baling hay",
           "1959 Jan",
           "Dee worked for Delbert Lott baling hay",
           "1960-01-01T00:00:00"
          ],
          [
           "Moved to Rigby (Ray Baxter’s apartment)",
           "1959 Feb",
           "Moved to Rigby (Ray Baxter’s apartment)",
           "1960-01-01T00:00:00"
          ],
          [
           "Dee job at Sugar Factory",
           "1959 Feb",
           "Dee job at Sugar Factory",
           "1960-01-01T00:00:00"
          ],
          [
           "Dee job at Jefferson Co-op",
           "1959 Apr",
           "Dee job at Jefferson Co-op",
           "1960-01-01T00:00:00"
          ],
          [
           "Dee job at Ray Baxter’s Farm in Clark",
           "1959 May",
           "Dee job at Ray Baxter’s Farm in Clark",
           "1960-01-01T00:00:00"
          ],
          [
           "Moved to Clark in Ray Baxter’s home",
           "1959 Jun 1",
           "Moved to Clark in Ray Baxter’s home",
           "1960-01-01T00:00:00"
          ],
          [
           "Blair Dee born Rigby, Idaho Maternity Home",
           "1959 Jun 13",
           "Blair Dee born Rigby, Idaho Maternity Home",
           "1960-01-01T00:00:00"
          ],
          [
           "Jul 5\t\tBlair blessed by Dee, Clark Ward, East Rigby Stake",
           "1959",
           "Jul 5\t\tBlair blessed by Dee, Clark Ward, East Rigb...",
           "1960-01-01T00:00:00"
          ],
          [
           "Earthquake at Yellowstone. Created Hebgen Lake. Many killed.",
           "1959 Aug 7",
           "Earthquake at Yellowstone. Created Hebgen Lake. Ma...",
           "1960-01-01T00:00:00"
          ],
          [
           "Dee Teacher of 14-15 year olds Sunday School Clark Ward",
           "1959",
           "Dee Teacher of 14-15 year olds Sunday School Clark...",
           "1960-01-01T00:00:00"
          ],
          [
           "Donna MIA Music Director Clark Ward, East Rigby Stake",
           "1959 Sep",
           "Donna MIA Music Director Clark Ward, East Rigby St...",
           "1960-01-01T00:00:00"
          ],
          [
           "Donna Relief Society Visiting Teacher Clark Ward",
           "1959 Sep",
           "Donna Relief Society Visiting Teacher Clark Ward",
           "1960-01-01T00:00:00"
          ],
          [
           "Dee Counselor Elders Quorum Clark Ward No",
           "1960",
           "Dee Counselor Elders Quorum Clark Ward No",
           "1960-01-01T00:00:00"
          ],
          [
           "David Joseph born Rigby, Idaho Maternity Home",
           "1960 Nov 26",
           "David Joseph born Rigby, Idaho Maternity Home",
           "1960-01-01T00:00:00"
          ],
          [
           "David blessed by Dee, Clark Ward, East Rigby Stake",
           "1961 Jan 1",
           "David blessed by Dee, Clark Ward, East Rigby Stake",
           "1960-01-01T00:00:00"
          ],
          [
           "Steven Lynn born Rigby, Idaho Maternity Home",
           "1961 Nov 8",
           "Steven Lynn born Rigby, Idaho Maternity Home",
           "1960-01-01T00:00:00"
          ],
          [
           "Steven blessed by Dee, Clark Ward, East Rigby Stake",
           "1962 Jan 7",
           "Steven blessed by Dee, Clark Ward, East Rigby Stak...",
           "1960-01-01T00:00:00"
          ],
          [
           "Family moved to Othello, Washington",
           "1962 Jul 19-1962 Jul 21",
           "Family moved to Othello, Washington",
           "1960-01-01T00:00:00"
          ],
          [
           "Donna Sunday School Organist Othello Ward",
           "1962 Dec",
           "Donna Sunday School Organist Othello Ward",
           "1960-01-01T00:00:00"
          ],
          [
           "Donna MIA Music Director Othello Ward",
           "1963 Jan",
           "Donna MIA Music Director Othello Ward",
           "1960-01-01T00:00:00"
          ],
          [
           "Donna Stake MIA Music Director Grand Coulee Stake",
           "1963 May",
           "Donna Stake MIA Music Director Grand Coulee Stake",
           "1960-01-01T00:00:00"
          ],
          [
           "Donna gave closing prayer at LDS June Conference in Salt Lake City",
           "1963 June",
           "Donna gave closing prayer at LDS June Conference i...",
           "1960-01-01T00:00:00"
          ],
          [
           "Donna Ward Choir Director Othello Ward, Grand Coulee Stake",
           "1963 Nov 18",
           "Donna Ward Choir Director Othello Ward, Grand Coul...",
           "1960-01-01T00:00:00"
          ],
          [
           "Home to Grandma Burrows' for Thanksgiving",
           "1963 Nov",
           "Home to Grandma Burrows' for Thanksgiving",
           "1960-01-01T00:00:00"
          ],
          [
           "Grandma Burrows came for Christmas in Othello. Steve tricycle.",
           "1963 Dec 25",
           "Grandma Burrows came for Christmas in Othello. Ste...",
           "1960-01-01T00:00:00"
          ],
          [
           "Dee to Wheel Alignment School",
           "1964 Mar 23",
           "Dee to Wheel Alignment School",
           "1960-01-01T00:00:00"
          ],
          [
           "Donna Conducted MIA Concert in Moses Lake, WA 120 voices",
           "1964 Apr 3",
           "Donna Conducted MIA Concert in Moses Lake, WA 120 ...",
           "1960-01-01T00:00:00"
          ],
          [
           "Moved to Rexburg, Idaho",
           "1964 Apr 4",
           "Moved to Rexburg, Idaho",
           "1960-01-01T00:00:00"
          ],
          [
           "Donna MIA Music Director Rexburg 3rd Ward, Rexburg Stake",
           "1964 May 3",
           "Donna MIA Music Director Rexburg 3rd Ward, Rexburg...",
           "1960-01-01T00:00:00"
          ],
          [
           "Dee Teachers Quorum Advisor Rexburg 3rd Ward",
           "1964 May 31",
           "Dee Teachers Quorum Advisor Rexburg 3rd Ward",
           "1960-01-01T00:00:00"
          ],
          [
           "Dee & Clair bought OK TIRE STORE",
           "1964 Jun",
           "Dee & Clair bought OK TIRE STORE",
           "1960-01-01T00:00:00"
          ],
          [
           "Dee Executive Secretary to the Aaronic Priesthood Rexburg 3rd Ward",
           "1964",
           "Dee Executive Secretary to the Aaronic Priesthood ...",
           "1960-01-01T00:00:00"
          ],
          [
           "Thueson Christmas Breakfast our house then we all went to Butte, Montana to see Lynn",
           "1964 Dec 25",
           "Thueson Christmas Breakfast our house then we all ...",
           "1960-01-01T00:00:00"
          ],
          [
           "Dee operated on Hernia",
           "1965 Jan",
           "Dee operated on Hernia",
           "1960-01-01T00:00:00"
          ],
          [
           "Dee Dale Carnegie Course",
           "1965 May",
           "Dee Dale Carnegie Course",
           "1960-01-01T00:00:00"
          ],
          [
           "Dee called to coach 3rd Ward Softball",
           "1965 May",
           "Dee called to coach 3rd Ward Softball",
           "1960-01-01T00:00:00"
          ]
         ],
         "hoverinfo": "skip",
         "hovertemplate": "<b>%{hovertext}</b><br><br>When=%{customdata[1]}<extra></extra>",
         "hovertext": [
          "Dee & Donna married in Idaho Falls Temple",
          "Moved in Lewisville little house",
          "Moved to Terreton (the pig house)",
          "Donna Relief Society Visiting Teacher Terreton Ward",
          "Dee Secretary to the Elders Quorum Terreton Ward",
          "Dee out of work",
          "Dee worked for Delbert Lott baling hay",
          "Moved to Rigby (Ray Baxter’s apartment)",
          "Dee job at Sugar Factory",
          "Dee job at Jefferson Co-op",
          "Dee job at Ray Baxter’s Farm in Clark",
          "Moved to Clark in Ray Baxter’s home",
          "Blair Dee born Rigby, Idaho Maternity Home",
          "Jul 5\t\tBlair blessed by Dee, Clark Ward, East Rigby Stake",
          "Earthquake at Yellowstone. Created Hebgen Lake. Many killed.",
          "Dee Teacher of 14-15 year olds Sunday School Clark Ward",
          "Donna MIA Music Director Clark Ward, East Rigby Stake",
          "Donna Relief Society Visiting Teacher Clark Ward",
          "Dee Counselor Elders Quorum Clark Ward No",
          "David Joseph born Rigby, Idaho Maternity Home",
          "David blessed by Dee, Clark Ward, East Rigby Stake",
          "Steven Lynn born Rigby, Idaho Maternity Home",
          "Steven blessed by Dee, Clark Ward, East Rigby Stake",
          "Family moved to Othello, Washington",
          "Donna Sunday School Organist Othello Ward",
          "Donna MIA Music Director Othello Ward",
          "Donna Stake MIA Music Director Grand Coulee Stake",
          "Donna gave closing prayer at LDS June Conference in Salt Lake City",
          "Donna Ward Choir Director Othello Ward, Grand Coulee Stake",
          "Home to Grandma Burrows' for Thanksgiving",
          "Grandma Burrows came for Christmas in Othello. Steve tricycle.",
          "Dee to Wheel Alignment School",
          "Donna Conducted MIA Concert in Moses Lake, WA 120 voices",
          "Moved to Rexburg, Idaho",
          "Donna MIA Music Director Rexburg 3rd Ward, Rexburg Stake",
          "Dee Teachers Quorum Advisor Rexburg 3rd Ward",
          "Dee & Clair bought OK TIRE STORE",
          "Dee Executive Secretary to the Aaronic Priesthood Rexburg 3rd Ward",
          "Thueson Christmas Breakfast our house then we all went to Butte, Montana to see Lynn",
          "Dee operated on Hernia",
          "Dee Dale Carnegie Course",
          "Dee called to coach 3rd Ward Softball"
         ],
         "legendgroup": "",
         "marker": {
          "color": "#636efa",
          "line": {
           "width": 0
          },
          "pattern": {
           "shape": ""
          }
         },
         "name": "",
         "offsetgroup": "",
         "orientation": "h",
         "showlegend": false,
         "text": [
          "Dee & Donna married in Idaho Falls Temple",
          "Moved in Lewisville little house",
          "Moved to Terreton (the pig house)",
          "Donna Relief Society Visiting Teacher Terreton War...",
          "Dee Secretary to the Elders Quorum Terreton Ward",
          "Dee out of work",
          "Dee worked for Delbert Lott baling hay",
          "Moved to Rigby (Ray Baxter’s apartment)",
          "Dee job at Sugar Factory",
          "Dee job at Jefferson Co-op",
          "Dee job at Ray Baxter’s Farm in Clark",
          "Moved to Clark in Ray Baxter’s home",
          "Blair Dee born Rigby, Idaho Maternity Home",
          "Jul 5\t\tBlair blessed by Dee, Clark Ward, East Rigb...",
          "Earthquake at Yellowstone. Created Hebgen Lake. Ma...",
          "Dee Teacher of 14-15 year olds Sunday School Clark...",
          "Donna MIA Music Director Clark Ward, East Rigby St...",
          "Donna Relief Society Visiting Teacher Clark Ward",
          "Dee Counselor Elders Quorum Clark Ward No",
          "David Joseph born Rigby, Idaho Maternity Home",
          "David blessed by Dee, Clark Ward, East Rigby Stake",
          "Steven Lynn born Rigby, Idaho Maternity Home",
          "Steven blessed by Dee, Clark Ward, East Rigby Stak...",
          "Family moved to Othello, Washington",
          "Donna Sunday School Organist Othello Ward",
          "Donna MIA Music Director Othello Ward",
          "Donna Stake MIA Music Director Grand Coulee Stake",
          "Donna gave closing prayer at LDS June Conference i...",
          "Donna Ward Choir Director Othello Ward, Grand Coul...",
          "Home to Grandma Burrows' for Thanksgiving",
          "Grandma Burrows came for Christmas in Othello. Ste...",
          "Dee to Wheel Alignment School",
          "Donna Conducted MIA Concert in Moses Lake, WA 120 ...",
          "Moved to Rexburg, Idaho",
          "Donna MIA Music Director Rexburg 3rd Ward, Rexburg...",
          "Dee Teachers Quorum Advisor Rexburg 3rd Ward",
          "Dee & Clair bought OK TIRE STORE",
          "Dee Executive Secretary to the Aaronic Priesthood ...",
          "Thueson Christmas Breakfast our house then we all ...",
          "Dee operated on Hernia",
          "Dee Dale Carnegie Course",
          "Dee called to coach 3rd Ward Softball"
         ],
         "textposition": "auto",
         "type": "bar",
         "x": [
          864000000,
          864000000,
          864000000,
          864000000,
          28857600000,
          864000000,
          864000000,
          864000000,
          864000000,
          864000000,
          864000000,
          864000000,
          864000000,
          28857600000,
          864000000,
          28857600000,
          864000000,
          864000000,
          28857600000,
          864000000,
          864000000,
          864000000,
          864000000,
          172800000,
          864000000,
          864000000,
          864000000,
          864000000,
          864000000,
          864000000,
          864000000,
          864000000,
          864000000,
          864000000,
          864000000,
          864000000,
          864000000,
          28857600000,
          864000000,
          864000000,
          864000000,
          864000000
         ],
         "xaxis": "x7",
         "y": [
          15,
          14,
          13,
          12,
          9,
          7,
          6,
          5,
          4,
          3,
          2,
          1,
          -1,
          -2,
          -3,
          -4,
          -5,
          -6,
          -7,
          -8,
          -9,
          -10,
          -11,
          -12,
          -14,
          -15,
          -16,
          15,
          13,
          12,
          11,
          10,
          9,
          8,
          7,
          6,
          5,
          4,
          3,
          2,
          1,
          -1
         ],
         "yaxis": "y7"
        },
        {
         "alignmentgroup": "True",
         "base": [
          "0005-09-09T00:00:00",
          "0005-03-09T00:00:00",
          "0005-09-09T00:00:00",
          "0005-09-09T00:00:00",
          "0005-09-09T00:00:00",
          "0005-06-09T00:00:00",
          "0005-09-09T00:00:00",
          "0005-09-09T00:00:00",
          "0005-06-09T00:00:00",
          "0005-09-09T00:00:00",
          "0005-09-09T00:00:00",
          "0005-09-09T00:00:00",
          "0005-06-09T00:00:00",
          "0005-09-09T00:00:00",
          "0005-09-09T00:00:00",
          "0005-09-09T00:00:00",
          "0005-09-09T00:00:00",
          "0005-09-09T00:00:00",
          "0005-09-09T00:00:00",
          "0005-09-09T00:00:00",
          "0005-09-09T00:00:00",
          "0005-09-09T00:00:00",
          "0005-09-09T00:00:00",
          "0005-09-09T00:00:00",
          "0005-09-09T00:00:00",
          "0006-05-29T00:00:00",
          "0007-06-09T00:00:00",
          "0006-06-04T00:00:00",
          "0006-07-09T00:00:00",
          "0006-09-09T00:00:00",
          "0006-11-01T00:00:00",
          "0006-12-17T00:00:00",
          "0007-01-26T00:00:00",
          "0007-05-31T00:00:00",
          "0007-06-03T00:00:00",
          "0007-05-11T00:00:00",
          "0007-06-09T00:00:00",
          "0007-06-09T00:00:00",
          "0007-06-09T00:00:00",
          "0007-06-17T00:00:00",
          "0007-06-28T00:00:00",
          "0005-06-09T00:00:00",
          "0007-01-09T00:00:00",
          "0007-06-06T00:00:00",
          "0007-01-09T00:00:00",
          "0007-08-07T00:00:00",
          "0007-08-17T00:00:00",
          "0007-08-20T00:00:00",
          "0007-09-10T00:00:00",
          "0007-10-09T00:00:00",
          "0007-10-05T00:00:00",
          "0007-10-26T00:00:00",
          "0007-11-09T00:00:00",
          "0007-11-15T00:00:00",
          "0007-12-09T00:00:00",
          "0007-12-09T00:00:00",
          "0008-01-01T00:00:00",
          "0008-01-08T00:00:00",
          "0008-02-19T00:00:00",
          "0008-03-12T00:00:00",
          "0008-04-09T00:00:00",
          "0008-04-06T00:00:00",
          "0008-06-16T00:00:00",
          "0008-07-01T00:00:00",
          "0008-07-01T00:00:00",
          "0008-07-09T00:00:00",
          "0008-07-19T00:00:00",
          "0008-08-21T00:00:00",
          "0008-09-03T00:00:00",
          "0008-11-05T00:00:00",
          "0008-11-29T00:00:00",
          "0008-11-17T00:00:00",
          "0008-11-19T00:00:00",
          "0008-11-09T00:00:00",
          "0008-12-09T00:00:00",
          "0009-01-12T00:00:00",
          "0009-01-13T00:00:00",
          "0009-03-06T00:00:00",
          "0009-04-09T00:00:00",
          "0009-04-17T00:00:00",
          "0009-05-18T00:00:00",
          "0009-06-03T00:00:00",
          "0009-06-06T00:00:00",
          "0009-06-27T00:00:00",
          "0009-06-20T00:00:00",
          "0009-06-29T00:00:00",
          "0009-07-06T00:00:00",
          "0009-08-05T00:00:00",
          "0009-08-24T00:00:00",
          "0009-09-09T00:00:00",
          "0009-09-22T00:00:00",
          "0009-09-22T00:00:00",
          "0009-10-29T00:00:00",
          "0009-10-30T00:00:00",
          "0009-11-07T00:00:00",
          "0009-12-15T00:00:00",
          "0010-01-06T00:00:00",
          "0010-01-20T00:00:00",
          "0010-02-09T00:00:00",
          "0010-04-04T00:00:00",
          "0010-04-05T00:00:00",
          "0010-04-05T00:00:00",
          "0010-04-13T00:00:00",
          "0010-04-09T00:00:00",
          "0010-05-09T00:00:00",
          "0010-05-09T00:00:00",
          "0010-06-02T00:00:00",
          "0010-06-06T00:00:00",
          "0010-06-09T00:00:00",
          "0010-07-05T00:00:00",
          "0010-07-06T00:00:00",
          "0010-07-22T00:00:00",
          "0010-07-09T00:00:00",
          "0010-08-09T00:00:00",
          "0010-08-20T00:00:00",
          "0010-08-09T00:00:00",
          "0010-08-04T00:00:00",
          "0010-09-29T00:00:00",
          "0010-09-30T00:00:00",
          "0010-10-13T00:00:00",
          "0010-10-09T00:00:00",
          "0010-10-30T00:00:00",
          "0010-11-09T00:00:00",
          "0010-12-14T00:00:00",
          "0010-01-09T00:00:00",
          "0010-01-09T00:00:00",
          "0001-01-13T00:00:00",
          "0001-01-24T00:00:00",
          "0001-03-02T00:00:00",
          "0001-03-09T00:00:00",
          "0001-03-09T00:00:00",
          "0001-03-09T00:00:00",
          "0001-05-07T00:00:00",
          "0001-06-10T00:00:00",
          "0001-06-10T00:00:00",
          "0001-06-19T00:00:00",
          "0001-08-02T00:00:00",
          "0001-10-09T00:00:00",
          "0001-10-09T00:00:00",
          "0001-10-09T00:00:00",
          "0001-11-01T00:00:00",
          "0001-11-29T00:00:00",
          "0001-12-08T00:00:00",
          "0002-01-01T00:00:00",
          "0002-01-03T00:00:00",
          "0002-01-24T00:00:00",
          "0002-04-11T00:00:00",
          "0002-04-18T00:00:00",
          "0002-04-18T00:00:00",
          "0002-05-28T00:00:00",
          "0002-05-29T00:00:00",
          "0002-07-11T00:00:00",
          "0002-08-09T00:00:00",
          "0002-08-16T00:00:00",
          "0003-01-10T00:00:00",
          "0003-03-29T00:00:00",
          "0003-05-12T00:00:00",
          "0003-05-31T00:00:00",
          "0003-01-09T00:00:00",
          "0003-10-06T00:00:00",
          "0003-11-10T00:00:00",
          "0004-03-18T00:00:00",
          "0004-04-09T00:00:00",
          "0004-05-07T00:00:00",
          "0004-05-30T00:00:00",
          "0004-06-10T00:00:00",
          "0004-09-01T00:00:00",
          "0004-08-03T00:00:00",
          "0004-08-16T00:00:00",
          "0004-11-26T00:00:00",
          "0004-12-10T00:00:00",
          "0004-12-18T00:00:00",
          "0004-01-09T00:00:00",
          "0004-01-09T00:00:00",
          "0005-01-26T00:00:00",
          "0005-02-04T00:00:00",
          "0005-03-04T00:00:00",
          "0005-04-28T00:00:00",
          "0005-05-05T00:00:00",
          "0005-05-16T00:00:00",
          "0005-05-18T00:00:00",
          "0005-06-08T00:00:00",
          "0005-01-09T00:00:00",
          "0005-05-17T00:00:00",
          "0005-05-29T00:00:00",
          "0005-01-09T00:00:00",
          "0005-04-24T00:00:00",
          "0005-06-09T00:00:00",
          "0005-06-05T00:00:00"
         ],
         "customdata": [
          [
           "Donna called Relief Society Singing Mothers Director",
           "1957 Fall",
           "Donna called Relief Society Singing Mothers Direct...",
           "2020-01-01T00:00:00"
          ],
          [
           "Donna called MIA Music Director Terreton Ward",
           "1958 Spring",
           "Donna called MIA Music Director Terreton Ward",
           "2020-01-01T00:00:00"
          ],
          [
           "Moved to house we remodeled on highway Terreton",
           "1958 fall",
           "Moved to house we remodeled on highway Terreton",
           "2020-01-01T00:00:00"
          ],
          [
           "Donna Ward Music Director & Ward Choir Accompanist Othello Ward, Grand Coulee Stake",
           "1962 Fall",
           "Donna Ward Music Director & Ward Choir Accompanist...",
           "2020-01-01T00:00:00"
          ],
          [
           "Blair had his tonsils out",
           "1963 fall",
           "Blair had his tonsils out",
           "2020-01-01T00:00:00"
          ],
          [
           "Dee Softball Coach Rexburg 3rd Ward",
           "1966 Summer",
           "Dee Softball Coach Rexburg 3rd Ward",
           "2020-01-01T00:00:00"
          ],
          [
           "Donna President of Originales Club",
           "1967 Fall",
           "Donna President of Originales Club",
           "2020-01-01T00:00:00"
          ],
          [
           "Donna MIA Music Director Rexburg 2nd Ward",
           "1968 fall",
           "Donna MIA Music Director Rexburg 2nd Ward",
           "2020-01-01T00:00:00"
          ],
          [
           "Blair & David moving pipe",
           "1975 summer",
           "Blair & David moving pipe",
           "2020-01-01T00:00:00"
          ],
          [
           "David JV Football",
           "1975 fall",
           "David JV Football",
           "2020-01-01T00:00:00"
          ],
          [
           "David wrestling team MHS",
           "1977 fall",
           "David wrestling team MHS",
           "2020-01-01T00:00:00"
          ],
          [
           "Blair started Ricks College",
           "1977 fall",
           "Blair started Ricks College",
           "2020-01-01T00:00:00"
          ],
          [
           "David & Steve coached Little League",
           "1978 summer",
           "David & Steve coached Little League",
           "2020-01-01T00:00:00"
          ],
          [
           "David track team at MHS",
           "1978 Fall",
           "David track team at MHS",
           "2020-01-01T00:00:00"
          ],
          [
           "Dee Bishopric 1st Counselor 28th Branch Ricks College 3rd Stake",
           "1978 Fall",
           "Dee Bishopric 1st Counselor 28th Branch Ricks Coll...",
           "2020-01-01T00:00:00"
          ],
          [
           "Donna All-Around Baker & All-Around Candymaker trophies Madison County Fair",
           "1979 fall",
           "Donna All-Around Baker & All-Around Candymaker tro...",
           "2020-01-01T00:00:00"
          ],
          [
           "Blair & Steven to Ricks College",
           "1980 Fall",
           "Blair & Steven to Ricks College",
           "2020-01-01T00:00:00"
          ],
          [
           "Susan Jr. High Wrestling Cheerleader",
           "1981 fall",
           "Susan Jr. High Wrestling Cheerleader",
           "2020-01-01T00:00:00"
          ],
          [
           "Kimberly started kindergarten Mrs. Morrell",
           "1981 fall",
           "Kimberly started kindergarten Mrs. Morrell",
           "2020-01-01T00:00:00"
          ],
          [
           "David Elders Quorum President at Ricks College 9th Ward",
           "1982 fall",
           "David Elders Quorum President at Ricks College 9th...",
           "2020-01-01T00:00:00"
          ],
          [
           "Donna College class with Susan “A” grade!",
           "1986 Fall semester",
           "Donna College class with Susan “A” grade!",
           "2020-01-01T00:00:00"
          ],
          [
           "Susan Central Piedmont Community College Charlotte, North Carolina",
           "1987 Fall",
           "Susan Central Piedmont Community College Charlotte...",
           "2020-01-01T00:00:00"
          ],
          [
           "Donna Costume Mistress Cantabile",
           "1987 Fall",
           "Donna Costume Mistress Cantabile",
           "2020-01-01T00:00:00"
          ],
          [
           "David Ward Clerk Ricks College 6th Ward, Ricks College 1st Stake",
           "1991 Fall",
           "David Ward Clerk Ricks College 6th Ward, Ricks Col...",
           "2020-01-01T00:00:00"
          ],
          [
           "Dee Director Viking Club Ricks College",
           "1993 Fall",
           "Dee Director Viking Club Ricks College",
           "2020-01-01T00:00:00"
          ],
          [
           "Tacy graduated First Class of Venture High School as Salutatorian",
           "2015 May 29",
           "Tacy graduated First Class of Venture High School ...",
           "2020-01-01T00:00:00"
          ],
          [
           "Madison Graduated LDS Seminary",
           "2016 Jun",
           "Madison Graduated LDS Seminary",
           "2020-01-01T00:00:00"
          ],
          [
           "Madison Graduated Sugar Salem High School",
           "2015 Jun 4",
           "Madison Graduated Sugar Salem High School",
           "2020-01-01T00:00:00"
          ],
          [
           "Kim & Les moved to Washington D.C. area Springfield, Virginia.",
           "2015 Jul",
           "Kim & Les moved to Washington D.C. area Springfiel...",
           "2020-01-01T00:00:00"
          ],
          [
           "Noah Vice President Junior Class of Venture High School",
           "2015 Sep-2015 May",
           "Noah Vice President Junior Class of Venture High S...",
           "2020-01-01T00:00:00"
          ],
          [
           "Les promoted to Lieut. Col. moved to Pentagon",
           "2015 Nov 1",
           "Les promoted to Lieut. Col. moved to Pentagon",
           "2020-01-01T00:00:00"
          ],
          [
           "Brigham marries Kali Moss in Ogden Temple",
           "2015 Dec 17",
           "Brigham marries Kali Moss in Ogden Temple",
           "2020-01-01T00:00:00"
          ],
          [
           "Noemi diagnosed with diabetes",
           "2016 Jan 26",
           "Noemi diagnosed with diabetes",
           "2020-01-01T00:00:00"
          ],
          [
           "Steven made Recorder of the Ogden Temple",
           "2016 May 31",
           "Steven made Recorder of the Ogden Temple",
           "2020-01-01T00:00:00"
          ],
          [
           "Hannah marries Paul Daniel Perry in San Antonio, Texas",
           "2016 Jun 3",
           "Hannah marries Paul Daniel Perry in San Antonio, T...",
           "2020-01-01T00:00:00"
          ],
          [
           "Madison left for LDS mission to Vancouver, Canada",
           "2016 May 11",
           "Madison left for LDS mission to Vancouver, Canada",
           "2020-01-01T00:00:00"
          ],
          [
           "Jaylan Graduated Hillcrest High School",
           "2016 Jun",
           "Jaylan Graduated Hillcrest High School",
           "2020-01-01T00:00:00"
          ],
          [
           "Tacy Graduated LDS Seminary Venture High School in Ogden",
           "2016 Jun",
           "Tacy Graduated LDS Seminary Venture High School in...",
           "2020-01-01T00:00:00"
          ],
          [
           "Jaylan Graduated LDS Seminary Hillcrest High School",
           "2016 Jun",
           "Jaylan Graduated LDS Seminary Hillcrest High Schoo...",
           "2020-01-01T00:00:00"
          ],
          [
           "Reagan Ririe born to Lyndee & Shane Richland, Washington",
           "2016 Jun 17",
           "Reagan Ririe born to Lyndee & Shane Richland, Wash...",
           "2020-01-01T00:00:00"
          ],
          [
           "Kyla Rose Thueson was born to Hannah in San Antonio, Texas",
           "2016 Jun 28",
           "Kyla Rose Thueson was born to Hannah in San Antoni...",
           "2020-01-01T00:00:00"
          ],
          [
           "Blair’s family moved back to Rexburg",
           "2016 Summer",
           "Blair’s family moved back to Rexburg",
           "2020-01-01T00:00:00"
          ],
          [
           "Jaylan called on LDS mission to Atlanta, Georgia",
           "2016",
           "Jaylan called on LDS mission to Atlanta, Georgia",
           "2020-01-01T00:00:00"
          ],
          [
           "Hunter Vern Shakespeare born to Garren & Katelan Rexburg, Idaho",
           "2016 Jun 6",
           "Hunter Vern Shakespeare born to Garren & Katelan R...",
           "2020-01-01T00:00:00"
          ],
          [
           "Donna sustained Ward choir organist",
           "2016",
           "Donna sustained Ward choir organist",
           "2020-01-01T00:00:00"
          ],
          [
           "Hunter blessed by his father, Garren, Teton River Ward, Henry’s Fork Stake",
           "2016 Aug 7",
           "Hunter blessed by his father, Garren, Teton River ...",
           "2020-01-01T00:00:00"
          ],
          [
           "Tacy called on LDS mission to Jacksonville, Florida",
           "2016 Aug 17",
           "Tacy called on LDS mission to Jacksonville, Florid...",
           "2020-01-01T00:00:00"
          ],
          [
           "Camren married Shantell Maybe in Logan LDS Temple",
           "2016 Aug 20",
           "Camren married Shantell Maybe in Logan LDS Temple",
           "2020-01-01T00:00:00"
          ],
          [
           "Cousin Reunion at Julie’s. Done by Gayla & I",
           "2016 Sep 10",
           "Cousin Reunion at Julie’s. Done by Gayla & I",
           "2020-01-01T00:00:00"
          ],
          [
           "Lee & Amy moved to Kuna, Idaho",
           "2016 Oct",
           "Lee & Amy moved to Kuna, Idaho",
           "2020-01-01T00:00:00"
          ],
          [
           "Donna & McKelle Washington DC to visit Kim & Les",
           "2016 Oct 5-2016 Oct 13",
           "Donna & McKelle Washington DC to visit Kim & Les",
           "2020-01-01T00:00:00"
          ],
          [
           "Kaleb T Stoddard born Lacey & Sam Rexburg, Idaho",
           "2016 Oct 26",
           "Kaleb T Stoddard born Lacey & Sam Rexburg, Idaho",
           "2020-01-01T00:00:00"
          ],
          [
           "Liv Thueson born to Blake & Kelli Rexburg, Idaho",
           "2016 Nov 9",
           "Liv Thueson born to Blake & Kelli Rexburg, Idaho",
           "2020-01-01T00:00:00"
          ],
          [
           "Theodore Marc Hardy born to Brigham & Kali Rexburg, Idaho",
           "2016 Nov 15",
           "Theodore Marc Hardy born to Brigham & Kali Rexburg...",
           "2020-01-01T00:00:00"
          ],
          [
           "Blake Graduated from BYU-I Bachelor Degree",
           "2016 Dec",
           "Blake Graduated from BYU-I Bachelor Degree",
           "2020-01-01T00:00:00"
          ],
          [
           "Bethany graduated From BYU Provo Masters Degree",
           "2016 Dec",
           "Bethany graduated From BYU Provo Masters Degree",
           "2020-01-01T00:00:00"
          ],
          [
           "Theodore Marc Hardy blessed by his father in Warren Ward, Warren, Utah",
           "2017 Jan 1",
           "Theodore Marc Hardy blessed by his father in Warre...",
           "2020-01-01T00:00:00"
          ],
          [
           "Kaleb blessed by his father Teton River Ward, Henry’s Fork Stake, Rexburg, Idaho",
           "2017 Jan 8",
           "Kaleb blessed by his father Teton River Ward, Henr...",
           "2020-01-01T00:00:00"
          ],
          [
           "Liv Thueson blessed by her father, Blake in Rexburg 5th Ward",
           "2017 Feb 19",
           "Liv Thueson blessed by her father, Blake in Rexbur...",
           "2020-01-01T00:00:00"
          ],
          [
           "Steven released as Bishop of Bountiful 25th Ward",
           "2017 Mar 12",
           "Steven released as Bishop of Bountiful 25th Ward",
           "2020-01-01T00:00:00"
          ],
          [
           "Samuel Maxwell Stoddard baptized by his father",
           "2017 Apr",
           "Samuel Maxwell Stoddard baptized by his father",
           "2020-01-01T00:00:00"
          ],
          [
           "Danae & Jaren graduated from BYU-Idaho, Rexburg, Idaho",
           "2017 Apr 6",
           "Danae & Jaren graduated from BYU-Idaho, Rexburg, I...",
           "2020-01-01T00:00:00"
          ],
          [
           "Jaycee Thueson born to Matthew & Maria Rexburg, Idaho",
           "2017 Jun 16",
           "Jaycee Thueson born to Matthew & Maria Rexburg, Id...",
           "2020-01-01T00:00:00"
          ],
          [
           "Big Ray Thueson Reunion in Idaho Falls at the City Park. Connie in charge",
           "2017 Jul 1",
           "Big Ray Thueson Reunion in Idaho Falls at the City...",
           "2020-01-01T00:00:00"
          ],
          [
           "SuperThue at South Sawmill in Island Park. Susan in Charge",
           "2017 Jul 1-2017 Jul 4",
           "SuperThue at South Sawmill in Island Park. Susan i...",
           "2020-01-01T00:00:00"
          ],
          [
           "Kim & Les transferred to Hawaii. He was made Brigade Commander.",
           "2017 July",
           "Kim & Les transferred to Hawaii. He was made Briga...",
           "2020-01-01T00:00:00"
          ],
          [
           "Noemi diagnosed with celiac",
           "2017 Jul 19",
           "Noemi diagnosed with celiac",
           "2020-01-01T00:00:00"
          ],
          [
           "***\tTOTAL SUN ECLIPSE over Rexburg",
           "2017 Aug 21",
           "***\tTOTAL SUN ECLIPSE over Rexburg",
           "2020-01-01T00:00:00"
          ],
          [
           "Jaycee Thueson blessed by her father West Main Ward, Rexburg, Idaho",
           "2017 Sep 3",
           "Jaycee Thueson blessed by her father West Main War...",
           "2020-01-01T00:00:00"
          ],
          [
           "Kysaac ordained a Deacon in Rexburg West Main Ward",
           "2017 Nov 5",
           "Kysaac ordained a Deacon in Rexburg West Main Ward",
           "2020-01-01T00:00:00"
          ],
          [
           "Madison returned home from Vancouver, Canada mission",
           "2017 Nov. 29",
           "Madison returned home from Vancouver, Canada missi...",
           "2020-01-01T00:00:00"
          ],
          [
           "Tyler Thueson married Mikaela Hocker Rexburg Temple",
           "2017 Nov 17",
           "Tyler Thueson married Mikaela Hocker Rexburg Templ...",
           "2020-01-01T00:00:00"
          ],
          [
           "Jax Jaren Weber born to Danae & Jaren in Rexburg, Idaho",
           "2017 Nov 19",
           "Jax Jaren Weber born to Danae & Jaren in Rexburg, ...",
           "2020-01-01T00:00:00"
          ],
          [
           "Susan & Monty’s Family in “Savior of the World” in Salt Lake City",
           "2017 Nov-2017 Dec",
           "Susan & Monty’s Family in “Savior of the World” in...",
           "2020-01-01T00:00:00"
          ],
          [
           "Bethany graduated with Masters Degree from BYU Provo",
           "2017 Dec",
           "Bethany graduated with Masters Degree from BYU Pro...",
           "2020-01-01T00:00:00"
          ],
          [
           "Donna trip to Hawaii w/Amy/Lee-Blair/Carlene to visit Kim’s family.",
           "2018 Jan 12-2018 Jan 31",
           "Donna trip to Hawaii w/Amy/Lee-Blair/Carlene to vi...",
           "2020-01-01T00:00:00"
          ],
          [
           "False Ballistic missile alert in Oahu, Hawaii. We were there.",
           "2018 Jan 13",
           "False Ballistic missile alert in Oahu, Hawaii. We ...",
           "2020-01-01T00:00:00"
          ],
          [
           "Tacy home from mission in Jacksonville, Florida",
           "2018 Mar 6",
           "Tacy home from mission in Jacksonville, Florida",
           "2020-01-01T00:00:00"
          ],
          [
           "Jett Thueson was born to Parker & Karissa Rexburg, Idaho",
           "2018 Apr",
           "Jett Thueson was born to Parker & Karissa Rexburg,...",
           "2020-01-01T00:00:00"
          ],
          [
           "Nelson T Shakespear born to Katelan & Garren, Rexburg, Idaho",
           "2018 Apr 17",
           "Nelson T Shakespear born to Katelan & Garren, Rexb...",
           "2020-01-01T00:00:00"
          ],
          [
           "Sisters Weekend at Donna’s House",
           "2018 May 18-2018 May 19",
           "Sisters Weekend at Donna’s House",
           "2020-01-01T00:00:00"
          ],
          [
           "Nelson T Shakespear blessed by his father, Garren, Teton River Ward, Henry’s Fork Stake",
           "2018 Jun 3",
           "Nelson T Shakespear blessed by his father, Garren,...",
           "2020-01-01T00:00:00"
          ],
          [
           "Cole Brown baptized by Garren Shakespear",
           "2018 Jun 6",
           "Cole Brown baptized by Garren Shakespear",
           "2020-01-01T00:00:00"
          ],
          [
           "Jaylan returned from mission in Georgia. Report in Clark.",
           "2018 Jun 27",
           "Jaylan returned from mission in Georgia. Report in...",
           "2020-01-01T00:00:00"
          ],
          [
           "Blair in head on crash in Construction Truck in Boise. Nothing hurt",
           "2018 Jun 20",
           "Blair in head on crash in Construction Truck in Bo...",
           "2020-01-01T00:00:00"
          ],
          [
           "Maeli Hardy was born to Brigham & Kali Rexburg, Idaho",
           "2018 Jun 29",
           "Maeli Hardy was born to Brigham & Kali Rexburg, Id...",
           "2020-01-01T00:00:00"
          ],
          [
           "SuperThue Reunion held at Sam & Lacey’s farm. Donna in charge",
           "2018 Jul 6-2018 Jul 8",
           "SuperThue Reunion held at Sam & Lacey’s farm. Donn...",
           "2020-01-01T00:00:00"
          ],
          [
           "Maeli Hardy blessed by her father, Brigham",
           "2018 Aug 5",
           "Maeli Hardy blessed by her father, Brigham",
           "2020-01-01T00:00:00"
          ],
          [
           "Madison Thueson married Carson Roberts in the Rexburg Idaho Temple",
           "2018 Aug 24",
           "Madison Thueson married Carson Roberts in the Rexb...",
           "2020-01-01T00:00:00"
          ],
          [
           "Hail Storm ruins Donna’s Roof",
           "2018 Sep",
           "Hail Storm ruins Donna’s Roof",
           "2020-01-01T00:00:00"
          ],
          [
           "Pump replaced Donna’s house",
           "2018 Sep 22",
           "Pump replaced Donna’s house",
           "2020-01-01T00:00:00"
          ],
          [
           "Kenz Thueson was born to Blake & Kelli, Rexburg, Idaho",
           "2018 Sep 22",
           "Kenz Thueson was born to Blake & Kelli, Rexburg, I...",
           "2020-01-01T00:00:00"
          ],
          [
           "Donna starts 6th Mission as Part-time Service Missionary Family History World Wide Support",
           "2018 Oct 29",
           "Donna starts 6th Mission as Part-time Service Miss...",
           "2020-01-01T00:00:00"
          ],
          [
           "Noah serves LDS Mission to Guadalajara, Mexico",
           "2018 Oct 30",
           "Noah serves LDS Mission to Guadalajara, Mexico",
           "2020-01-01T00:00:00"
          ],
          [
           "David heart operation",
           "2018 Nov 7",
           "David heart operation",
           "2020-01-01T00:00:00"
          ],
          [
           "Donna went to Amy’s for Christmas. Rode over with the DeNae",
           "2018 Dec 15",
           "Donna went to Amy’s for Christmas. Rode over with ...",
           "2020-01-01T00:00:00"
          ],
          [
           "Donna Carnival Cruise w/Blair & KC & Gayla. Broke my toes.",
           "2019 Jan 6-2019 Jan 12",
           "Donna Carnival Cruise w/Blair & KC & Gayla. Broke ...",
           "2020-01-01T00:00:00"
          ],
          [
           "Kysaac ordained a Teacher & Hampton ordained a Deacon Parker 1st Ward",
           "2019 Jan 20",
           "Kysaac ordained a Teacher & Hampton ordained a Dea...",
           "2020-01-01T00:00:00"
          ],
          [
           "Tacy lives with Grandma to go to BYU-I.",
           "2019 Feb - 2019 Dec",
           "Tacy lives with Grandma to go to BYU-I.",
           "2020-01-01T00:00:00"
          ],
          [
           "William gets his Eagle Scout Award in Hawaii.",
           "2019 Apr 4",
           "William gets his Eagle Scout Award in Hawaii.",
           "2020-01-01T00:00:00"
          ],
          [
           "TWINS BORN Addilyn & Alexander Hardy were born  to Jordan & Savannah",
           "2019 Apr 5",
           "TWINS BORN Addilyn & Alexander Hardy were born  to...",
           "2020-01-01T00:00:00"
          ],
          [
           "Hardy in Ogden, Utah at 35 weeks. Addi was 5 lbs. 3 oz., Alex was 4 lbs.11 oz.",
           "2019 Apr 5",
           "Hardy in Ogden, Utah at 35 weeks. Addi was 5 lbs. ...",
           "2020-01-01T00:00:00"
          ],
          [
           "McKay Shakespear baptized by his father, Garren, in the Henry Fork’s Ward, Henry Forks Stake.",
           "2019 Apr 13",
           "McKay Shakespear baptized by his father, Garren, i...",
           "2020-01-01T00:00:00"
          ],
          [
           "Tacy called as Counselor in the Relief Society     Ward BYU-I",
           "2019 Apr",
           "Tacy called as Counselor in the Relief Society    ...",
           "2020-01-01T00:00:00"
          ],
          [
           "Donna’s roof replaced.",
           "2019 May",
           "Donna’s roof replaced.",
           "2020-01-01T00:00:00"
          ],
          [
           "Ammon gets his Eagle Scout Award in Warren Ward, Utah",
           "2019 May",
           "Ammon gets his Eagle Scout Award in Warren Ward, U...",
           "2020-01-01T00:00:00"
          ],
          [
           "Twins: Alexander Hardy & Addilyn Hardy blessed by Jordan Hardy in Warren Ward, Utah.",
           "2019 Jun 2",
           "Twins: Alexander Hardy & Addilyn Hardy blessed by ...",
           "2020-01-01T00:00:00"
          ],
          [
           "Susan and Monty & family moved to Horseshoe Bend, Idaho",
           "2019 Jun 6",
           "Susan and Monty & family moved to Horseshoe Bend, ...",
           "2020-01-01T00:00:00"
          ],
          [
           "Kysaac is set apart as Teacher & Hampton is set apart as Deacon in Parker 1st Ward, Idaho.",
           "2019 Jun 9",
           "Kysaac is set apart as Teacher & Hampton is set ap...",
           "2020-01-01T00:00:00"
          ],
          [
           "SuperThue Reunion at Sam & Lacey’s Heavensfield Blair in charge",
           "2019 July 5-2019 July 7",
           "SuperThue Reunion at Sam & Lacey’s Heavensfield Bl...",
           "2020-01-01T00:00:00"
          ],
          [
           "Ray Thueson Reunion at Sam & Lacey’s Heavensfield Donna in Charge",
           "2019 Jul 6",
           "Ray Thueson Reunion at Sam & Lacey’s Heavensfield ...",
           "2020-01-01T00:00:00"
          ],
          [
           "Hyrum J Stoddard was born to\tSam & Lacey in Rexburg, Idaho",
           "2019 July 22",
           "Hyrum J Stoddard was born to\tSam & Lacey in Rexbur...",
           "2020-01-01T00:00:00"
          ],
          [
           "Kim and Les family transferred to Washington D.C. again",
           "2019 July",
           "Kim and Les family transferred to Washington D.C. ...",
           "2020-01-01T00:00:00"
          ],
          [
           "Les started Eisenhower School in Washington D.C.",
           "2019 Aug",
           "Les started Eisenhower School in Washington D.C.",
           "2020-01-01T00:00:00"
          ],
          [
           "Lauren Ririe was born to Lyndee & Shane Ririe in Richland, Washington",
           "2019 Aug 20",
           "Lauren Ririe was born to Lyndee & Shane Ririe in R...",
           "2020-01-01T00:00:00"
          ],
          [
           "Donna’s windows replaced",
           "2019 Aug",
           "Donna’s windows replaced",
           "2020-01-01T00:00:00"
          ],
          [
           "Samuel Stoddard made Bishop of new North Fork Ward, Henry’s Fork Stake",
           "2019 Aug 4",
           "Samuel Stoddard made Bishop of new North Fork Ward...",
           "2020-01-01T00:00:00"
          ],
          [
           "David & Jenelle’s mission farewell in Salem 1st Ward for New York City, New York",
           "2019 Sep 29",
           "David & Jenelle’s mission farewell in Salem 1st Wa...",
           "2020-01-01T00:00:00"
          ],
          [
           "Grant W Shakespear was born to Garren & Katelan in Rexburg, Idaho.",
           "2019 Sep 30",
           "Grant W Shakespear was born to Garren & Katelan in...",
           "2020-01-01T00:00:00"
          ],
          [
           "Hyrum J Stoddard & Grant W Shakespear were blessed by their fathers, Samuel Stoddard & Garren Shakespear in the North Fork Ward, Henry’s Fork Stake.",
           "2019 Oct 13",
           "Hyrum J Stoddard & Grant W Shakespear were blessed...",
           "2020-01-01T00:00:00"
          ],
          [
           "Jaren made Elders Quorum President in Rexburg Married Student 5th Ward, Rexburg Married Student Stake",
           "2019 Oct",
           "Jaren made Elders Quorum President in Rexburg Marr...",
           "2020-01-01T00:00:00"
          ],
          [
           "Donna finishes 6th mission in World Wide Family Search FHC Support",
           "2019 Oct 30",
           "Donna finishes 6th mission in World Wide Family Se...",
           "2020-01-01T00:00:00"
          ],
          [
           "Donna’s brother Marc called to be a Second Counselor in the Timpanogos 1st Branch at the Women’s Prison in Utah",
           "2019 Nov",
           "Donna’s brother Marc called to be a Second Counsel...",
           "2020-01-01T00:00:00"
          ],
          [
           "Jaylan is married to Kylee Killpack in Idaho Falls Temple",
           "2019 Dec 14",
           "Jaylan is married to Kylee Killpack in Idaho Falls...",
           "2020-01-01T00:00:00"
          ],
          [
           "Shantell graduated with Bachelor’s Degree Utah State",
           "2019",
           "Shantell graduated with Bachelor’s Degree Utah Sta...",
           "2020-01-01T00:00:00"
          ],
          [
           "Camren graduated with Bachelor’s Degree Utah State",
           "2019",
           "Camren graduated with Bachelor’s Degree Utah State",
           "2020-01-01T00:00:00"
          ],
          [
           "Danae made Relief Society President in Rexburg Married Student 5th Ward, Rexburg Married Student Stake",
           "2020 Jan 13",
           "Danae made Relief Society President in Rexburg Mar...",
           "2020-01-01T00:00:00"
          ],
          [
           "Tacy Hardy married to Qelvin Kirkham in Ogden Temple",
           "2020 Jan 24",
           "Tacy Hardy married to Qelvin Kirkham in Ogden Temp...",
           "2020-01-01T00:00:00"
          ],
          [
           "David & Jenelle received the Businessman of the Year Award",
           "2020 Mar 2",
           "David & Jenelle received the Businessman of the Ye...",
           "2020-01-01T00:00:00"
          ],
          [
           "Covid Virus Pandemic",
           "2020 Mar",
           "Covid Virus Pandemic",
           "2020-01-01T00:00:00"
          ],
          [
           "Dax David was born to Tyler & Mikaela in Rexburg, Idaho",
           "2020 Mar 9",
           "Dax David was born to Tyler & Mikaela in Rexburg, ...",
           "2020-01-01T00:00:00"
          ],
          [
           "Dax David blessed at home by his father Tyler because of the Corona Virus Pandemic",
           "2020 Mar",
           "Dax David blessed at home by his father Tyler beca...",
           "2020-01-01T00:00:00"
          ],
          [
           "Rex Brigham was born to Brigham & Kali Hardy in Boise, ID",
           "2020 May 7",
           "Rex Brigham was born to Brigham & Kali Hardy in Bo...",
           "2020-01-01T00:00:00"
          ],
          [
           "Les graduated from Eisenhower War College with Masters & made Colonel",
           "2020 Jun 10",
           "Les graduated from Eisenhower War College with Mas...",
           "2020-01-01T00:00:00"
          ],
          [
           "Assigned to White House Dept. of Information",
           "2020 Jun 10",
           "Assigned to White House Dept. of Information",
           "2020-01-01T00:00:00"
          ],
          [
           "Danae & Jaren moved to Las Vegas to go to school",
           "2020 Jun 19",
           "Danae & Jaren moved to Las Vegas to go to school",
           "2020-01-01T00:00:00"
          ],
          [
           "Rex Brigham was blessed by his father, Brigham, In a zoom meeting because of the coronavirus pandemic",
           "2020 Aug 2",
           "Rex Brigham was blessed by his father, Brigham, In...",
           "2020-01-01T00:00:00"
          ],
          [
           "David named Mission President for Service Missionaries",
           "2020 Oct",
           "David named Mission President for Service Missiona...",
           "2020-01-01T00:00:00"
          ],
          [
           "Amy Secretary Relief Society",
           "2020 Oct",
           "Amy Secretary Relief Society",
           "2020-01-01T00:00:00"
          ],
          [
           "Lee 2nd Counselor in Elders Quorum",
           "2020 Oct",
           "Lee 2nd Counselor in Elders Quorum",
           "2020-01-01T00:00:00"
          ],
          [
           "Matthew put in charge of the Fremont County Fairgrounds Board",
           "2020 Nov 1",
           "Matthew put in charge of the Fremont County Fairgr...",
           "2020-01-01T00:00:00"
          ],
          [
           "Rudi Thueson born to Camren & Shan in Bountiful, Utah",
           "2020 Nov 29",
           "Rudi Thueson born to Camren & Shan in Bountiful, U...",
           "2020-01-01T00:00:00"
          ],
          [
           "Susan named President Relief Society, Horseshoe Bend Ward",
           "2020 Dec 8",
           "Susan named President Relief Society, Horseshoe Be...",
           "2020-01-01T00:00:00"
          ],
          [
           "Jacqueline May Kirkham was born to Tacy & Qelvin Kirkham in Boise, ID",
           "2021 Jan 1",
           "Jacqueline May Kirkham was born to Tacy & Qelvin K...",
           "2020-01-01T00:00:00"
          ],
          [
           "Kysaac ordained a Priest, Hampton ordained a Teacher in Parker 1st Ward",
           "2021 Jan 3",
           "Kysaac ordained a Priest, Hampton ordained a Teach...",
           "2020-01-01T00:00:00"
          ],
          [
           "Cole Brown & Max Stoddard ordained as Deacons in Salem Ward",
           "2021 Jan 24",
           "Cole Brown & Max Stoddard ordained as Deacons in S...",
           "2020-01-01T00:00:00"
          ],
          [
           "Copeland ordained an Elder at college",
           "2021 Apr 11",
           "Copeland ordained an Elder at college",
           "2020-01-01T00:00:00"
          ],
          [
           "Brigham Hardy made 2nd Counselor in Bishopric in the Horseshoe Bend Branch",
           "2021 Apr 18",
           "Brigham Hardy made 2nd Counselor in Bishopric in t...",
           "2020-01-01T00:00:00"
          ],
          [
           "Carson Roberts made 2nd Counselor in Bishopric in Mississippi",
           "2021 Apr 18",
           "Carson Roberts made 2nd Counselor in Bishopric in ...",
           "2020-01-01T00:00:00"
          ],
          [
           "Ammon Hardy graduated Madison High School",
           "2021 May 28",
           "Ammon Hardy graduated Madison High School",
           "2020-01-01T00:00:00"
          ],
          [
           "Melissa Hardy Graduated from Horseshoe Bend High School",
           "2021 May 29",
           "Melissa Hardy Graduated from Horseshoe Bend High S...",
           "2020-01-01T00:00:00"
          ],
          [
           "Ammon moved in with Grandma T before college",
           "2021 Jul 11",
           "Ammon moved in with Grandma T before college",
           "2020-01-01T00:00:00"
          ],
          [
           "Paul & Casey were married in Arkansas",
           "2021 Aug",
           "Paul & Casey were married in Arkansas",
           "2020-01-01T00:00:00"
          ],
          [
           "TWINS: Enoch & Oliver Hardy were born to Jordan & Savannah Hardy In Ogden, Weber, Utah",
           "2021 Aug 16",
           "TWINS: Enoch & Oliver Hardy were born to Jordan & ...",
           "2020-01-01T00:00:00"
          ],
          [
           "Tate Tyler Thueson was born Tyler & Mikaela in Rexburg, ID",
           "2022 Jan 10",
           "Tate Tyler Thueson was born Tyler & Mikaela in Rex...",
           "2020-01-01T00:00:00"
          ],
          [
           "Maggie Louise was born To Brigham & Kali in Boise, ID",
           "2022 Mar 29",
           "Maggie Louise was born To Brigham & Kali in Boise,...",
           "2020-01-01T00:00:00"
          ],
          [
           "David Arnell Roberts was born to Madison & Carson Roberts in Stoneville, Mississippi",
           "2022 May 12",
           "David Arnell Roberts was born to Madison & Carson ...",
           "2020-01-01T00:00:00"
          ],
          [
           "Madden elected 7th grade Class President",
           "2022 May 31",
           "Madden elected 7th grade Class President",
           "2020-01-01T00:00:00"
          ],
          [
           "William Thompson served an LDS Mission to New Mexico-Farmington",
           "2022-2024",
           "William Thompson served an LDS Mission to New Mexi...",
           "2020-01-01T00:00:00"
          ],
          [
           "Isabella Donna Kirkham was born To Qelvin & Tacy In Boise, Ada, Idaho",
           "2022 Oct 6",
           "Isabella Donna Kirkham was born To Qelvin & Tacy I...",
           "2020-01-01T00:00:00"
          ],
          [
           "TWINS:Kaye Deidra & Lou Camren were born to Danae & Jaron in Henderson, Clark, Nevada",
           "2022 Nov 10",
           "TWINS:Kaye Deidra & Lou Camren were born to Danae ...",
           "2020-01-01T00:00:00"
          ],
          [
           "Twins: Kaye & Lou were blessed by their father, Jaron, in Middleton. stake?",
           "2023 March 18",
           "Twins: Kaye & Lou were blessed by their father, Ja...",
           "2020-01-01T00:00:00"
          ],
          [
           "David & Jenelle went on a mission to Nauvoo, Illinois",
           "2023 Apr",
           "David & Jenelle went on a mission to Nauvoo, Illin...",
           "2020-01-01T00:00:00"
          ],
          [
           "Copeland & Moriah Walter Engaged",
           "2023 May 7",
           "Copeland & Moriah Walter Engaged",
           "2020-01-01T00:00:00"
          ],
          [
           "Madden elected 8th grade Class President",
           "2023 May 30",
           "Madden elected 8th grade Class President",
           "2020-01-01T00:00:00"
          ],
          [
           "Ammon Hardy married Madilyn Pickett in Rexburg Temple",
           "2023 Jun 10",
           "Ammon Hardy married Madilyn Pickett in Rexburg Tem...",
           "2020-01-01T00:00:00"
          ],
          [
           "Copeland & Moriah Walter Married in Meridian Temple",
           "2023 Sep 1",
           "Copeland & Moriah Walter Married in Meridian Templ...",
           "2020-01-01T00:00:00"
          ],
          [
           "Kahilil Jiraiya (KJ) Perry was born in Capolani,Hawaii",
           "2023 Aug 3",
           "Kahilil Jiraiya (KJ) Perry was born in Capolani,Ha...",
           "2020-01-01T00:00:00"
          ],
          [
           "Brooke Thueson was born to Blake & Kelli in Rexburg, Idaho",
           "2023 Aug 16",
           "Brooke Thueson was born to Blake & Kelli in Rexbur...",
           "2020-01-01T00:00:00"
          ],
          [
           "Brooke was blessed by her father, Blake, at the home of Doug Macomi",
           "2023 Nov 26",
           "Brooke was blessed by her father, Blake, at the ho...",
           "2020-01-01T00:00:00"
          ],
          [
           "Nori Thueson was born to Cameron & Shan in Bountiful, Utah",
           "2023 Dec 10",
           "Nori Thueson was born to Cameron & Shan in Bountif...",
           "2020-01-01T00:00:00"
          ],
          [
           "Jaycee diagnosed with diabetes",
           "2023 Dec 18",
           "Jaycee diagnosed with diabetes",
           "2020-01-01T00:00:00"
          ],
          [
           "Hampton chosen for Student Leadership",
           "2023-2024",
           "Hampton chosen for Student Leadership",
           "2020-01-01T00:00:00"
          ],
          [
           "Ethan served an LDS Mission to Tijuana, Mexico",
           "2023-2025",
           "Ethan served an LDS Mission to Tijuana, Mexico",
           "2020-01-01T00:00:00"
          ],
          [
           "Matthew Graduated from BYU-I with Masters Degree of Education Technology & Instructional Design",
           "2024 Jan 26",
           "Matthew Graduated from BYU-I with Masters Degree o...",
           "2020-01-01T00:00:00"
          ],
          [
           "George Hawkins Hardy was born to Brigham & Kali in Pocatello, Idaho",
           "2024 Feb 4",
           "George Hawkins Hardy was born to Brigham & Kali in...",
           "2020-01-01T00:00:00"
          ],
          [
           "Ava Kae Thueson was born to Tyler & Mikaela in Rexburg, Idaho",
           "2024 Mar 4",
           "Ava Kae Thueson was born to Tyler & Mikaela in Rex...",
           "2020-01-01T00:00:00"
          ],
          [
           "George Hawkins Hardy was blessed by his father, Brigham, in Pocatello, Idaho",
           "2024 Apr 28",
           "George Hawkins Hardy was blessed by his father, Br...",
           "2020-01-01T00:00:00"
          ],
          [
           "Maria Stake Primary President St. Anthony Stake",
           "2024 May 5",
           "Maria Stake Primary President St. Anthony Stake",
           "2020-01-01T00:00:00"
          ],
          [
           "Mia engaged to Braden Pittman",
           "2024 May 16",
           "Mia engaged to Braden Pittman",
           "2020-01-01T00:00:00"
          ],
          [
           "Paul & Casey sealed in Bentenville Temple in Arkansas",
           "2024 May 18",
           "Paul & Casey sealed in Bentenville Temple in Arkan...",
           "2020-01-01T00:00:00"
          ],
          [
           "Kysaac graduated from South Fremont High School",
           "2024 Jun 8",
           "Kysaac graduated from South Fremont High School",
           "2020-01-01T00:00:00"
          ],
          [
           "Madden was elected the President of his class",
           "2024",
           "Madden was elected the President of his class",
           "2020-01-01T00:00:00"
          ],
          [
           "Haley graduated from South Side Sigh School, Lavaca, Arkansas",
           "2024 May 17",
           "Haley graduated from South Side Sigh School, Lavac...",
           "2020-01-01T00:00:00"
          ],
          [
           "Ellie Lynn graduated from Sugar Salem High School",
           "2024 May 29",
           "Ellie Lynn graduated from Sugar Salem High School",
           "2020-01-01T00:00:00"
          ],
          [
           "Hampton chosen for Student Leadership",
           "2024-25 May",
           "Hampton chosen for Student Leadership",
           "2020-01-01T00:00:00"
          ],
          [
           "Gideon Hardy was born to Ammon & Madi",
           "2024 Apr 24",
           "Gideon Hardy was born to Ammon & Madi",
           "2020-01-01T00:00:00"
          ],
          [
           "Steve & Deidra LDS Mission to Philippines",
           "2024 Jun",
           "Steve & Deidra LDS Mission to Philippines",
           "2020-01-01T00:00:00"
          ],
          [
           "Hazel LaRae Roberts was born to Madison & Carson in Kansas City, Missouri",
           "2024 Jun 5",
           "Hazel LaRae Roberts was born to Madison & Carson i...",
           "2020-01-01T00:00:00"
          ]
         ],
         "hoverinfo": "skip",
         "hovertemplate": "<b>%{hovertext}</b><br><br>When=%{customdata[1]}<extra></extra>",
         "hovertext": [
          "Donna called Relief Society Singing Mothers Director",
          "Donna called MIA Music Director Terreton Ward",
          "Moved to house we remodeled on highway Terreton",
          "Donna Ward Music Director & Ward Choir Accompanist Othello Ward, Grand Coulee Stake",
          "Blair had his tonsils out",
          "Dee Softball Coach Rexburg 3rd Ward",
          "Donna President of Originales Club",
          "Donna MIA Music Director Rexburg 2nd Ward",
          "Blair & David moving pipe",
          "David JV Football",
          "David wrestling team MHS",
          "Blair started Ricks College",
          "David & Steve coached Little League",
          "David track team at MHS",
          "Dee Bishopric 1st Counselor 28th Branch Ricks College 3rd Stake",
          "Donna All-Around Baker & All-Around Candymaker trophies Madison County Fair",
          "Blair & Steven to Ricks College",
          "Susan Jr. High Wrestling Cheerleader",
          "Kimberly started kindergarten Mrs. Morrell",
          "David Elders Quorum President at Ricks College 9th Ward",
          "Donna College class with Susan “A” grade!",
          "Susan Central Piedmont Community College Charlotte, North Carolina",
          "Donna Costume Mistress Cantabile",
          "David Ward Clerk Ricks College 6th Ward, Ricks College 1st Stake",
          "Dee Director Viking Club Ricks College",
          "Tacy graduated First Class of Venture High School as Salutatorian",
          "Madison Graduated LDS Seminary",
          "Madison Graduated Sugar Salem High School",
          "Kim & Les moved to Washington D.C. area Springfield, Virginia.",
          "Noah Vice President Junior Class of Venture High School",
          "Les promoted to Lieut. Col. moved to Pentagon",
          "Brigham marries Kali Moss in Ogden Temple",
          "Noemi diagnosed with diabetes",
          "Steven made Recorder of the Ogden Temple",
          "Hannah marries Paul Daniel Perry in San Antonio, Texas",
          "Madison left for LDS mission to Vancouver, Canada",
          "Jaylan Graduated Hillcrest High School",
          "Tacy Graduated LDS Seminary Venture High School in Ogden",
          "Jaylan Graduated LDS Seminary Hillcrest High School",
          "Reagan Ririe born to Lyndee & Shane Richland, Washington",
          "Kyla Rose Thueson was born to Hannah in San Antonio, Texas",
          "Blair’s family moved back to Rexburg",
          "Jaylan called on LDS mission to Atlanta, Georgia",
          "Hunter Vern Shakespeare born to Garren & Katelan Rexburg, Idaho",
          "Donna sustained Ward choir organist",
          "Hunter blessed by his father, Garren, Teton River Ward, Henry’s Fork Stake",
          "Tacy called on LDS mission to Jacksonville, Florida",
          "Camren married Shantell Maybe in Logan LDS Temple",
          "Cousin Reunion at Julie’s. Done by Gayla & I",
          "Lee & Amy moved to Kuna, Idaho",
          "Donna & McKelle Washington DC to visit Kim & Les",
          "Kaleb T Stoddard born Lacey & Sam Rexburg, Idaho",
          "Liv Thueson born to Blake & Kelli Rexburg, Idaho",
          "Theodore Marc Hardy born to Brigham & Kali Rexburg, Idaho",
          "Blake Graduated from BYU-I Bachelor Degree",
          "Bethany graduated From BYU Provo Masters Degree",
          "Theodore Marc Hardy blessed by his father in Warren Ward, Warren, Utah",
          "Kaleb blessed by his father Teton River Ward, Henry’s Fork Stake, Rexburg, Idaho",
          "Liv Thueson blessed by her father, Blake in Rexburg 5th Ward",
          "Steven released as Bishop of Bountiful 25th Ward",
          "Samuel Maxwell Stoddard baptized by his father",
          "Danae & Jaren graduated from BYU-Idaho, Rexburg, Idaho",
          "Jaycee Thueson born to Matthew & Maria Rexburg, Idaho",
          "Big Ray Thueson Reunion in Idaho Falls at the City Park. Connie in charge",
          "SuperThue at South Sawmill in Island Park. Susan in Charge",
          "Kim & Les transferred to Hawaii. He was made Brigade Commander.",
          "Noemi diagnosed with celiac",
          "***\tTOTAL SUN ECLIPSE over Rexburg",
          "Jaycee Thueson blessed by her father West Main Ward, Rexburg, Idaho",
          "Kysaac ordained a Deacon in Rexburg West Main Ward",
          "Madison returned home from Vancouver, Canada mission",
          "Tyler Thueson married Mikaela Hocker Rexburg Temple",
          "Jax Jaren Weber born to Danae & Jaren in Rexburg, Idaho",
          "Susan & Monty’s Family in “Savior of the World” in Salt Lake City",
          "Bethany graduated with Masters Degree from BYU Provo",
          "Donna trip to Hawaii w/Amy/Lee-Blair/Carlene to visit Kim’s family.",
          "False Ballistic missile alert in Oahu, Hawaii. We were there.",
          "Tacy home from mission in Jacksonville, Florida",
          "Jett Thueson was born to Parker & Karissa Rexburg, Idaho",
          "Nelson T Shakespear born to Katelan & Garren, Rexburg, Idaho",
          "Sisters Weekend at Donna’s House",
          "Nelson T Shakespear blessed by his father, Garren, Teton River Ward, Henry’s Fork Stake",
          "Cole Brown baptized by Garren Shakespear",
          "Jaylan returned from mission in Georgia. Report in Clark.",
          "Blair in head on crash in Construction Truck in Boise. Nothing hurt",
          "Maeli Hardy was born to Brigham & Kali Rexburg, Idaho",
          "SuperThue Reunion held at Sam & Lacey’s farm. Donna in charge",
          "Maeli Hardy blessed by her father, Brigham",
          "Madison Thueson married Carson Roberts in the Rexburg Idaho Temple",
          "Hail Storm ruins Donna’s Roof",
          "Pump replaced Donna’s house",
          "Kenz Thueson was born to Blake & Kelli, Rexburg, Idaho",
          "Donna starts 6th Mission as Part-time Service Missionary Family History World Wide Support",
          "Noah serves LDS Mission to Guadalajara, Mexico",
          "David heart operation",
          "Donna went to Amy’s for Christmas. Rode over with the DeNae",
          "Donna Carnival Cruise w/Blair & KC & Gayla. Broke my toes.",
          "Kysaac ordained a Teacher & Hampton ordained a Deacon Parker 1st Ward",
          "Tacy lives with Grandma to go to BYU-I.",
          "William gets his Eagle Scout Award in Hawaii.",
          "TWINS BORN Addilyn & Alexander Hardy were born  to Jordan & Savannah",
          "Hardy in Ogden, Utah at 35 weeks. Addi was 5 lbs. 3 oz., Alex was 4 lbs.11 oz.",
          "McKay Shakespear baptized by his father, Garren, in the Henry Fork’s Ward, Henry Forks Stake.",
          "Tacy called as Counselor in the Relief Society     Ward BYU-I",
          "Donna’s roof replaced.",
          "Ammon gets his Eagle Scout Award in Warren Ward, Utah",
          "Twins: Alexander Hardy & Addilyn Hardy blessed by Jordan Hardy in Warren Ward, Utah.",
          "Susan and Monty & family moved to Horseshoe Bend, Idaho",
          "Kysaac is set apart as Teacher & Hampton is set apart as Deacon in Parker 1st Ward, Idaho.",
          "SuperThue Reunion at Sam & Lacey’s Heavensfield Blair in charge",
          "Ray Thueson Reunion at Sam & Lacey’s Heavensfield Donna in Charge",
          "Hyrum J Stoddard was born to\tSam & Lacey in Rexburg, Idaho",
          "Kim and Les family transferred to Washington D.C. again",
          "Les started Eisenhower School in Washington D.C.",
          "Lauren Ririe was born to Lyndee & Shane Ririe in Richland, Washington",
          "Donna’s windows replaced",
          "Samuel Stoddard made Bishop of new North Fork Ward, Henry’s Fork Stake",
          "David & Jenelle’s mission farewell in Salem 1st Ward for New York City, New York",
          "Grant W Shakespear was born to Garren & Katelan in Rexburg, Idaho.",
          "Hyrum J Stoddard & Grant W Shakespear were blessed by their fathers, Samuel Stoddard & Garren Shakespear in the North Fork Ward, Henry’s Fork Stake.",
          "Jaren made Elders Quorum President in Rexburg Married Student 5th Ward, Rexburg Married Student Stake",
          "Donna finishes 6th mission in World Wide Family Search FHC Support",
          "Donna’s brother Marc called to be a Second Counselor in the Timpanogos 1st Branch at the Women’s Prison in Utah",
          "Jaylan is married to Kylee Killpack in Idaho Falls Temple",
          "Shantell graduated with Bachelor’s Degree Utah State",
          "Camren graduated with Bachelor’s Degree Utah State",
          "Danae made Relief Society President in Rexburg Married Student 5th Ward, Rexburg Married Student Stake",
          "Tacy Hardy married to Qelvin Kirkham in Ogden Temple",
          "David & Jenelle received the Businessman of the Year Award",
          "Covid Virus Pandemic",
          "Dax David was born to Tyler & Mikaela in Rexburg, Idaho",
          "Dax David blessed at home by his father Tyler because of the Corona Virus Pandemic",
          "Rex Brigham was born to Brigham & Kali Hardy in Boise, ID",
          "Les graduated from Eisenhower War College with Masters & made Colonel",
          "Assigned to White House Dept. of Information",
          "Danae & Jaren moved to Las Vegas to go to school",
          "Rex Brigham was blessed by his father, Brigham, In a zoom meeting because of the coronavirus pandemic",
          "David named Mission President for Service Missionaries",
          "Amy Secretary Relief Society",
          "Lee 2nd Counselor in Elders Quorum",
          "Matthew put in charge of the Fremont County Fairgrounds Board",
          "Rudi Thueson born to Camren & Shan in Bountiful, Utah",
          "Susan named President Relief Society, Horseshoe Bend Ward",
          "Jacqueline May Kirkham was born to Tacy & Qelvin Kirkham in Boise, ID",
          "Kysaac ordained a Priest, Hampton ordained a Teacher in Parker 1st Ward",
          "Cole Brown & Max Stoddard ordained as Deacons in Salem Ward",
          "Copeland ordained an Elder at college",
          "Brigham Hardy made 2nd Counselor in Bishopric in the Horseshoe Bend Branch",
          "Carson Roberts made 2nd Counselor in Bishopric in Mississippi",
          "Ammon Hardy graduated Madison High School",
          "Melissa Hardy Graduated from Horseshoe Bend High School",
          "Ammon moved in with Grandma T before college",
          "Paul & Casey were married in Arkansas",
          "TWINS: Enoch & Oliver Hardy were born to Jordan & Savannah Hardy In Ogden, Weber, Utah",
          "Tate Tyler Thueson was born Tyler & Mikaela in Rexburg, ID",
          "Maggie Louise was born To Brigham & Kali in Boise, ID",
          "David Arnell Roberts was born to Madison & Carson Roberts in Stoneville, Mississippi",
          "Madden elected 7th grade Class President",
          "William Thompson served an LDS Mission to New Mexico-Farmington",
          "Isabella Donna Kirkham was born To Qelvin & Tacy In Boise, Ada, Idaho",
          "TWINS:Kaye Deidra & Lou Camren were born to Danae & Jaron in Henderson, Clark, Nevada",
          "Twins: Kaye & Lou were blessed by their father, Jaron, in Middleton. stake?",
          "David & Jenelle went on a mission to Nauvoo, Illinois",
          "Copeland & Moriah Walter Engaged",
          "Madden elected 8th grade Class President",
          "Ammon Hardy married Madilyn Pickett in Rexburg Temple",
          "Copeland & Moriah Walter Married in Meridian Temple",
          "Kahilil Jiraiya (KJ) Perry was born in Capolani,Hawaii",
          "Brooke Thueson was born to Blake & Kelli in Rexburg, Idaho",
          "Brooke was blessed by her father, Blake, at the home of Doug Macomi",
          "Nori Thueson was born to Cameron & Shan in Bountiful, Utah",
          "Jaycee diagnosed with diabetes",
          "Hampton chosen for Student Leadership",
          "Ethan served an LDS Mission to Tijuana, Mexico",
          "Matthew Graduated from BYU-I with Masters Degree of Education Technology & Instructional Design",
          "George Hawkins Hardy was born to Brigham & Kali in Pocatello, Idaho",
          "Ava Kae Thueson was born to Tyler & Mikaela in Rexburg, Idaho",
          "George Hawkins Hardy was blessed by his father, Brigham, in Pocatello, Idaho",
          "Maria Stake Primary President St. Anthony Stake",
          "Mia engaged to Braden Pittman",
          "Paul & Casey sealed in Bentenville Temple in Arkansas",
          "Kysaac graduated from South Fremont High School",
          "Madden was elected the President of his class",
          "Haley graduated from South Side Sigh School, Lavaca, Arkansas",
          "Ellie Lynn graduated from Sugar Salem High School",
          "Hampton chosen for Student Leadership",
          "Gideon Hardy was born to Ammon & Madi",
          "Steve & Deidra LDS Mission to Philippines",
          "Hazel LaRae Roberts was born to Madison & Carson in Kansas City, Missouri"
         ],
         "legendgroup": "",
         "marker": {
          "color": "#636efa",
          "line": {
           "width": 0
          },
          "pattern": {
           "shape": ""
          }
         },
         "name": "",
         "offsetgroup": "",
         "orientation": "h",
         "showlegend": false,
         "text": [
          "Donna called Relief Society Singing Mothers Direct...",
          "Donna called MIA Music Director Terreton Ward",
          "Moved to house we remodeled on highway Terreton",
          "Donna Ward Music Director & Ward Choir Accompanist...",
          "Blair had his tonsils out",
          "Dee Softball Coach Rexburg 3rd Ward",
          "Donna President of Originales Club",
          "Donna MIA Music Director Rexburg 2nd Ward",
          "Blair & David moving pipe",
          "David JV Football",
          "David wrestling team MHS",
          "Blair started Ricks College",
          "David & Steve coached Little League",
          "David track team at MHS",
          "Dee Bishopric 1st Counselor 28th Branch Ricks Coll...",
          "Donna All-Around Baker & All-Around Candymaker tro...",
          "Blair & Steven to Ricks College",
          "Susan Jr. High Wrestling Cheerleader",
          "Kimberly started kindergarten Mrs. Morrell",
          "David Elders Quorum President at Ricks College 9th...",
          "Donna College class with Susan “A” grade!",
          "Susan Central Piedmont Community College Charlotte...",
          "Donna Costume Mistress Cantabile",
          "David Ward Clerk Ricks College 6th Ward, Ricks Col...",
          "Dee Director Viking Club Ricks College",
          "Tacy graduated First Class of Venture High School ...",
          "Madison Graduated LDS Seminary",
          "Madison Graduated Sugar Salem High School",
          "Kim & Les moved to Washington D.C. area Springfiel...",
          "Noah Vice President Junior Class of Venture High S...",
          "Les promoted to Lieut. Col. moved to Pentagon",
          "Brigham marries Kali Moss in Ogden Temple",
          "Noemi diagnosed with diabetes",
          "Steven made Recorder of the Ogden Temple",
          "Hannah marries Paul Daniel Perry in San Antonio, T...",
          "Madison left for LDS mission to Vancouver, Canada",
          "Jaylan Graduated Hillcrest High School",
          "Tacy Graduated LDS Seminary Venture High School in...",
          "Jaylan Graduated LDS Seminary Hillcrest High Schoo...",
          "Reagan Ririe born to Lyndee & Shane Richland, Wash...",
          "Kyla Rose Thueson was born to Hannah in San Antoni...",
          "Blair’s family moved back to Rexburg",
          "Jaylan called on LDS mission to Atlanta, Georgia",
          "Hunter Vern Shakespeare born to Garren & Katelan R...",
          "Donna sustained Ward choir organist",
          "Hunter blessed by his father, Garren, Teton River ...",
          "Tacy called on LDS mission to Jacksonville, Florid...",
          "Camren married Shantell Maybe in Logan LDS Temple",
          "Cousin Reunion at Julie’s. Done by Gayla & I",
          "Lee & Amy moved to Kuna, Idaho",
          "Donna & McKelle Washington DC to visit Kim & Les",
          "Kaleb T Stoddard born Lacey & Sam Rexburg, Idaho",
          "Liv Thueson born to Blake & Kelli Rexburg, Idaho",
          "Theodore Marc Hardy born to Brigham & Kali Rexburg...",
          "Blake Graduated from BYU-I Bachelor Degree",
          "Bethany graduated From BYU Provo Masters Degree",
          "Theodore Marc Hardy blessed by his father in Warre...",
          "Kaleb blessed by his father Teton River Ward, Henr...",
          "Liv Thueson blessed by her father, Blake in Rexbur...",
          "Steven released as Bishop of Bountiful 25th Ward",
          "Samuel Maxwell Stoddard baptized by his father",
          "Danae & Jaren graduated from BYU-Idaho, Rexburg, I...",
          "Jaycee Thueson born to Matthew & Maria Rexburg, Id...",
          "Big Ray Thueson Reunion in Idaho Falls at the City...",
          "SuperThue at South Sawmill in Island Park. Susan i...",
          "Kim & Les transferred to Hawaii. He was made Briga...",
          "Noemi diagnosed with celiac",
          "***\tTOTAL SUN ECLIPSE over Rexburg",
          "Jaycee Thueson blessed by her father West Main War...",
          "Kysaac ordained a Deacon in Rexburg West Main Ward",
          "Madison returned home from Vancouver, Canada missi...",
          "Tyler Thueson married Mikaela Hocker Rexburg Templ...",
          "Jax Jaren Weber born to Danae & Jaren in Rexburg, ...",
          "Susan & Monty’s Family in “Savior of the World” in...",
          "Bethany graduated with Masters Degree from BYU Pro...",
          "Donna trip to Hawaii w/Amy/Lee-Blair/Carlene to vi...",
          "False Ballistic missile alert in Oahu, Hawaii. We ...",
          "Tacy home from mission in Jacksonville, Florida",
          "Jett Thueson was born to Parker & Karissa Rexburg,...",
          "Nelson T Shakespear born to Katelan & Garren, Rexb...",
          "Sisters Weekend at Donna’s House",
          "Nelson T Shakespear blessed by his father, Garren,...",
          "Cole Brown baptized by Garren Shakespear",
          "Jaylan returned from mission in Georgia. Report in...",
          "Blair in head on crash in Construction Truck in Bo...",
          "Maeli Hardy was born to Brigham & Kali Rexburg, Id...",
          "SuperThue Reunion held at Sam & Lacey’s farm. Donn...",
          "Maeli Hardy blessed by her father, Brigham",
          "Madison Thueson married Carson Roberts in the Rexb...",
          "Hail Storm ruins Donna’s Roof",
          "Pump replaced Donna’s house",
          "Kenz Thueson was born to Blake & Kelli, Rexburg, I...",
          "Donna starts 6th Mission as Part-time Service Miss...",
          "Noah serves LDS Mission to Guadalajara, Mexico",
          "David heart operation",
          "Donna went to Amy’s for Christmas. Rode over with ...",
          "Donna Carnival Cruise w/Blair & KC & Gayla. Broke ...",
          "Kysaac ordained a Teacher & Hampton ordained a Dea...",
          "Tacy lives with Grandma to go to BYU-I.",
          "William gets his Eagle Scout Award in Hawaii.",
          "TWINS BORN Addilyn & Alexander Hardy were born  to...",
          "Hardy in Ogden, Utah at 35 weeks. Addi was 5 lbs. ...",
          "McKay Shakespear baptized by his father, Garren, i...",
          "Tacy called as Counselor in the Relief Society    ...",
          "Donna’s roof replaced.",
          "Ammon gets his Eagle Scout Award in Warren Ward, U...",
          "Twins: Alexander Hardy & Addilyn Hardy blessed by ...",
          "Susan and Monty & family moved to Horseshoe Bend, ...",
          "Kysaac is set apart as Teacher & Hampton is set ap...",
          "SuperThue Reunion at Sam & Lacey’s Heavensfield Bl...",
          "Ray Thueson Reunion at Sam & Lacey’s Heavensfield ...",
          "Hyrum J Stoddard was born to\tSam & Lacey in Rexbur...",
          "Kim and Les family transferred to Washington D.C. ...",
          "Les started Eisenhower School in Washington D.C.",
          "Lauren Ririe was born to Lyndee & Shane Ririe in R...",
          "Donna’s windows replaced",
          "Samuel Stoddard made Bishop of new North Fork Ward...",
          "David & Jenelle’s mission farewell in Salem 1st Wa...",
          "Grant W Shakespear was born to Garren & Katelan in...",
          "Hyrum J Stoddard & Grant W Shakespear were blessed...",
          "Jaren made Elders Quorum President in Rexburg Marr...",
          "Donna finishes 6th mission in World Wide Family Se...",
          "Donna’s brother Marc called to be a Second Counsel...",
          "Jaylan is married to Kylee Killpack in Idaho Falls...",
          "Shantell graduated with Bachelor’s Degree Utah Sta...",
          "Camren graduated with Bachelor’s Degree Utah State",
          "Danae made Relief Society President in Rexburg Mar...",
          "Tacy Hardy married to Qelvin Kirkham in Ogden Temp...",
          "David & Jenelle received the Businessman of the Ye...",
          "Covid Virus Pandemic",
          "Dax David was born to Tyler & Mikaela in Rexburg, ...",
          "Dax David blessed at home by his father Tyler beca...",
          "Rex Brigham was born to Brigham & Kali Hardy in Bo...",
          "Les graduated from Eisenhower War College with Mas...",
          "Assigned to White House Dept. of Information",
          "Danae & Jaren moved to Las Vegas to go to school",
          "Rex Brigham was blessed by his father, Brigham, In...",
          "David named Mission President for Service Missiona...",
          "Amy Secretary Relief Society",
          "Lee 2nd Counselor in Elders Quorum",
          "Matthew put in charge of the Fremont County Fairgr...",
          "Rudi Thueson born to Camren & Shan in Bountiful, U...",
          "Susan named President Relief Society, Horseshoe Be...",
          "Jacqueline May Kirkham was born to Tacy & Qelvin K...",
          "Kysaac ordained a Priest, Hampton ordained a Teach...",
          "Cole Brown & Max Stoddard ordained as Deacons in S...",
          "Copeland ordained an Elder at college",
          "Brigham Hardy made 2nd Counselor in Bishopric in t...",
          "Carson Roberts made 2nd Counselor in Bishopric in ...",
          "Ammon Hardy graduated Madison High School",
          "Melissa Hardy Graduated from Horseshoe Bend High S...",
          "Ammon moved in with Grandma T before college",
          "Paul & Casey were married in Arkansas",
          "TWINS: Enoch & Oliver Hardy were born to Jordan & ...",
          "Tate Tyler Thueson was born Tyler & Mikaela in Rex...",
          "Maggie Louise was born To Brigham & Kali in Boise,...",
          "David Arnell Roberts was born to Madison & Carson ...",
          "Madden elected 7th grade Class President",
          "William Thompson served an LDS Mission to New Mexi...",
          "Isabella Donna Kirkham was born To Qelvin & Tacy I...",
          "TWINS:Kaye Deidra & Lou Camren were born to Danae ...",
          "Twins: Kaye & Lou were blessed by their father, Ja...",
          "David & Jenelle went on a mission to Nauvoo, Illin...",
          "Copeland & Moriah Walter Engaged",
          "Madden elected 8th grade Class President",
          "Ammon Hardy married Madilyn Pickett in Rexburg Tem...",
          "Copeland & Moriah Walter Married in Meridian Templ...",
          "Kahilil Jiraiya (KJ) Perry was born in Capolani,Ha...",
          "Brooke Thueson was born to Blake & Kelli in Rexbur...",
          "Brooke was blessed by her father, Blake, at the ho...",
          "Nori Thueson was born to Cameron & Shan in Bountif...",
          "Jaycee diagnosed with diabetes",
          "Hampton chosen for Student Leadership",
          "Ethan served an LDS Mission to Tijuana, Mexico",
          "Matthew Graduated from BYU-I with Masters Degree o...",
          "George Hawkins Hardy was born to Brigham & Kali in...",
          "Ava Kae Thueson was born to Tyler & Mikaela in Rex...",
          "George Hawkins Hardy was blessed by his father, Br...",
          "Maria Stake Primary President St. Anthony Stake",
          "Mia engaged to Braden Pittman",
          "Paul & Casey sealed in Bentenville Temple in Arkan...",
          "Kysaac graduated from South Fremont High School",
          "Madden was elected the President of his class",
          "Haley graduated from South Side Sigh School, Lavac...",
          "Ellie Lynn graduated from Sugar Salem High School",
          "Hampton chosen for Student Leadership",
          "Gideon Hardy was born to Ammon & Madi",
          "Steve & Deidra LDS Mission to Philippines",
          "Hazel LaRae Roberts was born to Madison & Carson i..."
         ],
         "textposition": "auto",
         "type": "bar",
         "x": [
          864000000,
          864000000,
          864000000,
          864000000,
          864000000,
          864000000,
          864000000,
          864000000,
          864000000,
          864000000,
          864000000,
          864000000,
          864000000,
          864000000,
          864000000,
          864000000,
          864000000,
          864000000,
          864000000,
          864000000,
          864000000,
          864000000,
          864000000,
          864000000,
          864000000,
          864000000,
          864000000,
          864000000,
          864000000,
          -10627200000,
          864000000,
          864000000,
          864000000,
          864000000,
          864000000,
          864000000,
          864000000,
          864000000,
          864000000,
          864000000,
          864000000,
          864000000,
          28857600000,
          864000000,
          28857600000,
          864000000,
          864000000,
          864000000,
          864000000,
          864000000,
          691200000,
          864000000,
          864000000,
          864000000,
          864000000,
          864000000,
          864000000,
          864000000,
          950400000,
          864000000,
          864000000,
          864000000,
          864000000,
          864000000,
          259200000,
          864000000,
          864000000,
          864000000,
          864000000,
          864000000,
          864000000,
          864000000,
          864000000,
          2592000000,
          864000000,
          1641600000,
          864000000,
          864000000,
          864000000,
          864000000,
          86400000,
          864000000,
          864000000,
          864000000,
          864000000,
          864000000,
          172800000,
          864000000,
          864000000,
          864000000,
          864000000,
          864000000,
          864000000,
          864000000,
          864000000,
          864000000,
          518400000,
          864000000,
          26179200000,
          864000000,
          864000000,
          864000000,
          864000000,
          864000000,
          864000000,
          864000000,
          864000000,
          864000000,
          864000000,
          172800000,
          864000000,
          864000000,
          864000000,
          864000000,
          864000000,
          864000000,
          864000000,
          864000000,
          864000000,
          864000000,
          864000000,
          864000000,
          864000000,
          864000000,
          28857600000,
          28857600000,
          864000000,
          864000000,
          864000000,
          864000000,
          864000000,
          864000000,
          864000000,
          864000000,
          864000000,
          864000000,
          864000000,
          864000000,
          864000000,
          864000000,
          864000000,
          864000000,
          864000000,
          864000000,
          864000000,
          864000000,
          864000000,
          864000000,
          864000000,
          864000000,
          864000000,
          864000000,
          864000000,
          864000000,
          864000000,
          864000000,
          864000000,
          864000000,
          92016000000,
          864000000,
          864000000,
          864000000,
          864000000,
          864000000,
          864000000,
          864000000,
          864000000,
          864000000,
          864000000,
          864000000,
          864000000,
          864000000,
          60480000000,
          92016000000,
          864000000,
          864000000,
          864000000,
          864000000,
          864000000,
          864000000,
          864000000,
          864000000,
          28857600000,
          864000000,
          864000000,
          11750400000,
          864000000,
          864000000,
          864000000
         ],
         "xaxis": "x6",
         "y": [
          11,
          10,
          8,
          -13,
          14,
          -6,
          13,
          7,
          -5,
          -6,
          -15,
          15,
          5,
          1,
          -1,
          -11,
          2,
          13,
          12,
          -3,
          9,
          -2,
          -3,
          -15,
          9,
          6,
          5,
          4,
          3,
          2,
          1,
          -1,
          -2,
          -3,
          -4,
          -5,
          -6,
          -7,
          -8,
          -9,
          -10,
          -11,
          -12,
          -13,
          -14,
          -15,
          -16,
          15,
          14,
          13,
          12,
          11,
          10,
          9,
          8,
          7,
          6,
          5,
          4,
          3,
          2,
          1,
          -1,
          -2,
          -3,
          -4,
          -5,
          -6,
          -7,
          -8,
          -9,
          -10,
          -11,
          -12,
          -13,
          -14,
          -15,
          -16,
          15,
          14,
          13,
          12,
          11,
          10,
          9,
          8,
          7,
          6,
          5,
          4,
          3,
          2,
          1,
          -1,
          -2,
          -3,
          -4,
          -5,
          -6,
          -7,
          -8,
          -9,
          -10,
          -11,
          -12,
          -13,
          -14,
          -15,
          -16,
          15,
          14,
          13,
          12,
          11,
          10,
          9,
          8,
          7,
          6,
          5,
          4,
          3,
          2,
          1,
          -1,
          -2,
          -3,
          -4,
          -5,
          -6,
          -7,
          -8,
          -9,
          -10,
          -11,
          -12,
          -13,
          -14,
          -15,
          -16,
          15,
          14,
          13,
          12,
          11,
          10,
          9,
          8,
          7,
          6,
          5,
          4,
          3,
          2,
          1,
          -1,
          -2,
          -3,
          -4,
          -5,
          -6,
          -7,
          -8,
          -9,
          -10,
          -11,
          -12,
          -13,
          -14,
          -15,
          -16,
          15,
          14,
          13,
          12,
          11,
          10,
          9,
          8,
          7,
          6,
          5,
          4,
          3,
          2,
          1,
          -1,
          -2,
          -3
         ],
         "yaxis": "y6"
        },
        {
         "alignmentgroup": "True",
         "base": [
          "0006-08-09T00:00:00",
          "0006-09-09T00:00:00",
          "0006-12-25T00:00:00",
          "0007-01-09T00:00:00",
          "0007-06-09T00:00:00",
          "0007-06-13T00:00:00",
          "0007-09-11T00:00:00",
          "0007-10-09T00:00:00",
          "0007-11-09T00:00:00",
          "0007-01-09T00:00:00",
          "0007-01-09T00:00:00",
          "0008-02-03T00:00:00",
          "0008-07-01T00:00:00",
          "0008-07-02T00:00:00",
          "0008-08-09T00:00:00",
          "0008-08-09T00:00:00",
          "0009-02-09T00:00:00",
          "0009-04-03T00:00:00",
          "0009-05-05T00:00:00",
          "0009-01-09T00:00:00",
          "0009-08-09T00:00:00",
          "0009-12-28T00:00:00",
          "0009-12-29T00:00:00",
          "0010-01-09T00:00:00",
          "0010-02-02T00:00:00",
          "0010-06-18T00:00:00",
          "0010-12-06T00:00:00",
          "0010-12-07T00:00:00",
          "0010-01-09T00:00:00",
          "0001-01-09T00:00:00",
          "0001-01-24T00:00:00",
          "0001-03-27T00:00:00",
          "0001-01-09T00:00:00",
          "0002-01-09T00:00:00",
          "0002-06-13T00:00:00",
          "0002-06-13T00:00:00",
          "0002-07-09T00:00:00",
          "0002-01-09T00:00:00",
          "0002-01-09T00:00:00",
          "0003-01-09T00:00:00",
          "0003-01-09T00:00:00",
          "0003-11-09T00:00:00",
          "0003-11-26T00:00:00",
          "0003-11-26T00:00:00",
          "0004-02-09T00:00:00",
          "0004-01-09T00:00:00",
          "0004-06-17T00:00:00",
          "0004-08-09T00:00:00",
          "0004-11-11T00:00:00",
          "0004-11-11T00:00:00",
          "0005-01-09T00:00:00",
          "0005-01-09T00:00:00",
          "0005-01-09T00:00:00",
          "0005-01-14T00:00:00",
          "0005-02-09T00:00:00",
          "0005-03-30T00:00:00",
          "0005-08-09T00:00:00",
          "0005-11-26T00:00:00",
          "0006-01-09T00:00:00",
          "0006-02-09T00:00:00",
          "0006-01-09T00:00:00"
         ],
         "customdata": [
          [
           "Blair started First Grade",
           "1965 Aug",
           "Blair started First Grade",
           "1970-01-01T00:00:00"
          ],
          [
           "Donna joined Originales Club",
           "1965 Sep",
           "Donna joined Originales Club",
           "1970-01-01T00:00:00"
          ],
          [
           "Blair got first bike",
           "1965 Dec 25",
           "Blair got first bike",
           "1970-01-01T00:00:00"
          ],
          [
           "Dee Elders Quorum 2nd Counselor in Rexburg 3rd Ward",
           "1966",
           "Dee Elders Quorum 2nd Counselor in Rexburg 3rd War...",
           "1970-01-01T00:00:00"
          ],
          [
           "1st Family Trip to Pacific Coast",
           "1966 Jun",
           "1st Family Trip to Pacific Coast",
           "1970-01-01T00:00:00"
          ],
          [
           "Blair got his first bike for his birthday",
           "1966 Jun 13",
           "Blair got his first bike for his birthday",
           "1970-01-01T00:00:00"
          ],
          [
           "David started Bambi's Kindergarten run by Marjorie Romrell",
           "1966 Sep 11",
           "David started Bambi's Kindergarten run by Marjorie...",
           "1970-01-01T00:00:00"
          ],
          [
           "Started to build K Street House Rexburg",
           "1966 Oct",
           "Started to build K Street House Rexburg",
           "1970-01-01T00:00:00"
          ],
          [
           "Steven had tonsils out",
           "1966 Nov",
           "Steven had tonsils out",
           "1970-01-01T00:00:00"
          ],
          [
           "Donna Stake Primary Organist*** Rexburg Stake",
           "1966",
           "Donna Stake Primary Organist*** Rexburg Stake",
           "1970-01-01T00:00:00"
          ],
          [
           "Dee Executive Secretary of Aaronic Priesthood 2nd Ward",
           "1966",
           "Dee Executive Secretary of Aaronic Priesthood 2nd ...",
           "1970-01-01T00:00:00"
          ],
          [
           "Moved in K Street House Rexburg",
           "1967 Feb 3",
           "Moved in K Street House Rexburg",
           "1970-01-01T00:00:00"
          ],
          [
           "Blair Baptized by Dee in Rexburg 2nd Ward, Rexburg Stake",
           "1967 Jul 1",
           "Blair Baptized by Dee in Rexburg 2nd Ward, Rexburg...",
           "1970-01-01T00:00:00"
          ],
          [
           "Blair confirmed by Dee in Rexburg 2nd Ward",
           "1967 Jul 2",
           "Blair confirmed by Dee in Rexburg 2nd Ward",
           "1970-01-01T00:00:00"
          ],
          [
           "David started 1st grade Fern Ricks",
           "1967 Aug",
           "David started 1st grade Fern Ricks",
           "1970-01-01T00:00:00"
          ],
          [
           "Steven started Bambi Kindergarten Mrs. Romrell",
           "1967 Aug",
           "Steven started Bambi Kindergarten Mrs. Romrell",
           "1970-01-01T00:00:00"
          ],
          [
           "Dee appendix operation",
           "1968 Feb",
           "Dee appendix operation",
           "1970-01-01T00:00:00"
          ],
          [
           "Susan Eileen born in Rexburg, Madison, Idaho",
           "1968 Apr 3",
           "Susan Eileen born in Rexburg, Madison, Idaho",
           "1970-01-01T00:00:00"
          ],
          [
           "Susan blessed by Dee in Rexburg 2nd Ward",
           "1968 May 5",
           "Susan blessed by Dee in Rexburg 2nd Ward",
           "1970-01-01T00:00:00"
          ],
          [
           "May\t\tDee Coach Softball Team Rexburg 2nd Ward",
           "1968",
           "May\t\tDee Coach Softball Team Rexburg 2nd Ward",
           "1970-01-01T00:00:00"
          ],
          [
           "Steven started First Grade",
           "1968 Aug",
           "Steven started First Grade",
           "1970-01-01T00:00:00"
          ],
          [
           "David baptized by Dee in Rexburg 2nd Ward",
           "1968 Dec 28",
           "David baptized by Dee in Rexburg 2nd Ward",
           "1970-01-01T00:00:00"
          ],
          [
           "David confirmed by Dee in Rexburg 2nd Ward",
           "1968 Dec 29",
           "David confirmed by Dee in Rexburg 2nd Ward",
           "1970-01-01T00:00:00"
          ],
          [
           "Dee & Donna Denver 1st OK TIRE TRIP with Neils & Judy",
           "1969 Jan",
           "Dee & Donna Denver 1st OK TIRE TRIP with Neils & J...",
           "1970-01-01T00:00:00"
          ],
          [
           "Donna & 4/4 won Stake Quartet Festival, Rexburg Stake",
           "1969 Feb 2",
           "Donna & 4/4 won Stake Quartet Festival, Rexburg St...",
           "1970-01-01T00:00:00"
          ],
          [
           "Donna Rexburg Stake MIA Music Director",
           "1969 Jun 18",
           "Donna Rexburg Stake MIA Music Director",
           "1970-01-01T00:00:00"
          ],
          [
           "Steven baptized by Dee in Rexburg 2nd Ward",
           "1969 Dec 6",
           "Steven baptized by Dee in Rexburg 2nd Ward",
           "1970-01-01T00:00:00"
          ],
          [
           "Steven confirmed by Dee in Rexburg 2nd Ward",
           "1969 Dec 7",
           "Steven confirmed by Dee in Rexburg 2nd Ward",
           "1970-01-01T00:00:00"
          ],
          [
           "Dee in Jaycees",
           "1969",
           "Dee in Jaycees",
           "1970-01-01T00:00:00"
          ],
          [
           "OK Tire Convention Denver",
           "1970 Jan",
           "OK Tire Convention Denver",
           "1970-01-01T00:00:00"
          ],
          [
           "Dee 2nd Counselor Sunday School Rexburg 2nd Ward",
           "1970 Jan 24",
           "Dee 2nd Counselor Sunday School Rexburg 2nd Ward",
           "1970-01-01T00:00:00"
          ],
          [
           "Dee’s Dad, Ray Devine Thueson died",
           "1970 Mar 27",
           "Dee’s Dad, Ray Devine Thueson died",
           "1970-01-01T00:00:00"
          ],
          [
           "Dee 1st Counselor Sunday School Rexburg 2nd Ward",
           "1970",
           "Dee 1st Counselor Sunday School Rexburg 2nd Ward",
           "1970-01-01T00:00:00"
          ],
          [
           "Dee Scoutmaster Rexburg 2nd Ward",
           "1971",
           "Dee Scoutmaster Rexburg 2nd Ward",
           "1970-01-01T00:00:00"
          ],
          [
           "Blair graduated Primary",
           "1971 Jun 13",
           "Blair graduated Primary",
           "1970-01-01T00:00:00"
          ],
          [
           "Blair ordained Deacon by Dee Rexburg 2nd Ward",
           "1971 Jun 13",
           "Blair ordained Deacon by Dee Rexburg 2nd Ward",
           "1970-01-01T00:00:00"
          ],
          [
           "Family trip to Glacier, Jasper & Banff Parks & Calgary Rodeo",
           "1971 Jul",
           "Family trip to Glacier, Jasper & Banff Parks & Cal...",
           "1970-01-01T00:00:00"
          ],
          [
           "Donna RS Homemaking Work Director Rexburg 2nd Ward",
           "1971",
           "Donna RS Homemaking Work Director Rexburg 2nd Ward",
           "1970-01-01T00:00:00"
          ],
          [
           "Dee Scoutmaster Rexburg 2nd Ward",
           "1971",
           "Dee Scoutmaster Rexburg 2nd Ward",
           "1970-01-01T00:00:00"
          ],
          [
           "Dee Woodbadge Camp",
           "1972",
           "Dee Woodbadge Camp",
           "1970-01-01T00:00:00"
          ],
          [
           "Dee Private Pilot's license",
           "1972",
           "Dee Private Pilot's license",
           "1970-01-01T00:00:00"
          ],
          [
           "Donna started working County Election Polls",
           "1972 Nov",
           "Donna started working County Election Polls",
           "1970-01-01T00:00:00"
          ],
          [
           "David graduated Primary",
           "1972 Nov 26",
           "David graduated Primary",
           "1970-01-01T00:00:00"
          ],
          [
           "David ordained Deacon by Dee Rexburg 2nd Ward",
           "1972 Nov 26",
           "David ordained Deacon by Dee Rexburg 2nd Ward",
           "1970-01-01T00:00:00"
          ],
          [
           "Dee & Donna San Antonio Tire Convention",
           "1973 Feb",
           "Dee & Donna San Antonio Tire Convention",
           "1970-01-01T00:00:00"
          ],
          [
           "Remodeled front room K Street",
           "1973",
           "Remodeled front room K Street",
           "1970-01-01T00:00:00"
          ],
          [
           "Blair ordained Teacher by Dee Rexburg 2nd Ward",
           "1973 Jun 17",
           "Blair ordained Teacher by Dee Rexburg 2nd Ward",
           "1970-01-01T00:00:00"
          ],
          [
           "Susan started Gale Case's Kindergarten",
           "1973 Aug",
           "Susan started Gale Case's Kindergarten",
           "1970-01-01T00:00:00"
          ],
          [
           "Steven graduated Primary",
           "1973 Nov 11",
           "Steven graduated Primary",
           "1970-01-01T00:00:00"
          ],
          [
           "Steven ordained a Deacon by Dee Rexburg 2nd Ward",
           "1973 Nov 11",
           "Steven ordained a Deacon by Dee Rexburg 2nd Ward",
           "1970-01-01T00:00:00"
          ],
          [
           "Donna Rexburg Stake Services & Activities Committee",
           "1974",
           "Donna Rexburg Stake Services & Activities Committe...",
           "1970-01-01T00:00:00"
          ],
          [
           "Blair Secretary Teachers Quorum",
           "1974",
           "Blair Secretary Teachers Quorum",
           "1970-01-01T00:00:00"
          ],
          [
           "Blair Duty to God Award",
           "1974",
           "Blair Duty to God Award",
           "1970-01-01T00:00:00"
          ],
          [
           "Blair Eagle Scout Rexburg 11th Ward",
           "1974 Jan 14",
           "Blair Eagle Scout Rexburg 11th Ward",
           "1970-01-01T00:00:00"
          ],
          [
           "Dee & Donna San Diego Tire trip w/Blair Morgan",
           "1974 Feb",
           "Dee & Donna San Diego Tire trip w/Blair Morgan",
           "1970-01-01T00:00:00"
          ],
          [
           "Eagle Trip to Disneyland",
           "1974 Mar 30- 1974 Apr 6",
           "Eagle Trip to Disneyland",
           "1970-01-01T00:00:00"
          ],
          [
           "Susan started 1st Grade",
           "1974 Aug",
           "Susan started 1st Grade",
           "1970-01-01T00:00:00"
          ],
          [
           "David ordained Teacher by Dee Rexburg 2nd Ward",
           "1974 Nov 26",
           "David ordained Teacher by Dee Rexburg 2nd Ward",
           "1970-01-01T00:00:00"
          ],
          [
           "Steven President of the Deacons Quorum",
           "1975",
           "Steven President of the Deacons Quorum",
           "1970-01-01T00:00:00"
          ],
          [
           "Dee & Donna Miami business trip",
           "1975 Feb",
           "Dee & Donna Miami business trip",
           "1970-01-01T00:00:00"
          ],
          [
           "Dee Elders Quorum 2nd Counselor Rexburg 11th Ward",
           "1975",
           "Dee Elders Quorum 2nd Counselor Rexburg 11th Ward",
           "1970-01-01T00:00:00"
          ]
         ],
         "hoverinfo": "skip",
         "hovertemplate": "<b>%{hovertext}</b><br><br>When=%{customdata[1]}<extra></extra>",
         "hovertext": [
          "Blair started First Grade",
          "Donna joined Originales Club",
          "Blair got first bike",
          "Dee Elders Quorum 2nd Counselor in Rexburg 3rd Ward",
          "1st Family Trip to Pacific Coast",
          "Blair got his first bike for his birthday",
          "David started Bambi's Kindergarten run by Marjorie Romrell",
          "Started to build K Street House Rexburg",
          "Steven had tonsils out",
          "Donna Stake Primary Organist*** Rexburg Stake",
          "Dee Executive Secretary of Aaronic Priesthood 2nd Ward",
          "Moved in K Street House Rexburg",
          "Blair Baptized by Dee in Rexburg 2nd Ward, Rexburg Stake",
          "Blair confirmed by Dee in Rexburg 2nd Ward",
          "David started 1st grade Fern Ricks",
          "Steven started Bambi Kindergarten Mrs. Romrell",
          "Dee appendix operation",
          "Susan Eileen born in Rexburg, Madison, Idaho",
          "Susan blessed by Dee in Rexburg 2nd Ward",
          "May\t\tDee Coach Softball Team Rexburg 2nd Ward",
          "Steven started First Grade",
          "David baptized by Dee in Rexburg 2nd Ward",
          "David confirmed by Dee in Rexburg 2nd Ward",
          "Dee & Donna Denver 1st OK TIRE TRIP with Neils & Judy",
          "Donna & 4/4 won Stake Quartet Festival, Rexburg Stake",
          "Donna Rexburg Stake MIA Music Director",
          "Steven baptized by Dee in Rexburg 2nd Ward",
          "Steven confirmed by Dee in Rexburg 2nd Ward",
          "Dee in Jaycees",
          "OK Tire Convention Denver",
          "Dee 2nd Counselor Sunday School Rexburg 2nd Ward",
          "Dee’s Dad, Ray Devine Thueson died",
          "Dee 1st Counselor Sunday School Rexburg 2nd Ward",
          "Dee Scoutmaster Rexburg 2nd Ward",
          "Blair graduated Primary",
          "Blair ordained Deacon by Dee Rexburg 2nd Ward",
          "Family trip to Glacier, Jasper & Banff Parks & Calgary Rodeo",
          "Donna RS Homemaking Work Director Rexburg 2nd Ward",
          "Dee Scoutmaster Rexburg 2nd Ward",
          "Dee Woodbadge Camp",
          "Dee Private Pilot's license",
          "Donna started working County Election Polls",
          "David graduated Primary",
          "David ordained Deacon by Dee Rexburg 2nd Ward",
          "Dee & Donna San Antonio Tire Convention",
          "Remodeled front room K Street",
          "Blair ordained Teacher by Dee Rexburg 2nd Ward",
          "Susan started Gale Case's Kindergarten",
          "Steven graduated Primary",
          "Steven ordained a Deacon by Dee Rexburg 2nd Ward",
          "Donna Rexburg Stake Services & Activities Committee",
          "Blair Secretary Teachers Quorum",
          "Blair Duty to God Award",
          "Blair Eagle Scout Rexburg 11th Ward",
          "Dee & Donna San Diego Tire trip w/Blair Morgan",
          "Eagle Trip to Disneyland",
          "Susan started 1st Grade",
          "David ordained Teacher by Dee Rexburg 2nd Ward",
          "Steven President of the Deacons Quorum",
          "Dee & Donna Miami business trip",
          "Dee Elders Quorum 2nd Counselor Rexburg 11th Ward"
         ],
         "legendgroup": "",
         "marker": {
          "color": "#636efa",
          "line": {
           "width": 0
          },
          "pattern": {
           "shape": ""
          }
         },
         "name": "",
         "offsetgroup": "",
         "orientation": "h",
         "showlegend": false,
         "text": [
          "Blair started First Grade",
          "Donna joined Originales Club",
          "Blair got first bike",
          "Dee Elders Quorum 2nd Counselor in Rexburg 3rd War...",
          "1st Family Trip to Pacific Coast",
          "Blair got his first bike for his birthday",
          "David started Bambi's Kindergarten run by Marjorie...",
          "Started to build K Street House Rexburg",
          "Steven had tonsils out",
          "Donna Stake Primary Organist*** Rexburg Stake",
          "Dee Executive Secretary of Aaronic Priesthood 2nd ...",
          "Moved in K Street House Rexburg",
          "Blair Baptized by Dee in Rexburg 2nd Ward, Rexburg...",
          "Blair confirmed by Dee in Rexburg 2nd Ward",
          "David started 1st grade Fern Ricks",
          "Steven started Bambi Kindergarten Mrs. Romrell",
          "Dee appendix operation",
          "Susan Eileen born in Rexburg, Madison, Idaho",
          "Susan blessed by Dee in Rexburg 2nd Ward",
          "May\t\tDee Coach Softball Team Rexburg 2nd Ward",
          "Steven started First Grade",
          "David baptized by Dee in Rexburg 2nd Ward",
          "David confirmed by Dee in Rexburg 2nd Ward",
          "Dee & Donna Denver 1st OK TIRE TRIP with Neils & J...",
          "Donna & 4/4 won Stake Quartet Festival, Rexburg St...",
          "Donna Rexburg Stake MIA Music Director",
          "Steven baptized by Dee in Rexburg 2nd Ward",
          "Steven confirmed by Dee in Rexburg 2nd Ward",
          "Dee in Jaycees",
          "OK Tire Convention Denver",
          "Dee 2nd Counselor Sunday School Rexburg 2nd Ward",
          "Dee’s Dad, Ray Devine Thueson died",
          "Dee 1st Counselor Sunday School Rexburg 2nd Ward",
          "Dee Scoutmaster Rexburg 2nd Ward",
          "Blair graduated Primary",
          "Blair ordained Deacon by Dee Rexburg 2nd Ward",
          "Family trip to Glacier, Jasper & Banff Parks & Cal...",
          "Donna RS Homemaking Work Director Rexburg 2nd Ward",
          "Dee Scoutmaster Rexburg 2nd Ward",
          "Dee Woodbadge Camp",
          "Dee Private Pilot's license",
          "Donna started working County Election Polls",
          "David graduated Primary",
          "David ordained Deacon by Dee Rexburg 2nd Ward",
          "Dee & Donna San Antonio Tire Convention",
          "Remodeled front room K Street",
          "Blair ordained Teacher by Dee Rexburg 2nd Ward",
          "Susan started Gale Case's Kindergarten",
          "Steven graduated Primary",
          "Steven ordained a Deacon by Dee Rexburg 2nd Ward",
          "Donna Rexburg Stake Services & Activities Committe...",
          "Blair Secretary Teachers Quorum",
          "Blair Duty to God Award",
          "Blair Eagle Scout Rexburg 11th Ward",
          "Dee & Donna San Diego Tire trip w/Blair Morgan",
          "Eagle Trip to Disneyland",
          "Susan started 1st Grade",
          "David ordained Teacher by Dee Rexburg 2nd Ward",
          "Steven President of the Deacons Quorum",
          "Dee & Donna Miami business trip",
          "Dee Elders Quorum 2nd Counselor Rexburg 11th Ward"
         ],
         "textposition": "auto",
         "type": "bar",
         "x": [
          864000000,
          864000000,
          864000000,
          28857600000,
          864000000,
          864000000,
          864000000,
          864000000,
          864000000,
          28857600000,
          28857600000,
          864000000,
          864000000,
          864000000,
          864000000,
          864000000,
          864000000,
          864000000,
          864000000,
          28857600000,
          864000000,
          864000000,
          864000000,
          864000000,
          864000000,
          864000000,
          864000000,
          864000000,
          28857600000,
          864000000,
          864000000,
          864000000,
          28857600000,
          28857600000,
          864000000,
          864000000,
          864000000,
          28857600000,
          28857600000,
          28857600000,
          28857600000,
          864000000,
          864000000,
          864000000,
          864000000,
          28944000000,
          864000000,
          864000000,
          864000000,
          864000000,
          28857600000,
          28857600000,
          28857600000,
          864000000,
          864000000,
          604800000,
          864000000,
          864000000,
          28857600000,
          864000000,
          28857600000
         ],
         "xaxis": "x5",
         "y": [
          -2,
          -3,
          -4,
          -5,
          -7,
          -8,
          -9,
          -10,
          -11,
          -12,
          -13,
          -14,
          -15,
          -16,
          15,
          14,
          12,
          11,
          10,
          9,
          8,
          6,
          5,
          4,
          3,
          2,
          1,
          -1,
          -2,
          -3,
          -4,
          -5,
          -6,
          -7,
          -8,
          -9,
          -10,
          -11,
          -12,
          -13,
          -14,
          -15,
          -16,
          15,
          14,
          13,
          12,
          11,
          10,
          9,
          8,
          7,
          6,
          5,
          4,
          3,
          2,
          1,
          -1,
          -2,
          15
         ],
         "yaxis": "y5"
        },
        {
         "alignmentgroup": "True",
         "base": [
          "0006-06-22T00:00:00",
          "0006-07-09T00:00:00",
          "0006-09-09T00:00:00",
          "0006-10-09T00:00:00",
          "0006-10-09T00:00:00",
          "0006-11-10T00:00:00",
          "0006-11-09T00:00:00",
          "0006-11-09T00:00:00",
          "0006-11-11T00:00:00",
          "0006-11-11T00:00:00",
          "0006-11-09T00:00:00",
          "0006-11-16T00:00:00",
          "0006-12-06T00:00:00",
          "0007-01-09T00:00:00",
          "0007-04-09T00:00:00",
          "0007-04-09T00:00:00",
          "0007-05-01T00:00:00",
          "0007-05-02T00:00:00",
          "0007-05-30T00:00:00",
          "0007-06-05T00:00:00",
          "0007-08-09T00:00:00",
          "0007-10-11T00:00:00",
          "0007-11-07T00:00:00",
          "0007-11-10T00:00:00",
          "0007-11-28T00:00:00",
          "0007-11-09T00:00:00",
          "0008-01-09T00:00:00",
          "0008-03-09T00:00:00",
          "0008-05-09T00:00:00",
          "0008-05-09T00:00:00",
          "0008-05-09T00:00:00",
          "0008-05-13T00:00:00",
          "0008-05-18T00:00:00",
          "0008-05-25T00:00:00",
          "0008-06-12T00:00:00",
          "0008-07-09T00:00:00",
          "0008-08-09T00:00:00",
          "0008-09-27T00:00:00",
          "0008-09-27T00:00:00",
          "0008-10-26T00:00:00",
          "0008-09-09T00:00:00",
          "0008-11-16T00:00:00",
          "0008-12-09T00:00:00",
          "0009-01-09T00:00:00",
          "0009-02-25T00:00:00",
          "0009-03-09T00:00:00",
          "0009-04-09T00:00:00",
          "0009-04-09T00:00:00",
          "0009-05-09T00:00:00",
          "0009-05-30T00:00:00",
          "0009-06-17T00:00:00",
          "0009-06-09T00:00:00",
          "0009-01-09T00:00:00",
          "0009-12-09T00:00:00",
          "0010-01-09T00:00:00",
          "0010-02-09T00:00:00",
          "0010-02-09T00:00:00",
          "0010-03-25T00:00:00",
          "0010-05-16T00:00:00",
          "0010-05-23T00:00:00",
          "0010-07-09T00:00:00",
          "0010-08-06T00:00:00",
          "0010-08-09T00:00:00",
          "0010-08-09T00:00:00",
          "0010-11-09T00:00:00",
          "0010-12-05T00:00:00",
          "0010-12-27T00:00:00",
          "0001-01-26T00:00:00",
          "0001-03-23T00:00:00",
          "0001-04-09T00:00:00",
          "0001-04-26T00:00:00",
          "0001-05-09T00:00:00",
          "0001-05-09T00:00:00",
          "0001-05-12T00:00:00",
          "0001-05-20T00:00:00",
          "0001-08-09T00:00:00",
          "0001-08-09T00:00:00",
          "0001-08-12T00:00:00",
          "0001-08-31T00:00:00",
          "0001-09-09T00:00:00",
          "0001-10-09T00:00:00",
          "0001-10-09T00:00:00",
          "0001-10-08T00:00:00",
          "0001-10-23T00:00:00",
          "0001-11-20T00:00:00",
          "0001-11-29T00:00:00",
          "0001-12-04T00:00:00",
          "0001-12-09T00:00:00",
          "0001-01-09T00:00:00",
          "0002-01-09T00:00:00",
          "0002-01-09T00:00:00",
          "0002-01-09T00:00:00",
          "0002-03-09T00:00:00",
          "0002-05-12T00:00:00",
          "0002-07-04T00:00:00",
          "0002-08-21T00:00:00",
          "0002-08-09T00:00:00",
          "0002-08-09T00:00:00",
          "0002-01-09T00:00:00",
          "0002-11-09T00:00:00",
          "0003-01-09T00:00:00",
          "0003-01-09T00:00:00",
          "0003-02-09T00:00:00",
          "0003-06-09T00:00:00",
          "0003-07-07T00:00:00",
          "0003-07-09T00:00:00",
          "0003-07-09T00:00:00",
          "0003-08-09T00:00:00",
          "0003-08-09T00:00:00",
          "0003-01-09T00:00:00",
          "0003-10-09T00:00:00",
          "0003-10-09T00:00:00",
          "0003-11-09T00:00:00",
          "0003-11-09T00:00:00",
          "0003-11-23T00:00:00",
          "0003-12-12T00:00:00",
          "0004-01-09T00:00:00",
          "0004-01-09T00:00:00",
          "0004-02-14T00:00:00",
          "0004-03-09T00:00:00",
          "0004-03-16T00:00:00",
          "0004-03-19T00:00:00",
          "0004-03-25T00:00:00",
          "0004-04-14T00:00:00",
          "0004-05-06T00:00:00",
          "0004-05-11T00:00:00",
          "0004-05-25T00:00:00",
          "0004-05-27T00:00:00",
          "0004-06-28T00:00:00",
          "0004-10-01T00:00:00",
          "0004-10-30T00:00:00",
          "0004-12-03T00:00:00",
          "0004-12-04T00:00:00",
          "0005-01-09T00:00:00",
          "0005-01-17T00:00:00",
          "0005-02-28T00:00:00",
          "0005-02-09T00:00:00",
          "0005-03-05T00:00:00",
          "0005-03-09T00:00:00",
          "0005-03-09T00:00:00",
          "0005-04-09T00:00:00",
          "0005-04-15T00:00:00",
          "0005-04-19T00:00:00",
          "0005-04-24T00:00:00",
          "0005-04-09T00:00:00",
          "0005-05-06T00:00:00",
          "0005-05-09T00:00:00",
          "0005-06-26T00:00:00",
          "0005-07-22T00:00:00",
          "0005-07-28T00:00:00",
          "0005-08-09T00:00:00",
          "0005-08-09T00:00:00",
          "0005-08-09T00:00:00",
          "0005-08-09T00:00:00",
          "0005-08-26T00:00:00",
          "0005-10-09T00:00:00",
          "0005-10-09T00:00:00",
          "0005-10-06T00:00:00",
          "0005-10-13T00:00:00",
          "0005-10-14T00:00:00",
          "0006-03-09T00:00:00",
          "0006-03-09T00:00:00",
          "0006-03-27T00:00:00",
          "0006-04-18T00:00:00",
          "0006-05-14T00:00:00",
          "0006-05-26T00:00:00",
          "0006-01-09T00:00:00"
         ],
         "customdata": [
          [
           "Blair ordained Priest by Dee Rexburg 2nd Ward",
           "1975 Jun 22",
           "Blair ordained Priest by Dee Rexburg 2nd Ward",
           "1980-01-01T00:00:00"
          ],
          [
           "Dee, Blair, David canoe trip",
           "1975 Jul",
           "Dee, Blair, David canoe trip",
           "1980-01-01T00:00:00"
          ],
          [
           "Steven broken toe",
           "1975 Sept",
           "Steven broken toe",
           "1980-01-01T00:00:00"
          ],
          [
           "Dee bought plane w/Neils & Joe",
           "1975 Oct",
           "Dee bought plane w/Neils & Joe",
           "1980-01-01T00:00:00"
          ],
          [
           "Donna took 6 voice lessons Ray Arbizu",
           "1975 Oct-1975 Nov",
           "Donna took 6 voice lessons Ray Arbizu",
           "1980-01-01T00:00:00"
          ],
          [
           "Kimberly Jo born Pusan, Korea",
           "1975 Nov 10",
           "Kimberly Jo born Pusan, Korea",
           "1980-01-01T00:00:00"
          ],
          [
           "Rexburg 11th Ward organized",
           "1975 Nov",
           "Rexburg 11th Ward organized",
           "1980-01-01T00:00:00"
          ],
          [
           "Donna Sunday School Organist Rexburg 11 Ward",
           "1975 Nov",
           "Donna Sunday School Organist Rexburg 11 Ward",
           "1980-01-01T00:00:00"
          ],
          [
           "David, Susan in Tree of Liberty Rexburg Stake",
           "1975 Nov 11",
           "David, Susan in Tree of Liberty Rexburg Stake",
           "1980-01-01T00:00:00"
          ],
          [
           "Donna costume mistress & Chorus Director Tree of Liberty",
           "1975 Nov 11",
           "Donna costume mistress & Chorus Director Tree of L...",
           "1980-01-01T00:00:00"
          ],
          [
           "Dee Count, Mom Madame Pompom Rexburg 11th Ward play \t\t\t\t\t\tThe Fortune Teller",
           "1975 Nov",
           "Dee Count, Mom Madame Pompom Rexburg 11th Ward pla...",
           "1980-01-01T00:00:00"
          ],
          [
           "Steven ordained Teacher by Dee Rexburg 11th Ward",
           "1975 Nov 16",
           "Steven ordained Teacher by Dee Rexburg 11th Ward",
           "1980-01-01T00:00:00"
          ],
          [
           "David broke his leg skiing",
           "1975 Dec 6",
           "David broke his leg skiing",
           "1980-01-01T00:00:00"
          ],
          [
           "Dee & Donna 1st Caribbean Cruise w/Ted & Thella Mortensen",
           "1976 Jan",
           "Dee & Donna 1st Caribbean Cruise w/Ted & Thella Mo...",
           "1980-01-01T00:00:00"
          ],
          [
           "Mom directed Land of Promise Rexburg 11th Ward",
           "1976 Apr",
           "Mom directed Land of Promise Rexburg 11th Ward",
           "1980-01-01T00:00:00"
          ],
          [
           "David President of Teachers Quorum Rexburg 11th Ward",
           "1976 Apr",
           "David President of Teachers Quorum Rexburg 11th Wa...",
           "1980-01-01T00:00:00"
          ],
          [
           "Susan baptized by Dee Rexburg 11th Ward",
           "1976 May 1",
           "Susan baptized by Dee Rexburg 11th Ward",
           "1980-01-01T00:00:00"
          ],
          [
           "Susan confirmed by Dee",
           "1976 May 2",
           "Susan confirmed by Dee",
           "1980-01-01T00:00:00"
          ],
          [
           "Steven Eagle Scout",
           "1976 May 30",
           "Steven Eagle Scout",
           "1980-01-01T00:00:00"
          ],
          [
           "Teton Dam Flood",
           "1976 Jun 5",
           "Teton Dam Flood",
           "1980-01-01T00:00:00"
          ],
          [
           "Dee & boys trip to Shoshone Lake",
           "1976 Aug",
           "Dee & boys trip to Shoshone Lake",
           "1980-01-01T00:00:00"
          ],
          [
           "Amy Dawn born Rexburg, Madison, Idaho",
           "1976 Oct 11",
           "Amy Dawn born Rexburg, Madison, Idaho",
           "1980-01-01T00:00:00"
          ],
          [
           "Amy blessed by Dee Rexburg 11th Ward",
           "1976 Nov 7",
           "Amy blessed by Dee Rexburg 11th Ward",
           "1980-01-01T00:00:00"
          ],
          [
           "Blair earned Duty to God Award",
           "1976 Nov 10",
           "Blair earned Duty to God Award",
           "1980-01-01T00:00:00"
          ],
          [
           "David ordained Priest by Dee Rexburg 11th Ward",
           "1976 Nov 28",
           "David ordained Priest by Dee Rexburg 11th Ward",
           "1980-01-01T00:00:00"
          ],
          [
           "Steven Earned Eagle Scout Award Rexburg 11th Ward",
           "1976 Nov",
           "Steven Earned Eagle Scout Award Rexburg 11th Ward",
           "1980-01-01T00:00:00"
          ],
          [
           "Family Trip to Hawaii",
           "1977 Jan",
           "Family Trip to Hawaii",
           "1980-01-01T00:00:00"
          ],
          [
           "Dee sold plane to Neils & Joe",
           "1977 Mar",
           "Dee sold plane to Neils & Joe",
           "1980-01-01T00:00:00"
          ],
          [
           "Steven lead in “The Little Tailor” MJHS",
           "1977 May",
           "Steven lead in “The Little Tailor” MJHS",
           "1980-01-01T00:00:00"
          ],
          [
           "Dee Sunday School Pres. 2nd Counselor Rexburg 11th Ward",
           "1977 May",
           "Dee Sunday School Pres. 2nd Counselor Rexburg 11th...",
           "1980-01-01T00:00:00"
          ],
          [
           "Donna Choir Director Rexburg 11th Ward",
           "1977 May",
           "Donna Choir Director Rexburg 11th Ward",
           "1980-01-01T00:00:00"
          ],
          [
           "Susan broke arm on trampoline",
           "1977 May 13",
           "Susan broke arm on trampoline",
           "1980-01-01T00:00:00"
          ],
          [
           "Blair graduated Seminary",
           "1977 May 18",
           "Blair graduated Seminary",
           "1980-01-01T00:00:00"
          ],
          [
           "Blair graduated Madison High School",
           "1977 May 25",
           "Blair graduated Madison High School",
           "1980-01-01T00:00:00"
          ],
          [
           "Blair ordained Elder by Dee Rexburg 11th Ward",
           "1977 Jun 12",
           "Blair ordained Elder by Dee Rexburg 11th Ward",
           "1980-01-01T00:00:00"
          ],
          [
           "Steven National Scout Jamboree back East",
           "1977 Jul",
           "Steven National Scout Jamboree back East",
           "1980-01-01T00:00:00"
          ],
          [
           "David Junior Class Pres. Madison High School, Rexburg, Idaho",
           "1977 Aug",
           "David Junior Class Pres. Madison High School, Rexb...",
           "1980-01-01T00:00:00"
          ],
          [
           "Dee ordained High Priest by Clair",
           "1977 Sep 27",
           "Dee ordained High Priest by Clair",
           "1980-01-01T00:00:00"
          ],
          [
           "Dee 2nd Counselor Bishopric Ricks College 28th Branch, Ricks College 3rd Stake",
           "1977 Sep 27",
           "Dee 2nd Counselor Bishopric Ricks College 28th Bra...",
           "1980-01-01T00:00:00"
          ],
          [
           "Steve play “The Good Doctor” MHS",
           "1977 Oct 26",
           "Steve play “The Good Doctor” MHS",
           "1980-01-01T00:00:00"
          ],
          [
           "David Jr. Class President MHS",
           "1977 Sept- 1978 may",
           "David Jr. Class President MHS",
           "1980-01-01T00:00:00"
          ],
          [
           "Steven ordained Priest by Dee Rexburg 11th Ward",
           "1977 Nov 16",
           "Steven ordained Priest by Dee Rexburg 11th Ward",
           "1980-01-01T00:00:00"
          ],
          [
           "Blair’s first toe operation",
           "1977 Dec",
           "Blair’s first toe operation",
           "1980-01-01T00:00:00"
          ],
          [
           "Cantabile Singers Started",
           "1978 Jan",
           "Cantabile Singers Started",
           "1980-01-01T00:00:00"
          ],
          [
           "Steve prop man “Dames at Sea” MHS",
           "1978 Feb 25",
           "Steve prop man “Dames at Sea” MHS",
           "1980-01-01T00:00:00"
          ],
          [
           "Steve in “Hello Dolly” MHS",
           "1978 Mar",
           "Steve in “Hello Dolly” MHS",
           "1980-01-01T00:00:00"
          ],
          [
           "Donna Cultural Refinement Teacher RS Rexburg 11th Ward",
           "1978 Apr",
           "Donna Cultural Refinement Teacher RS Rexburg 11th ...",
           "1980-01-01T00:00:00"
          ],
          [
           "Dee President Rexburg Little League organization",
           "1978 Apr",
           "Dee President Rexburg Little League organization",
           "1980-01-01T00:00:00"
          ],
          [
           "Steven “Superior” State Speech competition",
           "1978 May",
           "Steven “Superior” State Speech competition",
           "1980-01-01T00:00:00"
          ],
          [
           "Blair endowed Idaho Falls Temple",
           "1978 May 30",
           "Blair endowed Idaho Falls Temple",
           "1980-01-01T00:00:00"
          ],
          [
           "Blair LDS Mission to Canada, Vancouver",
           "1978 Jun 17",
           "Blair LDS Mission to Canada, Vancouver",
           "1980-01-01T00:00:00"
          ],
          [
           "Family Trip to Lake Powell w/Valerie from Sandy",
           "1978 Jun",
           "Family Trip to Lake Powell w/Valerie from Sandy",
           "1980-01-01T00:00:00"
          ],
          [
           "Started raising Rex Rabbits",
           "1978",
           "Started raising Rex Rabbits",
           "1980-01-01T00:00:00"
          ],
          [
           "Donna sustained Ward Music Chairman Rexburg Eleventh Ward",
           "1978 Dec",
           "Donna sustained Ward Music Chairman Rexburg Eleven...",
           "1980-01-01T00:00:00"
          ],
          [
           "David Sunday School Teacher 3-year-olds",
           "1979 Jan",
           "David Sunday School Teacher 3-year-olds",
           "1980-01-01T00:00:00"
          ],
          [
           "David wrestling team at MHS",
           "1979 Feb?",
           "David wrestling team at MHS",
           "1980-01-01T00:00:00"
          ],
          [
           "Remodeled house added sunroom & bedroom",
           "1979 Feb",
           "Remodeled house added sunroom & bedroom",
           "1980-01-01T00:00:00"
          ],
          [
           "David ordained Elder by Dee Rexburg 11th",
           "1979 Mar 25",
           "David ordained Elder by Dee Rexburg 11th",
           "1980-01-01T00:00:00"
          ],
          [
           "David graduated Seminary",
           "1979 May 16",
           "David graduated Seminary",
           "1980-01-01T00:00:00"
          ],
          [
           "David graduated from Madison High School",
           "1979 May 23",
           "David graduated from Madison High School",
           "1980-01-01T00:00:00"
          ],
          [
           "Amy operated on Herniated Navel",
           "1979 Jul",
           "Amy operated on Herniated Navel",
           "1980-01-01T00:00:00"
          ],
          [
           "Steven Red Fish Lake Scouts",
           "1979 Aug 6- 1979 Aug 9",
           "Steven Red Fish Lake Scouts",
           "1980-01-01T00:00:00"
          ],
          [
           "Donna Homemaking Work Director Rexburg 11th Ward",
           "1979 Aug",
           "Donna Homemaking Work Director Rexburg 11th Ward",
           "1980-01-01T00:00:00"
          ],
          [
           "Donna Music Chairman Rexburg 11th Ward",
           "1979 Aug",
           "Donna Music Chairman Rexburg 11th Ward",
           "1980-01-01T00:00:00"
          ],
          [
           "Steven President of Explorers + Priests 1st Assistant",
           "1979 Nov",
           "Steven President of Explorers + Priests 1st Assist...",
           "1980-01-01T00:00:00"
          ],
          [
           "David endowed Idaho Falls Temple",
           "1979 Dec 5",
           "David endowed Idaho Falls Temple",
           "1980-01-01T00:00:00"
          ],
          [
           "David mission England, Manchester",
           "1979 Dec 27",
           "David mission England, Manchester",
           "1980-01-01T00:00:00"
          ],
          [
           "Kimberly arrived in family from Korea",
           "1980 Jan 26",
           "Kimberly arrived in family from Korea",
           "1980-01-01T00:00:00"
          ],
          [
           "Steven ordained an Elder by Dee Rexburg 11th Ward",
           "1980 Mar 23",
           "Steven ordained an Elder by Dee Rexburg 11th Ward",
           "1980-01-01T00:00:00"
          ],
          [
           "Because of Elizabeth Mom music director Sue part Stake",
           "1980 Apr",
           "Because of Elizabeth Mom music director Sue part S...",
           "1980-01-01T00:00:00"
          ],
          [
           "Blair released from mission",
           "1980 Apr 26",
           "Blair released from mission",
           "1980-01-01T00:00:00"
          ],
          [
           "Steven State DECA Convention 2nd Place",
           "1980 May",
           "Steven State DECA Convention 2nd Place",
           "1980-01-01T00:00:00"
          ],
          [
           "Steven National DECA Convention",
           "1980 May",
           "Steven National DECA Convention",
           "1980-01-01T00:00:00"
          ],
          [
           "Steven graduated Seminary",
           "1980 May 12",
           "Steven graduated Seminary",
           "1980-01-01T00:00:00"
          ],
          [
           "Steven graduated from Madison High School",
           "1980 May 20",
           "Steven graduated from Madison High School",
           "1980-01-01T00:00:00"
          ],
          [
           "Kimberly started Mrs. Case’s Preschool",
           "1980 Aug",
           "Kimberly started Mrs. Case’s Preschool",
           "1980-01-01T00:00:00"
          ],
          [
           "Donna Music Director Rexburg 11th Ward",
           "1980 Aug",
           "Donna Music Director Rexburg 11th Ward",
           "1980-01-01T00:00:00"
          ],
          [
           "Dee World Conference on Records",
           "1980 Aug 12-1980 Aug 15",
           "Dee World Conference on Records",
           "1980-01-01T00:00:00"
          ],
          [
           "Susan graduated Primary",
           "1980 Aug 31",
           "Susan graduated Primary",
           "1980-01-01T00:00:00"
          ],
          [
           "Donna RS Music Director & Recreation Leader Rexburg Stake",
           "1980 Sep",
           "Donna RS Music Director & Recreation Leader Rexbur...",
           "1980-01-01T00:00:00"
          ],
          [
           "Dee Released Ricks College 28th Ward 1st Counselor",
           "1980 Oct",
           "Dee Released Ricks College 28th Ward 1st Counselor",
           "1980-01-01T00:00:00"
          ],
          [
           "Dee called Ricks College Third Stake High Council",
           "1980 Oct",
           "Dee called Ricks College Third Stake High Council",
           "1980-01-01T00:00:00"
          ],
          [
           "Kimberly officially adopted",
           "1980 Oct 8",
           "Kimberly officially adopted",
           "1980-01-01T00:00:00"
          ],
          [
           "Kimberly sealed to parents in IF Temple",
           "1980 Oct 23",
           "Kimberly sealed to parents in IF Temple",
           "1980-01-01T00:00:00"
          ],
          [
           "Steve endowed IF Temple",
           "1980 Nov 20",
           "Steve endowed IF Temple",
           "1980-01-01T00:00:00"
          ],
          [
           "Dee scheduled veil Worker Idaho Falls Temple",
           "1980 Nov 29",
           "Dee scheduled veil Worker Idaho Falls Temple",
           "1980-01-01T00:00:00"
          ],
          [
           "Steve entered MTC Australia, Melbourne Mission",
           "1980 Dec 4",
           "Steve entered MTC Australia, Melbourne Mission",
           "1980-01-01T00:00:00"
          ],
          [
           "David transferred from England-Manchester to Arizona-Phoenix Mission",
           "1980 Dec",
           "David transferred from England-Manchester to Arizo...",
           "1980-01-01T00:00:00"
          ],
          [
           "Church Sesquicentennial",
           "1980",
           "Church Sesquicentennial",
           "1980-01-01T00:00:00"
          ],
          [
           "Dee & Donna Tire Trip to San Martin",
           "1981 Jan",
           "Dee & Donna Tire Trip to San Martin",
           "1980-01-01T00:00:00"
          ],
          [
           "Amy broken leg at Aunt Marva’s",
           "1981 Jan",
           "Amy broken leg at Aunt Marva’s",
           "1980-01-01T00:00:00"
          ],
          [
           "Dee veil worker at the Idaho Falls Temple",
           "1981-1982",
           "Dee veil worker at the Idaho Falls Temple",
           "1980-01-01T00:00:00"
          ],
          [
           "Donna Released Music Chairman Rexburg 11th Ward",
           "1981 Mar",
           "Donna Released Music Chairman Rexburg 11th Ward",
           "1980-01-01T00:00:00"
          ],
          [
           "Blair & Carlene engaged",
           "1981 May 12",
           "Blair & Carlene engaged",
           "1980-01-01T00:00:00"
          ],
          [
           "Dee & Donna in charge Thueson camp",
           "1981 Jul 4",
           "Dee & Donna in charge Thueson camp",
           "1980-01-01T00:00:00"
          ],
          [
           "Blair & Carlene married IF Temple by Pres. Redford",
           "1981 Aug 21",
           "Blair & Carlene married IF Temple by Pres. Redford",
           "1980-01-01T00:00:00"
          ],
          [
           "Foster parents to Andrea Jorgenson",
           "1981 Aug",
           "Foster parents to Andrea Jorgenson",
           "1980-01-01T00:00:00"
          ],
          [
           "Amy started Mrs. Case’s Preschool",
           "1981 Aug",
           "Amy started Mrs. Case’s Preschool",
           "1980-01-01T00:00:00"
          ],
          [
           "Dee Sunday School 2nd Counselor Rexburg 11th Ward",
           "1981",
           "Dee Sunday School 2nd Counselor Rexburg 11th Ward",
           "1980-01-01T00:00:00"
          ],
          [
           "Picked up David coming home at Arizona-Phoenix Mission",
           "1981 Nov",
           "Picked up David coming home at Arizona-Phoenix Mis...",
           "1980-01-01T00:00:00"
          ],
          [
           "Rabbits!!!  Built barn in Burton",
           "1982",
           "Rabbits!!!  Built barn in Burton",
           "1980-01-01T00:00:00"
          ],
          [
           "David's mission report home",
           "1982 Jan",
           "David's mission report home",
           "1980-01-01T00:00:00"
          ],
          [
           "Dee & Donna, Thueson brothers Puerto Vallarta vacation",
           "1982 Feb",
           "Dee & Donna, Thueson brothers Puerto Vallarta vaca...",
           "1980-01-01T00:00:00"
          ],
          [
           "Susan Youth Conference in Twin Falls",
           "1982 Jun",
           "Susan Youth Conference in Twin Falls",
           "1980-01-01T00:00:00"
          ],
          [
           "Matthew born SLC, Utah 10 lbs. 1 month overdue",
           "1982 Jul 7",
           "Matthew born SLC, Utah 10 lbs. 1 month overdue",
           "1980-01-01T00:00:00"
          ],
          [
           "Donna Ward Chorister & Ward Choir Director Rexburg 11th Ward",
           "1982 Jul",
           "Donna Ward Chorister & Ward Choir Director Rexburg...",
           "1980-01-01T00:00:00"
          ],
          [
           "Donna RS Homemaking Lesson Teacher Rexburg 11th Ward",
           "1982 Jul-1982 Dec",
           "Donna RS Homemaking Lesson Teacher Rexburg 11th Wa...",
           "1980-01-01T00:00:00"
          ],
          [
           "Donna teacher’s aide to Mrs. Morrell Kindergarten",
           "1982 Aug",
           "Donna teacher’s aide to Mrs. Morrell Kindergarten",
           "1980-01-01T00:00:00"
          ],
          [
           "Amy started Kindergarten Mrs. Morrell",
           "1982 Aug",
           "Amy started Kindergarten Mrs. Morrell",
           "1980-01-01T00:00:00"
          ],
          [
           "Oct\t\tDee released Ricks College 3rd Stake High Council",
           "1982",
           "Oct\t\tDee released Ricks College 3rd Stake High Cou...",
           "1980-01-01T00:00:00"
          ],
          [
           "Donna released Relief Society Stake Chorister",
           "1982 Oct",
           "Donna released Relief Society Stake Chorister",
           "1980-01-01T00:00:00"
          ],
          [
           "Dee Activities Committee Rexburg 11th Ward",
           "1982 Oct",
           "Dee Activities Committee Rexburg 11th Ward",
           "1980-01-01T00:00:00"
          ],
          [
           "Blair & Carlene Dance Directors Rexburg 7th Ward",
           "1982 Nov",
           "Blair & Carlene Dance Directors Rexburg 7th Ward",
           "1980-01-01T00:00:00"
          ],
          [
           "Dee High Council new Rexburg Center Stake",
           "1982 Nov",
           "Dee High Council new Rexburg Center Stake",
           "1980-01-01T00:00:00"
          ],
          [
           "Steve home from mission in Australia",
           "1982 Nov 23",
           "Steve home from mission in Australia",
           "1980-01-01T00:00:00"
          ],
          [
           "Steve reports mission Rexburg 11th Ward",
           "1982 Dec 12",
           "Steve reports mission Rexburg 11th Ward",
           "1980-01-01T00:00:00"
          ],
          [
           "Susan 1st Counselor MIA Maids Rexburg 11th Ward",
           "1983",
           "Susan 1st Counselor MIA Maids Rexburg 11th Ward",
           "1980-01-01T00:00:00"
          ],
          [
           "Blair Sunday School Teacher Rexburg 7th Ward",
           "1983",
           "Blair Sunday School Teacher Rexburg 7th Ward",
           "1980-01-01T00:00:00"
          ],
          [
           "David named Ricks College Man of the Year",
           "1983 Feb 14",
           "David named Ricks College Man of the Year",
           "1980-01-01T00:00:00"
          ],
          [
           "Blair Rexburg Stake Dance Director",
           "1983 Mar",
           "Blair Rexburg Stake Dance Director",
           "1980-01-01T00:00:00"
          ],
          [
           "Dee’s Mom Mid died",
           "1983 Mar 16",
           "Dee’s Mom Mid died",
           "1980-01-01T00:00:00"
          ],
          [
           "Dee’s Mom Mid's funeral",
           "1983 Mar 19",
           "Dee’s Mom Mid's funeral",
           "1980-01-01T00:00:00"
          ],
          [
           "David elected ARSC Studentbody President Ricks College",
           "1983 Mar 25",
           "David elected ARSC Studentbody President Ricks Col...",
           "1980-01-01T00:00:00"
          ],
          [
           "David & Jenelle engaged",
           "1983 Apr 14",
           "David & Jenelle engaged",
           "1980-01-01T00:00:00"
          ],
          [
           "Steve 1st Counselor Pelican Island Alaska Branch",
           "1983 May 6",
           "Steve 1st Counselor Pelican Island Alaska Branch",
           "1980-01-01T00:00:00"
          ],
          [
           "David 1st nose surgery",
           "1983 May 11",
           "David 1st nose surgery",
           "1980-01-01T00:00:00"
          ],
          [
           "Jenelle endowed IF Temple",
           "1983 May 25",
           "Jenelle endowed IF Temple",
           "1980-01-01T00:00:00"
          ],
          [
           "David & Jenelle married IF Temple",
           "1983 May 27",
           "David & Jenelle married IF Temple",
           "1980-01-01T00:00:00"
          ],
          [
           "Rexburg Centennial Play family in cast",
           "1983 Jun 28-1983 Jul 9",
           "Rexburg Centennial Play family in cast",
           "1980-01-01T00:00:00"
          ],
          [
           "First Apple IIe computer",
           "1983 Oct 1",
           "First Apple IIe computer",
           "1980-01-01T00:00:00"
          ],
          [
           "David hurt bad playing Donkey basketball",
           "1983 Oct 30",
           "David hurt bad playing Donkey basketball",
           "1980-01-01T00:00:00"
          ],
          [
           "Kimberly baptized by Dee Rexburg 11th Ward",
           "1983 Dec 3",
           "Kimberly baptized by Dee Rexburg 11th Ward",
           "1980-01-01T00:00:00"
          ],
          [
           "Kimberly confirmed by Dee",
           "1983 Dec 4",
           "Kimberly confirmed by Dee",
           "1980-01-01T00:00:00"
          ],
          [
           "Dee Scout Committeeman Rexburg 11th Ward",
           "1984",
           "Dee Scout Committeeman Rexburg 11th Ward",
           "1980-01-01T00:00:00"
          ],
          [
           "Andrea (foster daughter) married to Jay Cornell",
           "1984 Jan 17",
           "Andrea (foster daughter) married to Jay Cornell",
           "1980-01-01T00:00:00"
          ],
          [
           "Steve & Deidra engaged",
           "1984 Feb 29",
           "Steve & Deidra engaged",
           "1980-01-01T00:00:00"
          ],
          [
           "Kim had chicken pox",
           "1984 Feb",
           "Kim had chicken pox",
           "1980-01-01T00:00:00"
          ],
          [
           "Amy wins Civic Club art award for picture Kennedy Elementary",
           "1984 Mar 5",
           "Amy wins Civic Club art award for picture Kennedy ...",
           "1980-01-01T00:00:00"
          ],
          [
           "Dee South Dakota Bark Plant Trip",
           "1984 Mar",
           "Dee South Dakota Bark Plant Trip",
           "1980-01-01T00:00:00"
          ],
          [
           "Mom featured speaker Mothers & Sons Banquet Ricks College",
           "1984 Mar",
           "Mom featured speaker Mothers & Sons Banquet Ricks ...",
           "1980-01-01T00:00:00"
          ],
          [
           "KC (Keith Carl) born Rexburg, Idaho",
           "1984 Apr 9",
           "KC (Keith Carl) born Rexburg, Idaho",
           "1980-01-01T00:00:00"
          ],
          [
           "Donna YW Pres Rexburg 11th Ward",
           "1984 Apr 15",
           "Donna YW Pres Rexburg 11th Ward",
           "1980-01-01T00:00:00"
          ],
          [
           "David graduated Ricks College Associates Degree in Business Management",
           "1984 Apr 19",
           "David graduated Ricks College Associates Degree in...",
           "1980-01-01T00:00:00"
          ],
          [
           "David Nose Surgery Again Ogden",
           "1984 April 24",
           "David Nose Surgery Again Ogden",
           "1980-01-01T00:00:00"
          ],
          [
           "Amy won Honorable mention Civic Club Art Contest",
           "1984 Apr",
           "Amy won Honorable mention Civic Club Art Contest",
           "1980-01-01T00:00:00"
          ],
          [
           "KC Blessed by Blair in Rexburg 7th Ward, Rexburg Idaho Stake",
           "1984 May 6",
           "KC Blessed by Blair in Rexburg 7th Ward, Rexburg I...",
           "1980-01-01T00:00:00"
          ],
          [
           "Susan \"Larkin\" in Once Upon a Mattress MHS",
           "1984 May",
           "Susan \"Larkin\" in Once Upon a Mattress MHS",
           "1980-01-01T00:00:00"
          ],
          [
           "Lacey Marie born to David & Jenelle Rexburg",
           "1984 Jun 26",
           "Lacey Marie born to David & Jenelle Rexburg",
           "1980-01-01T00:00:00"
          ],
          [
           "Lacey blessed by her father David Ricks College 17th Ward, Ricks College 1st Stake",
           "1984 Jul 22",
           "Lacey blessed by her father David Ricks College 17...",
           "1980-01-01T00:00:00"
          ],
          [
           "Steve & Deidra married IF Temple",
           "1984 Jul 28",
           "Steve & Deidra married IF Temple",
           "1980-01-01T00:00:00"
          ],
          [
           "Susan in Bel Cantos",
           "1984 Aug-1984 May",
           "Susan in Bel Cantos",
           "1980-01-01T00:00:00"
          ],
          [
           "Amy & Kimberly started piano lessons",
           "1984 Aug",
           "Amy & Kimberly started piano lessons",
           "1980-01-01T00:00:00"
          ],
          [
           "Donna Weekly Music Teacher 4th grade Kennedy Elementary",
           "1984 Aug- 1984 May",
           "Donna Weekly Music Teacher 4th grade Kennedy Eleme...",
           "1980-01-01T00:00:00"
          ],
          [
           "Donna Released Ward Chorister Rexburg 11th Ward",
           "1984 Aug",
           "Donna Released Ward Chorister Rexburg 11th Ward",
           "1980-01-01T00:00:00"
          ],
          [
           "Dee Bishop Rexburg 11th Ward Rexburg Center Stake",
           "1984 Aug 26",
           "Dee Bishop Rexburg 11th Ward Rexburg Center Stake",
           "1980-01-01T00:00:00"
          ],
          [
           "Donna released YW President Rexburg 11th Ward",
           "1984 Oct",
           "Donna released YW President Rexburg 11th Ward",
           "1980-01-01T00:00:00"
          ],
          [
           "Donna Activity Committee Cultural Arts Director Rexburg 11th Ward",
           "1984 Oct",
           "Donna Activity Committee Cultural Arts Director Re...",
           "1980-01-01T00:00:00"
          ],
          [
           "Maria Kummer here Foster child",
           "1984 Oct 6",
           "Maria Kummer here Foster child",
           "1980-01-01T00:00:00"
          ],
          [
           "Amy baptized by Dee Rexburg 11th Ward",
           "1984 Oct 13",
           "Amy baptized by Dee Rexburg 11th Ward",
           "1980-01-01T00:00:00"
          ],
          [
           "Amy confirmed by Dee Rexburg 11th Ward",
           "1984 Oct 14",
           "Amy confirmed by Dee Rexburg 11th Ward",
           "1980-01-01T00:00:00"
          ],
          [
           "Sold all the Rabbits",
           "1985 Mar",
           "Sold all the Rabbits",
           "1980-01-01T00:00:00"
          ],
          [
           "Susan in “Bye, Bye, Birdie” MHS",
           "1985 Mar",
           "Susan in “Bye, Bye, Birdie” MHS",
           "1980-01-01T00:00:00"
          ],
          [
           "Dee named Businessman of the Year Ricks College",
           "1985 Mar 27",
           "Dee named Businessman of the Year Ricks College",
           "1980-01-01T00:00:00"
          ],
          [
           "Steve graduated Ricks College Associates Degree in Business",
           "1985 Apr 18",
           "Steve graduated Ricks College Associates Degree in...",
           "1980-01-01T00:00:00"
          ],
          [
           "Kim’s braces on",
           "1985 May 14",
           "Kim’s braces on",
           "1980-01-01T00:00:00"
          ],
          [
           "Donna released Choir Director Rexburg 11th Ward",
           "1985 May 26",
           "Donna released Choir Director Rexburg 11th Ward",
           "1980-01-01T00:00:00"
          ],
          [
           "Dee Rexburg Chamber of Commerce Board of Directors",
           "1985",
           "Dee Rexburg Chamber of Commerce Board of Directors",
           "1980-01-01T00:00:00"
          ]
         ],
         "hoverinfo": "skip",
         "hovertemplate": "<b>%{hovertext}</b><br><br>When=%{customdata[1]}<extra></extra>",
         "hovertext": [
          "Blair ordained Priest by Dee Rexburg 2nd Ward",
          "Dee, Blair, David canoe trip",
          "Steven broken toe",
          "Dee bought plane w/Neils & Joe",
          "Donna took 6 voice lessons Ray Arbizu",
          "Kimberly Jo born Pusan, Korea",
          "Rexburg 11th Ward organized",
          "Donna Sunday School Organist Rexburg 11 Ward",
          "David, Susan in Tree of Liberty Rexburg Stake",
          "Donna costume mistress & Chorus Director Tree of Liberty",
          "Dee Count, Mom Madame Pompom Rexburg 11th Ward play \t\t\t\t\t\tThe Fortune Teller",
          "Steven ordained Teacher by Dee Rexburg 11th Ward",
          "David broke his leg skiing",
          "Dee & Donna 1st Caribbean Cruise w/Ted & Thella Mortensen",
          "Mom directed Land of Promise Rexburg 11th Ward",
          "David President of Teachers Quorum Rexburg 11th Ward",
          "Susan baptized by Dee Rexburg 11th Ward",
          "Susan confirmed by Dee",
          "Steven Eagle Scout",
          "Teton Dam Flood",
          "Dee & boys trip to Shoshone Lake",
          "Amy Dawn born Rexburg, Madison, Idaho",
          "Amy blessed by Dee Rexburg 11th Ward",
          "Blair earned Duty to God Award",
          "David ordained Priest by Dee Rexburg 11th Ward",
          "Steven Earned Eagle Scout Award Rexburg 11th Ward",
          "Family Trip to Hawaii",
          "Dee sold plane to Neils & Joe",
          "Steven lead in “The Little Tailor” MJHS",
          "Dee Sunday School Pres. 2nd Counselor Rexburg 11th Ward",
          "Donna Choir Director Rexburg 11th Ward",
          "Susan broke arm on trampoline",
          "Blair graduated Seminary",
          "Blair graduated Madison High School",
          "Blair ordained Elder by Dee Rexburg 11th Ward",
          "Steven National Scout Jamboree back East",
          "David Junior Class Pres. Madison High School, Rexburg, Idaho",
          "Dee ordained High Priest by Clair",
          "Dee 2nd Counselor Bishopric Ricks College 28th Branch, Ricks College 3rd Stake",
          "Steve play “The Good Doctor” MHS",
          "David Jr. Class President MHS",
          "Steven ordained Priest by Dee Rexburg 11th Ward",
          "Blair’s first toe operation",
          "Cantabile Singers Started",
          "Steve prop man “Dames at Sea” MHS",
          "Steve in “Hello Dolly” MHS",
          "Donna Cultural Refinement Teacher RS Rexburg 11th Ward",
          "Dee President Rexburg Little League organization",
          "Steven “Superior” State Speech competition",
          "Blair endowed Idaho Falls Temple",
          "Blair LDS Mission to Canada, Vancouver",
          "Family Trip to Lake Powell w/Valerie from Sandy",
          "Started raising Rex Rabbits",
          "Donna sustained Ward Music Chairman Rexburg Eleventh Ward",
          "David Sunday School Teacher 3-year-olds",
          "David wrestling team at MHS",
          "Remodeled house added sunroom & bedroom",
          "David ordained Elder by Dee Rexburg 11th",
          "David graduated Seminary",
          "David graduated from Madison High School",
          "Amy operated on Herniated Navel",
          "Steven Red Fish Lake Scouts",
          "Donna Homemaking Work Director Rexburg 11th Ward",
          "Donna Music Chairman Rexburg 11th Ward",
          "Steven President of Explorers + Priests 1st Assistant",
          "David endowed Idaho Falls Temple",
          "David mission England, Manchester",
          "Kimberly arrived in family from Korea",
          "Steven ordained an Elder by Dee Rexburg 11th Ward",
          "Because of Elizabeth Mom music director Sue part Stake",
          "Blair released from mission",
          "Steven State DECA Convention 2nd Place",
          "Steven National DECA Convention",
          "Steven graduated Seminary",
          "Steven graduated from Madison High School",
          "Kimberly started Mrs. Case’s Preschool",
          "Donna Music Director Rexburg 11th Ward",
          "Dee World Conference on Records",
          "Susan graduated Primary",
          "Donna RS Music Director & Recreation Leader Rexburg Stake",
          "Dee Released Ricks College 28th Ward 1st Counselor",
          "Dee called Ricks College Third Stake High Council",
          "Kimberly officially adopted",
          "Kimberly sealed to parents in IF Temple",
          "Steve endowed IF Temple",
          "Dee scheduled veil Worker Idaho Falls Temple",
          "Steve entered MTC Australia, Melbourne Mission",
          "David transferred from England-Manchester to Arizona-Phoenix Mission",
          "Church Sesquicentennial",
          "Dee & Donna Tire Trip to San Martin",
          "Amy broken leg at Aunt Marva’s",
          "Dee veil worker at the Idaho Falls Temple",
          "Donna Released Music Chairman Rexburg 11th Ward",
          "Blair & Carlene engaged",
          "Dee & Donna in charge Thueson camp",
          "Blair & Carlene married IF Temple by Pres. Redford",
          "Foster parents to Andrea Jorgenson",
          "Amy started Mrs. Case’s Preschool",
          "Dee Sunday School 2nd Counselor Rexburg 11th Ward",
          "Picked up David coming home at Arizona-Phoenix Mission",
          "Rabbits!!!  Built barn in Burton",
          "David's mission report home",
          "Dee & Donna, Thueson brothers Puerto Vallarta vacation",
          "Susan Youth Conference in Twin Falls",
          "Matthew born SLC, Utah 10 lbs. 1 month overdue",
          "Donna Ward Chorister & Ward Choir Director Rexburg 11th Ward",
          "Donna RS Homemaking Lesson Teacher Rexburg 11th Ward",
          "Donna teacher’s aide to Mrs. Morrell Kindergarten",
          "Amy started Kindergarten Mrs. Morrell",
          "Oct\t\tDee released Ricks College 3rd Stake High Council",
          "Donna released Relief Society Stake Chorister",
          "Dee Activities Committee Rexburg 11th Ward",
          "Blair & Carlene Dance Directors Rexburg 7th Ward",
          "Dee High Council new Rexburg Center Stake",
          "Steve home from mission in Australia",
          "Steve reports mission Rexburg 11th Ward",
          "Susan 1st Counselor MIA Maids Rexburg 11th Ward",
          "Blair Sunday School Teacher Rexburg 7th Ward",
          "David named Ricks College Man of the Year",
          "Blair Rexburg Stake Dance Director",
          "Dee’s Mom Mid died",
          "Dee’s Mom Mid's funeral",
          "David elected ARSC Studentbody President Ricks College",
          "David & Jenelle engaged",
          "Steve 1st Counselor Pelican Island Alaska Branch",
          "David 1st nose surgery",
          "Jenelle endowed IF Temple",
          "David & Jenelle married IF Temple",
          "Rexburg Centennial Play family in cast",
          "First Apple IIe computer",
          "David hurt bad playing Donkey basketball",
          "Kimberly baptized by Dee Rexburg 11th Ward",
          "Kimberly confirmed by Dee",
          "Dee Scout Committeeman Rexburg 11th Ward",
          "Andrea (foster daughter) married to Jay Cornell",
          "Steve & Deidra engaged",
          "Kim had chicken pox",
          "Amy wins Civic Club art award for picture Kennedy Elementary",
          "Dee South Dakota Bark Plant Trip",
          "Mom featured speaker Mothers & Sons Banquet Ricks College",
          "KC (Keith Carl) born Rexburg, Idaho",
          "Donna YW Pres Rexburg 11th Ward",
          "David graduated Ricks College Associates Degree in Business Management",
          "David Nose Surgery Again Ogden",
          "Amy won Honorable mention Civic Club Art Contest",
          "KC Blessed by Blair in Rexburg 7th Ward, Rexburg Idaho Stake",
          "Susan \"Larkin\" in Once Upon a Mattress MHS",
          "Lacey Marie born to David & Jenelle Rexburg",
          "Lacey blessed by her father David Ricks College 17th Ward, Ricks College 1st Stake",
          "Steve & Deidra married IF Temple",
          "Susan in Bel Cantos",
          "Amy & Kimberly started piano lessons",
          "Donna Weekly Music Teacher 4th grade Kennedy Elementary",
          "Donna Released Ward Chorister Rexburg 11th Ward",
          "Dee Bishop Rexburg 11th Ward Rexburg Center Stake",
          "Donna released YW President Rexburg 11th Ward",
          "Donna Activity Committee Cultural Arts Director Rexburg 11th Ward",
          "Maria Kummer here Foster child",
          "Amy baptized by Dee Rexburg 11th Ward",
          "Amy confirmed by Dee Rexburg 11th Ward",
          "Sold all the Rabbits",
          "Susan in “Bye, Bye, Birdie” MHS",
          "Dee named Businessman of the Year Ricks College",
          "Steve graduated Ricks College Associates Degree in Business",
          "Kim’s braces on",
          "Donna released Choir Director Rexburg 11th Ward",
          "Dee Rexburg Chamber of Commerce Board of Directors"
         ],
         "legendgroup": "",
         "marker": {
          "color": "#636efa",
          "line": {
           "width": 0
          },
          "pattern": {
           "shape": ""
          }
         },
         "name": "",
         "offsetgroup": "",
         "orientation": "h",
         "showlegend": false,
         "text": [
          "Blair ordained Priest by Dee Rexburg 2nd Ward",
          "Dee, Blair, David canoe trip",
          "Steven broken toe",
          "Dee bought plane w/Neils & Joe",
          "Donna took 6 voice lessons Ray Arbizu",
          "Kimberly Jo born Pusan, Korea",
          "Rexburg 11th Ward organized",
          "Donna Sunday School Organist Rexburg 11 Ward",
          "David, Susan in Tree of Liberty Rexburg Stake",
          "Donna costume mistress & Chorus Director Tree of L...",
          "Dee Count, Mom Madame Pompom Rexburg 11th Ward pla...",
          "Steven ordained Teacher by Dee Rexburg 11th Ward",
          "David broke his leg skiing",
          "Dee & Donna 1st Caribbean Cruise w/Ted & Thella Mo...",
          "Mom directed Land of Promise Rexburg 11th Ward",
          "David President of Teachers Quorum Rexburg 11th Wa...",
          "Susan baptized by Dee Rexburg 11th Ward",
          "Susan confirmed by Dee",
          "Steven Eagle Scout",
          "Teton Dam Flood",
          "Dee & boys trip to Shoshone Lake",
          "Amy Dawn born Rexburg, Madison, Idaho",
          "Amy blessed by Dee Rexburg 11th Ward",
          "Blair earned Duty to God Award",
          "David ordained Priest by Dee Rexburg 11th Ward",
          "Steven Earned Eagle Scout Award Rexburg 11th Ward",
          "Family Trip to Hawaii",
          "Dee sold plane to Neils & Joe",
          "Steven lead in “The Little Tailor” MJHS",
          "Dee Sunday School Pres. 2nd Counselor Rexburg 11th...",
          "Donna Choir Director Rexburg 11th Ward",
          "Susan broke arm on trampoline",
          "Blair graduated Seminary",
          "Blair graduated Madison High School",
          "Blair ordained Elder by Dee Rexburg 11th Ward",
          "Steven National Scout Jamboree back East",
          "David Junior Class Pres. Madison High School, Rexb...",
          "Dee ordained High Priest by Clair",
          "Dee 2nd Counselor Bishopric Ricks College 28th Bra...",
          "Steve play “The Good Doctor” MHS",
          "David Jr. Class President MHS",
          "Steven ordained Priest by Dee Rexburg 11th Ward",
          "Blair’s first toe operation",
          "Cantabile Singers Started",
          "Steve prop man “Dames at Sea” MHS",
          "Steve in “Hello Dolly” MHS",
          "Donna Cultural Refinement Teacher RS Rexburg 11th ...",
          "Dee President Rexburg Little League organization",
          "Steven “Superior” State Speech competition",
          "Blair endowed Idaho Falls Temple",
          "Blair LDS Mission to Canada, Vancouver",
          "Family Trip to Lake Powell w/Valerie from Sandy",
          "Started raising Rex Rabbits",
          "Donna sustained Ward Music Chairman Rexburg Eleven...",
          "David Sunday School Teacher 3-year-olds",
          "David wrestling team at MHS",
          "Remodeled house added sunroom & bedroom",
          "David ordained Elder by Dee Rexburg 11th",
          "David graduated Seminary",
          "David graduated from Madison High School",
          "Amy operated on Herniated Navel",
          "Steven Red Fish Lake Scouts",
          "Donna Homemaking Work Director Rexburg 11th Ward",
          "Donna Music Chairman Rexburg 11th Ward",
          "Steven President of Explorers + Priests 1st Assist...",
          "David endowed Idaho Falls Temple",
          "David mission England, Manchester",
          "Kimberly arrived in family from Korea",
          "Steven ordained an Elder by Dee Rexburg 11th Ward",
          "Because of Elizabeth Mom music director Sue part S...",
          "Blair released from mission",
          "Steven State DECA Convention 2nd Place",
          "Steven National DECA Convention",
          "Steven graduated Seminary",
          "Steven graduated from Madison High School",
          "Kimberly started Mrs. Case’s Preschool",
          "Donna Music Director Rexburg 11th Ward",
          "Dee World Conference on Records",
          "Susan graduated Primary",
          "Donna RS Music Director & Recreation Leader Rexbur...",
          "Dee Released Ricks College 28th Ward 1st Counselor",
          "Dee called Ricks College Third Stake High Council",
          "Kimberly officially adopted",
          "Kimberly sealed to parents in IF Temple",
          "Steve endowed IF Temple",
          "Dee scheduled veil Worker Idaho Falls Temple",
          "Steve entered MTC Australia, Melbourne Mission",
          "David transferred from England-Manchester to Arizo...",
          "Church Sesquicentennial",
          "Dee & Donna Tire Trip to San Martin",
          "Amy broken leg at Aunt Marva’s",
          "Dee veil worker at the Idaho Falls Temple",
          "Donna Released Music Chairman Rexburg 11th Ward",
          "Blair & Carlene engaged",
          "Dee & Donna in charge Thueson camp",
          "Blair & Carlene married IF Temple by Pres. Redford",
          "Foster parents to Andrea Jorgenson",
          "Amy started Mrs. Case’s Preschool",
          "Dee Sunday School 2nd Counselor Rexburg 11th Ward",
          "Picked up David coming home at Arizona-Phoenix Mis...",
          "Rabbits!!!  Built barn in Burton",
          "David's mission report home",
          "Dee & Donna, Thueson brothers Puerto Vallarta vaca...",
          "Susan Youth Conference in Twin Falls",
          "Matthew born SLC, Utah 10 lbs. 1 month overdue",
          "Donna Ward Chorister & Ward Choir Director Rexburg...",
          "Donna RS Homemaking Lesson Teacher Rexburg 11th Wa...",
          "Donna teacher’s aide to Mrs. Morrell Kindergarten",
          "Amy started Kindergarten Mrs. Morrell",
          "Oct\t\tDee released Ricks College 3rd Stake High Cou...",
          "Donna released Relief Society Stake Chorister",
          "Dee Activities Committee Rexburg 11th Ward",
          "Blair & Carlene Dance Directors Rexburg 7th Ward",
          "Dee High Council new Rexburg Center Stake",
          "Steve home from mission in Australia",
          "Steve reports mission Rexburg 11th Ward",
          "Susan 1st Counselor MIA Maids Rexburg 11th Ward",
          "Blair Sunday School Teacher Rexburg 7th Ward",
          "David named Ricks College Man of the Year",
          "Blair Rexburg Stake Dance Director",
          "Dee’s Mom Mid died",
          "Dee’s Mom Mid's funeral",
          "David elected ARSC Studentbody President Ricks Col...",
          "David & Jenelle engaged",
          "Steve 1st Counselor Pelican Island Alaska Branch",
          "David 1st nose surgery",
          "Jenelle endowed IF Temple",
          "David & Jenelle married IF Temple",
          "Rexburg Centennial Play family in cast",
          "First Apple IIe computer",
          "David hurt bad playing Donkey basketball",
          "Kimberly baptized by Dee Rexburg 11th Ward",
          "Kimberly confirmed by Dee",
          "Dee Scout Committeeman Rexburg 11th Ward",
          "Andrea (foster daughter) married to Jay Cornell",
          "Steve & Deidra engaged",
          "Kim had chicken pox",
          "Amy wins Civic Club art award for picture Kennedy ...",
          "Dee South Dakota Bark Plant Trip",
          "Mom featured speaker Mothers & Sons Banquet Ricks ...",
          "KC (Keith Carl) born Rexburg, Idaho",
          "Donna YW Pres Rexburg 11th Ward",
          "David graduated Ricks College Associates Degree in...",
          "David Nose Surgery Again Ogden",
          "Amy won Honorable mention Civic Club Art Contest",
          "KC Blessed by Blair in Rexburg 7th Ward, Rexburg I...",
          "Susan \"Larkin\" in Once Upon a Mattress MHS",
          "Lacey Marie born to David & Jenelle Rexburg",
          "Lacey blessed by her father David Ricks College 17...",
          "Steve & Deidra married IF Temple",
          "Susan in Bel Cantos",
          "Amy & Kimberly started piano lessons",
          "Donna Weekly Music Teacher 4th grade Kennedy Eleme...",
          "Donna Released Ward Chorister Rexburg 11th Ward",
          "Dee Bishop Rexburg 11th Ward Rexburg Center Stake",
          "Donna released YW President Rexburg 11th Ward",
          "Donna Activity Committee Cultural Arts Director Re...",
          "Maria Kummer here Foster child",
          "Amy baptized by Dee Rexburg 11th Ward",
          "Amy confirmed by Dee Rexburg 11th Ward",
          "Sold all the Rabbits",
          "Susan in “Bye, Bye, Birdie” MHS",
          "Dee named Businessman of the Year Ricks College",
          "Steve graduated Ricks College Associates Degree in...",
          "Kim’s braces on",
          "Donna released Choir Director Rexburg 11th Ward",
          "Dee Rexburg Chamber of Commerce Board of Directors"
         ],
         "textposition": "auto",
         "type": "bar",
         "x": [
          864000000,
          864000000,
          864000000,
          864000000,
          2678400000,
          864000000,
          864000000,
          864000000,
          864000000,
          864000000,
          864000000,
          864000000,
          864000000,
          864000000,
          864000000,
          864000000,
          864000000,
          864000000,
          864000000,
          864000000,
          864000000,
          864000000,
          864000000,
          864000000,
          864000000,
          864000000,
          864000000,
          864000000,
          864000000,
          864000000,
          864000000,
          864000000,
          864000000,
          864000000,
          864000000,
          864000000,
          864000000,
          864000000,
          864000000,
          864000000,
          20908800000,
          864000000,
          864000000,
          864000000,
          864000000,
          864000000,
          864000000,
          864000000,
          864000000,
          864000000,
          864000000,
          864000000,
          28857600000,
          864000000,
          864000000,
          864000000,
          864000000,
          864000000,
          864000000,
          864000000,
          864000000,
          259200000,
          864000000,
          864000000,
          864000000,
          864000000,
          -314668800000,
          864000000,
          864000000,
          864000000,
          864000000,
          864000000,
          864000000,
          864000000,
          864000000,
          864000000,
          864000000,
          259200000,
          864000000,
          864000000,
          864000000,
          864000000,
          864000000,
          864000000,
          864000000,
          864000000,
          864000000,
          864000000,
          28857600000,
          864000000,
          864000000,
          60393600000,
          864000000,
          864000000,
          864000000,
          864000000,
          864000000,
          864000000,
          28857600000,
          864000000,
          28857600000,
          864000000,
          864000000,
          864000000,
          864000000,
          864000000,
          13219200000,
          864000000,
          864000000,
          28857600000,
          864000000,
          864000000,
          864000000,
          864000000,
          864000000,
          864000000,
          28944000000,
          28944000000,
          864000000,
          864000000,
          864000000,
          864000000,
          864000000,
          864000000,
          864000000,
          864000000,
          864000000,
          864000000,
          950400000,
          864000000,
          864000000,
          864000000,
          864000000,
          28857600000,
          864000000,
          864000000,
          864000000,
          864000000,
          864000000,
          864000000,
          864000000,
          864000000,
          864000000,
          864000000,
          864000000,
          864000000,
          864000000,
          864000000,
          864000000,
          864000000,
          -7948800000,
          864000000,
          -7948800000,
          864000000,
          864000000,
          864000000,
          864000000,
          864000000,
          864000000,
          864000000,
          864000000,
          864000000,
          864000000,
          864000000,
          864000000,
          864000000,
          28857600000
         ],
         "xaxis": "x4",
         "y": [
          -3,
          -4,
          -7,
          -8,
          -9,
          -10,
          -11,
          -12,
          -13,
          -14,
          -15,
          -16,
          14,
          13,
          12,
          11,
          10,
          9,
          8,
          7,
          6,
          5,
          4,
          3,
          2,
          1,
          -1,
          -2,
          -3,
          -4,
          -5,
          -6,
          -7,
          -8,
          -9,
          -10,
          -11,
          -12,
          -13,
          -14,
          -16,
          14,
          13,
          12,
          11,
          10,
          9,
          8,
          7,
          6,
          4,
          3,
          2,
          -2,
          -3,
          -4,
          -5,
          -6,
          -7,
          -8,
          -9,
          -10,
          -12,
          -13,
          -14,
          -15,
          -16,
          15,
          14,
          13,
          12,
          11,
          10,
          9,
          8,
          7,
          6,
          5,
          4,
          3,
          1,
          -1,
          -2,
          -3,
          -4,
          -5,
          -6,
          -7,
          -8,
          -9,
          -10,
          -11,
          -12,
          -13,
          -14,
          -15,
          -16,
          15,
          14,
          11,
          10,
          9,
          8,
          7,
          6,
          5,
          4,
          3,
          2,
          1,
          -1,
          -2,
          -4,
          -5,
          -6,
          -7,
          -8,
          -9,
          -10,
          -11,
          -12,
          -13,
          -14,
          -15,
          -16,
          15,
          14,
          13,
          12,
          11,
          10,
          9,
          8,
          7,
          6,
          5,
          4,
          3,
          2,
          1,
          -1,
          -2,
          -3,
          -4,
          -5,
          -6,
          -7,
          -8,
          -9,
          -10,
          -11,
          -12,
          -13,
          -14,
          -15,
          -16,
          15,
          14,
          13,
          12,
          11,
          10,
          9,
          8,
          7,
          6,
          5
         ],
         "yaxis": "y4"
        },
        {
         "alignmentgroup": "True",
         "base": [
          "0006-05-27T00:00:00",
          "0006-06-08T00:00:00",
          "0006-07-15T00:00:00",
          "0006-08-09T00:00:00",
          "0006-09-09T00:00:00",
          "0006-12-02T00:00:00",
          "0007-02-02T00:00:00",
          "0007-03-02T00:00:00",
          "0007-04-06T00:00:00",
          "0007-04-18T00:00:00",
          "0007-04-20T00:00:00",
          "0007-04-20T00:00:00",
          "0007-04-20T00:00:00",
          "0007-04-09T00:00:00",
          "0007-04-16T00:00:00",
          "0007-05-18T00:00:00",
          "0007-05-18T00:00:00",
          "0007-05-09T00:00:00",
          "0007-05-09T00:00:00",
          "0007-05-28T00:00:00",
          "0007-06-04T00:00:00",
          "0007-06-10T00:00:00",
          "0007-06-27T00:00:00",
          "0007-07-29T00:00:00",
          "0007-08-03T00:00:00",
          "0007-08-09T00:00:00",
          "0007-12-09T00:00:00",
          "0007-12-29T00:00:00",
          "0008-01-07T00:00:00",
          "0008-02-08T00:00:00",
          "0008-06-22T00:00:00",
          "0008-06-15T00:00:00",
          "0008-07-09T00:00:00",
          "0008-08-09T00:00:00",
          "0008-08-09T00:00:00",
          "0008-11-09T00:00:00",
          "0008-11-15T00:00:00",
          "0008-11-26T00:00:00",
          "0008-01-09T00:00:00",
          "0008-12-20T00:00:00",
          "0008-12-25T00:00:00",
          "0009-01-09T00:00:00",
          "0009-01-09T00:00:00",
          "0009-01-09T00:00:00",
          "0009-01-09T00:00:00",
          "0009-02-09T00:00:00",
          "0009-03-04T00:00:00",
          "0009-03-09T00:00:00",
          "0009-03-14T00:00:00",
          "0009-03-14T00:00:00",
          "0009-04-29T00:00:00",
          "0009-05-01T00:00:00",
          "0009-05-24T00:00:00",
          "0009-01-09T00:00:00",
          "0009-07-20T00:00:00",
          "0009-07-20T00:00:00",
          "0009-08-21T00:00:00",
          "0009-09-09T00:00:00",
          "0009-09-09T00:00:00",
          "0009-10-11T00:00:00",
          "0009-10-13T00:00:00",
          "0009-10-13T00:00:00",
          "0009-11-22T00:00:00",
          "0009-11-09T00:00:00",
          "0010-01-09T00:00:00",
          "0010-01-09T00:00:00",
          "0010-02-03T00:00:00",
          "0010-02-16T00:00:00",
          "0010-02-09T00:00:00",
          "0010-05-12T00:00:00",
          "0010-05-09T00:00:00",
          "0010-06-01T00:00:00",
          "0010-06-04T00:00:00",
          "0010-06-09T00:00:00",
          "0010-12-10T00:00:00",
          "0010-12-10T00:00:00",
          "0010-12-16T00:00:00",
          "0001-01-31T00:00:00",
          "0001-01-09T00:00:00",
          "0001-02-09T00:00:00",
          "0001-03-09T00:00:00",
          "0001-04-16T00:00:00",
          "0001-05-17T00:00:00",
          "0001-07-09T00:00:00",
          "0001-08-05T00:00:00",
          "0001-07-07T00:00:00",
          "0001-07-09T00:00:00",
          "0001-08-09T00:00:00",
          "0001-09-09T00:00:00",
          "0001-01-09T00:00:00",
          "0001-12-09T00:00:00",
          "0001-12-09T00:00:00",
          "0002-01-09T00:00:00",
          "0002-01-09T00:00:00",
          "0002-02-09T00:00:00",
          "0002-02-09T00:00:00",
          "0002-02-09T00:00:00",
          "0002-04-02T00:00:00",
          "0002-04-09T00:00:00",
          "0002-05-08T00:00:00",
          "0002-05-10T00:00:00",
          "0002-05-12T00:00:00",
          "0002-05-22T00:00:00",
          "0002-07-09T00:00:00",
          "0002-07-09T00:00:00",
          "0002-07-09T00:00:00",
          "0002-08-09T00:00:00",
          "0002-09-09T00:00:00",
          "0002-10-09T00:00:00",
          "0002-10-09T00:00:00",
          "0002-11-09T00:00:00",
          "0002-11-09T00:00:00",
          "0003-01-09T00:00:00",
          "0003-01-09T00:00:00",
          "0003-01-09T00:00:00",
          "0003-03-09T00:00:00",
          "0003-03-26T00:00:00",
          "0003-03-09T00:00:00",
          "0003-04-18T00:00:00",
          "0003-04-09T00:00:00",
          "0003-05-22T00:00:00",
          "0003-06-20T00:00:00",
          "0003-07-01T00:00:00",
          "0003-07-09T00:00:00",
          "0003-08-14T00:00:00",
          "0003-08-09T00:00:00",
          "0003-11-01T00:00:00",
          "0003-11-06T00:00:00",
          "0003-11-09T00:00:00",
          "0003-11-09T00:00:00",
          "0003-12-09T00:00:00",
          "0003-12-09T00:00:00",
          "0003-12-09T00:00:00",
          "0004-01-29T00:00:00",
          "0004-02-09T00:00:00",
          "0004-03-05T00:00:00",
          "0004-03-07T00:00:00",
          "0004-03-09T00:00:00",
          "0004-05-17T00:00:00",
          "0004-07-03T00:00:00",
          "0004-07-15T00:00:00",
          "0004-07-12T00:00:00",
          "0004-01-09T00:00:00",
          "0004-07-22T00:00:00",
          "0004-08-01T00:00:00",
          "0004-09-09T00:00:00",
          "0004-09-09T00:00:00",
          "0004-10-26T00:00:00",
          "0004-11-09T00:00:00",
          "0004-11-30T00:00:00",
          "0004-12-10T00:00:00",
          "0005-01-01T00:00:00",
          "0005-01-11T00:00:00",
          "0005-02-05T00:00:00",
          "0005-02-13T00:00:00",
          "0005-02-13T00:00:00",
          "0005-02-13T00:00:00",
          "0005-02-16T00:00:00",
          "0005-03-25T00:00:00",
          "0005-04-01T00:00:00",
          "0005-05-12T00:00:00",
          "0005-05-20T00:00:00",
          "0005-05-25T00:00:00",
          "0005-06-01T00:00:00",
          "0005-06-01T00:00:00",
          "0005-06-01T00:00:00",
          "0005-06-18T00:00:00",
          "0005-06-09T00:00:00",
          "0005-07-16T00:00:00",
          "0005-07-20T00:00:00",
          "0005-08-14T00:00:00",
          "0005-08-21T00:00:00",
          "0005-08-21T00:00:00",
          "0005-08-28T00:00:00",
          "0005-08-29T00:00:00",
          "0005-09-09T00:00:00",
          "0005-09-11T00:00:00",
          "0005-09-11T00:00:00",
          "0005-09-11T00:00:00",
          "0005-09-09T00:00:00",
          "0005-10-30T00:00:00",
          "0005-12-02T00:00:00",
          "0006-01-24T00:00:00",
          "0006-01-07T00:00:00",
          "0006-03-09T00:00:00",
          "0006-03-09T00:00:00",
          "0006-04-21T00:00:00",
          "0006-05-23T00:00:00"
         ],
         "customdata": [
          [
           "Susan Europe with MHS group & others",
           "1985 May 27- 1985 Jun 26",
           "Susan Europe with MHS group & others",
           "1990-01-01T00:00:00"
          ],
          [
           "Maria Kummer gone home",
           "1985 Jun 8",
           "Maria Kummer gone home",
           "1990-01-01T00:00:00"
          ],
          [
           "Family trip to Sandpoint Uncle Lynn",
           "1985 Jul 15",
           "Family trip to Sandpoint Uncle Lynn",
           "1990-01-01T00:00:00"
          ],
          [
           "David & Mom went to Philippines",
           "1985 August",
           "David & Mom went to Philippines",
           "1990-01-01T00:00:00"
          ],
          [
           "Donna Program Chairman Read & Share Book Club",
           "1985 Sept-1985 May",
           "Donna Program Chairman Read & Share Book Club",
           "1990-01-01T00:00:00"
          ],
          [
           "Kimberly made Naturalized Citizen of United States",
           "1985 Dec 2",
           "Kimberly made Naturalized Citizen of United States",
           "1990-01-01T00:00:00"
          ],
          [
           "Parker Steven born Provo, Utah",
           "1986 Feb 2",
           "Parker Steven born Provo, Utah",
           "1990-01-01T00:00:00"
          ],
          [
           "Parker blessed by Steven in Provo 47th Ward,\tProvo Stake",
           "1986 Mar 2",
           "Parker blessed by Steven in Provo 47th Ward,\tProvo...",
           "1990-01-01T00:00:00"
          ],
          [
           "Donna’s Dad, Marc Burrows died",
           "1986 Apr 6",
           "Donna’s Dad, Marc Burrows died",
           "1990-01-01T00:00:00"
          ],
          [
           "David graduated BYU Bachelor Degree",
           "1986 Apr 18",
           "David graduated BYU Bachelor Degree",
           "1990-01-01T00:00:00"
          ],
          [
           "Donna released Activities Committee Cultural Arts Chairman 11th Ward",
           "1986 Apr 20",
           "Donna released Activities Committee Cultural Arts ...",
           "1990-01-01T00:00:00"
          ],
          [
           "Donna Public Communications Director Rexburg 11th Ward",
           "1986 Apr 20",
           "Donna Public Communications Director Rexburg 11th ...",
           "1990-01-01T00:00:00"
          ],
          [
           "Donna Mothers Education Teacher Relief Society Rexburg 11th",
           "1986 Apr 20",
           "Donna Mothers Education Teacher Relief Society Rex...",
           "1990-01-01T00:00:00"
          ],
          [
           "Susan Young Adults Committee Rexburg Center Stake",
           "1986 Apr",
           "Susan Young Adults Committee Rexburg Center Stake",
           "1990-01-01T00:00:00"
          ],
          [
           "Kim & Amy MHS \"King and I\"",
           "1986 Apr 16-1986 Apr 20",
           "Kim & Amy MHS \"King and I\"",
           "1990-01-01T00:00:00"
          ],
          [
           "Donna released Mothers Education Teacher RS Rexburg 11th Ward",
           "1986 May 18",
           "Donna released Mothers Education Teacher RS Rexbur...",
           "1990-01-01T00:00:00"
          ],
          [
           "Donna RS Stake Board Woman’s Advisor to Single Adults",
           "1986 May 18",
           "Donna RS Stake Board Woman’s Advisor to Single Adu...",
           "1990-01-01T00:00:00"
          ],
          [
           "Donna helped start MHS Fine Arts Boosters",
           "1986 May",
           "Donna helped start MHS Fine Arts Boosters",
           "1990-01-01T00:00:00"
          ],
          [
           "Susan Arizona Dance Bill Hardy",
           "1986 May",
           "Susan Arizona Dance Bill Hardy",
           "1990-01-01T00:00:00"
          ],
          [
           "Susan Seminary Graduation",
           "1986 May 28",
           "Susan Seminary Graduation",
           "1990-01-01T00:00:00"
          ],
          [
           "Susan Madison High School Graduation",
           "1986 Jun 4",
           "Susan Madison High School Graduation",
           "1990-01-01T00:00:00"
          ],
          [
           "McKelle D born to David Wow& Jenelle Marietta, Georgia",
           "1986 Jun 10",
           "McKelle D born to David Wow& Jenelle Marietta, Geo...",
           "1990-01-01T00:00:00"
          ],
          [
           "Family in Regional Dance Festival",
           "1986 Jun 27-1986 Jun 28",
           "Family in Regional Dance Festival",
           "1990-01-01T00:00:00"
          ],
          [
           "Family Trip Marietta, Georgia to see David",
           "1986 Jul 29 - 1986 Aug 4",
           "Family Trip Marietta, Georgia to see David",
           "1990-01-01T00:00:00"
          ],
          [
           "McKelle blessed by David, Marietta Ward, Marietta, Georgia Stake",
           "1986 Aug 3",
           "McKelle blessed by David, Marietta Ward, Marietta,...",
           "1990-01-01T00:00:00"
          ],
          [
           "1st International Dance Festival in Rexburg Polish people stayed here two weeks/ Host liaison for Chamber of Commerce",
           "1986 Aug",
           "1st International Dance Festival in Rexburg Polish...",
           "1990-01-01T00:00:00"
          ],
          [
           "Donna released Woman’s Singles Advisor Relief Society Stake Board dissolved",
           "1986 Dec",
           "Donna released Woman’s Singles Advisor Relief Soci...",
           "1990-01-01T00:00:00"
          ],
          [
           "David last nose operation Emery University, Atlanta, Georgia",
           "1986 Dec 29",
           "David last nose operation Emery University, Atlant...",
           "1990-01-01T00:00:00"
          ],
          [
           "Kim’s braces off",
           "1987 Jan 7",
           "Kim’s braces off",
           "1990-01-01T00:00:00"
          ],
          [
           "Dee & Donna’s 30th Anniversary party",
           "1987 Feb 8",
           "Dee & Donna’s 30th Anniversary party",
           "1990-01-01T00:00:00"
          ],
          [
           "Blair started Heaven’s Best Carpet Cleaning in Nebraska",
           "1987 Jun 22",
           "Blair started Heaven’s Best Carpet Cleaning in Neb...",
           "1990-01-01T00:00:00"
          ],
          [
           "Steven graduated BYU Bachelor Degree in Business",
           "1987 Jun 15",
           "Steven graduated BYU Bachelor Degree in Business",
           "1990-01-01T00:00:00"
          ],
          [
           "Hill Cumorah Pageant 50th Family & Grandma Burrows--trip to Washington & South to David’s",
           "1987 July-1987 August",
           "Hill Cumorah Pageant 50th Family & Grandma Burrows...",
           "1990-01-01T00:00:00"
          ],
          [
           "Donna President of Read & Share Book Club",
           "1987 Aug-1987 May",
           "Donna President of Read & Share Book Club",
           "1990-01-01T00:00:00"
          ],
          [
           "Donna room mother Mrs. Barrett Amy 5th Grade",
           "1987 Aug-1987 May",
           "Donna room mother Mrs. Barrett Amy 5th Grade",
           "1990-01-01T00:00:00"
          ],
          [
           "Remodeled House took out sliding doors, blue carpet in",
           "1987 Nov-1987 Dec",
           "Remodeled House took out sliding doors, blue carpe...",
           "1990-01-01T00:00:00"
          ],
          [
           "Kimberly graduated Primary",
           "1987 Nov 15",
           "Kimberly graduated Primary",
           "1990-01-01T00:00:00"
          ],
          [
           "Family trip to Memphis to see Steve & Deidra",
           "1987 Nov 26",
           "Family trip to Memphis to see Steve & Deidra",
           "1990-01-01T00:00:00"
          ],
          [
           "Trains Dee’s new hobby",
           "1987",
           "Trains Dee’s new hobby",
           "1990-01-01T00:00:00"
          ],
          [
           "Donna Relief Society Family Education Teacher Rexburg 11th Ward",
           "1987 Dec 20",
           "Donna Relief Society Family Education Teacher Rexb...",
           "1990-01-01T00:00:00"
          ],
          [
           "Blair’s family in wreck coming home for Xmas from Nebraska",
           "1987 Dec 25",
           "Blair’s family in wreck coming home for Xmas from ...",
           "1990-01-01T00:00:00"
          ],
          [
           "Dee Board of Directors Chamber of Commerce",
           "1988 Jan",
           "Dee Board of Directors Chamber of Commerce",
           "1990-01-01T00:00:00"
          ],
          [
           "Dee Board of Directors Upper Valley Industries",
           "1988",
           "Dee Board of Directors Upper Valley Industries",
           "1990-01-01T00:00:00"
          ],
          [
           "David’s family moved to West Palm Beach, Florida selling World-Class Real Estate",
           "1988",
           "David’s family moved to West Palm Beach, Florida s...",
           "1990-01-01T00:00:00"
          ],
          [
           "Jan-Feb\tKim Gymnastics Team MJHS",
           "1988",
           "Jan-Feb\tKim Gymnastics Team MJHS",
           "1990-01-01T00:00:00"
          ],
          [
           "Dee & Donna Florida to visit David & Jenelle",
           "1988 Feb",
           "Dee & Donna Florida to visit David & Jenelle",
           "1990-01-01T00:00:00"
          ],
          [
           "Lyndee Trishell born in Memphis, Tennesee",
           "1988 Mar 4",
           "Lyndee Trishell born in Memphis, Tennesee",
           "1990-01-01T00:00:00"
          ],
          [
           "Kim Secretary Beehives",
           "1988 Mar",
           "Kim Secretary Beehives",
           "1990-01-01T00:00:00"
          ],
          [
           "Donna released RS Family Education Teacher Rexburg 11th Ward",
           "1988 Mar 14",
           "Donna released RS Family Education Teacher Rexburg...",
           "1990-01-01T00:00:00"
          ],
          [
           "Donna RS 2nd Counselor (Homemaking) Rexburg 11th Ward",
           "1988 Mar 14",
           "Donna RS 2nd Counselor (Homemaking) Rexburg 11th W...",
           "1990-01-01T00:00:00"
          ],
          [
           "Dee & Donna Memphis, Tennessee to see Steve",
           "1988 Apr 29-1988 May 2",
           "Dee & Donna Memphis, Tennessee to see Steve",
           "1990-01-01T00:00:00"
          ],
          [
           "Lyndee Trishell blessed by Steve, Bartlett Ward, Memphis Stake, Tennessee",
           "1988 May 1",
           "Lyndee Trishell blessed by Steve, Bartlett Ward, M...",
           "1990-01-01T00:00:00"
          ],
          [
           "Susan engaged Monty Hardy",
           "1988 May 24",
           "Susan engaged Monty Hardy",
           "1990-01-01T00:00:00"
          ],
          [
           "Kim President Beehives YW Rexburg 11th Ward",
           "1988",
           "Kim President Beehives YW Rexburg 11th Ward",
           "1990-01-01T00:00:00"
          ],
          [
           "Susan endowed Idaho Falls Temple",
           "1988 Jul 20",
           "Susan endowed Idaho Falls Temple",
           "1990-01-01T00:00:00"
          ],
          [
           "Susan married Monty Hardy in Idaho Falls Temple",
           "1988 Jul 20",
           "Susan married Monty Hardy in Idaho Falls Temple",
           "1990-01-01T00:00:00"
          ],
          [
           "David 1st Counselor Stake YM Pres West Palm Beach Stake Florida",
           "1988 Aug 21",
           "David 1st Counselor Stake YM Pres West Palm Beach ...",
           "1990-01-01T00:00:00"
          ],
          [
           "Kim Jr. MADS Dance Team",
           "1988 Sept-1988 May",
           "Kim Jr. MADS Dance Team",
           "1990-01-01T00:00:00"
          ],
          [
           "Donna Costume Mistress Cantabile",
           "1988 Sept",
           "Donna Costume Mistress Cantabile",
           "1990-01-01T00:00:00"
          ],
          [
           "Amy graduated Primary",
           "1988 Oct 11",
           "Amy graduated Primary",
           "1990-01-01T00:00:00"
          ],
          [
           "David High Councilman West Palm Beach Stake, Florida",
           "1988 Oct 13",
           "David High Councilman West Palm Beach Stake, Flori...",
           "1990-01-01T00:00:00"
          ],
          [
           "David ordained High Priest by Roderick D. Davies",
           "1988 Oct 13",
           "David ordained High Priest by Roderick D. Davies",
           "1990-01-01T00:00:00"
          ],
          [
           "Amy’s braces on 1st time",
           "1988 Nov 22",
           "Amy’s braces on 1st time",
           "1990-01-01T00:00:00"
          ],
          [
           "Family Thanksgiving at Blair’s North Platte, Nebraska",
           "1988 Nov",
           "Family Thanksgiving at Blair’s North Platte, Nebra...",
           "1990-01-01T00:00:00"
          ],
          [
           "Dee Board of Directors Ricks College Viking Booster Club",
           "1989",
           "Dee Board of Directors Ricks College Viking Booste...",
           "1990-01-01T00:00:00"
          ],
          [
           "Kim Gymnastics Team MJHS",
           "1989 Jan-1989 Feb",
           "Kim Gymnastics Team MJHS",
           "1990-01-01T00:00:00"
          ],
          [
           "-51* at Rexburg lowest ever",
           "1989 Feb 3",
           "-51* at Rexburg lowest ever",
           "1990-01-01T00:00:00"
          ],
          [
           "Family Trip to Florida. David & Disney World",
           "1989 Feb 16",
           "Family Trip to Florida. David & Disney World",
           "1990-01-01T00:00:00"
          ],
          [
           "Kim President Beehives Rexburg 11th Ward",
           "1989 Feb",
           "Kim President Beehives Rexburg 11th Ward",
           "1990-01-01T00:00:00"
          ],
          [
           "Paul Steven born in North Platte, Nebraska",
           "1989 May 12",
           "Paul Steven born in North Platte, Nebraska",
           "1990-01-01T00:00:00"
          ],
          [
           "Steven & Deidra move to Las Vegas, Nevada",
           "1989 May",
           "Steven & Deidra move to Las Vegas, Nevada",
           "1990-01-01T00:00:00"
          ],
          [
           "Family trip to North Platte Nebraska",
           "1989 Jun 1",
           "Family trip to North Platte Nebraska",
           "1990-01-01T00:00:00"
          ],
          [
           "Paul blessed by Blair North Platte Branch, Missouri, Independence Mission Nebraska",
           "1989 Jun 4",
           "Paul blessed by Blair North Platte Branch, Missour...",
           "1990-01-01T00:00:00"
          ],
          [
           "Steven Assistant Recorder in Las Vegas Temple",
           "1989 Jun",
           "Steven Assistant Recorder in Las Vegas Temple",
           "1990-01-01T00:00:00"
          ],
          [
           "Kimberly released President Beehive YW",
           "1989 Dec 10",
           "Kimberly released President Beehive YW",
           "1990-01-01T00:00:00"
          ],
          [
           "Amy President Beehives YW Rexburg 11th Ward",
           "1989 Dec 10",
           "Amy President Beehives YW Rexburg 11th Ward",
           "1990-01-01T00:00:00"
          ],
          [
           "Dee & Donna to Temple dedication Las Vegas",
           "1989 Dec 16",
           "Dee & Donna to Temple dedication Las Vegas",
           "1990-01-01T00:00:00"
          ],
          [
           "Dee President of the Bark Plant",
           "1990 Jan 31",
           "Dee President of the Bark Plant",
           "1990-01-01T00:00:00"
          ],
          [
           "Idaho Centennial Year",
           "1990",
           "Idaho Centennial Year",
           "1990-01-01T00:00:00"
          ],
          [
           "Caribbean Cruise Thueson brothers",
           "1990 Feb",
           "Caribbean Cruise Thueson brothers",
           "1990-01-01T00:00:00"
          ],
          [
           "Kimberly Secretary MIA MAIDS Rexburg 11th Ward",
           "1990 Mar",
           "Kimberly Secretary MIA MAIDS Rexburg 11th Ward",
           "1990-01-01T00:00:00"
          ],
          [
           "Katelan J born in Loxahatchee, Florida",
           "1990 Apr 16",
           "Katelan J born in Loxahatchee, Florida",
           "1990-01-01T00:00:00"
          ],
          [
           "Blake Fullmer born in Las Vegas, Nevada",
           "1990 May 17",
           "Blake Fullmer born in Las Vegas, Nevada",
           "1990-01-01T00:00:00"
          ],
          [
           "1\tKatelan J blessed in Forest Hill Ward, West Palm Beach Stake, Florida by David (actually at Thueson Camp)",
           "1990 Jul",
           "1\tKatelan J blessed in Forest Hill Ward, West Palm...",
           "1990-01-01T00:00:00"
          ],
          [
           "Blake blessed Las Vegas 36th Ward, Las Vegas Stake by Steven",
           "1990 Aug 5",
           "Blake blessed Las Vegas 36th Ward, Las Vegas Stake...",
           "1990-01-01T00:00:00"
          ],
          [
           "Matthew baptized Rexburg 7th Ward by Blair",
           "1990 Jul 7",
           "Matthew baptized Rexburg 7th Ward by Blair",
           "1990-01-01T00:00:00"
          ],
          [
           "Dee builds LGB trains outside",
           "1990 Jul",
           "Dee builds LGB trains outside",
           "1990-01-01T00:00:00"
          ],
          [
           "Dee & Donna Europe trip Austria, Germany, Switzerland w/Gary Archibald",
           "1990 Aug-1990 Sept",
           "Dee & Donna Europe trip Austria, Germany, Switzerl...",
           "1990-01-01T00:00:00"
          ],
          [
           "Kim Freshman Cheerleader MHS",
           "1990 Sept-1990 May",
           "Kim Freshman Cheerleader MHS",
           "1990-01-01T00:00:00"
          ],
          [
           "Nov\t\tKim 2nd Counselor MIA Maids YW Rexburg 11th Ward",
           "1990",
           "Nov\t\tKim 2nd Counselor MIA Maids YW Rexburg 11th W...",
           "1990-01-01T00:00:00"
          ],
          [
           "Dee released Bishop 11th Ward",
           "1990 Dec",
           "Dee released Bishop 11th Ward",
           "1990-01-01T00:00:00"
          ],
          [
           "Family trip to Las Vegas for Christmas",
           "1990 Dec",
           "Family trip to Las Vegas for Christmas",
           "1990-01-01T00:00:00"
          ],
          [
           "Dee 2nd Counselor Rexburg Center Stake Mission Presidency",
           "1991 Jan",
           "Dee 2nd Counselor Rexburg Center Stake Mission Pre...",
           "1990-01-01T00:00:00"
          ],
          [
           "Dee Ward Mission Leader Rexburg 11th Ward",
           "1991",
           "Dee Ward Mission Leader Rexburg 11th Ward",
           "1990-01-01T00:00:00"
          ],
          [
           "Kim released 2nd Counselor called President MIA Maids 11th Ward",
           "1991 Feb",
           "Kim released 2nd Counselor called President MIA Ma...",
           "1990-01-01T00:00:00"
          ],
          [
           "Donna released Relief Society 2nd Counselor Rexburg 11th Ward",
           "1991 Feb",
           "Donna released Relief Society 2nd Counselor Rexbur...",
           "1990-01-01T00:00:00"
          ],
          [
           "Donna Primary Chorister Rexburg 11th Ward",
           "1991 Feb",
           "Donna Primary Chorister Rexburg 11th Ward",
           "1990-01-01T00:00:00"
          ],
          [
           "Bethany Blaire Hardy born Mesa, Arizona",
           "1991 Apr 2",
           "Bethany Blaire Hardy born Mesa, Arizona",
           "1990-01-01T00:00:00"
          ],
          [
           "David & family moved back to Rexburg",
           "1991 Apr",
           "David & family moved back to Rexburg",
           "1990-01-01T00:00:00"
          ],
          [
           "Family trip to Arizona",
           "1991 May 8",
           "Family trip to Arizona",
           "1990-01-01T00:00:00"
          ],
          [
           "Monty graduated Arizona State University",
           "1991 May 10",
           "Monty graduated Arizona State University",
           "1990-01-01T00:00:00"
          ],
          [
           "Bethany blessed Mother’s Day by Monty Alma 3rd Ward, Mesa, Arizona",
           "1991 May 12",
           "Bethany blessed Mother’s Day by Monty Alma 3rd War...",
           "1990-01-01T00:00:00"
          ],
          [
           "Amy’s braces off 1st time",
           "1991 May 22",
           "Amy’s braces off 1st time",
           "1990-01-01T00:00:00"
          ],
          [
           "Heavens Best Convention Kansas",
           "1991 Jul",
           "Heavens Best Convention Kansas",
           "1990-01-01T00:00:00"
          ],
          [
           "Family trip to Blair’s North Platte",
           "1991 Jul",
           "Family trip to Blair’s North Platte",
           "1990-01-01T00:00:00"
          ],
          [
           "Donna Choir Director Rexburg 11th Ward",
           "1991 Jul",
           "Donna Choir Director Rexburg 11th Ward",
           "1990-01-01T00:00:00"
          ],
          [
           "Blair Elders Quorum President Nebraska",
           "1991 Aug",
           "Blair Elders Quorum President Nebraska",
           "1990-01-01T00:00:00"
          ],
          [
           "Kim JV Cheerleader MHS",
           "1991 Sep-1991 May",
           "Kim JV Cheerleader MHS",
           "1990-01-01T00:00:00"
          ],
          [
           "Donna released Primary Chorister Rexburg 11th Ward",
           "1991 Oct",
           "Donna released Primary Chorister Rexburg 11th Ward",
           "1990-01-01T00:00:00"
          ],
          [
           "Donna Rexburg Center Stake Missionary",
           "1991 Oct",
           "Donna Rexburg Center Stake Missionary",
           "1990-01-01T00:00:00"
          ],
          [
           "Kim released MIA Maids",
           "1991 Nov",
           "Kim released MIA Maids",
           "1990-01-01T00:00:00"
          ],
          [
           "Amy President MIA Maids YW Rexburg 11th Ward",
           "1991 Nov",
           "Amy President MIA Maids YW Rexburg 11th Ward",
           "1990-01-01T00:00:00"
          ],
          [
           "Mom knee scope operation",
           "1992 Jan",
           "Mom knee scope operation",
           "1990-01-01T00:00:00"
          ],
          [
           "Kimberly Secretary Laurels YW Rexburg 11th Ward",
           "1992 Jan",
           "Kimberly Secretary Laurels YW Rexburg 11th Ward",
           "1990-01-01T00:00:00"
          ],
          [
           "Dee retired Rexburg Chamber of Commerce Director",
           "1992 Jan",
           "Dee retired Rexburg Chamber of Commerce Director",
           "1990-01-01T00:00:00"
          ],
          [
           "Dee inducted into Rotary Club",
           "1992 Mar",
           "Dee inducted into Rotary Club",
           "1990-01-01T00:00:00"
          ],
          [
           "Amy Musettes 2nd place Jackson Music Festival",
           "1992 Mar 26",
           "Amy Musettes 2nd place Jackson Music Festival",
           "1990-01-01T00:00:00"
          ],
          [
           "Kim Varsity Cheerleader for 1992-93",
           "1992 Mar",
           "Kim Varsity Cheerleader for 1992-93",
           "1990-01-01T00:00:00"
          ],
          [
           "KC baptized North Platte Ward, Kearney Stake by Blair",
           "1992 Apr 18",
           "KC baptized North Platte Ward, Kearney Stake by Bl...",
           "1990-01-01T00:00:00"
          ],
          [
           "Family trip to KC’s baptism in North Platte",
           "1992 Apr",
           "Family trip to KC’s baptism in North Platte",
           "1990-01-01T00:00:00"
          ],
          [
           "Monty graduated Thunderbird College with Masters",
           "1992 May 22",
           "Monty graduated Thunderbird College with Masters",
           "1990-01-01T00:00:00"
          ],
          [
           "Maria Kummer married Mike Sato",
           "1992 Jun 20",
           "Maria Kummer married Mike Sato",
           "1990-01-01T00:00:00"
          ],
          [
           "Lacey baptized by David LaBelle 3rd Ward, East Rigby Stake",
           "1992 Jul 1",
           "Lacey baptized by David LaBelle 3rd Ward, East Rig...",
           "1990-01-01T00:00:00"
          ],
          [
           "Amy in \"King and I\" at Ricks College",
           "1992 July",
           "Amy in \"King and I\" at Ricks College",
           "1990-01-01T00:00:00"
          ],
          [
           "Dee & Donna Chicago trip Bark Plant David",
           "1992 Aug 14",
           "Dee & Donna Chicago trip Bark Plant David",
           "1990-01-01T00:00:00"
          ],
          [
           "David Bishopric 2nd Counselor, Ricks College 6th Ward, Ricks College 1st Stake",
           "1992 Aug",
           "David Bishopric 2nd Counselor, Ricks College 6th W...",
           "1990-01-01T00:00:00"
          ],
          [
           "Amy Sunday School Chorister Rexburg 11th Ward",
           "1992 Nov 1",
           "Amy Sunday School Chorister Rexburg 11th Ward",
           "1990-01-01T00:00:00"
          ],
          [
           "Amy “Superior” District Drama Festival",
           "1992 Nov 6",
           "Amy “Superior” District Drama Festival",
           "1990-01-01T00:00:00"
          ],
          [
           "Amy MAPS Musical Review MHS",
           "1992 Nov",
           "Amy MAPS Musical Review MHS",
           "1990-01-01T00:00:00"
          ],
          [
           "Susan moved to Ogden, Utah",
           "1992 Nov",
           "Susan moved to Ogden, Utah",
           "1990-01-01T00:00:00"
          ],
          [
           "Camren Marc born in Las Vegas, Nevada",
           "1992 Dec 9",
           "Camren Marc born in Las Vegas, Nevada",
           "1990-01-01T00:00:00"
          ],
          [
           "Kimberly Laurels 1st Counselor Rexburg 11th Ward",
           "1992 Dec",
           "Kimberly Laurels 1st Counselor Rexburg 11th Ward",
           "1990-01-01T00:00:00"
          ],
          [
           "Amy Laurels Secretary Rexburg 11th Ward",
           "1992 Dec",
           "Amy Laurels Secretary Rexburg 11th Ward",
           "1990-01-01T00:00:00"
          ],
          [
           "Dee & Donna Cancun, Mexico Tire trip with Neils & Joe",
           "1993 Jan 29-1993 Feb 7",
           "Dee & Donna Cancun, Mexico Tire trip with Neils & ...",
           "1990-01-01T00:00:00"
          ],
          [
           "Kimberly Laurel President",
           "1993 Feb",
           "Kimberly Laurel President",
           "1990-01-01T00:00:00"
          ],
          [
           "Dee & Donna trip to Las Vegas",
           "1993 Mar 5",
           "Dee & Donna trip to Las Vegas",
           "1990-01-01T00:00:00"
          ],
          [
           "Camren Marc blessed by Steven in Las Vegas 5th Ward, Las Vegas Stake, Las Vegas, Nevada",
           "1993 Mar 7",
           "Camren Marc blessed by Steven in Las Vegas 5th War...",
           "1990-01-01T00:00:00"
          ],
          [
           "Amy in \"Brigadoon\" MHS",
           "1993 Mar",
           "Amy in \"Brigadoon\" MHS",
           "1990-01-01T00:00:00"
          ],
          [
           "Monty Jordan born in Washington Terrace, Utah",
           "1993 May 17",
           "Monty Jordan born in Washington Terrace, Utah",
           "1990-01-01T00:00:00"
          ],
          [
           "Monty Jordan Blessed at Thueson Camp, by Monty officially Washington Terrace 4th Ward, Washington Terrace Stake",
           "1993 Jul 3",
           "Monty Jordan Blessed at Thueson Camp, by Monty off...",
           "1990-01-01T00:00:00"
          ],
          [
           "Amy plays \"Minnie\" in \"Annie Get Your Gun\" at Ricks College",
           "1993 Jul 15-1993 Jul 24",
           "Amy plays \"Minnie\" in \"Annie Get Your Gun\" at Rick...",
           "1990-01-01T00:00:00"
          ],
          [
           "Kimberly chosen All-Star Cheerleader for Down Under Bowl  in New Zealand. Trip included Hawaii",
           "1993 Jul 12-1993 Jul 25",
           "Kimberly chosen All-Star Cheerleader for Down Unde...",
           "1990-01-01T00:00:00"
          ],
          [
           "Dee & Donna trip to Blair’s in Nebraska & Mt. Rushmore",
           "1993",
           "Dee & Donna trip to Blair’s in Nebraska & Mt. Rush...",
           "1990-01-01T00:00:00"
          ],
          [
           "David Tyler born Rexburg, Idaho",
           "1993 Jul 22",
           "David Tyler born Rexburg, Idaho",
           "1990-01-01T00:00:00"
          ],
          [
           "David Tyler blessed by David LaBelle 3rd Ward, East Rigby Stake, LaBelle, Idaho",
           "1993 Aug 1",
           "David Tyler blessed by David LaBelle 3rd Ward, Eas...",
           "1990-01-01T00:00:00"
          ],
          [
           "Kim MHS 1993-94 Varsity cheerleader",
           "1993 Sep",
           "Kim MHS 1993-94 Varsity cheerleader",
           "1990-01-01T00:00:00"
          ],
          [
           "Donna President-Elect Cantabile Singers",
           "1993 Sept-May 1994",
           "Donna President-Elect Cantabile Singers",
           "1990-01-01T00:00:00"
          ],
          [
           "Amy bridges done",
           "1993 Oct 26",
           "Amy bridges done",
           "1990-01-01T00:00:00"
          ],
          [
           "Amy Musical Revue MHS",
           "1993 Nov",
           "Amy Musical Revue MHS",
           "1990-01-01T00:00:00"
          ],
          [
           "FINAL SALE Bark Plant",
           "1993 Nov 30",
           "FINAL SALE Bark Plant",
           "1990-01-01T00:00:00"
          ],
          [
           "FAMILY CRUISE CARIBBEAN",
           "1993 Dec 10-1993 Dec 18",
           "FAMILY CRUISE CARIBBEAN",
           "1990-01-01T00:00:00"
          ],
          [
           "Started New House in Hibbard",
           "1994 Jan 1",
           "Started New House in Hibbard",
           "1990-01-01T00:00:00"
          ],
          [
           "Dee & Donna Temple Officiators IF Temple",
           "1994 Jan 11",
           "Dee & Donna Temple Officiators IF Temple",
           "1990-01-01T00:00:00"
          ],
          [
           "Parker Baptized & confirmed Morningsun Ward, Sunrise Stake Las Vegas",
           "1994 Feb 5",
           "Parker Baptized & confirmed Morningsun Ward, Sunri...",
           "1990-01-01T00:00:00"
          ],
          [
           "Kim released Laurel President Rexburg 11th Ward",
           "1994 Feb 13",
           "Kim released Laurel President Rexburg 11th Ward",
           "1990-01-01T00:00:00"
          ],
          [
           "Amy released Secretary Laurels Rexburg 11th Ward",
           "1994 Feb 13",
           "Amy released Secretary Laurels Rexburg 11th Ward",
           "1990-01-01T00:00:00"
          ],
          [
           "Amy set apart Laurel President Rexburg 11th Ward",
           "1994 Feb 13",
           "Amy set apart Laurel President Rexburg 11th Ward",
           "1990-01-01T00:00:00"
          ],
          [
           "Amy played \"Lena LaMont\" in \"Singing in the Rain\" at MHS",
           "1994 Feb 16-1994 Feb 19",
           "Amy played \"Lena LaMont\" in \"Singing in the Rain\" ...",
           "1990-01-01T00:00:00"
          ],
          [
           "Mom Ricks College Endowment Council for the Fine Arts",
           "1994 Mar 25",
           "Mom Ricks College Endowment Council for the Fine A...",
           "1990-01-01T00:00:00"
          ],
          [
           "Kim & Amy Washington History Tour with MHS",
           "1994 Apr 1-1994 Apr 11",
           "Kim & Amy Washington History Tour with MHS",
           "1990-01-01T00:00:00"
          ],
          [
           "Kim 2nd Place Gem State District Tennis Finals",
           "1994 May 12",
           "Kim 2nd Place Gem State District Tennis Finals",
           "1990-01-01T00:00:00"
          ],
          [
           "Kim State Tennis Tournament Sun Valley",
           "1994 May 20",
           "Kim State Tennis Tournament Sun Valley",
           "1990-01-01T00:00:00"
          ],
          [
           "Kimberly graduated Seminary Madison High School",
           "1994 May 25",
           "Kimberly graduated Seminary Madison High School",
           "1990-01-01T00:00:00"
          ],
          [
           "Kimberly graduated Madison High School as Salutatorian",
           "1994 Jun 1",
           "Kimberly graduated Madison High School as Salutato...",
           "1990-01-01T00:00:00"
          ],
          [
           "Ricks College fullride Scholarship",
           "1994 Jun 1",
           "Ricks College fullride Scholarship",
           "1990-01-01T00:00:00"
          ],
          [
           "BYU ½ ride Scholarship",
           "1994 Jun 1",
           "BYU ½ ride Scholarship",
           "1990-01-01T00:00:00"
          ],
          [
           "McKelle baptized & confirmed by David LaBelle 3rd Ward, East Rigby Stake",
           "1994 Jun 18",
           "McKelle baptized & confirmed by David LaBelle 3rd ...",
           "1990-01-01T00:00:00"
          ],
          [
           "Dee & Donna Released Rexburg Center Stake Missionaries",
           "1994 Jun",
           "Dee & Donna Released Rexburg Center Stake Missiona...",
           "1990-01-01T00:00:00"
          ],
          [
           "Moved in new house in Hibbard, Idaho",
           "1994 Jul 16",
           "Moved in new house in Hibbard, Idaho",
           "1990-01-01T00:00:00"
          ],
          [
           "Amy chorus Meet Me In St. Louis Ricks College",
           "1994 Jul 20-1994 Jul 28",
           "Amy chorus Meet Me In St. Louis Ricks College",
           "1990-01-01T00:00:00"
          ],
          [
           "Dee High Priest Teacher Hibbard 3rd Ward",
           "1994 Aug 14",
           "Dee High Priest Teacher Hibbard 3rd Ward",
           "1990-01-01T00:00:00"
          ],
          [
           "Donna SS course 14 teacher Hibbard 3rd Ward",
           "1994 Aug 21",
           "Donna SS course 14 teacher Hibbard 3rd Ward",
           "1990-01-01T00:00:00"
          ],
          [
           "Donna roadshow Director & writer Hibbard 3rd Ward",
           "1994 Aug 21",
           "Donna roadshow Director & writer Hibbard 3rd Ward",
           "1990-01-01T00:00:00"
          ],
          [
           "Kim Ricks College",
           "1994 Aug 28",
           "Kim Ricks College",
           "1990-01-01T00:00:00"
          ],
          [
           "Dee loader tire blew up & cracked three vertebrae in his neck.",
           "1994 Aug 29",
           "Dee loader tire blew up & cracked three vertebrae ...",
           "1990-01-01T00:00:00"
          ],
          [
           "Dee & Donna to Las Vegas",
           "1994 Sep 9",
           "Dee & Donna to Las Vegas",
           "1990-01-01T00:00:00"
          ],
          [
           "Amy Laurels 1st Counselor Hibbard 3rd Ward",
           "1994 Sep 11",
           "Amy Laurels 1st Counselor Hibbard 3rd Ward",
           "1990-01-01T00:00:00"
          ],
          [
           "Steven ordained High Priest by Dee, Morningsun Ward, Sunrise Stake, Las Vegas",
           "1994 Sep 11",
           "Steven ordained High Priest by Dee, Morningsun War...",
           "1990-01-01T00:00:00"
          ],
          [
           "Steven 2nd Counselor Bishopric Morningsun Ward, Sunrise Stake, Las Vegas",
           "1994 Sep 11",
           "Steven 2nd Counselor Bishopric Morningsun Ward, Su...",
           "1990-01-01T00:00:00"
          ],
          [
           "Donna President Cantabile Singers",
           "1994 Sep-May 1995",
           "Donna President Cantabile Singers",
           "1990-01-01T00:00:00"
          ],
          [
           "Donna RS Pianist Hibbard 3rd Ward",
           "1994 Oct 30",
           "Donna RS Pianist Hibbard 3rd Ward",
           "1990-01-01T00:00:00"
          ],
          [
           "Amy State Drama Competition for MHS",
           "1994 Dec 2",
           "Amy State Drama Competition for MHS",
           "1990-01-01T00:00:00"
          ],
          [
           "Dee Stake Missionary North Rexburg Stake",
           "1995 Jan 24",
           "Dee Stake Missionary North Rexburg Stake",
           "1990-01-01T00:00:00"
          ],
          [
           "Hannah Nicole born in Chicago, Illinois",
           "1995 Jan 7",
           "Hannah Nicole born in Chicago, Illinois",
           "1990-01-01T00:00:00"
          ],
          [
           "Family trip to Las Vegas",
           "1995 Mar",
           "Family trip to Las Vegas",
           "1990-01-01T00:00:00"
          ],
          [
           "Amy Alice in 7 Brides for 7 Brothers MHS",
           "1995 Mar",
           "Amy Alice in 7 Brides for 7 Brothers MHS",
           "1990-01-01T00:00:00"
          ],
          [
           "Blair & Carlene picked up Hannah Nicole",
           "1995 Apr 21",
           "Blair & Carlene picked up Hannah Nicole",
           "1990-01-01T00:00:00"
          ],
          [
           "Amy graduated Seminary Madison High School",
           "1995 May 23",
           "Amy graduated Seminary Madison High School",
           "1990-01-01T00:00:00"
          ]
         ],
         "hoverinfo": "skip",
         "hovertemplate": "<b>%{hovertext}</b><br><br>When=%{customdata[1]}<extra></extra>",
         "hovertext": [
          "Susan Europe with MHS group & others",
          "Maria Kummer gone home",
          "Family trip to Sandpoint Uncle Lynn",
          "David & Mom went to Philippines",
          "Donna Program Chairman Read & Share Book Club",
          "Kimberly made Naturalized Citizen of United States",
          "Parker Steven born Provo, Utah",
          "Parker blessed by Steven in Provo 47th Ward,\tProvo Stake",
          "Donna’s Dad, Marc Burrows died",
          "David graduated BYU Bachelor Degree",
          "Donna released Activities Committee Cultural Arts Chairman 11th Ward",
          "Donna Public Communications Director Rexburg 11th Ward",
          "Donna Mothers Education Teacher Relief Society Rexburg 11th",
          "Susan Young Adults Committee Rexburg Center Stake",
          "Kim & Amy MHS \"King and I\"",
          "Donna released Mothers Education Teacher RS Rexburg 11th Ward",
          "Donna RS Stake Board Woman’s Advisor to Single Adults",
          "Donna helped start MHS Fine Arts Boosters",
          "Susan Arizona Dance Bill Hardy",
          "Susan Seminary Graduation",
          "Susan Madison High School Graduation",
          "McKelle D born to David Wow& Jenelle Marietta, Georgia",
          "Family in Regional Dance Festival",
          "Family Trip Marietta, Georgia to see David",
          "McKelle blessed by David, Marietta Ward, Marietta, Georgia Stake",
          "1st International Dance Festival in Rexburg Polish people stayed here two weeks/ Host liaison for Chamber of Commerce",
          "Donna released Woman’s Singles Advisor Relief Society Stake Board dissolved",
          "David last nose operation Emery University, Atlanta, Georgia",
          "Kim’s braces off",
          "Dee & Donna’s 30th Anniversary party",
          "Blair started Heaven’s Best Carpet Cleaning in Nebraska",
          "Steven graduated BYU Bachelor Degree in Business",
          "Hill Cumorah Pageant 50th Family & Grandma Burrows--trip to Washington & South to David’s",
          "Donna President of Read & Share Book Club",
          "Donna room mother Mrs. Barrett Amy 5th Grade",
          "Remodeled House took out sliding doors, blue carpet in",
          "Kimberly graduated Primary",
          "Family trip to Memphis to see Steve & Deidra",
          "Trains Dee’s new hobby",
          "Donna Relief Society Family Education Teacher Rexburg 11th Ward",
          "Blair’s family in wreck coming home for Xmas from Nebraska",
          "Dee Board of Directors Chamber of Commerce",
          "Dee Board of Directors Upper Valley Industries",
          "David’s family moved to West Palm Beach, Florida selling World-Class Real Estate",
          "Jan-Feb\tKim Gymnastics Team MJHS",
          "Dee & Donna Florida to visit David & Jenelle",
          "Lyndee Trishell born in Memphis, Tennesee",
          "Kim Secretary Beehives",
          "Donna released RS Family Education Teacher Rexburg 11th Ward",
          "Donna RS 2nd Counselor (Homemaking) Rexburg 11th Ward",
          "Dee & Donna Memphis, Tennessee to see Steve",
          "Lyndee Trishell blessed by Steve, Bartlett Ward, Memphis Stake, Tennessee",
          "Susan engaged Monty Hardy",
          "Kim President Beehives YW Rexburg 11th Ward",
          "Susan endowed Idaho Falls Temple",
          "Susan married Monty Hardy in Idaho Falls Temple",
          "David 1st Counselor Stake YM Pres West Palm Beach Stake Florida",
          "Kim Jr. MADS Dance Team",
          "Donna Costume Mistress Cantabile",
          "Amy graduated Primary",
          "David High Councilman West Palm Beach Stake, Florida",
          "David ordained High Priest by Roderick D. Davies",
          "Amy’s braces on 1st time",
          "Family Thanksgiving at Blair’s North Platte, Nebraska",
          "Dee Board of Directors Ricks College Viking Booster Club",
          "Kim Gymnastics Team MJHS",
          "-51* at Rexburg lowest ever",
          "Family Trip to Florida. David & Disney World",
          "Kim President Beehives Rexburg 11th Ward",
          "Paul Steven born in North Platte, Nebraska",
          "Steven & Deidra move to Las Vegas, Nevada",
          "Family trip to North Platte Nebraska",
          "Paul blessed by Blair North Platte Branch, Missouri, Independence Mission Nebraska",
          "Steven Assistant Recorder in Las Vegas Temple",
          "Kimberly released President Beehive YW",
          "Amy President Beehives YW Rexburg 11th Ward",
          "Dee & Donna to Temple dedication Las Vegas",
          "Dee President of the Bark Plant",
          "Idaho Centennial Year",
          "Caribbean Cruise Thueson brothers",
          "Kimberly Secretary MIA MAIDS Rexburg 11th Ward",
          "Katelan J born in Loxahatchee, Florida",
          "Blake Fullmer born in Las Vegas, Nevada",
          "1\tKatelan J blessed in Forest Hill Ward, West Palm Beach Stake, Florida by David (actually at Thueson Camp)",
          "Blake blessed Las Vegas 36th Ward, Las Vegas Stake by Steven",
          "Matthew baptized Rexburg 7th Ward by Blair",
          "Dee builds LGB trains outside",
          "Dee & Donna Europe trip Austria, Germany, Switzerland w/Gary Archibald",
          "Kim Freshman Cheerleader MHS",
          "Nov\t\tKim 2nd Counselor MIA Maids YW Rexburg 11th Ward",
          "Dee released Bishop 11th Ward",
          "Family trip to Las Vegas for Christmas",
          "Dee 2nd Counselor Rexburg Center Stake Mission Presidency",
          "Dee Ward Mission Leader Rexburg 11th Ward",
          "Kim released 2nd Counselor called President MIA Maids 11th Ward",
          "Donna released Relief Society 2nd Counselor Rexburg 11th Ward",
          "Donna Primary Chorister Rexburg 11th Ward",
          "Bethany Blaire Hardy born Mesa, Arizona",
          "David & family moved back to Rexburg",
          "Family trip to Arizona",
          "Monty graduated Arizona State University",
          "Bethany blessed Mother’s Day by Monty Alma 3rd Ward, Mesa, Arizona",
          "Amy’s braces off 1st time",
          "Heavens Best Convention Kansas",
          "Family trip to Blair’s North Platte",
          "Donna Choir Director Rexburg 11th Ward",
          "Blair Elders Quorum President Nebraska",
          "Kim JV Cheerleader MHS",
          "Donna released Primary Chorister Rexburg 11th Ward",
          "Donna Rexburg Center Stake Missionary",
          "Kim released MIA Maids",
          "Amy President MIA Maids YW Rexburg 11th Ward",
          "Mom knee scope operation",
          "Kimberly Secretary Laurels YW Rexburg 11th Ward",
          "Dee retired Rexburg Chamber of Commerce Director",
          "Dee inducted into Rotary Club",
          "Amy Musettes 2nd place Jackson Music Festival",
          "Kim Varsity Cheerleader for 1992-93",
          "KC baptized North Platte Ward, Kearney Stake by Blair",
          "Family trip to KC’s baptism in North Platte",
          "Monty graduated Thunderbird College with Masters",
          "Maria Kummer married Mike Sato",
          "Lacey baptized by David LaBelle 3rd Ward, East Rigby Stake",
          "Amy in \"King and I\" at Ricks College",
          "Dee & Donna Chicago trip Bark Plant David",
          "David Bishopric 2nd Counselor, Ricks College 6th Ward, Ricks College 1st Stake",
          "Amy Sunday School Chorister Rexburg 11th Ward",
          "Amy “Superior” District Drama Festival",
          "Amy MAPS Musical Review MHS",
          "Susan moved to Ogden, Utah",
          "Camren Marc born in Las Vegas, Nevada",
          "Kimberly Laurels 1st Counselor Rexburg 11th Ward",
          "Amy Laurels Secretary Rexburg 11th Ward",
          "Dee & Donna Cancun, Mexico Tire trip with Neils & Joe",
          "Kimberly Laurel President",
          "Dee & Donna trip to Las Vegas",
          "Camren Marc blessed by Steven in Las Vegas 5th Ward, Las Vegas Stake, Las Vegas, Nevada",
          "Amy in \"Brigadoon\" MHS",
          "Monty Jordan born in Washington Terrace, Utah",
          "Monty Jordan Blessed at Thueson Camp, by Monty officially Washington Terrace 4th Ward, Washington Terrace Stake",
          "Amy plays \"Minnie\" in \"Annie Get Your Gun\" at Ricks College",
          "Kimberly chosen All-Star Cheerleader for Down Under Bowl  in New Zealand. Trip included Hawaii",
          "Dee & Donna trip to Blair’s in Nebraska & Mt. Rushmore",
          "David Tyler born Rexburg, Idaho",
          "David Tyler blessed by David LaBelle 3rd Ward, East Rigby Stake, LaBelle, Idaho",
          "Kim MHS 1993-94 Varsity cheerleader",
          "Donna President-Elect Cantabile Singers",
          "Amy bridges done",
          "Amy Musical Revue MHS",
          "FINAL SALE Bark Plant",
          "FAMILY CRUISE CARIBBEAN",
          "Started New House in Hibbard",
          "Dee & Donna Temple Officiators IF Temple",
          "Parker Baptized & confirmed Morningsun Ward, Sunrise Stake Las Vegas",
          "Kim released Laurel President Rexburg 11th Ward",
          "Amy released Secretary Laurels Rexburg 11th Ward",
          "Amy set apart Laurel President Rexburg 11th Ward",
          "Amy played \"Lena LaMont\" in \"Singing in the Rain\" at MHS",
          "Mom Ricks College Endowment Council for the Fine Arts",
          "Kim & Amy Washington History Tour with MHS",
          "Kim 2nd Place Gem State District Tennis Finals",
          "Kim State Tennis Tournament Sun Valley",
          "Kimberly graduated Seminary Madison High School",
          "Kimberly graduated Madison High School as Salutatorian",
          "Ricks College fullride Scholarship",
          "BYU ½ ride Scholarship",
          "McKelle baptized & confirmed by David LaBelle 3rd Ward, East Rigby Stake",
          "Dee & Donna Released Rexburg Center Stake Missionaries",
          "Moved in new house in Hibbard, Idaho",
          "Amy chorus Meet Me In St. Louis Ricks College",
          "Dee High Priest Teacher Hibbard 3rd Ward",
          "Donna SS course 14 teacher Hibbard 3rd Ward",
          "Donna roadshow Director & writer Hibbard 3rd Ward",
          "Kim Ricks College",
          "Dee loader tire blew up & cracked three vertebrae in his neck.",
          "Dee & Donna to Las Vegas",
          "Amy Laurels 1st Counselor Hibbard 3rd Ward",
          "Steven ordained High Priest by Dee, Morningsun Ward, Sunrise Stake, Las Vegas",
          "Steven 2nd Counselor Bishopric Morningsun Ward, Sunrise Stake, Las Vegas",
          "Donna President Cantabile Singers",
          "Donna RS Pianist Hibbard 3rd Ward",
          "Amy State Drama Competition for MHS",
          "Dee Stake Missionary North Rexburg Stake",
          "Hannah Nicole born in Chicago, Illinois",
          "Family trip to Las Vegas",
          "Amy Alice in 7 Brides for 7 Brothers MHS",
          "Blair & Carlene picked up Hannah Nicole",
          "Amy graduated Seminary Madison High School"
         ],
         "legendgroup": "",
         "marker": {
          "color": "#636efa",
          "line": {
           "width": 0
          },
          "pattern": {
           "shape": ""
          }
         },
         "name": "",
         "offsetgroup": "",
         "orientation": "h",
         "showlegend": false,
         "text": [
          "Susan Europe with MHS group & others",
          "Maria Kummer gone home",
          "Family trip to Sandpoint Uncle Lynn",
          "David & Mom went to Philippines",
          "Donna Program Chairman Read & Share Book Club",
          "Kimberly made Naturalized Citizen of United States",
          "Parker Steven born Provo, Utah",
          "Parker blessed by Steven in Provo 47th Ward,\tProvo...",
          "Donna’s Dad, Marc Burrows died",
          "David graduated BYU Bachelor Degree",
          "Donna released Activities Committee Cultural Arts ...",
          "Donna Public Communications Director Rexburg 11th ...",
          "Donna Mothers Education Teacher Relief Society Rex...",
          "Susan Young Adults Committee Rexburg Center Stake",
          "Kim & Amy MHS \"King and I\"",
          "Donna released Mothers Education Teacher RS Rexbur...",
          "Donna RS Stake Board Woman’s Advisor to Single Adu...",
          "Donna helped start MHS Fine Arts Boosters",
          "Susan Arizona Dance Bill Hardy",
          "Susan Seminary Graduation",
          "Susan Madison High School Graduation",
          "McKelle D born to David Wow& Jenelle Marietta, Geo...",
          "Family in Regional Dance Festival",
          "Family Trip Marietta, Georgia to see David",
          "McKelle blessed by David, Marietta Ward, Marietta,...",
          "1st International Dance Festival in Rexburg Polish...",
          "Donna released Woman’s Singles Advisor Relief Soci...",
          "David last nose operation Emery University, Atlant...",
          "Kim’s braces off",
          "Dee & Donna’s 30th Anniversary party",
          "Blair started Heaven’s Best Carpet Cleaning in Neb...",
          "Steven graduated BYU Bachelor Degree in Business",
          "Hill Cumorah Pageant 50th Family & Grandma Burrows...",
          "Donna President of Read & Share Book Club",
          "Donna room mother Mrs. Barrett Amy 5th Grade",
          "Remodeled House took out sliding doors, blue carpe...",
          "Kimberly graduated Primary",
          "Family trip to Memphis to see Steve & Deidra",
          "Trains Dee’s new hobby",
          "Donna Relief Society Family Education Teacher Rexb...",
          "Blair’s family in wreck coming home for Xmas from ...",
          "Dee Board of Directors Chamber of Commerce",
          "Dee Board of Directors Upper Valley Industries",
          "David’s family moved to West Palm Beach, Florida s...",
          "Jan-Feb\tKim Gymnastics Team MJHS",
          "Dee & Donna Florida to visit David & Jenelle",
          "Lyndee Trishell born in Memphis, Tennesee",
          "Kim Secretary Beehives",
          "Donna released RS Family Education Teacher Rexburg...",
          "Donna RS 2nd Counselor (Homemaking) Rexburg 11th W...",
          "Dee & Donna Memphis, Tennessee to see Steve",
          "Lyndee Trishell blessed by Steve, Bartlett Ward, M...",
          "Susan engaged Monty Hardy",
          "Kim President Beehives YW Rexburg 11th Ward",
          "Susan endowed Idaho Falls Temple",
          "Susan married Monty Hardy in Idaho Falls Temple",
          "David 1st Counselor Stake YM Pres West Palm Beach ...",
          "Kim Jr. MADS Dance Team",
          "Donna Costume Mistress Cantabile",
          "Amy graduated Primary",
          "David High Councilman West Palm Beach Stake, Flori...",
          "David ordained High Priest by Roderick D. Davies",
          "Amy’s braces on 1st time",
          "Family Thanksgiving at Blair’s North Platte, Nebra...",
          "Dee Board of Directors Ricks College Viking Booste...",
          "Kim Gymnastics Team MJHS",
          "-51* at Rexburg lowest ever",
          "Family Trip to Florida. David & Disney World",
          "Kim President Beehives Rexburg 11th Ward",
          "Paul Steven born in North Platte, Nebraska",
          "Steven & Deidra move to Las Vegas, Nevada",
          "Family trip to North Platte Nebraska",
          "Paul blessed by Blair North Platte Branch, Missour...",
          "Steven Assistant Recorder in Las Vegas Temple",
          "Kimberly released President Beehive YW",
          "Amy President Beehives YW Rexburg 11th Ward",
          "Dee & Donna to Temple dedication Las Vegas",
          "Dee President of the Bark Plant",
          "Idaho Centennial Year",
          "Caribbean Cruise Thueson brothers",
          "Kimberly Secretary MIA MAIDS Rexburg 11th Ward",
          "Katelan J born in Loxahatchee, Florida",
          "Blake Fullmer born in Las Vegas, Nevada",
          "1\tKatelan J blessed in Forest Hill Ward, West Palm...",
          "Blake blessed Las Vegas 36th Ward, Las Vegas Stake...",
          "Matthew baptized Rexburg 7th Ward by Blair",
          "Dee builds LGB trains outside",
          "Dee & Donna Europe trip Austria, Germany, Switzerl...",
          "Kim Freshman Cheerleader MHS",
          "Nov\t\tKim 2nd Counselor MIA Maids YW Rexburg 11th W...",
          "Dee released Bishop 11th Ward",
          "Family trip to Las Vegas for Christmas",
          "Dee 2nd Counselor Rexburg Center Stake Mission Pre...",
          "Dee Ward Mission Leader Rexburg 11th Ward",
          "Kim released 2nd Counselor called President MIA Ma...",
          "Donna released Relief Society 2nd Counselor Rexbur...",
          "Donna Primary Chorister Rexburg 11th Ward",
          "Bethany Blaire Hardy born Mesa, Arizona",
          "David & family moved back to Rexburg",
          "Family trip to Arizona",
          "Monty graduated Arizona State University",
          "Bethany blessed Mother’s Day by Monty Alma 3rd War...",
          "Amy’s braces off 1st time",
          "Heavens Best Convention Kansas",
          "Family trip to Blair’s North Platte",
          "Donna Choir Director Rexburg 11th Ward",
          "Blair Elders Quorum President Nebraska",
          "Kim JV Cheerleader MHS",
          "Donna released Primary Chorister Rexburg 11th Ward",
          "Donna Rexburg Center Stake Missionary",
          "Kim released MIA Maids",
          "Amy President MIA Maids YW Rexburg 11th Ward",
          "Mom knee scope operation",
          "Kimberly Secretary Laurels YW Rexburg 11th Ward",
          "Dee retired Rexburg Chamber of Commerce Director",
          "Dee inducted into Rotary Club",
          "Amy Musettes 2nd place Jackson Music Festival",
          "Kim Varsity Cheerleader for 1992-93",
          "KC baptized North Platte Ward, Kearney Stake by Bl...",
          "Family trip to KC’s baptism in North Platte",
          "Monty graduated Thunderbird College with Masters",
          "Maria Kummer married Mike Sato",
          "Lacey baptized by David LaBelle 3rd Ward, East Rig...",
          "Amy in \"King and I\" at Ricks College",
          "Dee & Donna Chicago trip Bark Plant David",
          "David Bishopric 2nd Counselor, Ricks College 6th W...",
          "Amy Sunday School Chorister Rexburg 11th Ward",
          "Amy “Superior” District Drama Festival",
          "Amy MAPS Musical Review MHS",
          "Susan moved to Ogden, Utah",
          "Camren Marc born in Las Vegas, Nevada",
          "Kimberly Laurels 1st Counselor Rexburg 11th Ward",
          "Amy Laurels Secretary Rexburg 11th Ward",
          "Dee & Donna Cancun, Mexico Tire trip with Neils & ...",
          "Kimberly Laurel President",
          "Dee & Donna trip to Las Vegas",
          "Camren Marc blessed by Steven in Las Vegas 5th War...",
          "Amy in \"Brigadoon\" MHS",
          "Monty Jordan born in Washington Terrace, Utah",
          "Monty Jordan Blessed at Thueson Camp, by Monty off...",
          "Amy plays \"Minnie\" in \"Annie Get Your Gun\" at Rick...",
          "Kimberly chosen All-Star Cheerleader for Down Unde...",
          "Dee & Donna trip to Blair’s in Nebraska & Mt. Rush...",
          "David Tyler born Rexburg, Idaho",
          "David Tyler blessed by David LaBelle 3rd Ward, Eas...",
          "Kim MHS 1993-94 Varsity cheerleader",
          "Donna President-Elect Cantabile Singers",
          "Amy bridges done",
          "Amy Musical Revue MHS",
          "FINAL SALE Bark Plant",
          "FAMILY CRUISE CARIBBEAN",
          "Started New House in Hibbard",
          "Dee & Donna Temple Officiators IF Temple",
          "Parker Baptized & confirmed Morningsun Ward, Sunri...",
          "Kim released Laurel President Rexburg 11th Ward",
          "Amy released Secretary Laurels Rexburg 11th Ward",
          "Amy set apart Laurel President Rexburg 11th Ward",
          "Amy played \"Lena LaMont\" in \"Singing in the Rain\" ...",
          "Mom Ricks College Endowment Council for the Fine A...",
          "Kim & Amy Washington History Tour with MHS",
          "Kim 2nd Place Gem State District Tennis Finals",
          "Kim State Tennis Tournament Sun Valley",
          "Kimberly graduated Seminary Madison High School",
          "Kimberly graduated Madison High School as Salutato...",
          "Ricks College fullride Scholarship",
          "BYU ½ ride Scholarship",
          "McKelle baptized & confirmed by David LaBelle 3rd ...",
          "Dee & Donna Released Rexburg Center Stake Missiona...",
          "Moved in new house in Hibbard, Idaho",
          "Amy chorus Meet Me In St. Louis Ricks College",
          "Dee High Priest Teacher Hibbard 3rd Ward",
          "Donna SS course 14 teacher Hibbard 3rd Ward",
          "Donna roadshow Director & writer Hibbard 3rd Ward",
          "Kim Ricks College",
          "Dee loader tire blew up & cracked three vertebrae ...",
          "Dee & Donna to Las Vegas",
          "Amy Laurels 1st Counselor Hibbard 3rd Ward",
          "Steven ordained High Priest by Dee, Morningsun War...",
          "Steven 2nd Counselor Bishopric Morningsun Ward, Su...",
          "Donna President Cantabile Singers",
          "Donna RS Pianist Hibbard 3rd Ward",
          "Amy State Drama Competition for MHS",
          "Dee Stake Missionary North Rexburg Stake",
          "Hannah Nicole born in Chicago, Illinois",
          "Family trip to Las Vegas",
          "Amy Alice in 7 Brides for 7 Brothers MHS",
          "Blair & Carlene picked up Hannah Nicole",
          "Amy graduated Seminary Madison High School"
         ],
         "textposition": "auto",
         "type": "bar",
         "x": [
          2592000000,
          864000000,
          864000000,
          864000000,
          -10627200000,
          864000000,
          864000000,
          864000000,
          864000000,
          864000000,
          864000000,
          864000000,
          864000000,
          864000000,
          345600000,
          864000000,
          864000000,
          864000000,
          864000000,
          864000000,
          864000000,
          864000000,
          86400000,
          518400000,
          864000000,
          864000000,
          864000000,
          864000000,
          864000000,
          864000000,
          864000000,
          864000000,
          2678400000,
          -7948800000,
          -7948800000,
          2592000000,
          864000000,
          864000000,
          28944000000,
          864000000,
          864000000,
          864000000,
          28857600000,
          28857600000,
          28857600000,
          864000000,
          864000000,
          864000000,
          864000000,
          864000000,
          259200000,
          864000000,
          864000000,
          28857600000,
          864000000,
          864000000,
          864000000,
          -10627200000,
          864000000,
          864000000,
          864000000,
          864000000,
          864000000,
          864000000,
          28857600000,
          2678400000,
          864000000,
          864000000,
          864000000,
          864000000,
          864000000,
          864000000,
          864000000,
          864000000,
          864000000,
          864000000,
          864000000,
          864000000,
          28857600000,
          864000000,
          864000000,
          864000000,
          864000000,
          864000000,
          864000000,
          864000000,
          864000000,
          2678400000,
          -10627200000,
          28857600000,
          864000000,
          864000000,
          864000000,
          28857600000,
          864000000,
          864000000,
          864000000,
          864000000,
          864000000,
          864000000,
          864000000,
          864000000,
          864000000,
          864000000,
          864000000,
          864000000,
          864000000,
          -10627200000,
          864000000,
          864000000,
          864000000,
          864000000,
          864000000,
          864000000,
          864000000,
          864000000,
          864000000,
          864000000,
          864000000,
          864000000,
          864000000,
          864000000,
          864000000,
          864000000,
          864000000,
          864000000,
          864000000,
          864000000,
          864000000,
          864000000,
          864000000,
          864000000,
          864000000,
          777600000,
          864000000,
          864000000,
          864000000,
          864000000,
          864000000,
          864000000,
          777600000,
          1123200000,
          28944000000,
          864000000,
          864000000,
          864000000,
          20908800000,
          864000000,
          864000000,
          864000000,
          691200000,
          864000000,
          864000000,
          864000000,
          864000000,
          864000000,
          864000000,
          259200000,
          864000000,
          864000000,
          864000000,
          864000000,
          864000000,
          864000000,
          864000000,
          864000000,
          864000000,
          864000000,
          864000000,
          691200000,
          864000000,
          864000000,
          864000000,
          864000000,
          864000000,
          864000000,
          864000000,
          864000000,
          864000000,
          20908800000,
          864000000,
          864000000,
          864000000,
          864000000,
          864000000,
          864000000,
          864000000,
          864000000
         ],
         "xaxis": "x3",
         "y": [
          4,
          3,
          2,
          1,
          -1,
          -2,
          -3,
          -4,
          -5,
          -6,
          -7,
          -8,
          -9,
          -10,
          -11,
          -12,
          -13,
          -14,
          -15,
          -16,
          15,
          14,
          13,
          12,
          11,
          10,
          8,
          7,
          6,
          5,
          4,
          3,
          2,
          1,
          -1,
          -4,
          -5,
          -6,
          -7,
          -8,
          -9,
          -10,
          -11,
          -12,
          -13,
          -14,
          -15,
          -16,
          15,
          14,
          13,
          12,
          11,
          10,
          9,
          8,
          7,
          6,
          5,
          4,
          3,
          2,
          1,
          -1,
          -2,
          -3,
          -4,
          -5,
          -6,
          -7,
          -8,
          -9,
          -10,
          -11,
          -12,
          -13,
          -14,
          -15,
          -16,
          15,
          14,
          13,
          12,
          11,
          10,
          9,
          8,
          7,
          6,
          5,
          4,
          3,
          2,
          1,
          -1,
          -2,
          -3,
          -4,
          -5,
          -6,
          -7,
          -8,
          -9,
          -10,
          -11,
          -12,
          -13,
          -14,
          -16,
          15,
          14,
          13,
          12,
          11,
          10,
          9,
          8,
          7,
          6,
          5,
          4,
          3,
          2,
          1,
          -1,
          -2,
          -3,
          -4,
          -5,
          -6,
          -7,
          -8,
          -9,
          -10,
          -11,
          -12,
          -13,
          -14,
          -15,
          -16,
          15,
          14,
          13,
          12,
          11,
          10,
          8,
          7,
          6,
          5,
          4,
          3,
          2,
          1,
          -1,
          -2,
          -3,
          -4,
          -5,
          -6,
          -7,
          -8,
          -9,
          -10,
          -11,
          -12,
          -13,
          -14,
          -15,
          -16,
          15,
          14,
          13,
          12,
          11,
          10,
          9,
          8,
          7,
          6,
          5,
          4,
          3,
          2,
          1,
          -1,
          -2,
          -3
         ],
         "yaxis": "y3"
        },
        {
         "alignmentgroup": "True",
         "base": [
          "0006-05-31T00:00:00",
          "0006-05-31T00:00:00",
          "0006-06-09T00:00:00",
          "0006-07-30T00:00:00",
          "0006-08-09T00:00:00",
          "0007-01-22T00:00:00",
          "0007-01-24T00:00:00",
          "0007-01-26T00:00:00",
          "0007-01-26T00:00:00",
          "0007-01-26T00:00:00",
          "0007-02-05T00:00:00",
          "0007-02-28T00:00:00",
          "0007-03-08T00:00:00",
          "0007-03-10T00:00:00",
          "0007-03-31T00:00:00",
          "0007-04-19T00:00:00",
          "0007-04-26T00:00:00",
          "0007-04-27T00:00:00",
          "0007-04-30T00:00:00",
          "0007-05-17T00:00:00",
          "0007-05-29T00:00:00",
          "0007-05-09T00:00:00",
          "0007-05-09T00:00:00",
          "0007-05-09T00:00:00",
          "0007-05-30T00:00:00",
          "0007-06-17T00:00:00",
          "0007-08-04T00:00:00",
          "0007-08-17T00:00:00",
          "0007-08-22T00:00:00",
          "0007-08-29T00:00:00",
          "0007-08-31T00:00:00",
          "0007-09-09T00:00:00",
          "0007-09-09T00:00:00",
          "0007-09-08T00:00:00",
          "0007-09-30T00:00:00",
          "0007-10-07T00:00:00",
          "0007-10-21T00:00:00",
          "0007-10-24T00:00:00",
          "0007-12-27T00:00:00",
          "0007-12-30T00:00:00",
          "0008-01-13T00:00:00",
          "0008-01-09T00:00:00",
          "0008-02-07T00:00:00",
          "0008-02-07T00:00:00",
          "0008-02-08T00:00:00",
          "0008-04-02T00:00:00",
          "0008-05-01T00:00:00",
          "0008-05-04T00:00:00",
          "0008-05-13T00:00:00",
          "0008-05-16T00:00:00",
          "0008-01-09T00:00:00",
          "0008-05-16T00:00:00",
          "0008-05-29T00:00:00",
          "0008-06-09T00:00:00",
          "0008-06-09T00:00:00",
          "0008-06-09T00:00:00",
          "0008-07-09T00:00:00",
          "0008-07-19T00:00:00",
          "0008-07-23T00:00:00",
          "0008-09-06T00:00:00",
          "0008-09-19T00:00:00",
          "0008-10-09T00:00:00",
          "0008-11-26T00:00:00",
          "0008-12-14T00:00:00",
          "0008-12-21T00:00:00",
          "0009-02-05T00:00:00",
          "0009-02-08T00:00:00",
          "0009-03-11T00:00:00",
          "0009-03-14T00:00:00",
          "0009-03-29T00:00:00",
          "0009-04-19T00:00:00",
          "0009-05-22T00:00:00",
          "0009-05-23T00:00:00",
          "0009-05-23T00:00:00",
          "0009-07-09T00:00:00",
          "0009-07-19T00:00:00",
          "0009-09-09T00:00:00",
          "0009-12-18T00:00:00",
          "0010-01-01T00:00:00",
          "0010-01-22T00:00:00",
          "0010-02-07T00:00:00",
          "0010-02-13T00:00:00",
          "0010-04-29T00:00:00",
          "0010-04-29T00:00:00",
          "0010-07-18T00:00:00",
          "0010-08-06T00:00:00",
          "0010-08-09T00:00:00",
          "0010-09-12T00:00:00",
          "0010-09-17T00:00:00",
          "0010-09-29T00:00:00",
          "0010-10-10T00:00:00",
          "0010-10-09T00:00:00",
          "0010-11-27T00:00:00",
          "0001-04-09T00:00:00",
          "0001-05-09T00:00:00",
          "0001-05-09T00:00:00",
          "0001-07-09T00:00:00",
          "0001-08-01T00:00:00",
          "0001-08-09T00:00:00",
          "0001-08-09T00:00:00",
          "0001-08-09T00:00:00",
          "0001-08-03T00:00:00",
          "0001-08-09T00:00:00",
          "0001-12-15T00:00:00",
          "0002-01-01T00:00:00",
          "0002-02-04T00:00:00",
          "0002-04-26T00:00:00",
          "0002-07-01T00:00:00",
          "0002-07-27T00:00:00",
          "0002-08-09T00:00:00",
          "0002-08-09T00:00:00",
          "0002-09-09T00:00:00",
          "0002-09-09T00:00:00",
          "0002-09-21T00:00:00",
          "0002-10-09T00:00:00",
          "0003-01-09T00:00:00",
          "0002-02-09T00:00:00",
          "0003-05-09T00:00:00",
          "0003-05-09T00:00:00",
          "0003-05-09T00:00:00",
          "0003-06-18T00:00:00",
          "0003-07-14T00:00:00",
          "0003-08-01T00:00:00",
          "0003-01-09T00:00:00",
          "0003-01-09T00:00:00",
          "0003-10-09T00:00:00",
          "0003-11-10T00:00:00",
          "0003-11-10T00:00:00",
          "0003-11-09T00:00:00",
          "0004-02-22T00:00:00",
          "0004-03-29T00:00:00",
          "0004-05-09T00:00:00",
          "0004-04-15T00:00:00",
          "0004-06-01T00:00:00",
          "0004-06-09T00:00:00",
          "0004-01-09T00:00:00",
          "0004-06-18T00:00:00",
          "0004-07-09T00:00:00",
          "0004-01-09T00:00:00",
          "0004-08-02T00:00:00",
          "0004-08-02T00:00:00",
          "0004-08-09T00:00:00",
          "0004-08-16T00:00:00",
          "0004-09-09T00:00:00",
          "0004-01-09T00:00:00",
          "0004-09-18T00:00:00",
          "0004-10-16T00:00:00",
          "0004-11-14T00:00:00",
          "0004-11-18T00:00:00",
          "0004-11-21T00:00:00",
          "0004-11-22T00:00:00",
          "0004-12-31T00:00:00",
          "0005-01-09T00:00:00",
          "0005-01-01T00:00:00",
          "0005-01-09T00:00:00",
          "0005-01-09T00:00:00",
          "0005-01-24T00:00:00",
          "0005-01-29T00:00:00",
          "0005-01-09T00:00:00",
          "0005-03-07T00:00:00",
          "0005-03-24T00:00:00",
          "0005-03-24T00:00:00",
          "0005-03-28T00:00:00",
          "0005-03-09T00:00:00",
          "0005-04-09T00:00:00",
          "0005-05-09T00:00:00",
          "0005-05-09T00:00:00",
          "0005-06-05T00:00:00",
          "0005-06-05T00:00:00",
          "0005-06-09T00:00:00",
          "0005-06-05T00:00:00",
          "0005-06-08T00:00:00",
          "0005-06-18T00:00:00",
          "0005-07-21T00:00:00",
          "0005-09-09T00:00:00",
          "0005-10-30T00:00:00",
          "0005-11-19T00:00:00",
          "0005-11-09T00:00:00",
          "0005-11-23T00:00:00",
          "0005-12-05T00:00:00",
          "0005-12-10T00:00:00",
          "0005-12-18T00:00:00",
          "0006-01-09T00:00:00",
          "0006-02-09T00:00:00"
         ],
         "customdata": [
          [
           "Amy graduated Madison High School High Honors",
           "1995 May 31",
           "Amy graduated Madison High School High Honors",
           "2000-01-01T00:00:00"
          ],
          [
           "Scholarship Ricks College ½ ride",
           "1995 May 31",
           "Scholarship Ricks College ½ ride",
           "2000-01-01T00:00:00"
          ],
          [
           "Brigham Marc born Washington Terrace, Utah",
           "1995 Jun 9",
           "Brigham Marc born Washington Terrace, Utah",
           "2000-01-01T00:00:00"
          ],
          [
           "Brigham blessed Rexburg, Idaho, officially Washington Terrace 4th Ward, Washington Terrace Stake, Utah",
           "1995 Jul 30",
           "Brigham blessed Rexburg, Idaho, officially Washing...",
           "2000-01-01T00:00:00"
          ],
          [
           "Amy started Ricks College",
           "1995 Aug",
           "Amy started Ricks College",
           "2000-01-01T00:00:00"
          ],
          [
           "Donna discovers breast cancer",
           "1996 Jan 22",
           "Donna discovers breast cancer",
           "2000-01-01T00:00:00"
          ],
          [
           "Hannah officially adopted to Blair and Carlene",
           "1996 Jan 24",
           "Hannah officially adopted to Blair and Carlene",
           "2000-01-01T00:00:00"
          ],
          [
           "Hannah sealed to Blair & Carlene Denver Temple",
           "1996 Jan 26",
           "Hannah sealed to Blair & Carlene Denver Temple",
           "2000-01-01T00:00:00"
          ],
          [
           "Dee & Donna traveled to Denver to Temple",
           "1996 Jan 26",
           "Dee & Donna traveled to Denver to Temple",
           "2000-01-01T00:00:00"
          ],
          [
           "Hannah Nicole blessed by Blair in Denver, Colorado",
           "1996 Jan 26",
           "Hannah Nicole blessed by Blair in Denver, Colorado",
           "2000-01-01T00:00:00"
          ],
          [
           "Donna double mastectomy for breast cancer LDS Hospital Salt Lake City, Utah Dr. Richard Price, Dr. William Riley",
           "1996 Feb 5",
           "Donna double mastectomy for breast cancer LDS Hosp...",
           "2000-01-01T00:00:00"
          ],
          [
           "Kimberly nominated & made 1st cut for Woman of the Year at Ricks College",
           "1996 Feb 29",
           "Kimberly nominated & made 1st cut for Woman of the...",
           "2000-01-01T00:00:00"
          ],
          [
           "Donna started phase #1 Breast Reconstruction",
           "1996 Mar 8",
           "Donna started phase #1 Breast Reconstruction",
           "2000-01-01T00:00:00"
          ],
          [
           "Jaylan born Chicago, Illinois",
           "1996 Mar 10",
           "Jaylan born Chicago, Illinois",
           "2000-01-01T00:00:00"
          ],
          [
           "Lyndee Trishell baptized by Steven in Las Vegas Morningsun Ward, Sunrise Stake",
           "1996 Mar 31",
           "Lyndee Trishell baptized by Steven in Las Vegas Mo...",
           "2000-01-01T00:00:00"
          ],
          [
           "KC ordained Deacon in Aaronic Priesthood by Blair North Platt Ward, Kearney Stake",
           "1996 Apr 19",
           "KC ordained Deacon in Aaronic Priesthood by Blair ...",
           "2000-01-01T00:00:00"
          ],
          [
           "Maureen Rieggers to the Temple for her Endowments",
           "1996 Apr 26",
           "Maureen Rieggers to the Temple for her Endowments",
           "2000-01-01T00:00:00"
          ],
          [
           "Kimberly graduated Ricks College Associates Degree in Science",
           "1996 Apr 27",
           "Kimberly graduated Ricks College Associates Degree...",
           "2000-01-01T00:00:00"
          ],
          [
           "Kim & Amy went to Europe w/Ricks College Humanitarian Tour",
           "1996 Apr 30-1996May 27",
           "Kim & Amy went to Europe w/Ricks College Humanitar...",
           "2000-01-01T00:00:00"
          ],
          [
           "Dee & Donna Cruise to Alaska w/Thueson brothers & cousin Kelel",
           "1996 May 17-1996 May 26",
           "Dee & Donna Cruise to Alaska w/Thueson brothers & ...",
           "2000-01-01T00:00:00"
          ],
          [
           "Amy to Jackson Hole, Wyoming to work for the summer at Ranch Inn.",
           "1996 May 29-1996 Aug 30",
           "Amy to Jackson Hole, Wyoming to work for the summe...",
           "2000-01-01T00:00:00"
          ],
          [
           "Matthew shot in eye w/BB gun in Nebraska",
           "1996 May",
           "Matthew shot in eye w/BB gun in Nebraska",
           "2000-01-01T00:00:00"
          ],
          [
           "Matthew surgery on eye",
           "1996 May",
           "Matthew surgery on eye",
           "2000-01-01T00:00:00"
          ],
          [
           "Jaylan came to Blair & Carlene in hospital",
           "1996 May",
           "Jaylan came to Blair & Carlene in hospital",
           "2000-01-01T00:00:00"
          ],
          [
           "Danae Nicole born to Steve & Deidre Las Vegas, Nevada",
           "1996 May 30",
           "Danae Nicole born to Steve & Deidre Las Vegas, Nev...",
           "2000-01-01T00:00:00"
          ],
          [
           "Dee & Donna trip to Nebraska & Nauvoo, Illinois to see Ray & LaVona who were missionaries",
           "1996 Jun 17-1996 Jun 30",
           "Dee & Donna trip to Nebraska & Nauvoo, Illinois to...",
           "2000-01-01T00:00:00"
          ],
          [
           "Danae blessed by Steven in Morningsun Ward, Sunrise Stake, Las Vegas, Nevada",
           "1996 Aug 4",
           "Danae blessed by Steven in Morningsun Ward, Sunris...",
           "2000-01-01T00:00:00"
          ],
          [
           "Kim to Las Vegas trip",
           "1996 Aug 17-1996 Aug 21",
           "Kim to Las Vegas trip",
           "2000-01-01T00:00:00"
          ],
          [
           "Donna Breast Reconstruction operation LDS Hospital Dr. Gary Hunter",
           "1996 Aug 22",
           "Donna Breast Reconstruction operation LDS Hospital...",
           "2000-01-01T00:00:00"
          ],
          [
           "Amy moved into Greenbriar for Ricks College",
           "1996 Aug 29",
           "Amy moved into Greenbriar for Ricks College",
           "2000-01-01T00:00:00"
          ],
          [
           "Amy Leadership Training Camp Ricks College",
           "1996 Aug 31",
           "Amy Leadership Training Camp Ricks College",
           "2000-01-01T00:00:00"
          ],
          [
           "Kim to Brigham Young University as Junior",
           "1996 Sep",
           "Kim to Brigham Young University as Junior",
           "2000-01-01T00:00:00"
          ],
          [
           "Amy to Ricks College as Sophomore",
           "1996 Sep",
           "Amy to Ricks College as Sophomore",
           "2000-01-01T00:00:00"
          ],
          [
           "Donna 2nd Counselor YW Pres. Hibbard 3rd Ward",
           "1996 Sep 8",
           "Donna 2nd Counselor YW Pres. Hibbard 3rd Ward",
           "2000-01-01T00:00:00"
          ],
          [
           "David & family moved to Columbia Falls, Montana to start new Bark Plant",
           "1996 Sep 30",
           "David & family moved to Columbia Falls, Montana to...",
           "2000-01-01T00:00:00"
          ],
          [
           "Donna joined Civic Club",
           "1996 Oct 7",
           "Donna joined Civic Club",
           "2000-01-01T00:00:00"
          ],
          [
           "Steve & family move to Columbia Falls, Montana",
           "1996 Oct 21",
           "Steve & family move to Columbia Falls, Montana",
           "2000-01-01T00:00:00"
          ],
          [
           "Dee & Donna to Columbia Falls, Montana in new maroon Cadillac",
           "1996 Oct 24-1996 Oct 29",
           "Dee & Donna to Columbia Falls, Montana in new maro...",
           "2000-01-01T00:00:00"
          ],
          [
           "Dee retired from the OK TIRE STORE after 32 years co-owner with Clair",
           "1996 Dec 27",
           "Dee retired from the OK TIRE STORE after 32 years ...",
           "2000-01-01T00:00:00"
          ],
          [
           "Dee & Donna, Kim & Amy, to Columbia Falls, Montana",
           "1996 Dec 30",
           "Dee & Donna, Kim & Amy, to Columbia Falls, Montana",
           "2000-01-01T00:00:00"
          ],
          [
           "Dee had 4 strokes in 5 days. In hospital at Rexburg & LDS Hospital in Salt Lake City",
           "1997 Jan 13-1997 Jan 17",
           "Dee had 4 strokes in 5 days. In hospital at Rexbur...",
           "2000-01-01T00:00:00"
          ],
          [
           "Jaylan adopted to Blair & Carlene",
           "1997",
           "Jaylan adopted to Blair & Carlene",
           "2000-01-01T00:00:00"
          ],
          [
           "Jaylan sealed to Blair & Carlene in IF Temple. All Kids here.",
           "1997 Feb 7",
           "Jaylan sealed to Blair & Carlene in IF Temple. All...",
           "2000-01-01T00:00:00"
          ],
          [
           "Jaylan blessed by Blair Idaho Falls",
           "1997 Feb 7",
           "Jaylan blessed by Blair Idaho Falls",
           "2000-01-01T00:00:00"
          ],
          [
           "Dee & Donna 40th wedding anniversary party given by children at the \t\t\t\t\tPinebrook house",
           "1997 Feb 8",
           "Dee & Donna 40th wedding anniversary party given b...",
           "2000-01-01T00:00:00"
          ],
          [
           "Madison LaRae born in Columbia Falls, Montana",
           "1997 Apr 2",
           "Madison LaRae born in Columbia Falls, Montana",
           "2000-01-01T00:00:00"
          ],
          [
           "Dee & Donna to Montana to bless Madison",
           "1997 May 1-1997 May 6",
           "Dee & Donna to Montana to bless Madison",
           "2000-01-01T00:00:00"
          ],
          [
           "Madison LaRae blessed by David Columbia Falls Ward, Kalispell Stake",
           "1997 May 4",
           "Madison LaRae blessed by David Columbia Falls Ward...",
           "2000-01-01T00:00:00"
          ],
          [
           "Dee & Donna & Kim Nebraska when Church Sesquicentennial Wagon train came through",
           "1997 May 13-1997 May 19",
           "Dee & Donna & Kim Nebraska when Church Sesquicente...",
           "2000-01-01T00:00:00"
          ],
          [
           "Matthew received Eagle Scout Award in North Platte 2nd Ward, Kearney, Nebraska Stake",
           "1997 May 16",
           "Matthew received Eagle Scout Award in North Platte...",
           "2000-01-01T00:00:00"
          ],
          [
           "Matthew shot in the eye with BB gun, operation, lost sight in one eye",
           "1997",
           "Matthew shot in the eye with BB gun, operation, lo...",
           "2000-01-01T00:00:00"
          ],
          [
           "Paul Baptized by Blair in North Platte 2nd Ward, Kearney, Nebraska Stake",
           "1997 May 16",
           "Paul Baptized by Blair in North Platte 2nd Ward, K...",
           "2000-01-01T00:00:00"
          ],
          [
           "Tacy Lyneve Hardy born in Ogden, Utah to Susan & Monty Hardy",
           "1997 May 29",
           "Tacy Lyneve Hardy born in Ogden, Utah to Susan & M...",
           "2000-01-01T00:00:00"
          ],
          [
           "4\t\tAmy graduated Ricks College w/Associates degree in Elementary Education",
           "1997 Jun",
           "4\t\tAmy graduated Ricks College w/Associates degree...",
           "2000-01-01T00:00:00"
          ],
          [
           "7\t\tAmy & Kim to Columbia Falls, Montana",
           "1997 Jun",
           "7\t\tAmy & Kim to Columbia Falls, Montana",
           "2000-01-01T00:00:00"
          ],
          [
           "9\t\tDee & Donna 2 Holy Land Tour to Missouri church sites, & Jerusalem, Israel",
           "1997 Jun",
           "9\t\tDee & Donna 2 Holy Land Tour to Missouri church...",
           "2000-01-01T00:00:00"
          ],
          [
           "7\t\tKimberly to Jerusalem for BYU Study Abroad Semester",
           "1997 Jul",
           "7\t\tKimberly to Jerusalem for BYU Study Abroad Seme...",
           "2000-01-01T00:00:00"
          ],
          [
           "Dee Chairman of Rigby High School class of 1957 Reunion",
           "1997 Jul 19",
           "Dee Chairman of Rigby High School class of 1957 Re...",
           "2000-01-01T00:00:00"
          ],
          [
           "Utah Church Sesquicentennial Celebration 24th of July",
           "1997 Jul 23",
           "Utah Church Sesquicentennial Celebration 24th of J...",
           "2000-01-01T00:00:00"
          ],
          [
           "Dee & Donna & Grandma Burrows to Columbia Falls, Montana",
           "1997 Sep 6-1997 Sep 13",
           "Dee & Donna & Grandma Burrows to Columbia Falls, M...",
           "2000-01-01T00:00:00"
          ],
          [
           "Maureen Burrows Rieggers married to Rod Briscoe",
           "1997 Sep 19",
           "Maureen Burrows Rieggers married to Rod Briscoe",
           "2000-01-01T00:00:00"
          ],
          [
           "9\t\tMaureen Burrows sealed to Rod Briscoe in IF Temple",
           "1997 Oct",
           "9\t\tMaureen Burrows sealed to Rod Briscoe in IF Tem...",
           "2000-01-01T00:00:00"
          ],
          [
           "Dee & Donna, Kim & Amy at Hardy's Thanksgiving Ogden, Utah",
           "1997 Nov 26",
           "Dee & Donna, Kim & Amy at Hardy's Thanksgiving Ogd...",
           "2000-01-01T00:00:00"
          ],
          [
           "Dee 1st Counselor Bishopric Ricks College 21st Ward, 5th Ricks College Stake",
           "1997 Dec 14",
           "Dee 1st Counselor Bishopric Ricks College 21st War...",
           "2000-01-01T00:00:00"
          ],
          [
           "Dee & Donna, Kim, Amy to Nebraska Christmas",
           "1997 Dec 21-1997 Dec 26",
           "Dee & Donna, Kim, Amy to Nebraska Christmas",
           "2000-01-01T00:00:00"
          ],
          [
           "Dee & Donna Montana",
           "1998 Feb 5-1998 Feb 9",
           "Dee & Donna Montana",
           "2000-01-01T00:00:00"
          ],
          [
           "Parker ordained a Deacon by Steven in Columbia Falls Ward, Kalispell Montana Stake",
           "1998 Feb 8",
           "Parker ordained a Deacon by Steven in Columbia Fal...",
           "2000-01-01T00:00:00"
          ],
          [
           "DEE DIED of massive heart attack with no warning",
           "1998 Mar 11",
           "DEE DIED of massive heart attack with no warning",
           "2000-01-01T00:00:00"
          ],
          [
           "Dee buried in Sugar City Cemetery",
           "1998 Mar 14",
           "Dee buried in Sugar City Cemetery",
           "2000-01-01T00:00:00"
          ],
          [
           "Donna released as YW 1st Counselor Hibbard 3rd Ward",
           "1998 Mar 29",
           "Donna released as YW 1st Counselor Hibbard 3rd War...",
           "2000-01-01T00:00:00"
          ],
          [
           "Donna sustained as RS Teacher (Brigham Young lessons)",
           "1998 Apr 19",
           "Donna sustained as RS Teacher (Brigham Young lesso...",
           "2000-01-01T00:00:00"
          ],
          [
           "Donna, Amy, Monty & Susan’s family went to Montana",
           "1998 May 22",
           "Donna, Amy, Monty & Susan’s family went to Montana",
           "2000-01-01T00:00:00"
          ],
          [
           "Katelan baptized by David in Columbia Falls Ward, Kalispell Stake Montana",
           "1998 May 23",
           "Katelan baptized by David in Columbia Falls Ward, ...",
           "2000-01-01T00:00:00"
          ],
          [
           "Blake baptized by Steven in Columbia Falls Ward, Kalispell Stake Montana",
           "1998 May 23",
           "Blake baptized by Steven in Columbia Falls Ward, K...",
           "2000-01-01T00:00:00"
          ],
          [
           "Blair & Carlene moved back to Idaho Falls",
           "1998 Jul",
           "Blair & Carlene moved back to Idaho Falls",
           "2000-01-01T00:00:00"
          ],
          [
           "Donna sustained as Rexburg North Stake Relief Society 2nd Counselor (Homemaking)",
           "1998 Jul 19",
           "Donna sustained as Rexburg North Stake Relief Soci...",
           "2000-01-01T00:00:00"
          ],
          [
           "Donna released as Relief Society Teacher Hibbard 3rd Ward",
           "1998 Sept",
           "Donna released as Relief Society Teacher Hibbard 3...",
           "2000-01-01T00:00:00"
          ],
          [
           "Kimberly graduated BYU with Bachelor of Science Degree in Microbiology.",
           "1998 Dec 18",
           "Kimberly graduated BYU with Bachelor of Science De...",
           "2000-01-01T00:00:00"
          ],
          [
           "Cruise to Panama Canal w/Amy, Kim, Gayla & Donna",
           "1999 Jan 1",
           "Cruise to Panama Canal w/Amy, Kim, Gayla & Donna",
           "2000-01-01T00:00:00"
          ],
          [
           "Kimberly engaged to Leslie W. Thompson from Missouri.",
           "1999 Jan 22",
           "Kimberly engaged to Leslie W. Thompson from Missou...",
           "2000-01-01T00:00:00"
          ],
          [
           "Steven sustained 2nd Counselor in the Columbia Falls First Ward Bishopric, Columbia Falls, Montana",
           "1999 Feb 7",
           "Steven sustained 2nd Counselor in the Columbia Fal...",
           "2000-01-01T00:00:00"
          ],
          [
           "Jenelle sustained YW Pres. in Columbia Falls 1st Ward, Columbia Falls, Montana",
           "1999 Feb 13",
           "Jenelle sustained YW Pres. in Columbia Falls 1st W...",
           "2000-01-01T00:00:00"
          ],
          [
           "Kimberly married to Leslie Thompson in Idaho Falls Temple",
           "1999 Apr 29",
           "Kimberly married to Leslie Thompson in Idaho Falls...",
           "2000-01-01T00:00:00"
          ],
          [
           "Amy received endowments in Idaho Falls Temple",
           "1999 Apr 29",
           "Amy received endowments in Idaho Falls Temple",
           "2000-01-01T00:00:00"
          ],
          [
           "Amy engaged to Lee James Carter of Spokane, Washington",
           "1999 July 18",
           "Amy engaged to Lee James Carter of Spokane, Washin...",
           "2000-01-01T00:00:00"
          ],
          [
           "Amy graduated from Utah State University Bachelor degree in Early Childhood Education",
           "1999 Aug 6",
           "Amy graduated from Utah State University Bachelor ...",
           "2000-01-01T00:00:00"
          ],
          [
           "David had angioplasty in Missoula, Montana",
           "1999 Aug",
           "David had angioplasty in Missoula, Montana",
           "2000-01-01T00:00:00"
          ],
          [
           "KC received his Eagle Scout award, Ammon 8th Ward, Ammon, Idaho Stake",
           "1999 Sep 12",
           "KC received his Eagle Scout award, Ammon 8th Ward,...",
           "2000-01-01T00:00:00"
          ],
          [
           "Amy married to Lee James Carter in Idaho Falls Temple",
           "1999 Sep 17",
           "Amy married to Lee James Carter in Idaho Falls Tem...",
           "2000-01-01T00:00:00"
          ],
          [
           "Noah Dee Hardy born 9 lbs. 1 oz. to Susan & Monty Ogden, Utah",
           "1999 Sep 29",
           "Noah Dee Hardy born 9 lbs. 1 oz. to Susan & Monty ...",
           "2000-01-01T00:00:00"
          ],
          [
           "David Bishop Columbia Falls 1st Ward, Kalispell Stake Montana",
           "1999 Oct 10",
           "David Bishop Columbia Falls 1st Ward, Kalispell St...",
           "2000-01-01T00:00:00"
          ],
          [
           "Steven High Counselor in Kalispell Stake, Columbia Falls, Montana",
           "1999 Oct",
           "Steven High Counselor in Kalispell Stake, Columbia...",
           "2000-01-01T00:00:00"
          ],
          [
           "Noah Dee blessed by his father, Monty, in Washington Terrace 4th Ward, Washington Terrace Stake (Actually at family gathering in Rexburg)",
           "1999 Nov 27",
           "Noah Dee blessed by his father, Monty, in Washingt...",
           "2000-01-01T00:00:00"
          ],
          [
           "Les graduated BYU International Relations",
           "2000 Apr",
           "Les graduated BYU International Relations",
           "2000-01-01T00:00:00"
          ],
          [
           "Matthew Graduated Hillcrest High School",
           "2000 May",
           "Matthew Graduated Hillcrest High School",
           "2000-01-01T00:00:00"
          ],
          [
           "Matthew Graduated Seminary Hillcrest High School",
           "2000 May",
           "Matthew Graduated Seminary Hillcrest High School",
           "2000-01-01T00:00:00"
          ],
          [
           "Les enters Army",
           "2000 Jul",
           "Les enters Army",
           "2000-01-01T00:00:00"
          ],
          [
           "Les promoted to 1st Lieutenant",
           "2000 Aug 1",
           "Les promoted to 1st Lieutenant",
           "2000-01-01T00:00:00"
          ],
          [
           "Donna Released Relief Society 2nd Counselor in North Rexburg Stake",
           "2000 Aug",
           "Donna Released Relief Society 2nd Counselor in Nor...",
           "2000-01-01T00:00:00"
          ],
          [
           "Donna Released as Temple Worker Idaho Falls Temple",
           "2000 Aug",
           "Donna Released as Temple Worker Idaho Falls Temple",
           "2000-01-01T00:00:00"
          ],
          [
           "Donna Released as Visiting Teacher Hibbard Third Ward",
           "2000 Aug",
           "Donna Released as Visiting Teacher Hibbard Third W...",
           "2000-01-01T00:00:00"
          ],
          [
           "Donna 1st Family History Mission Salt Lake City, Utah Joseph Smith Bldg. 4th Floor",
           "2000 Aug 3",
           "Donna 1st Family History Mission Salt Lake City, U...",
           "2000-01-01T00:00:00"
          ],
          [
           "Donna Sustained Pianist of Family History Mission Choir",
           "2000 Aug",
           "Donna Sustained Pianist of Family History Mission ...",
           "2000-01-01T00:00:00"
          ],
          [
           "Copeland Patrick Carter born 6 lb. Provo, Utah to Lee & Amy (Hepatatic Coliostasis)",
           "2000 Dec 15",
           "Copeland Patrick Carter born 6 lb. Provo, Utah to ...",
           "2000-01-01T00:00:00"
          ],
          [
           "Donna sustained Ward Choir Director Eagle Gate Third Ward",
           "2001 Jan 1",
           "Donna sustained Ward Choir Director Eagle Gate Thi...",
           "2000-01-01T00:00:00"
          ],
          [
           "Copeland blessed by his father, Lee Carter, in BYU 176th Ward, Provo, Utah,",
           "2001 Feb 4",
           "Copeland blessed by his father, Lee Carter, in BYU...",
           "2000-01-01T00:00:00"
          ],
          [
           "Lee Carter graduated from BYU Bachelor Degree in Pre-Med",
           "2001 Apr 26",
           "Lee Carter graduated from BYU Bachelor Degree in P...",
           "2000-01-01T00:00:00"
          ],
          [
           "Donna released Ward Choir Director Eagle Gate Third Ward",
           "2001 Jul 1",
           "Donna released Ward Choir Director Eagle Gate Thir...",
           "2000-01-01T00:00:00"
          ],
          [
           "Donna released from Mission Salt Lake City",
           "2001 Jul 27",
           "Donna released from Mission Salt Lake City",
           "2000-01-01T00:00:00"
          ],
          [
           "Donna Sustained Visiting Teacher Hibbard Third Ward",
           "2001 Aug",
           "Donna Sustained Visiting Teacher Hibbard Third War...",
           "2000-01-01T00:00:00"
          ],
          [
           "Donna Sustained Ward Family History Consultant Hibbard Third Ward",
           "2001 Aug",
           "Donna Sustained Ward Family History Consultant Hib...",
           "2000-01-01T00:00:00"
          ],
          [
           "Donna Conducted Cantabile Singers again 1 year",
           "2001 Sep",
           "Donna Conducted Cantabile Singers again 1 year",
           "2000-01-01T00:00:00"
          ],
          [
           "Kim & Les moved to Fort Bragg, Fayetteville, North Carolina",
           "2001 Sep",
           "Kim & Les moved to Fort Bragg, Fayetteville, North...",
           "2000-01-01T00:00:00"
          ],
          [
           "Matthew Mission England, Bristol",
           "2001 Sep 21",
           "Matthew Mission England, Bristol",
           "2000-01-01T00:00:00"
          ],
          [
           "First Girl Vacation to Kim’s & Williamsburg",
           "2001 Oct",
           "First Girl Vacation to Kim’s & Williamsburg",
           "2000-01-01T00:00:00"
          ],
          [
           "Les Ward Clerk Fayetteville 3rd Ward, Fayetteville Stake",
           "2002 Jan",
           "Les Ward Clerk Fayetteville 3rd Ward, Fayetteville...",
           "2000-01-01T00:00:00"
          ],
          [
           "Donna returned to mission in SLC for the Olympics for 1 month",
           "2001 Feb",
           "Donna returned to mission in SLC for the Olympics ...",
           "2000-01-01T00:00:00"
          ],
          [
           "Donna 2nd Part-time Service Missionary Family History Center",
           "2002 May",
           "Donna 2nd Part-time Service Missionary Family Hist...",
           "2000-01-01T00:00:00"
          ],
          [
           "Donna retired Director FINALLY after 28 years Cantabile Singers",
           "2002 May",
           "Donna retired Director FINALLY after 28 years Cant...",
           "2000-01-01T00:00:00"
          ],
          [
           "Kim Primary President Fayetteville 3rd Ward",
           "2002 May",
           "Kim Primary President Fayetteville 3rd Ward",
           "2000-01-01T00:00:00"
          ],
          [
           "Donna hysterectomy",
           "2002 Jun 18",
           "Donna hysterectomy",
           "2000-01-01T00:00:00"
          ],
          [
           "KC ordained Elder Ammon 8th Ward",
           "2002 Jul 14",
           "KC ordained Elder Ammon 8th Ward",
           "2000-01-01T00:00:00"
          ],
          [
           "Les promoted to Captain in Army",
           "2002 Aug 1",
           "Les promoted to Captain in Army",
           "2000-01-01T00:00:00"
          ],
          [
           "Lacey Studentbody President Columbia Falls High school",
           "2002-2003",
           "Lacey Studentbody President Columbia Falls High sc...",
           "2000-01-01T00:00:00"
          ],
          [
           "Donna Honorary conductor Cantabile Singers",
           "2002-2003",
           "Donna Honorary conductor Cantabile Singers",
           "2000-01-01T00:00:00"
          ],
          [
           "Jenelle RS 2nd Counselor",
           "2002 Oct",
           "Jenelle RS 2nd Counselor",
           "2000-01-01T00:00:00"
          ],
          [
           "Donna released Ward Family History Consultant",
           "2002 Nov 10",
           "Donna released Ward Family History Consultant",
           "2000-01-01T00:00:00"
          ],
          [
           "Donna sustained Ward Extraction Specialist",
           "2002 Nov 10",
           "Donna sustained Ward Extraction Specialist",
           "2000-01-01T00:00:00"
          ],
          [
           "Donna on Caribbean Cruise with David & Jenelle’s Family",
           "2002 Nov",
           "Donna on Caribbean Cruise with David & Jenelle’s F...",
           "2000-01-01T00:00:00"
          ],
          [
           "KC Endowed IF Temple",
           "2003 Feb 22",
           "KC Endowed IF Temple",
           "2000-01-01T00:00:00"
          ],
          [
           "Hannah baptized in Ammon, Idaho",
           "2003 Mar 29",
           "Hannah baptized in Ammon, Idaho",
           "2000-01-01T00:00:00"
          ],
          [
           "Donna 3rd part-time service Mission at Family History Center",
           "2003 May",
           "Donna 3rd part-time service Mission at Family Hist...",
           "2000-01-01T00:00:00"
          ],
          [
           "KC Mission to Buenos Aires West, Argentina",
           "2003 Apr 15",
           "KC Mission to Buenos Aires West, Argentina",
           "2000-01-01T00:00:00"
          ],
          [
           "Lacey graduated from Columbia Falls High School",
           "2003 Jun 1",
           "Lacey graduated from Columbia Falls High School",
           "2000-01-01T00:00:00"
          ],
          [
           "Parker & Lacey lived with Grandma while going to BYUI summer term",
           "2003 Jun-2003 Aug",
           "Parker & Lacey lived with Grandma while going to B...",
           "2000-01-01T00:00:00"
          ],
          [
           "Deidra YW President Columbia Falls Ward",
           "2003",
           "Deidra YW President Columbia Falls Ward",
           "2000-01-01T00:00:00"
          ],
          [
           "Ammon Charles Hardy born Ogden, Utah",
           "2003 Jun 18",
           "Ammon Charles Hardy born Ogden, Utah",
           "2000-01-01T00:00:00"
          ],
          [
           "Donna Old Ladies trip Church History",
           "2003 Jul 9-2003 Jul 22",
           "Donna Old Ladies trip Church History",
           "2000-01-01T00:00:00"
          ],
          [
           "Kim & Les moved to Seoul, Korea",
           "2003",
           "Kim & Les moved to Seoul, Korea",
           "2000-01-01T00:00:00"
          ],
          [
           "Ammon Hardy blessed by his father, Monty, Warren Ward, Weber, Stake UT",
           "2003 Aug 2",
           "Ammon Hardy blessed by his father, Monty, Warren W...",
           "2000-01-01T00:00:00"
          ],
          [
           "Brigham baptized by his father, Monty, Warren Ward",
           "2003 Aug 2",
           "Brigham baptized by his father, Monty, Warren Ward",
           "2000-01-01T00:00:00"
          ],
          [
           "Parker received Eagle Scout Award",
           "2003 Aug",
           "Parker received Eagle Scout Award",
           "2000-01-01T00:00:00"
          ],
          [
           "Sisters Week at Susan’s",
           "2003 Aug 16",
           "Sisters Week at Susan’s",
           "2000-01-01T00:00:00"
          ],
          [
           "Steven has exchange student Natalia from Brazil",
           "2003 Sep",
           "Steven has exchange student Natalia from Brazil",
           "2000-01-01T00:00:00"
          ],
          [
           "Lyndee Student Body Vice President Columbia Falls High School",
           "2003",
           "Lyndee Student Body Vice President Columbia Falls ...",
           "2000-01-01T00:00:00"
          ],
          [
           "Donna’s left knee operated on for tears",
           "2003 Sep 18",
           "Donna’s left knee operated on for tears",
           "2000-01-01T00:00:00"
          ],
          [
           "Donna’s right knee operated on for tears",
           "2003 Oct 16",
           "Donna’s right knee operated on for tears",
           "2000-01-01T00:00:00"
          ],
          [
           "Hardy Family in “Joseph’s Technicolor Dream Coat”",
           "2003 Nov 14",
           "Hardy Family in “Joseph’s Technicolor Dream Coat”",
           "2000-01-01T00:00:00"
          ],
          [
           "Maria Nelson Endowed IF Temple",
           "2003 Nov 18",
           "Maria Nelson Endowed IF Temple",
           "2000-01-01T00:00:00"
          ],
          [
           "Kim’s baby shower/Maria’s bridal shower",
           "2003 Nov 21",
           "Kim’s baby shower/Maria’s bridal shower",
           "2000-01-01T00:00:00"
          ],
          [
           "Matthew & Maria Married IF Temple",
           "2003 Nov 22",
           "Matthew & Maria Married IF Temple",
           "2000-01-01T00:00:00"
          ],
          [
           "Ethan Marc Carter born 5 lb. 13 oz. Columbus, Franklin, Ohio",
           "2003 Dec 31",
           "Ethan Marc Carter born 5 lb. 13 oz. Columbus, Fran...",
           "2000-01-01T00:00:00"
          ],
          [
           "David 1st Counselor Young Men’s/Varsity Coach",
           "2004",
           "David 1st Counselor Young Men’s/Varsity Coach",
           "2000-01-01T00:00:00"
          ],
          [
           "Donna trip to Columbus. Ohio for Amy’s baby Ethan",
           "2004 Jan 1",
           "Donna trip to Columbus. Ohio for Amy’s baby Ethan",
           "2000-01-01T00:00:00"
          ],
          [
           "Les Scoutmaster Seoul, Korea",
           "2004 Jan",
           "Les Scoutmaster Seoul, Korea",
           "2000-01-01T00:00:00"
          ],
          [
           "Lee Ward Mission Leader, Columbus, Ohio",
           "2004 Jan",
           "Lee Ward Mission Leader, Columbus, Ohio",
           "2000-01-01T00:00:00"
          ],
          [
           "Donna trip to Korea for Kim’s baby William",
           "2004 Jan 24-2004 Feb 19",
           "Donna trip to Korea for Kim’s baby William",
           "2000-01-01T00:00:00"
          ],
          [
           "Leslie William Thompson Jr. born Yongsan-gu, Seoul, Korea",
           "2004 Jan 29",
           "Leslie William Thompson Jr. born Yongsan-gu, Seoul...",
           "2000-01-01T00:00:00"
          ],
          [
           "Katelan President Freshman Class Columbia Falls",
           "2004 Jan",
           "Katelan President Freshman Class Columbia Falls",
           "2000-01-01T00:00:00"
          ],
          [
           "Leslie William blessed by his father, Yongsan Military Branch, Korea Military District, Seoul, Korea",
           "2004 Mar 7",
           "Leslie William blessed by his father, Yongsan Mili...",
           "2000-01-01T00:00:00"
          ],
          [
           "Jaylan baptized by Blair Ammon 8th Ward, Ammon Idaho Stake",
           "2004 Mar 24",
           "Jaylan baptized by Blair Ammon 8th Ward, Ammon Ida...",
           "2000-01-01T00:00:00"
          ],
          [
           "Paul ordained a Teacher by his father, Blair in Ammon 8th Ward, Ammon Idaho Stake",
           "2004 Mar 24",
           "Paul ordained a Teacher by his father, Blair in Am...",
           "2000-01-01T00:00:00"
          ],
          [
           "Ethan Marc Carter blessed by his father, Worthington Ward, Columbus North Stake, Columbus, Ohio",
           "2004 Mar 28",
           "Ethan Marc Carter blessed by his father, Worthingt...",
           "2000-01-01T00:00:00"
          ],
          [
           "Matthew & Maria lived with Grandma while building their house",
           "2004 Mar-2004 Aug",
           "Matthew & Maria lived with Grandma while building ...",
           "2000-01-01T00:00:00"
          ],
          [
           "Donna Asst. Ward Choir Leader Hibbard Third Ward",
           "2004 Apr",
           "Donna Asst. Ward Choir Leader Hibbard Third Ward",
           "2000-01-01T00:00:00"
          ],
          [
           "Susan Secretary of R. S. Presidency, Warren Ward, Warren, Utah",
           "2004 May",
           "Susan Secretary of R. S. Presidency, Warren Ward, ...",
           "2000-01-01T00:00:00"
          ],
          [
           "Lacey R. S. President of BYUI Ward",
           "2004 May",
           "Lacey R. S. President of BYUI Ward",
           "2000-01-01T00:00:00"
          ],
          [
           "Danae baptized by Parker in Columbia Falls Ward, Kalispell Stake, Montana",
           "2004 Jun 5",
           "Danae baptized by Parker in Columbia Falls Ward, K...",
           "2000-01-01T00:00:00"
          ],
          [
           "Parker Graduated Columbia Falls High School",
           "2004 Jun 5",
           "Parker Graduated Columbia Falls High School",
           "2000-01-01T00:00:00"
          ],
          [
           "Parker Graduated LDS Seminary",
           "2004 Jun",
           "Parker Graduated LDS Seminary",
           "2000-01-01T00:00:00"
          ],
          [
           "McKelle & Parker graduated Columbia Falls High School",
           "2004 Jun 5",
           "McKelle & Parker graduated Columbia Falls High Sch...",
           "2000-01-01T00:00:00"
          ],
          [
           "Katelan named Outstanding Student in Columbia Falls Jr. High",
           "2004 Jun 8",
           "Katelan named Outstanding Student in Columbia Fall...",
           "2000-01-01T00:00:00"
          ],
          [
           "McKelle endowed & sealed to Joshua Brown in Cardston, Canada Temple",
           "2004 Jun 18",
           "McKelle endowed & sealed to Joshua Brown in Cardst...",
           "2000-01-01T00:00:00"
          ],
          [
           "KC home from mission in Argentina",
           "2004 Jul 21",
           "KC home from mission in Argentina",
           "2000-01-01T00:00:00"
          ],
          [
           "Kim & Les Moved to Waegon, Korea",
           "2004 Sep",
           "Kim & Les Moved to Waegon, Korea",
           "2000-01-01T00:00:00"
          ],
          [
           "Donna called on 4th mission 2 years to Family History Center in Rexburg as a Service Missionary",
           "2004 Oct 30",
           "Donna called on 4th mission 2 years to Family Hist...",
           "2000-01-01T00:00:00"
          ],
          [
           "Lacey endowed in the Idaho Falls Temple",
           "2004 Nov 19",
           "Lacey endowed in the Idaho Falls Temple",
           "2000-01-01T00:00:00"
          ],
          [
           "Kim called as 2nd Counselor in the District Relief Society Presidency in Korea.",
           "2004 Nov",
           "Kim called as 2nd Counselor in the District Relief...",
           "2000-01-01T00:00:00"
          ],
          [
           "Lyndee Awarded Young Womanhood Recognition Columbia Falls, Montana",
           "2004 Nov 23",
           "Lyndee Awarded Young Womanhood Recognition Columbi...",
           "2000-01-01T00:00:00"
          ],
          [
           "Les called as 1st Counselor of the Taegu English Branch in Korea",
           "2004 Dec 5",
           "Les called as 1st Counselor of the Taegu English B...",
           "2000-01-01T00:00:00"
          ],
          [
           "Capt. Leslie Thompson takes over as Commander in Waegwon, Korea",
           "2004 Dec 10",
           "Capt. Leslie Thompson takes over as Commander in W...",
           "2000-01-01T00:00:00"
          ],
          [
           "Lacey & Sam Stoddard sealed in the Idaho Falls Temple",
           "2004 Dec 18",
           "Lacey & Sam Stoddard sealed in the Idaho Falls Tem...",
           "2000-01-01T00:00:00"
          ],
          [
           "Donna released Ward Extraction Specialist",
           "2005",
           "Donna released Ward Extraction Specialist",
           "2000-01-01T00:00:00"
          ],
          [
           "David & Family lived with Grandma while moving from Montana",
           "2005 Feb- 2005 Jun",
           "David & Family lived with Grandma while moving fro...",
           "2000-01-01T00:00:00"
          ]
         ],
         "hoverinfo": "skip",
         "hovertemplate": "<b>%{hovertext}</b><br><br>When=%{customdata[1]}<extra></extra>",
         "hovertext": [
          "Amy graduated Madison High School High Honors",
          "Scholarship Ricks College ½ ride",
          "Brigham Marc born Washington Terrace, Utah",
          "Brigham blessed Rexburg, Idaho, officially Washington Terrace 4th Ward, Washington Terrace Stake, Utah",
          "Amy started Ricks College",
          "Donna discovers breast cancer",
          "Hannah officially adopted to Blair and Carlene",
          "Hannah sealed to Blair & Carlene Denver Temple",
          "Dee & Donna traveled to Denver to Temple",
          "Hannah Nicole blessed by Blair in Denver, Colorado",
          "Donna double mastectomy for breast cancer LDS Hospital Salt Lake City, Utah Dr. Richard Price, Dr. William Riley",
          "Kimberly nominated & made 1st cut for Woman of the Year at Ricks College",
          "Donna started phase #1 Breast Reconstruction",
          "Jaylan born Chicago, Illinois",
          "Lyndee Trishell baptized by Steven in Las Vegas Morningsun Ward, Sunrise Stake",
          "KC ordained Deacon in Aaronic Priesthood by Blair North Platt Ward, Kearney Stake",
          "Maureen Rieggers to the Temple for her Endowments",
          "Kimberly graduated Ricks College Associates Degree in Science",
          "Kim & Amy went to Europe w/Ricks College Humanitarian Tour",
          "Dee & Donna Cruise to Alaska w/Thueson brothers & cousin Kelel",
          "Amy to Jackson Hole, Wyoming to work for the summer at Ranch Inn.",
          "Matthew shot in eye w/BB gun in Nebraska",
          "Matthew surgery on eye",
          "Jaylan came to Blair & Carlene in hospital",
          "Danae Nicole born to Steve & Deidre Las Vegas, Nevada",
          "Dee & Donna trip to Nebraska & Nauvoo, Illinois to see Ray & LaVona who were missionaries",
          "Danae blessed by Steven in Morningsun Ward, Sunrise Stake, Las Vegas, Nevada",
          "Kim to Las Vegas trip",
          "Donna Breast Reconstruction operation LDS Hospital Dr. Gary Hunter",
          "Amy moved into Greenbriar for Ricks College",
          "Amy Leadership Training Camp Ricks College",
          "Kim to Brigham Young University as Junior",
          "Amy to Ricks College as Sophomore",
          "Donna 2nd Counselor YW Pres. Hibbard 3rd Ward",
          "David & family moved to Columbia Falls, Montana to start new Bark Plant",
          "Donna joined Civic Club",
          "Steve & family move to Columbia Falls, Montana",
          "Dee & Donna to Columbia Falls, Montana in new maroon Cadillac",
          "Dee retired from the OK TIRE STORE after 32 years co-owner with Clair",
          "Dee & Donna, Kim & Amy, to Columbia Falls, Montana",
          "Dee had 4 strokes in 5 days. In hospital at Rexburg & LDS Hospital in Salt Lake City",
          "Jaylan adopted to Blair & Carlene",
          "Jaylan sealed to Blair & Carlene in IF Temple. All Kids here.",
          "Jaylan blessed by Blair Idaho Falls",
          "Dee & Donna 40th wedding anniversary party given by children at the \t\t\t\t\tPinebrook house",
          "Madison LaRae born in Columbia Falls, Montana",
          "Dee & Donna to Montana to bless Madison",
          "Madison LaRae blessed by David Columbia Falls Ward, Kalispell Stake",
          "Dee & Donna & Kim Nebraska when Church Sesquicentennial Wagon train came through",
          "Matthew received Eagle Scout Award in North Platte 2nd Ward, Kearney, Nebraska Stake",
          "Matthew shot in the eye with BB gun, operation, lost sight in one eye",
          "Paul Baptized by Blair in North Platte 2nd Ward, Kearney, Nebraska Stake",
          "Tacy Lyneve Hardy born in Ogden, Utah to Susan & Monty Hardy",
          "4\t\tAmy graduated Ricks College w/Associates degree in Elementary Education",
          "7\t\tAmy & Kim to Columbia Falls, Montana",
          "9\t\tDee & Donna 2 Holy Land Tour to Missouri church sites, & Jerusalem, Israel",
          "7\t\tKimberly to Jerusalem for BYU Study Abroad Semester",
          "Dee Chairman of Rigby High School class of 1957 Reunion",
          "Utah Church Sesquicentennial Celebration 24th of July",
          "Dee & Donna & Grandma Burrows to Columbia Falls, Montana",
          "Maureen Burrows Rieggers married to Rod Briscoe",
          "9\t\tMaureen Burrows sealed to Rod Briscoe in IF Temple",
          "Dee & Donna, Kim & Amy at Hardy's Thanksgiving Ogden, Utah",
          "Dee 1st Counselor Bishopric Ricks College 21st Ward, 5th Ricks College Stake",
          "Dee & Donna, Kim, Amy to Nebraska Christmas",
          "Dee & Donna Montana",
          "Parker ordained a Deacon by Steven in Columbia Falls Ward, Kalispell Montana Stake",
          "DEE DIED of massive heart attack with no warning",
          "Dee buried in Sugar City Cemetery",
          "Donna released as YW 1st Counselor Hibbard 3rd Ward",
          "Donna sustained as RS Teacher (Brigham Young lessons)",
          "Donna, Amy, Monty & Susan’s family went to Montana",
          "Katelan baptized by David in Columbia Falls Ward, Kalispell Stake Montana",
          "Blake baptized by Steven in Columbia Falls Ward, Kalispell Stake Montana",
          "Blair & Carlene moved back to Idaho Falls",
          "Donna sustained as Rexburg North Stake Relief Society 2nd Counselor (Homemaking)",
          "Donna released as Relief Society Teacher Hibbard 3rd Ward",
          "Kimberly graduated BYU with Bachelor of Science Degree in Microbiology.",
          "Cruise to Panama Canal w/Amy, Kim, Gayla & Donna",
          "Kimberly engaged to Leslie W. Thompson from Missouri.",
          "Steven sustained 2nd Counselor in the Columbia Falls First Ward Bishopric, Columbia Falls, Montana",
          "Jenelle sustained YW Pres. in Columbia Falls 1st Ward, Columbia Falls, Montana",
          "Kimberly married to Leslie Thompson in Idaho Falls Temple",
          "Amy received endowments in Idaho Falls Temple",
          "Amy engaged to Lee James Carter of Spokane, Washington",
          "Amy graduated from Utah State University Bachelor degree in Early Childhood Education",
          "David had angioplasty in Missoula, Montana",
          "KC received his Eagle Scout award, Ammon 8th Ward, Ammon, Idaho Stake",
          "Amy married to Lee James Carter in Idaho Falls Temple",
          "Noah Dee Hardy born 9 lbs. 1 oz. to Susan & Monty Ogden, Utah",
          "David Bishop Columbia Falls 1st Ward, Kalispell Stake Montana",
          "Steven High Counselor in Kalispell Stake, Columbia Falls, Montana",
          "Noah Dee blessed by his father, Monty, in Washington Terrace 4th Ward, Washington Terrace Stake (Actually at family gathering in Rexburg)",
          "Les graduated BYU International Relations",
          "Matthew Graduated Hillcrest High School",
          "Matthew Graduated Seminary Hillcrest High School",
          "Les enters Army",
          "Les promoted to 1st Lieutenant",
          "Donna Released Relief Society 2nd Counselor in North Rexburg Stake",
          "Donna Released as Temple Worker Idaho Falls Temple",
          "Donna Released as Visiting Teacher Hibbard Third Ward",
          "Donna 1st Family History Mission Salt Lake City, Utah Joseph Smith Bldg. 4th Floor",
          "Donna Sustained Pianist of Family History Mission Choir",
          "Copeland Patrick Carter born 6 lb. Provo, Utah to Lee & Amy (Hepatatic Coliostasis)",
          "Donna sustained Ward Choir Director Eagle Gate Third Ward",
          "Copeland blessed by his father, Lee Carter, in BYU 176th Ward, Provo, Utah,",
          "Lee Carter graduated from BYU Bachelor Degree in Pre-Med",
          "Donna released Ward Choir Director Eagle Gate Third Ward",
          "Donna released from Mission Salt Lake City",
          "Donna Sustained Visiting Teacher Hibbard Third Ward",
          "Donna Sustained Ward Family History Consultant Hibbard Third Ward",
          "Donna Conducted Cantabile Singers again 1 year",
          "Kim & Les moved to Fort Bragg, Fayetteville, North Carolina",
          "Matthew Mission England, Bristol",
          "First Girl Vacation to Kim’s & Williamsburg",
          "Les Ward Clerk Fayetteville 3rd Ward, Fayetteville Stake",
          "Donna returned to mission in SLC for the Olympics for 1 month",
          "Donna 2nd Part-time Service Missionary Family History Center",
          "Donna retired Director FINALLY after 28 years Cantabile Singers",
          "Kim Primary President Fayetteville 3rd Ward",
          "Donna hysterectomy",
          "KC ordained Elder Ammon 8th Ward",
          "Les promoted to Captain in Army",
          "Lacey Studentbody President Columbia Falls High school",
          "Donna Honorary conductor Cantabile Singers",
          "Jenelle RS 2nd Counselor",
          "Donna released Ward Family History Consultant",
          "Donna sustained Ward Extraction Specialist",
          "Donna on Caribbean Cruise with David & Jenelle’s Family",
          "KC Endowed IF Temple",
          "Hannah baptized in Ammon, Idaho",
          "Donna 3rd part-time service Mission at Family History Center",
          "KC Mission to Buenos Aires West, Argentina",
          "Lacey graduated from Columbia Falls High School",
          "Parker & Lacey lived with Grandma while going to BYUI summer term",
          "Deidra YW President Columbia Falls Ward",
          "Ammon Charles Hardy born Ogden, Utah",
          "Donna Old Ladies trip Church History",
          "Kim & Les moved to Seoul, Korea",
          "Ammon Hardy blessed by his father, Monty, Warren Ward, Weber, Stake UT",
          "Brigham baptized by his father, Monty, Warren Ward",
          "Parker received Eagle Scout Award",
          "Sisters Week at Susan’s",
          "Steven has exchange student Natalia from Brazil",
          "Lyndee Student Body Vice President Columbia Falls High School",
          "Donna’s left knee operated on for tears",
          "Donna’s right knee operated on for tears",
          "Hardy Family in “Joseph’s Technicolor Dream Coat”",
          "Maria Nelson Endowed IF Temple",
          "Kim’s baby shower/Maria’s bridal shower",
          "Matthew & Maria Married IF Temple",
          "Ethan Marc Carter born 5 lb. 13 oz. Columbus, Franklin, Ohio",
          "David 1st Counselor Young Men’s/Varsity Coach",
          "Donna trip to Columbus. Ohio for Amy’s baby Ethan",
          "Les Scoutmaster Seoul, Korea",
          "Lee Ward Mission Leader, Columbus, Ohio",
          "Donna trip to Korea for Kim’s baby William",
          "Leslie William Thompson Jr. born Yongsan-gu, Seoul, Korea",
          "Katelan President Freshman Class Columbia Falls",
          "Leslie William blessed by his father, Yongsan Military Branch, Korea Military District, Seoul, Korea",
          "Jaylan baptized by Blair Ammon 8th Ward, Ammon Idaho Stake",
          "Paul ordained a Teacher by his father, Blair in Ammon 8th Ward, Ammon Idaho Stake",
          "Ethan Marc Carter blessed by his father, Worthington Ward, Columbus North Stake, Columbus, Ohio",
          "Matthew & Maria lived with Grandma while building their house",
          "Donna Asst. Ward Choir Leader Hibbard Third Ward",
          "Susan Secretary of R. S. Presidency, Warren Ward, Warren, Utah",
          "Lacey R. S. President of BYUI Ward",
          "Danae baptized by Parker in Columbia Falls Ward, Kalispell Stake, Montana",
          "Parker Graduated Columbia Falls High School",
          "Parker Graduated LDS Seminary",
          "McKelle & Parker graduated Columbia Falls High School",
          "Katelan named Outstanding Student in Columbia Falls Jr. High",
          "McKelle endowed & sealed to Joshua Brown in Cardston, Canada Temple",
          "KC home from mission in Argentina",
          "Kim & Les Moved to Waegon, Korea",
          "Donna called on 4th mission 2 years to Family History Center in Rexburg as a Service Missionary",
          "Lacey endowed in the Idaho Falls Temple",
          "Kim called as 2nd Counselor in the District Relief Society Presidency in Korea.",
          "Lyndee Awarded Young Womanhood Recognition Columbia Falls, Montana",
          "Les called as 1st Counselor of the Taegu English Branch in Korea",
          "Capt. Leslie Thompson takes over as Commander in Waegwon, Korea",
          "Lacey & Sam Stoddard sealed in the Idaho Falls Temple",
          "Donna released Ward Extraction Specialist",
          "David & Family lived with Grandma while moving from Montana"
         ],
         "legendgroup": "",
         "marker": {
          "color": "#636efa",
          "line": {
           "width": 0
          },
          "pattern": {
           "shape": ""
          }
         },
         "name": "",
         "offsetgroup": "",
         "orientation": "h",
         "showlegend": false,
         "text": [
          "Amy graduated Madison High School High Honors",
          "Scholarship Ricks College ½ ride",
          "Brigham Marc born Washington Terrace, Utah",
          "Brigham blessed Rexburg, Idaho, officially Washing...",
          "Amy started Ricks College",
          "Donna discovers breast cancer",
          "Hannah officially adopted to Blair and Carlene",
          "Hannah sealed to Blair & Carlene Denver Temple",
          "Dee & Donna traveled to Denver to Temple",
          "Hannah Nicole blessed by Blair in Denver, Colorado",
          "Donna double mastectomy for breast cancer LDS Hosp...",
          "Kimberly nominated & made 1st cut for Woman of the...",
          "Donna started phase #1 Breast Reconstruction",
          "Jaylan born Chicago, Illinois",
          "Lyndee Trishell baptized by Steven in Las Vegas Mo...",
          "KC ordained Deacon in Aaronic Priesthood by Blair ...",
          "Maureen Rieggers to the Temple for her Endowments",
          "Kimberly graduated Ricks College Associates Degree...",
          "Kim & Amy went to Europe w/Ricks College Humanitar...",
          "Dee & Donna Cruise to Alaska w/Thueson brothers & ...",
          "Amy to Jackson Hole, Wyoming to work for the summe...",
          "Matthew shot in eye w/BB gun in Nebraska",
          "Matthew surgery on eye",
          "Jaylan came to Blair & Carlene in hospital",
          "Danae Nicole born to Steve & Deidre Las Vegas, Nev...",
          "Dee & Donna trip to Nebraska & Nauvoo, Illinois to...",
          "Danae blessed by Steven in Morningsun Ward, Sunris...",
          "Kim to Las Vegas trip",
          "Donna Breast Reconstruction operation LDS Hospital...",
          "Amy moved into Greenbriar for Ricks College",
          "Amy Leadership Training Camp Ricks College",
          "Kim to Brigham Young University as Junior",
          "Amy to Ricks College as Sophomore",
          "Donna 2nd Counselor YW Pres. Hibbard 3rd Ward",
          "David & family moved to Columbia Falls, Montana to...",
          "Donna joined Civic Club",
          "Steve & family move to Columbia Falls, Montana",
          "Dee & Donna to Columbia Falls, Montana in new maro...",
          "Dee retired from the OK TIRE STORE after 32 years ...",
          "Dee & Donna, Kim & Amy, to Columbia Falls, Montana",
          "Dee had 4 strokes in 5 days. In hospital at Rexbur...",
          "Jaylan adopted to Blair & Carlene",
          "Jaylan sealed to Blair & Carlene in IF Temple. All...",
          "Jaylan blessed by Blair Idaho Falls",
          "Dee & Donna 40th wedding anniversary party given b...",
          "Madison LaRae born in Columbia Falls, Montana",
          "Dee & Donna to Montana to bless Madison",
          "Madison LaRae blessed by David Columbia Falls Ward...",
          "Dee & Donna & Kim Nebraska when Church Sesquicente...",
          "Matthew received Eagle Scout Award in North Platte...",
          "Matthew shot in the eye with BB gun, operation, lo...",
          "Paul Baptized by Blair in North Platte 2nd Ward, K...",
          "Tacy Lyneve Hardy born in Ogden, Utah to Susan & M...",
          "4\t\tAmy graduated Ricks College w/Associates degree...",
          "7\t\tAmy & Kim to Columbia Falls, Montana",
          "9\t\tDee & Donna 2 Holy Land Tour to Missouri church...",
          "7\t\tKimberly to Jerusalem for BYU Study Abroad Seme...",
          "Dee Chairman of Rigby High School class of 1957 Re...",
          "Utah Church Sesquicentennial Celebration 24th of J...",
          "Dee & Donna & Grandma Burrows to Columbia Falls, M...",
          "Maureen Burrows Rieggers married to Rod Briscoe",
          "9\t\tMaureen Burrows sealed to Rod Briscoe in IF Tem...",
          "Dee & Donna, Kim & Amy at Hardy's Thanksgiving Ogd...",
          "Dee 1st Counselor Bishopric Ricks College 21st War...",
          "Dee & Donna, Kim, Amy to Nebraska Christmas",
          "Dee & Donna Montana",
          "Parker ordained a Deacon by Steven in Columbia Fal...",
          "DEE DIED of massive heart attack with no warning",
          "Dee buried in Sugar City Cemetery",
          "Donna released as YW 1st Counselor Hibbard 3rd War...",
          "Donna sustained as RS Teacher (Brigham Young lesso...",
          "Donna, Amy, Monty & Susan’s family went to Montana",
          "Katelan baptized by David in Columbia Falls Ward, ...",
          "Blake baptized by Steven in Columbia Falls Ward, K...",
          "Blair & Carlene moved back to Idaho Falls",
          "Donna sustained as Rexburg North Stake Relief Soci...",
          "Donna released as Relief Society Teacher Hibbard 3...",
          "Kimberly graduated BYU with Bachelor of Science De...",
          "Cruise to Panama Canal w/Amy, Kim, Gayla & Donna",
          "Kimberly engaged to Leslie W. Thompson from Missou...",
          "Steven sustained 2nd Counselor in the Columbia Fal...",
          "Jenelle sustained YW Pres. in Columbia Falls 1st W...",
          "Kimberly married to Leslie Thompson in Idaho Falls...",
          "Amy received endowments in Idaho Falls Temple",
          "Amy engaged to Lee James Carter of Spokane, Washin...",
          "Amy graduated from Utah State University Bachelor ...",
          "David had angioplasty in Missoula, Montana",
          "KC received his Eagle Scout award, Ammon 8th Ward,...",
          "Amy married to Lee James Carter in Idaho Falls Tem...",
          "Noah Dee Hardy born 9 lbs. 1 oz. to Susan & Monty ...",
          "David Bishop Columbia Falls 1st Ward, Kalispell St...",
          "Steven High Counselor in Kalispell Stake, Columbia...",
          "Noah Dee blessed by his father, Monty, in Washingt...",
          "Les graduated BYU International Relations",
          "Matthew Graduated Hillcrest High School",
          "Matthew Graduated Seminary Hillcrest High School",
          "Les enters Army",
          "Les promoted to 1st Lieutenant",
          "Donna Released Relief Society 2nd Counselor in Nor...",
          "Donna Released as Temple Worker Idaho Falls Temple",
          "Donna Released as Visiting Teacher Hibbard Third W...",
          "Donna 1st Family History Mission Salt Lake City, U...",
          "Donna Sustained Pianist of Family History Mission ...",
          "Copeland Patrick Carter born 6 lb. Provo, Utah to ...",
          "Donna sustained Ward Choir Director Eagle Gate Thi...",
          "Copeland blessed by his father, Lee Carter, in BYU...",
          "Lee Carter graduated from BYU Bachelor Degree in P...",
          "Donna released Ward Choir Director Eagle Gate Thir...",
          "Donna released from Mission Salt Lake City",
          "Donna Sustained Visiting Teacher Hibbard Third War...",
          "Donna Sustained Ward Family History Consultant Hib...",
          "Donna Conducted Cantabile Singers again 1 year",
          "Kim & Les moved to Fort Bragg, Fayetteville, North...",
          "Matthew Mission England, Bristol",
          "First Girl Vacation to Kim’s & Williamsburg",
          "Les Ward Clerk Fayetteville 3rd Ward, Fayetteville...",
          "Donna returned to mission in SLC for the Olympics ...",
          "Donna 2nd Part-time Service Missionary Family Hist...",
          "Donna retired Director FINALLY after 28 years Cant...",
          "Kim Primary President Fayetteville 3rd Ward",
          "Donna hysterectomy",
          "KC ordained Elder Ammon 8th Ward",
          "Les promoted to Captain in Army",
          "Lacey Studentbody President Columbia Falls High sc...",
          "Donna Honorary conductor Cantabile Singers",
          "Jenelle RS 2nd Counselor",
          "Donna released Ward Family History Consultant",
          "Donna sustained Ward Extraction Specialist",
          "Donna on Caribbean Cruise with David & Jenelle’s F...",
          "KC Endowed IF Temple",
          "Hannah baptized in Ammon, Idaho",
          "Donna 3rd part-time service Mission at Family Hist...",
          "KC Mission to Buenos Aires West, Argentina",
          "Lacey graduated from Columbia Falls High School",
          "Parker & Lacey lived with Grandma while going to B...",
          "Deidra YW President Columbia Falls Ward",
          "Ammon Charles Hardy born Ogden, Utah",
          "Donna Old Ladies trip Church History",
          "Kim & Les moved to Seoul, Korea",
          "Ammon Hardy blessed by his father, Monty, Warren W...",
          "Brigham baptized by his father, Monty, Warren Ward",
          "Parker received Eagle Scout Award",
          "Sisters Week at Susan’s",
          "Steven has exchange student Natalia from Brazil",
          "Lyndee Student Body Vice President Columbia Falls ...",
          "Donna’s left knee operated on for tears",
          "Donna’s right knee operated on for tears",
          "Hardy Family in “Joseph’s Technicolor Dream Coat”",
          "Maria Nelson Endowed IF Temple",
          "Kim’s baby shower/Maria’s bridal shower",
          "Matthew & Maria Married IF Temple",
          "Ethan Marc Carter born 5 lb. 13 oz. Columbus, Fran...",
          "David 1st Counselor Young Men’s/Varsity Coach",
          "Donna trip to Columbus. Ohio for Amy’s baby Ethan",
          "Les Scoutmaster Seoul, Korea",
          "Lee Ward Mission Leader, Columbus, Ohio",
          "Donna trip to Korea for Kim’s baby William",
          "Leslie William Thompson Jr. born Yongsan-gu, Seoul...",
          "Katelan President Freshman Class Columbia Falls",
          "Leslie William blessed by his father, Yongsan Mili...",
          "Jaylan baptized by Blair Ammon 8th Ward, Ammon Ida...",
          "Paul ordained a Teacher by his father, Blair in Am...",
          "Ethan Marc Carter blessed by his father, Worthingt...",
          "Matthew & Maria lived with Grandma while building ...",
          "Donna Asst. Ward Choir Leader Hibbard Third Ward",
          "Susan Secretary of R. S. Presidency, Warren Ward, ...",
          "Lacey R. S. President of BYUI Ward",
          "Danae baptized by Parker in Columbia Falls Ward, K...",
          "Parker Graduated Columbia Falls High School",
          "Parker Graduated LDS Seminary",
          "McKelle & Parker graduated Columbia Falls High Sch...",
          "Katelan named Outstanding Student in Columbia Fall...",
          "McKelle endowed & sealed to Joshua Brown in Cardst...",
          "KC home from mission in Argentina",
          "Kim & Les Moved to Waegon, Korea",
          "Donna called on 4th mission 2 years to Family Hist...",
          "Lacey endowed in the Idaho Falls Temple",
          "Kim called as 2nd Counselor in the District Relief...",
          "Lyndee Awarded Young Womanhood Recognition Columbi...",
          "Les called as 1st Counselor of the Taegu English B...",
          "Capt. Leslie Thompson takes over as Commander in W...",
          "Lacey & Sam Stoddard sealed in the Idaho Falls Tem...",
          "Donna released Ward Extraction Specialist",
          "David & Family lived with Grandma while moving fro..."
         ],
         "textposition": "auto",
         "type": "bar",
         "x": [
          864000000,
          864000000,
          864000000,
          864000000,
          864000000,
          864000000,
          864000000,
          864000000,
          864000000,
          864000000,
          864000000,
          864000000,
          864000000,
          864000000,
          864000000,
          864000000,
          864000000,
          864000000,
          2332800000,
          777600000,
          8035200000,
          864000000,
          864000000,
          864000000,
          864000000,
          1123200000,
          864000000,
          345600000,
          864000000,
          864000000,
          864000000,
          864000000,
          864000000,
          864000000,
          864000000,
          864000000,
          864000000,
          432000000,
          864000000,
          864000000,
          345600000,
          28944000000,
          864000000,
          864000000,
          864000000,
          864000000,
          432000000,
          864000000,
          518400000,
          864000000,
          28944000000,
          864000000,
          864000000,
          864000000,
          864000000,
          864000000,
          864000000,
          864000000,
          864000000,
          604800000,
          864000000,
          864000000,
          864000000,
          864000000,
          432000000,
          345600000,
          864000000,
          864000000,
          864000000,
          864000000,
          864000000,
          864000000,
          864000000,
          864000000,
          864000000,
          864000000,
          864000000,
          864000000,
          864000000,
          864000000,
          864000000,
          864000000,
          864000000,
          864000000,
          864000000,
          864000000,
          864000000,
          864000000,
          864000000,
          864000000,
          864000000,
          864000000,
          864000000,
          864000000,
          864000000,
          864000000,
          864000000,
          864000000,
          864000000,
          864000000,
          864000000,
          864000000,
          864000000,
          864000000,
          864000000,
          864000000,
          864000000,
          864000000,
          864000000,
          864000000,
          864000000,
          864000000,
          864000000,
          864000000,
          864000000,
          864000000,
          864000000,
          864000000,
          864000000,
          864000000,
          864000000,
          864000000,
          864000000,
          60480000000,
          60480000000,
          864000000,
          864000000,
          864000000,
          864000000,
          950400000,
          864000000,
          864000000,
          864000000,
          864000000,
          5270400000,
          28944000000,
          864000000,
          1123200000,
          28944000000,
          864000000,
          864000000,
          864000000,
          864000000,
          864000000,
          28944000000,
          864000000,
          864000000,
          864000000,
          864000000,
          864000000,
          864000000,
          864000000,
          28857600000,
          864000000,
          864000000,
          864000000,
          2246400000,
          864000000,
          864000000,
          864000000,
          864000000,
          864000000,
          864000000,
          13219200000,
          864000000,
          864000000,
          864000000,
          864000000,
          864000000,
          864000000,
          864000000,
          864000000,
          864000000,
          864000000,
          864000000,
          864000000,
          864000000,
          864000000,
          864000000,
          864000000,
          864000000,
          864000000,
          28857600000,
          10368000000
         ],
         "xaxis": "x2",
         "y": [
          -4,
          -5,
          -6,
          -7,
          -8,
          -9,
          -10,
          -11,
          -12,
          -13,
          -14,
          -15,
          -16,
          15,
          14,
          13,
          12,
          11,
          10,
          9,
          8,
          7,
          6,
          5,
          4,
          3,
          2,
          1,
          -1,
          -2,
          -3,
          -4,
          -5,
          -6,
          -7,
          -8,
          -9,
          -10,
          -11,
          -12,
          -13,
          -14,
          -15,
          -16,
          15,
          14,
          13,
          12,
          11,
          10,
          9,
          8,
          7,
          6,
          5,
          4,
          3,
          2,
          1,
          -1,
          -2,
          -3,
          -4,
          -5,
          -6,
          -7,
          -8,
          -9,
          -10,
          -11,
          -12,
          -13,
          -14,
          -15,
          -16,
          15,
          14,
          13,
          12,
          11,
          10,
          9,
          8,
          7,
          6,
          5,
          4,
          3,
          2,
          1,
          -1,
          -2,
          -3,
          -4,
          -5,
          -6,
          -7,
          -8,
          -9,
          -10,
          -11,
          -12,
          -13,
          -14,
          -15,
          -16,
          15,
          14,
          13,
          12,
          11,
          10,
          9,
          8,
          7,
          6,
          5,
          4,
          3,
          2,
          1,
          -1,
          -2,
          -3,
          -4,
          -5,
          -6,
          -7,
          -8,
          -9,
          -10,
          -11,
          -12,
          -13,
          -14,
          -15,
          -16,
          15,
          14,
          13,
          12,
          11,
          10,
          9,
          8,
          7,
          6,
          5,
          4,
          3,
          2,
          1,
          -1,
          -2,
          -3,
          -4,
          -5,
          -6,
          -7,
          -8,
          -9,
          -10,
          -11,
          -12,
          -13,
          -14,
          -15,
          -16,
          15,
          14,
          13,
          12,
          11,
          10,
          9,
          8,
          7,
          6,
          5,
          4,
          3,
          2,
          1,
          -1
         ],
         "yaxis": "y2"
        },
        {
         "alignmentgroup": "True",
         "base": [
          "0006-06-13T00:00:00",
          "0006-06-14T00:00:00",
          "0006-06-15T00:00:00",
          "0006-06-09T00:00:00",
          "0006-07-02T00:00:00",
          "0006-07-09T00:00:00",
          "0006-07-15T00:00:00",
          "0006-09-07T00:00:00",
          "0006-09-09T00:00:00",
          "0006-09-09T00:00:00",
          "0006-10-25T00:00:00",
          "0006-10-09T00:00:00",
          "0006-10-09T00:00:00",
          "0006-10-09T00:00:00",
          "0006-10-09T00:00:00",
          "0006-11-02T00:00:00",
          "0006-11-15T00:00:00",
          "0006-11-25T00:00:00",
          "0006-11-25T00:00:00",
          "0006-12-25T00:00:00",
          "0007-02-09T00:00:00",
          "0007-05-26T00:00:00",
          "0007-06-09T00:00:00",
          "0007-06-09T00:00:00",
          "0007-08-09T00:00:00",
          "0007-09-09T00:00:00",
          "0007-10-09T00:00:00",
          "0007-10-09T00:00:00",
          "0007-11-19T00:00:00",
          "0007-12-18T00:00:00",
          "0007-12-20T00:00:00",
          "0008-03-09T00:00:00",
          "0008-04-12T00:00:00",
          "0008-04-09T00:00:00",
          "0008-05-13T00:00:00",
          "0008-05-16T00:00:00",
          "0008-06-17T00:00:00",
          "0008-07-09T00:00:00",
          "0008-10-01T00:00:00",
          "0008-01-09T00:00:00",
          "0008-12-09T00:00:00",
          "0009-01-15T00:00:00",
          "0009-01-09T00:00:00",
          "0009-01-24T00:00:00",
          "0009-02-11T00:00:00",
          "0009-03-02T00:00:00",
          "0009-03-23T00:00:00",
          "0009-03-23T00:00:00",
          "0009-04-09T00:00:00",
          "0009-04-20T00:00:00",
          "0009-01-09T00:00:00",
          "0009-01-09T00:00:00",
          "0009-04-27T00:00:00",
          "0009-04-09T00:00:00",
          "0009-05-03T00:00:00",
          "0009-05-21T00:00:00",
          "0009-05-09T00:00:00",
          "0009-05-28T00:00:00",
          "0009-05-09T00:00:00",
          "0009-05-31T00:00:00",
          "0009-06-03T00:00:00",
          "0009-08-16T00:00:00",
          "0009-08-16T00:00:00",
          "0009-08-21T00:00:00",
          "0009-09-09T00:00:00",
          "0009-09-09T00:00:00",
          "0009-11-16T00:00:00",
          "0009-11-16T00:00:00",
          "0009-11-19T00:00:00",
          "0009-12-09T00:00:00",
          "0009-12-24T00:00:00",
          "0009-12-31T00:00:00",
          "0010-01-03T00:00:00",
          "0010-03-03T00:00:00",
          "0010-03-19T00:00:00",
          "0010-04-01T00:00:00",
          "0010-04-09T00:00:00",
          "0010-04-10T00:00:00",
          "0010-04-11T00:00:00",
          "0010-04-22T00:00:00",
          "0010-05-09T00:00:00",
          "0010-06-14T00:00:00",
          "0010-06-17T00:00:00",
          "0010-07-01T00:00:00",
          "0010-08-09T00:00:00",
          "0010-08-09T00:00:00",
          "0010-08-01T00:00:00",
          "0010-09-12T00:00:00",
          "0010-11-16T00:00:00",
          "0010-12-03T00:00:00",
          "0010-12-16T00:00:00",
          "0001-04-09T00:00:00",
          "0001-04-28T00:00:00",
          "0001-06-06T00:00:00",
          "0001-07-09T00:00:00",
          "0001-11-09T00:00:00",
          "0001-11-28T00:00:00",
          "0002-02-11T00:00:00",
          "0002-02-12T00:00:00",
          "0002-03-15T00:00:00",
          "0002-04-09T00:00:00",
          "0002-04-03T00:00:00",
          "0002-04-10T00:00:00",
          "0002-05-01T00:00:00",
          "0002-01-09T00:00:00",
          "0002-05-24T00:00:00",
          "0002-05-09T00:00:00",
          "0002-05-31T00:00:00",
          "0002-05-09T00:00:00",
          "0002-05-09T00:00:00",
          "0002-05-26T00:00:00",
          "0002-06-11T00:00:00",
          "0002-06-25T00:00:00",
          "0002-07-06T00:00:00",
          "0002-07-09T00:00:00",
          "0002-08-07T00:00:00",
          "0002-10-16T00:00:00",
          "0002-10-01T00:00:00",
          "0003-01-22T00:00:00",
          "0003-03-11T00:00:00",
          "0003-04-09T00:00:00",
          "0003-05-21T00:00:00",
          "0003-05-09T00:00:00",
          "0003-05-09T00:00:00",
          "0003-05-09T00:00:00",
          "0003-06-23T00:00:00",
          "0003-06-23T00:00:00",
          "0003-07-08T00:00:00",
          "0003-07-20T00:00:00",
          "0003-08-09T00:00:00",
          "0003-08-15T00:00:00",
          "0003-08-15T00:00:00",
          "0003-10-08T00:00:00",
          "0003-11-27T00:00:00",
          "0004-01-06T00:00:00",
          "0004-03-29T00:00:00",
          "0004-06-09T00:00:00",
          "0004-06-09T00:00:00",
          "0004-07-09T00:00:00",
          "0004-07-27T00:00:00",
          "0004-08-16T00:00:00",
          "0004-01-09T00:00:00",
          "0004-10-03T00:00:00",
          "0004-10-09T00:00:00",
          "0004-10-03T00:00:00",
          "0004-12-09T00:00:00",
          "0004-12-08T00:00:00",
          "0004-12-22T00:00:00",
          "0005-01-09T00:00:00",
          "0005-01-12T00:00:00",
          "0005-01-21T00:00:00",
          "0005-02-09T00:00:00",
          "0005-04-18T00:00:00",
          "0005-03-21T00:00:00",
          "0005-05-26T00:00:00",
          "0005-06-10T00:00:00",
          "0005-01-09T00:00:00",
          "0005-06-09T00:00:00",
          "0005-06-29T00:00:00",
          "0005-07-04T00:00:00",
          "0005-01-09T00:00:00",
          "0005-09-09T00:00:00",
          "0005-09-09T00:00:00",
          "0005-08-26T00:00:00",
          "0005-08-09T00:00:00",
          "0005-08-09T00:00:00",
          "0005-09-07T00:00:00",
          "0005-12-09T00:00:00",
          "0005-10-31T00:00:00",
          "0005-01-09T00:00:00",
          "0005-01-09T00:00:00",
          "0006-01-12T00:00:00",
          "0006-05-02T00:00:00",
          "0006-01-09T00:00:00",
          "0006-05-03T00:00:00",
          "0006-05-04T00:00:00",
          "0006-05-06T00:00:00",
          "0006-05-07T00:00:00",
          "0006-05-23T00:00:00"
         ],
         "customdata": [
          [
           "Donna trip to Columbus, Ohio to visit Amy",
           "2005 Jun 13",
           "Donna trip to Columbus, Ohio to visit Amy",
           "2010-01-01T00:00:00"
          ],
          [
           "Lee Carter graduated from Ohio State as Dr. of Optometry, Columbus, Ohio",
           "2005 Jun 14",
           "Lee Carter graduated from Ohio State as Dr. of Opt...",
           "2010-01-01T00:00:00"
          ],
          [
           "Lee & Amy moved to Nampa, Idaho",
           "2005 Jun 15",
           "Lee & Amy moved to Nampa, Idaho",
           "2010-01-01T00:00:00"
          ],
          [
           "Donna sustained Ward Choir Director Hibbard Third Ward",
           "2005 Jun",
           "Donna sustained Ward Choir Director Hibbard Third ...",
           "2010-01-01T00:00:00"
          ],
          [
           "Dee’s family in charge Thueson Reunion in Ashton",
           "2005 Jul 2-2005 Jul 4",
           "Dee’s family in charge Thueson Reunion in Ashton",
           "2010-01-01T00:00:00"
          ],
          [
           "Donna with Blair and Carlene to San Antonio, TX",
           "2005 Jul",
           "Donna with Blair and Carlene to San Antonio, TX",
           "2010-01-01T00:00:00"
          ],
          [
           "KC & Margie Haynes married & sealed in the Texas, San Antonio Temple",
           "2005 Jul 15",
           "KC & Margie Haynes married & sealed in the Texas, ...",
           "2010-01-01T00:00:00"
          ],
          [
           "Girls Vacation Park City, Utah",
           "2005 Sep 7-2005 Sep 10",
           "Girls Vacation Park City, Utah",
           "2010-01-01T00:00:00"
          ],
          [
           "Steve new job at Temple Dept. in SLC, Utah",
           "2005 Sep",
           "Steve new job at Temple Dept. in SLC, Utah",
           "2010-01-01T00:00:00"
          ],
          [
           "Steve’s family moved to Bountiful, Utah",
           "2005 Sep",
           "Steve’s family moved to Bountiful, Utah",
           "2010-01-01T00:00:00"
          ],
          [
           "Donna directed Music for “The Legacy Continues” North Rexburg Stake Joseph Smith Production",
           "2005 Oct 25",
           "Donna directed Music for “The Legacy Continues” No...",
           "2010-01-01T00:00:00"
          ],
          [
           "Lee & Amy moved new home in Meridian, Idaho",
           "2005 Oct",
           "Lee & Amy moved new home in Meridian, Idaho",
           "2010-01-01T00:00:00"
          ],
          [
           "Kim released as Counselor in District Relief Society Presidency Korea",
           "2005 Oct",
           "Kim released as Counselor in District Relief Socie...",
           "2010-01-01T00:00:00"
          ],
          [
           "Kim sustained RS President Daegu, Korea, Camp Walker Military Branch",
           "2005 Oct",
           "Kim sustained RS President Daegu, Korea, Camp Walk...",
           "2010-01-01T00:00:00"
          ],
          [
           "Susan & Monty became foster parents first time",
           "2005 Oct",
           "Susan & Monty became foster parents first time",
           "2010-01-01T00:00:00"
          ],
          [
           "Kysaac Matthew Thueson born in Rexburg, Idaho to Matt & Maria",
           "2005 Nov 2",
           "Kysaac Matthew Thueson born in Rexburg, Idaho to M...",
           "2010-01-01T00:00:00"
          ],
          [
           "Ellie Lynn Brown born to McKelle & Joshua Brown in Glendive, Montana",
           "2005 Nov 15",
           "Ellie Lynn Brown born to McKelle & Joshua Brown in...",
           "2010-01-01T00:00:00"
          ],
          [
           "Kysaac Matthew blessed at our home by Matthew Thueson, father",
           "2005 Nov 25",
           "Kysaac Matthew blessed at our home by Matthew Thue...",
           "2010-01-01T00:00:00"
          ],
          [
           "Blair ordained a High Priest at our home by his brother, Steven Thueson",
           "2005 Nov 25",
           "Blair ordained a High Priest at our home by his br...",
           "2010-01-01T00:00:00"
          ],
          [
           "Ellie Lynn Blessed by her father in Glendive Ward, Glendive Stake, Montana",
           "2005 Dec 25",
           "Ellie Lynn Blessed by her father in Glendive Ward,...",
           "2010-01-01T00:00:00"
          ],
          [
           "Donna Beta1 Tester for the New FamilySearch Program for Church online",
           "2006 Feb",
           "Donna Beta1 Tester for the New FamilySearch Progra...",
           "2010-01-01T00:00:00"
          ],
          [
           "Haylee Savannah Thueson born in Pocatello, Idaho 4 months early, weighed 2 lbs. 11 oz.",
           "2006 May 26",
           "Haylee Savannah Thueson born in Pocatello, Idaho 4...",
           "2010-01-01T00:00:00"
          ],
          [
           "Lyndee graduated Bountiful High School",
           "2006 Jun",
           "Lyndee graduated Bountiful High School",
           "2010-01-01T00:00:00"
          ],
          [
           "Lyndee graduated LDS Seminary in Bountiful, Utah",
           "2006 Jun",
           "Lyndee graduated LDS Seminary in Bountiful, Utah",
           "2010-01-01T00:00:00"
          ],
          [
           "Haylee Savannah blessed by KC Thueson Pocatello",
           "2006 Aug",
           "Haylee Savannah blessed by KC Thueson Pocatello",
           "2010-01-01T00:00:00"
          ],
          [
           "Lacey & Sam lived with Grandma waiting for house",
           "2006 Sep- 2006 Dec",
           "Lacey & Sam lived with Grandma waiting for house",
           "2010-01-01T00:00:00"
          ],
          [
           "Released from 2 year Part time Service Mission at FHC",
           "2006 Oct",
           "Released from 2 year Part time Service Mission at ...",
           "2010-01-01T00:00:00"
          ],
          [
           "Donna Sustained as Ward Family History Consultant to continue to serve at FHC",
           "2006 Oct",
           "Donna Sustained as Ward Family History Consultant ...",
           "2010-01-01T00:00:00"
          ],
          [
           "Paul Received his Eagle Scout Award, Ammon 8th Ward, Ammon Idaho Stake",
           "2006 Nov 19",
           "Paul Received his Eagle Scout Award, Ammon 8th War...",
           "2010-01-01T00:00:00"
          ],
          [
           "Donna called to World Wide Support Part time Service 5th Mission (tech support to New FamilySearch Program for the church online)",
           "2006 Dec 18",
           "Donna called to World Wide Support Part time Servi...",
           "2010-01-01T00:00:00"
          ],
          [
           "Lacey Thueson Stoddard graduated BYUI as a Nurse",
           "2006 Dec 20",
           "Lacey Thueson Stoddard graduated BYUI as a Nurse",
           "2010-01-01T00:00:00"
          ],
          [
           "Donna Beta2 Tester for the New FamilySearch Program for Church online",
           "2007 Mar",
           "Donna Beta2 Tester for the New FamilySearch Progra...",
           "2010-01-01T00:00:00"
          ],
          [
           "Alyssa LaRae Brown born Glendive, Montana",
           "2007 Apr 12",
           "Alyssa LaRae Brown born Glendive, Montana",
           "2010-01-01T00:00:00"
          ],
          [
           "Grandma Burrows has Breast Cancer operation age 89 years 11 months",
           "2007 Apr",
           "Grandma Burrows has Breast Cancer operation age 89...",
           "2010-01-01T00:00:00"
          ],
          [
           "Blake awarded his Eagle Scout Award in Bountiful, Utah",
           "2007 May 13",
           "Blake awarded his Eagle Scout Award in Bountiful, ...",
           "2010-01-01T00:00:00"
          ],
          [
           "KC graduated Army Boot Camp Sent to Fort Drum, New York",
           "2007 May 16",
           "KC graduated Army Boot Camp Sent to Fort Drum, New...",
           "2010-01-01T00:00:00"
          ],
          [
           "Brigham ordained Deacon by Monty in West Warren Ward, Weber, Utah North Stake",
           "2007 Jun 17",
           "Brigham ordained Deacon by Monty in West Warren Wa...",
           "2010-01-01T00:00:00"
          ],
          [
           "Donna redecorated Pinebrook house",
           "2007 Jul",
           "Donna redecorated Pinebrook house",
           "2010-01-01T00:00:00"
          ],
          [
           "Hampton Dee Thueson born Portland, Oregon",
           "2007 Oct 1",
           "Hampton Dee Thueson born Portland, Oregon",
           "2010-01-01T00:00:00"
          ],
          [
           "Hampton Dee blessed by Matthew Thueson",
           "2007",
           "Hampton Dee blessed by Matthew Thueson",
           "2010-01-01T00:00:00"
          ],
          [
           "Donna Released from World Wide Support part time Mission",
           "2007 Dec",
           "Donna Released from World Wide Support part time M...",
           "2010-01-01T00:00:00"
          ],
          [
           "Lydia Elizabeth Carter born in Boise, Idaho",
           "2008 Jan 15",
           "Lydia Elizabeth Carter born in Boise, Idaho",
           "2010-01-01T00:00:00"
          ],
          [
           "Donna and Susan trip to Maryland for Kim’s baby.",
           "2008 Jan",
           "Donna and Susan trip to Maryland for Kim’s baby.",
           "2010-01-01T00:00:00"
          ],
          [
           "Andrew James Thompson born in Bethesda, Montgomery, Maryland",
           "2008 Jan 24",
           "Andrew James Thompson born in Bethesda, Montgomery...",
           "2010-01-01T00:00:00"
          ],
          [
           "Easton Dee & Noemi Fe Thueson born in Syracuse, New York. Easton was 2 lbs. 12 oz. 7 Noemi was 2 lbs. 13 oz. They were 11 weeks early.",
           "2008 Feb 11",
           "Easton Dee & Noemi Fe Thueson born in Syracuse, Ne...",
           "2010-01-01T00:00:00"
          ],
          [
           "Lydia Elizabeth Blessed by Lee Carter in Nampa 33rd Ward, Nampa North Stake",
           "2008 Mar 2",
           "Lydia Elizabeth Blessed by Lee Carter in Nampa 33r...",
           "2010-01-01T00:00:00"
          ],
          [
           "Jaylan ordained Deacon by his father Ammon 8th Ward, Ammon Idaho Stake",
           "2008 Mar 23",
           "Jaylan ordained Deacon by his father Ammon 8th War...",
           "2010-01-01T00:00:00"
          ],
          [
           "Paul ordained Elder",
           "2008 Mar 23",
           "Paul ordained Elder",
           "2010-01-01T00:00:00"
          ],
          [
           "Donna Right Eye Surgery Ptirgium",
           "2008 Apr",
           "Donna Right Eye Surgery Ptirgium",
           "2010-01-01T00:00:00"
          ],
          [
           "Andrew James Blessed by Capt. Leslie Thompson Hibbard Third Ward, \t\t\t\t\tNorth \tRexburg Idaho Stake",
           "2008 Apr 20",
           "Andrew James Blessed by Capt. Leslie Thompson Hibb...",
           "2010-01-01T00:00:00"
          ],
          [
           "Melissa & Emma officially adopted to Susan & Monty",
           "2008",
           "Melissa & Emma officially adopted to Susan & Monty",
           "2010-01-01T00:00:00"
          ],
          [
           "Sam Stoddard graduates BYU-I w/Bachelors Degree",
           "2008",
           "Sam Stoddard graduates BYU-I w/Bachelors Degree",
           "2010-01-01T00:00:00"
          ],
          [
           "Capt. Leslie Thompson leaves for Kansas on the way to Iraq",
           "2008 Apr 27",
           "Capt. Leslie Thompson leaves for Kansas on the way...",
           "2010-01-01T00:00:00"
          ],
          [
           "Kim & kids come to live with Grandma T",
           "2008 Apr",
           "Kim & kids come to live with Grandma T",
           "2010-01-01T00:00:00"
          ],
          [
           "Matthew graduated School of Cordon Bleu in Oregon",
           "2008 May 3",
           "Matthew graduated School of Cordon Bleu in Oregon",
           "2010-01-01T00:00:00"
          ],
          [
           "Katelan graduated High School at Sugar-Salem, Idaho",
           "2008 May 21",
           "Katelan graduated High School at Sugar-Salem, Idah...",
           "2010-01-01T00:00:00"
          ],
          [
           "Katelan graduated Seminary at Sugar-Salem High School",
           "2008 May",
           "Katelan graduated Seminary at Sugar-Salem High Sch...",
           "2010-01-01T00:00:00"
          ],
          [
           "Paul graduated Hillcrest High School in Idaho Falls, Idaho",
           "2008 May 28",
           "Paul graduated Hillcrest High School in Idaho Fall...",
           "2010-01-01T00:00:00"
          ],
          [
           "Paul Graduated Seminary, Hillcrest High School",
           "2008 May",
           "Paul Graduated Seminary, Hillcrest High School",
           "2010-01-01T00:00:00"
          ],
          [
           "Blake graduated Bountiful High School in Bountiful, Utah",
           "2008 May 31",
           "Blake graduated Bountiful High School in Bountiful...",
           "2010-01-01T00:00:00"
          ],
          [
           "Paul Endowed in Idaho Falls Temple",
           "2008 Jun 3",
           "Paul Endowed in Idaho Falls Temple",
           "2010-01-01T00:00:00"
          ],
          [
           "Lyndee Endowed in Salt Lake Temple",
           "2008 Aug 16",
           "Lyndee Endowed in Salt Lake Temple",
           "2010-01-01T00:00:00"
          ],
          [
           "Parker Endowed in Salt Lake Temple",
           "2008 Aug 16",
           "Parker Endowed in Salt Lake Temple",
           "2010-01-01T00:00:00"
          ],
          [
           "Lyndee & Shane Ririe married in Salt Lake Temple",
           "2008 Aug 21",
           "Lyndee & Shane Ririe married in Salt Lake Temple",
           "2010-01-01T00:00:00"
          ],
          [
           "Donna Left Eye Cataract removed",
           "2008 Sep",
           "Donna Left Eye Cataract removed",
           "2010-01-01T00:00:00"
          ],
          [
           "Donna Right Eye Cataract removed",
           "2008 Sep",
           "Donna Right Eye Cataract removed",
           "2010-01-01T00:00:00"
          ],
          [
           "David made High Councilman in Rexburg Idaho Henry's Fork Stake",
           "2008 Nov 16",
           "David made High Councilman in Rexburg Idaho Henry'...",
           "2010-01-01T00:00:00"
          ],
          [
           "Parker's Mission Farewell in 25th Ward, Bountiful, Utah",
           "2008 Nov 16",
           "Parker's Mission Farewell in 25th Ward, Bountiful,...",
           "2010-01-01T00:00:00"
          ],
          [
           "Parker leaves for Mission in Rancagua, Chile",
           "2008 Nov 19",
           "Parker leaves for Mission in Rancagua, Chile",
           "2010-01-01T00:00:00"
          ],
          [
           "Les promoted to Major while in Iraq, Kim & kids live w/Mom",
           "2008 Dec",
           "Les promoted to Major while in Iraq, Kim & kids li...",
           "2010-01-01T00:00:00"
          ],
          [
           "Danae breaks her ankle",
           "2008 Dec 24",
           "Danae breaks her ankle",
           "2010-01-01T00:00:00"
          ],
          [
           "Mom & Kim & kids to Boise",
           "2008 Dec 31",
           "Mom & Kim & kids to Boise",
           "2010-01-01T00:00:00"
          ],
          [
           "Copeland Carter baptized in Meridian",
           "2009 Jan 3",
           "Copeland Carter baptized in Meridian",
           "2010-01-01T00:00:00"
          ],
          [
           "Major Les home from Iraq for R&R",
           "2009 Mar 3-2009 Mar 20",
           "Major Les home from Iraq for R&R",
           "2010-01-01T00:00:00"
          ],
          [
           "Steve promoted in Temple Dept. to Area Manager",
           "2009 Mar 19",
           "Steve promoted in Temple Dept. to Area Manager",
           "2010-01-01T00:00:00"
          ],
          [
           "Samuel Maxwell Stoddard born Cody, Park, Wyoming",
           "2009 Apr 1",
           "Samuel Maxwell Stoddard born Cody, Park, Wyoming",
           "2010-01-01T00:00:00"
          ],
          [
           "Shane graduated BYU-I Bachelor Degree in Business",
           "2009 Apr",
           "Shane graduated BYU-I Bachelor Degree in Business",
           "2010-01-01T00:00:00"
          ],
          [
           "Katelan Married & Sealed to Garren Shakespear in Idaho Falls Temple",
           "2009 Apr 10",
           "Katelan Married & Sealed to Garren Shakespear in I...",
           "2010-01-01T00:00:00"
          ],
          [
           "Melissa & Emma Hardy sealed in IF Temple to Monty & Susan Hardy",
           "2009 Apr 11",
           "Melissa & Emma Hardy sealed in IF Temple to Monty ...",
           "2010-01-01T00:00:00"
          ],
          [
           "Paul leaves for California, Santa Rosa Mission",
           "2009 Apr 22",
           "Paul leaves for California, Santa Rosa Mission",
           "2010-01-01T00:00:00"
          ],
          [
           "Les receives University of Maryland Master's Degree in Information Management",
           "2009 May",
           "Les receives University of Maryland Master's Degre...",
           "2010-01-01T00:00:00"
          ],
          [
           "Tyler received Eagle Scout in Salem Ward",
           "2009 Jun 14",
           "Tyler received Eagle Scout in Salem Ward",
           "2010-01-01T00:00:00"
          ],
          [
           "Cole Wyatt Brown born to Joshua & McKelle Glendive, Montana",
           "2009 Jun 17",
           "Cole Wyatt Brown born to Joshua & McKelle Glendive...",
           "2010-01-01T00:00:00"
          ],
          [
           "Blake leaves for Brazil, Buenos Aires South Mission",
           "2009 Jul 1",
           "Blake leaves for Brazil, Buenos Aires South Missio...",
           "2010-01-01T00:00:00"
          ],
          [
           "Kim leaves for Eppstein-Volckenhousen, Germany to be with Les",
           "2009 Aug",
           "Kim leaves for Eppstein-Volckenhousen, Germany to ...",
           "2010-01-01T00:00:00"
          ],
          [
           "Les serves on Generals Staff in Wiesbaden, Germany",
           "2009 Aug",
           "Les serves on Generals Staff in Wiesbaden, Germany",
           "2010-01-01T00:00:00"
          ],
          [
           "Samuel Maxwell Stoddard adopted to Lacey & Sam",
           "2009 Aug 1",
           "Samuel Maxwell Stoddard adopted to Lacey & Sam",
           "2010-01-01T00:00:00"
          ],
          [
           "Samuel Maxwell sealed in Rexburg temple & blessed by his father, Sam",
           "2009 Sep 12",
           "Samuel Maxwell sealed in Rexburg temple & blessed ...",
           "2010-01-01T00:00:00"
          ],
          [
           "Matt & Maria move back to Rexburg, Idaho",
           "2009 Nov 16",
           "Matt & Maria move back to Rexburg, Idaho",
           "2010-01-01T00:00:00"
          ],
          [
           "Donna Eye surgery retina peel after hobo spider bite",
           "2009 Dec 3",
           "Donna Eye surgery retina peel after hobo spider bi...",
           "2010-01-01T00:00:00"
          ],
          [
           "David had a heart attack in Rexburg",
           "2009 Dec 16",
           "David had a heart attack in Rexburg",
           "2010-01-01T00:00:00"
          ],
          [
           "Katelan Graduated Registered Nurse at BYU Idaho",
           "2010 Apr 9",
           "Katelan Graduated Registered Nurse at BYU Idaho",
           "2010-01-01T00:00:00"
          ],
          [
           "Madden Elijah Thueson born to Matt & Maria Rexburg, Idaho",
           "2010 28 Apr",
           "Madden Elijah Thueson born to Matt & Maria Rexburg...",
           "2010-01-01T00:00:00"
          ],
          [
           "Madden blessed by his father Matthew in Rexburg 5th Ward, Rexburg Idaho Stake",
           "2010 June 6",
           "Madden blessed by his father Matthew in Rexburg 5t...",
           "2010-01-01T00:00:00"
          ],
          [
           "Kim Counselor in Relief Society Presidency Wiesbaden, Germany",
           "2010 Jul",
           "Kim Counselor in Relief Society Presidency Wiesbad...",
           "2010-01-01T00:00:00"
          ],
          [
           "Donna & Blair & Carlene go to Hawaii w/Steve & Deidra for Hawaii Temple Rededication",
           "2010 Nov",
           "Donna & Blair & Carlene go to Hawaii w/Steve & Dei...",
           "2010-01-01T00:00:00"
          ],
          [
           "Parker returns from mission in Rancagua, Chile",
           "2010 Nov. 28",
           "Parker returns from mission in Rancagua, Chile",
           "2010-01-01T00:00:00"
          ],
          [
           "Girls Weekend All girls to Grandmas House",
           "2011 Feb 11",
           "Girls Weekend All girls to Grandmas House",
           "2010-01-01T00:00:00"
          ],
          [
           "Weston Ririe born to Lyndee & Shane Rexburg, Idaho",
           "2011 Feb 12",
           "Weston Ririe born to Lyndee & Shane Rexburg, Idaho",
           "2010-01-01T00:00:00"
          ],
          [
           "McKay Garren Shakespeare born to Katelan & Garren Rexburg, Idaho",
           "2011 Mar 15",
           "McKay Garren Shakespeare born to Katelan & Garren ...",
           "2010-01-01T00:00:00"
          ],
          [
           "Paul returns from California, Santa Rosa mission",
           "2011 April",
           "Paul returns from California, Santa Rosa mission",
           "2010-01-01T00:00:00"
          ],
          [
           "Weston blessed by his father Shane Ririe in Rexburg, Idaho",
           "2011 Apr 3",
           "Weston blessed by his father Shane Ririe in Rexbur...",
           "2010-01-01T00:00:00"
          ],
          [
           "Kim Relief Society President, Germany, Wiesbaden Military Ward, Kaiser Fouten Military District",
           "2011 Apr 10",
           "Kim Relief Society President, Germany, Wiesbaden M...",
           "2010-01-01T00:00:00"
          ],
          [
           "McKay Shakespeare blessed by Garren in Salem 1st Ward at David’s House 13",
           "2011 May 1",
           "McKay Shakespeare blessed by Garren in Salem 1st W...",
           "2010-01-01T00:00:00"
          ],
          [
           "Danae Sophomore Class President Bountiful High School",
           "2011-2012",
           "Danae Sophomore Class President Bountiful High Sch...",
           "2010-01-01T00:00:00"
          ],
          [
           "Jordan graduated Weber High School, Ogden, Utah",
           "2011 May 24",
           "Jordan graduated Weber High School, Ogden, Utah",
           "2010-01-01T00:00:00"
          ],
          [
           "Jordan graduated LDS Seminary Weber High School, Ogden Utah",
           "2011 May",
           "Jordan graduated LDS Seminary Weber High School, O...",
           "2010-01-01T00:00:00"
          ],
          [
           "Camren Graduated Bountiful High School",
           "2011 May 31",
           "Camren Graduated Bountiful High School",
           "2010-01-01T00:00:00"
          ],
          [
           "Camren Graduated LDS Seminary Bountiful, Utah",
           "2011 May",
           "Camren Graduated LDS Seminary Bountiful, Utah",
           "2010-01-01T00:00:00"
          ],
          [
           "Danae on Bountiful City Youth Council",
           "2011 May",
           "Danae on Bountiful City Youth Council",
           "2010-01-01T00:00:00"
          ],
          [
           "Donna & Bethany to Europe, Germany, Paris, w/Kim & Les, Austria, Italy also        \t\t\tAmy & Lee",
           "2011 May 26- 2011 Jun 24",
           "Donna & Bethany to Europe, Germany, Paris, w/Kim &...",
           "2010-01-01T00:00:00"
          ],
          [
           "McKaylee Stoddard born to Sam and Lacey Rexburg, Idaho",
           "2011 Jun 11",
           "McKaylee Stoddard born to Sam and Lacey Rexburg, I...",
           "2010-01-01T00:00:00"
          ],
          [
           "Jordan Received His Eagle Scout Award, Warren Ward",
           "2011 Jun 25",
           "Jordan Received His Eagle Scout Award, Warren Ward",
           "2010-01-01T00:00:00"
          ],
          [
           "Blake returns from mission to Argentina, Buenos Aires South",
           "2011 Jul 6",
           "Blake returns from mission to Argentina, Buenos Ai...",
           "2010-01-01T00:00:00"
          ],
          [
           "Parker marries Karissa Welch in the Draper LDS Temple",
           "2011 Jul 9",
           "Parker marries Karissa Welch in the Draper LDS Tem...",
           "2010-01-01T00:00:00"
          ],
          [
           "McKaylee blessed by her father",
           "2011 Aug 7",
           "McKaylee blessed by her father",
           "2010-01-01T00:00:00"
          ],
          [
           "Donna’s mother Bernice Johnson Burrows died",
           "2011 Oct 16",
           "Donna’s mother Bernice Johnson Burrows died",
           "2010-01-01T00:00:00"
          ],
          [
           "Lacey & Sam family moved to Midlothian, Virginia",
           "2011 Oct 1",
           "Lacey & Sam family moved to Midlothian, Virginia",
           "2010-01-01T00:00:00"
          ],
          [
           "Camren Served LDS Mission Belgium/Netherlands",
           "2012 Jan 22",
           "Camren Served LDS Mission Belgium/Netherlands",
           "2010-01-01T00:00:00"
          ],
          [
           "Jaylan received Eagle Scout Award Ammon 8th Ward, Ammon, Idaho Stake",
           "2012 Mar 11",
           "Jaylan received Eagle Scout Award Ammon 8th Ward, ...",
           "2010-01-01T00:00:00"
          ],
          [
           "Les Receives International GeoSpatial Agency Fellowship",
           "2012 Apr",
           "Les Receives International GeoSpatial Agency Fello...",
           "2010-01-01T00:00:00"
          ],
          [
           "Allyx Thueson born Matt & Maria Rexburg, Idaho",
           "2012 May 21",
           "Allyx Thueson born Matt & Maria Rexburg, Idaho",
           "2010-01-01T00:00:00"
          ],
          [
           "Bethany leaves for LDS Mission Spokane, Washington",
           "2012 May",
           "Bethany leaves for LDS Mission Spokane, Washington",
           "2010-01-01T00:00:00"
          ],
          [
           "Tyler graduated Sugar-Salem High School",
           "2012 May",
           "Tyler graduated Sugar-Salem High School",
           "2010-01-01T00:00:00"
          ],
          [
           "Tyler graduated Seminary Sugar-Salem High School",
           "2012 May",
           "Tyler graduated Seminary Sugar-Salem High School",
           "2010-01-01T00:00:00"
          ],
          [
           "Blake married Kelli McOmie in Bountiful Temple",
           "2012 Jun 23",
           "Blake married Kelli McOmie in Bountiful Temple",
           "2010-01-01T00:00:00"
          ],
          [
           "Jordan leaves for LDS mission Chihuahua, Mexico",
           "2012 Jun 23",
           "Jordan leaves for LDS mission Chihuahua, Mexico",
           "2010-01-01T00:00:00"
          ],
          [
           "Allyx blessed in Rexburg 5th Ward, Rexburg Idaho Center Stake by her father",
           "2012 July 8",
           "Allyx blessed in Rexburg 5th Ward, Rexburg Idaho C...",
           "2010-01-01T00:00:00"
          ],
          [
           "Matthew graduated from BYU Idaho Bachelor Degree in Business",
           "2012 July 20",
           "Matthew graduated from BYU Idaho Bachelor Degree i...",
           "2010-01-01T00:00:00"
          ],
          [
           "Kim & Les Family moved to Washington, D.C. area, Springfield, Virginia",
           "2012 Aug",
           "Kim & Les Family moved to Washington, D.C. area, S...",
           "2010-01-01T00:00:00"
          ],
          [
           "Tyler leaves for LDS mission New York, Rochester",
           "2012 Aug 15",
           "Tyler leaves for LDS mission New York, Rochester",
           "2010-01-01T00:00:00"
          ],
          [
           "Amy & Lee in Meridian, Idaho",
           "2012 Aug 15",
           "Amy & Lee in Meridian, Idaho",
           "2010-01-01T00:00:00"
          ],
          [
           "Liam Carter born to Amy & Lee Carter Meridian, Idaho",
           "2012 Oct 8",
           "Liam Carter born to Amy & Lee Carter Meridian, Ida...",
           "2010-01-01T00:00:00"
          ],
          [
           "Benson D Shakespear born to Katelan & Garren Rexburg, Idaho",
           "2012 Nov 27",
           "Benson D Shakespear born to Katelan & Garren Rexbu...",
           "2010-01-01T00:00:00"
          ],
          [
           "Benson Blessed by his father, in Salem 1st Ward, Salem, Idaho",
           "2013 Jan 6",
           "Benson Blessed by his father, in Salem 1st Ward, S...",
           "2010-01-01T00:00:00"
          ],
          [
           "Paul marries Rebecca Harker in San Antonio, Texas",
           "2013 March 29",
           "Paul marries Rebecca Harker in San Antonio, Texas",
           "2010-01-01T00:00:00"
          ],
          [
           "Hannah Graduates Hillcrest High School",
           "2013 June",
           "Hannah Graduates Hillcrest High School",
           "2010-01-01T00:00:00"
          ],
          [
           "Hannah graduates Seminary Hillcrest High School",
           "2013 Jun",
           "Hannah graduates Seminary Hillcrest High School",
           "2010-01-01T00:00:00"
          ],
          [
           "Les & Kim moved to Korea with Army",
           "2013 Jul",
           "Les & Kim moved to Korea with Army",
           "2010-01-01T00:00:00"
          ],
          [
           "KC graduated Paul Mitchell Cosmetology School, San Antonio, Texas",
           "2013 July 27",
           "KC graduated Paul Mitchell Cosmetology School, San...",
           "2010-01-01T00:00:00"
          ],
          [
           "Andelyn Ririe Born to Lyndee & Shane in Hurricane, West Virginia",
           "2013 Aug 16",
           "Andelyn Ririe Born to Lyndee & Shane in Hurricane,...",
           "2010-01-01T00:00:00"
          ],
          [
           "Danae Vice President of Bountiful High School",
           "2013-2014",
           "Danae Vice President of Bountiful High School",
           "2010-01-01T00:00:00"
          ],
          [
           "Thomas D Stoddard born Midlothian, Virginia",
           "2013 Oct 3",
           "Thomas D Stoddard born Midlothian, Virginia",
           "2010-01-01T00:00:00"
          ],
          [
           "Donna & Deidra go to Seoul, Korea for Kim’s twins",
           "2013 Oct",
           "Donna & Deidra go to Seoul, Korea for Kim’s twins",
           "2010-01-01T00:00:00"
          ],
          [
           "TWINS Benjamin & Elizabeth born to Kim & Les in Seoul, Yongsan, Korea",
           "2013 Oct 3",
           "TWINS Benjamin & Elizabeth born to Kim & Les in Se...",
           "2010-01-01T00:00:00"
          ],
          [
           "Bethany returns home from LDS mission in Spokane, Washington",
           "2013 Dec",
           "Bethany returns home from LDS mission in Spokane, ...",
           "2010-01-01T00:00:00"
          ],
          [
           "Twins blessed by Les in Seoul English Branch, Military District, Seoul, Korea",
           "2013 Dec 8",
           "Twins blessed by Les in Seoul English Branch, Mili...",
           "2010-01-01T00:00:00"
          ],
          [
           "Andelyn blessed by her father in Bountiful 25th Ward, Bountiful So. Stake, Utah",
           "2013 Dec 22",
           "Andelyn blessed by her father in Bountiful 25th Wa...",
           "2010-01-01T00:00:00"
          ],
          [
           "McKelle & family moved to Rexburg",
           "2014",
           "McKelle & family moved to Rexburg",
           "2010-01-01T00:00:00"
          ],
          [
           "Donna went to Salt Lake Institute of Genealogy in SLC",
           "2014 Jan 12-2014 Jan 14",
           "Donna went to Salt Lake Institute of Genealogy in ...",
           "2010-01-01T00:00:00"
          ],
          [
           "KC graduated from the Paul Mitchell School in San Antonio, Texas",
           "2014 Jan 21",
           "KC graduated from the Paul Mitchell School in San ...",
           "2010-01-01T00:00:00"
          ],
          [
           "Camren returned home from LDS mission Belgium/Netherlands",
           "2014 Feb",
           "Camren returned home from LDS mission Belgium/Neth...",
           "2010-01-01T00:00:00"
          ],
          [
           "Parker & Karissa moved to Rexburg",
           "2014 Apr 18",
           "Parker & Karissa moved to Rexburg",
           "2010-01-01T00:00:00"
          ],
          [
           "Paul Wayne Thueson born to Paul & Rebecca, San Antonio, Texas",
           "2014 Mar 21",
           "Paul Wayne Thueson born to Paul & Rebecca, San Ant...",
           "2010-01-01T00:00:00"
          ],
          [
           "Ty Steven Thueson born to Blake & Kelli Rexburg, Idaho",
           "2014 May 26",
           "Ty Steven Thueson born to Blake & Kelli Rexburg, I...",
           "2010-01-01T00:00:00"
          ],
          [
           "Cannon Thueson born to Matt & Maria Rexburg, Idaho",
           "2014 Jun 10",
           "Cannon Thueson born to Matt & Maria Rexburg, Idaho",
           "2010-01-01T00:00:00"
          ],
          [
           "Cannon blessed by his father Rexburg 5th Ward, Rexburg Idaho Center Stake",
           "2014",
           "Cannon blessed by his father Rexburg 5th Ward, Rex...",
           "2010-01-01T00:00:00"
          ],
          [
           "Haylee baptized by her father San Antonio, Texas",
           "2014 Jun",
           "Haylee baptized by her father San Antonio, Texas",
           "2010-01-01T00:00:00"
          ],
          [
           "Jordan returns from LDS Mission Chihuahua, Mexico  Report",
           "2014 Jun 29",
           "Jordan returns from LDS Mission Chihuahua, Mexico ...",
           "2010-01-01T00:00:00"
          ],
          [
           "Donna, Steve & Deidra to see Lyndee in Hurricane, West Virginia",
           "2014 Jul 4",
           "Donna, Steve & Deidra to see Lyndee in Hurricane, ...",
           "2010-01-01T00:00:00"
          ],
          [
           "Hannah graduated from Rexburg Massage Therapy School, Rexburg, Idaho",
           "2014",
           "Hannah graduated from Rexburg Massage Therapy Scho...",
           "2010-01-01T00:00:00"
          ],
          [
           "Tacy Vice President of Venture High School",
           "2014 Sep-2014 May",
           "Tacy Vice President of Venture High School",
           "2010-01-01T00:00:00"
          ],
          [
           "Noah Vice President Sophomore Class Venture High School",
           "2014 Sep-2014 May",
           "Noah Vice President Sophomore Class Venture High S...",
           "2010-01-01T00:00:00"
          ],
          [
           "Taylor Shakespear born to Garren & Katelan Rexburg, Idaho",
           "2014 Aug 26",
           "Taylor Shakespear born to Garren & Katelan Rexburg...",
           "2010-01-01T00:00:00"
          ],
          [
           "Blair & family moved to San Antonio, Texas",
           "2014 Aug",
           "Blair & family moved to San Antonio, Texas",
           "2010-01-01T00:00:00"
          ],
          [
           "Tyler returns from LDS mission in New York, Rochester",
           "2014 Aug",
           "Tyler returns from LDS mission in New York, Roches...",
           "2010-01-01T00:00:00"
          ],
          [
           "Taylor Shakespeare blessed by her father, Garren, Salem 1st Ward, Salem, Idaho",
           "2014 Sep 7",
           "Taylor Shakespeare blessed by her father, Garren, ...",
           "2010-01-01T00:00:00"
          ],
          [
           "Bethany Graduated Bachelor of English Literature College of Southern Utah",
           "2014 Dec",
           "Bethany Graduated Bachelor of English Literature C...",
           "2010-01-01T00:00:00"
          ],
          [
           "KC Completed Paul Mitchell School Instructor Program, San Antonio, Texas",
           "2014 Oct 31",
           "KC Completed Paul Mitchell School Instructor Progr...",
           "2010-01-01T00:00:00"
          ],
          [
           "McKelle & Joshua Brown Divorced",
           "2014",
           "McKelle & Joshua Brown Divorced",
           "2010-01-01T00:00:00"
          ],
          [
           "CARLENE DIED & REVIVED",
           "2014",
           "CARLENE DIED & REVIVED",
           "2010-01-01T00:00:00"
          ],
          [
           "Donna Salt Lake Institute of Genealogy Seminar",
           "2015 Jan 12-2015 Jan 16",
           "Donna Salt Lake Institute of Genealogy Seminar",
           "2010-01-01T00:00:00"
          ],
          [
           "Bethany graduated Bachelor Degree Graduation College of Southern Utah",
           "2015 May 2",
           "Bethany graduated Bachelor Degree Graduation Colle...",
           "2010-01-01T00:00:00"
          ],
          [
           "Shane graduated Physician’s Assistant West Virginia",
           "2015",
           "Shane graduated Physician’s Assistant West Virgini...",
           "2010-01-01T00:00:00"
          ],
          [
           "Jenelle Relief Society Stake President Henry Fork’s Stake",
           "2015 May 3",
           "Jenelle Relief Society Stake President Henry Fork’...",
           "2010-01-01T00:00:00"
          ],
          [
           "Donna & Susan Vermont trip to New England",
           "2015 May 4-2015 May 10",
           "Donna & Susan Vermont trip to New England",
           "2010-01-01T00:00:00"
          ],
          [
           "Donna & Susan locked in a cemetery in Chesterfield, New Hampshire",
           "2015 May 6",
           "Donna & Susan locked in a cemetery in Chesterfield...",
           "2010-01-01T00:00:00"
          ],
          [
           "Noah elected President of Sophomore class Venture High School",
           "2015 May 7",
           "Noah elected President of Sophomore class Venture ...",
           "2010-01-01T00:00:00"
          ],
          [
           "Danae endowments in Bountiful Temple",
           "2015 May 23",
           "Danae endowments in Bountiful Temple",
           "2010-01-01T00:00:00"
          ]
         ],
         "hoverinfo": "skip",
         "hovertemplate": "<b>%{hovertext}</b><br><br>When=%{customdata[1]}<extra></extra>",
         "hovertext": [
          "Donna trip to Columbus, Ohio to visit Amy",
          "Lee Carter graduated from Ohio State as Dr. of Optometry, Columbus, Ohio",
          "Lee & Amy moved to Nampa, Idaho",
          "Donna sustained Ward Choir Director Hibbard Third Ward",
          "Dee’s family in charge Thueson Reunion in Ashton",
          "Donna with Blair and Carlene to San Antonio, TX",
          "KC & Margie Haynes married & sealed in the Texas, San Antonio Temple",
          "Girls Vacation Park City, Utah",
          "Steve new job at Temple Dept. in SLC, Utah",
          "Steve’s family moved to Bountiful, Utah",
          "Donna directed Music for “The Legacy Continues” North Rexburg Stake Joseph Smith Production",
          "Lee & Amy moved new home in Meridian, Idaho",
          "Kim released as Counselor in District Relief Society Presidency Korea",
          "Kim sustained RS President Daegu, Korea, Camp Walker Military Branch",
          "Susan & Monty became foster parents first time",
          "Kysaac Matthew Thueson born in Rexburg, Idaho to Matt & Maria",
          "Ellie Lynn Brown born to McKelle & Joshua Brown in Glendive, Montana",
          "Kysaac Matthew blessed at our home by Matthew Thueson, father",
          "Blair ordained a High Priest at our home by his brother, Steven Thueson",
          "Ellie Lynn Blessed by her father in Glendive Ward, Glendive Stake, Montana",
          "Donna Beta1 Tester for the New FamilySearch Program for Church online",
          "Haylee Savannah Thueson born in Pocatello, Idaho 4 months early, weighed 2 lbs. 11 oz.",
          "Lyndee graduated Bountiful High School",
          "Lyndee graduated LDS Seminary in Bountiful, Utah",
          "Haylee Savannah blessed by KC Thueson Pocatello",
          "Lacey & Sam lived with Grandma waiting for house",
          "Released from 2 year Part time Service Mission at FHC",
          "Donna Sustained as Ward Family History Consultant to continue to serve at FHC",
          "Paul Received his Eagle Scout Award, Ammon 8th Ward, Ammon Idaho Stake",
          "Donna called to World Wide Support Part time Service 5th Mission (tech support to New FamilySearch Program for the church online)",
          "Lacey Thueson Stoddard graduated BYUI as a Nurse",
          "Donna Beta2 Tester for the New FamilySearch Program for Church online",
          "Alyssa LaRae Brown born Glendive, Montana",
          "Grandma Burrows has Breast Cancer operation age 89 years 11 months",
          "Blake awarded his Eagle Scout Award in Bountiful, Utah",
          "KC graduated Army Boot Camp Sent to Fort Drum, New York",
          "Brigham ordained Deacon by Monty in West Warren Ward, Weber, Utah North Stake",
          "Donna redecorated Pinebrook house",
          "Hampton Dee Thueson born Portland, Oregon",
          "Hampton Dee blessed by Matthew Thueson",
          "Donna Released from World Wide Support part time Mission",
          "Lydia Elizabeth Carter born in Boise, Idaho",
          "Donna and Susan trip to Maryland for Kim’s baby.",
          "Andrew James Thompson born in Bethesda, Montgomery, Maryland",
          "Easton Dee & Noemi Fe Thueson born in Syracuse, New York. Easton was 2 lbs. 12 oz. 7 Noemi was 2 lbs. 13 oz. They were 11 weeks early.",
          "Lydia Elizabeth Blessed by Lee Carter in Nampa 33rd Ward, Nampa North Stake",
          "Jaylan ordained Deacon by his father Ammon 8th Ward, Ammon Idaho Stake",
          "Paul ordained Elder",
          "Donna Right Eye Surgery Ptirgium",
          "Andrew James Blessed by Capt. Leslie Thompson Hibbard Third Ward, \t\t\t\t\tNorth \tRexburg Idaho Stake",
          "Melissa & Emma officially adopted to Susan & Monty",
          "Sam Stoddard graduates BYU-I w/Bachelors Degree",
          "Capt. Leslie Thompson leaves for Kansas on the way to Iraq",
          "Kim & kids come to live with Grandma T",
          "Matthew graduated School of Cordon Bleu in Oregon",
          "Katelan graduated High School at Sugar-Salem, Idaho",
          "Katelan graduated Seminary at Sugar-Salem High School",
          "Paul graduated Hillcrest High School in Idaho Falls, Idaho",
          "Paul Graduated Seminary, Hillcrest High School",
          "Blake graduated Bountiful High School in Bountiful, Utah",
          "Paul Endowed in Idaho Falls Temple",
          "Lyndee Endowed in Salt Lake Temple",
          "Parker Endowed in Salt Lake Temple",
          "Lyndee & Shane Ririe married in Salt Lake Temple",
          "Donna Left Eye Cataract removed",
          "Donna Right Eye Cataract removed",
          "David made High Councilman in Rexburg Idaho Henry's Fork Stake",
          "Parker's Mission Farewell in 25th Ward, Bountiful, Utah",
          "Parker leaves for Mission in Rancagua, Chile",
          "Les promoted to Major while in Iraq, Kim & kids live w/Mom",
          "Danae breaks her ankle",
          "Mom & Kim & kids to Boise",
          "Copeland Carter baptized in Meridian",
          "Major Les home from Iraq for R&R",
          "Steve promoted in Temple Dept. to Area Manager",
          "Samuel Maxwell Stoddard born Cody, Park, Wyoming",
          "Shane graduated BYU-I Bachelor Degree in Business",
          "Katelan Married & Sealed to Garren Shakespear in Idaho Falls Temple",
          "Melissa & Emma Hardy sealed in IF Temple to Monty & Susan Hardy",
          "Paul leaves for California, Santa Rosa Mission",
          "Les receives University of Maryland Master's Degree in Information Management",
          "Tyler received Eagle Scout in Salem Ward",
          "Cole Wyatt Brown born to Joshua & McKelle Glendive, Montana",
          "Blake leaves for Brazil, Buenos Aires South Mission",
          "Kim leaves for Eppstein-Volckenhousen, Germany to be with Les",
          "Les serves on Generals Staff in Wiesbaden, Germany",
          "Samuel Maxwell Stoddard adopted to Lacey & Sam",
          "Samuel Maxwell sealed in Rexburg temple & blessed by his father, Sam",
          "Matt & Maria move back to Rexburg, Idaho",
          "Donna Eye surgery retina peel after hobo spider bite",
          "David had a heart attack in Rexburg",
          "Katelan Graduated Registered Nurse at BYU Idaho",
          "Madden Elijah Thueson born to Matt & Maria Rexburg, Idaho",
          "Madden blessed by his father Matthew in Rexburg 5th Ward, Rexburg Idaho Stake",
          "Kim Counselor in Relief Society Presidency Wiesbaden, Germany",
          "Donna & Blair & Carlene go to Hawaii w/Steve & Deidra for Hawaii Temple Rededication",
          "Parker returns from mission in Rancagua, Chile",
          "Girls Weekend All girls to Grandmas House",
          "Weston Ririe born to Lyndee & Shane Rexburg, Idaho",
          "McKay Garren Shakespeare born to Katelan & Garren Rexburg, Idaho",
          "Paul returns from California, Santa Rosa mission",
          "Weston blessed by his father Shane Ririe in Rexburg, Idaho",
          "Kim Relief Society President, Germany, Wiesbaden Military Ward, Kaiser Fouten Military District",
          "McKay Shakespeare blessed by Garren in Salem 1st Ward at David’s House 13",
          "Danae Sophomore Class President Bountiful High School",
          "Jordan graduated Weber High School, Ogden, Utah",
          "Jordan graduated LDS Seminary Weber High School, Ogden Utah",
          "Camren Graduated Bountiful High School",
          "Camren Graduated LDS Seminary Bountiful, Utah",
          "Danae on Bountiful City Youth Council",
          "Donna & Bethany to Europe, Germany, Paris, w/Kim & Les, Austria, Italy also        \t\t\tAmy & Lee",
          "McKaylee Stoddard born to Sam and Lacey Rexburg, Idaho",
          "Jordan Received His Eagle Scout Award, Warren Ward",
          "Blake returns from mission to Argentina, Buenos Aires South",
          "Parker marries Karissa Welch in the Draper LDS Temple",
          "McKaylee blessed by her father",
          "Donna’s mother Bernice Johnson Burrows died",
          "Lacey & Sam family moved to Midlothian, Virginia",
          "Camren Served LDS Mission Belgium/Netherlands",
          "Jaylan received Eagle Scout Award Ammon 8th Ward, Ammon, Idaho Stake",
          "Les Receives International GeoSpatial Agency Fellowship",
          "Allyx Thueson born Matt & Maria Rexburg, Idaho",
          "Bethany leaves for LDS Mission Spokane, Washington",
          "Tyler graduated Sugar-Salem High School",
          "Tyler graduated Seminary Sugar-Salem High School",
          "Blake married Kelli McOmie in Bountiful Temple",
          "Jordan leaves for LDS mission Chihuahua, Mexico",
          "Allyx blessed in Rexburg 5th Ward, Rexburg Idaho Center Stake by her father",
          "Matthew graduated from BYU Idaho Bachelor Degree in Business",
          "Kim & Les Family moved to Washington, D.C. area, Springfield, Virginia",
          "Tyler leaves for LDS mission New York, Rochester",
          "Amy & Lee in Meridian, Idaho",
          "Liam Carter born to Amy & Lee Carter Meridian, Idaho",
          "Benson D Shakespear born to Katelan & Garren Rexburg, Idaho",
          "Benson Blessed by his father, in Salem 1st Ward, Salem, Idaho",
          "Paul marries Rebecca Harker in San Antonio, Texas",
          "Hannah Graduates Hillcrest High School",
          "Hannah graduates Seminary Hillcrest High School",
          "Les & Kim moved to Korea with Army",
          "KC graduated Paul Mitchell Cosmetology School, San Antonio, Texas",
          "Andelyn Ririe Born to Lyndee & Shane in Hurricane, West Virginia",
          "Danae Vice President of Bountiful High School",
          "Thomas D Stoddard born Midlothian, Virginia",
          "Donna & Deidra go to Seoul, Korea for Kim’s twins",
          "TWINS Benjamin & Elizabeth born to Kim & Les in Seoul, Yongsan, Korea",
          "Bethany returns home from LDS mission in Spokane, Washington",
          "Twins blessed by Les in Seoul English Branch, Military District, Seoul, Korea",
          "Andelyn blessed by her father in Bountiful 25th Ward, Bountiful So. Stake, Utah",
          "McKelle & family moved to Rexburg",
          "Donna went to Salt Lake Institute of Genealogy in SLC",
          "KC graduated from the Paul Mitchell School in San Antonio, Texas",
          "Camren returned home from LDS mission Belgium/Netherlands",
          "Parker & Karissa moved to Rexburg",
          "Paul Wayne Thueson born to Paul & Rebecca, San Antonio, Texas",
          "Ty Steven Thueson born to Blake & Kelli Rexburg, Idaho",
          "Cannon Thueson born to Matt & Maria Rexburg, Idaho",
          "Cannon blessed by his father Rexburg 5th Ward, Rexburg Idaho Center Stake",
          "Haylee baptized by her father San Antonio, Texas",
          "Jordan returns from LDS Mission Chihuahua, Mexico  Report",
          "Donna, Steve & Deidra to see Lyndee in Hurricane, West Virginia",
          "Hannah graduated from Rexburg Massage Therapy School, Rexburg, Idaho",
          "Tacy Vice President of Venture High School",
          "Noah Vice President Sophomore Class Venture High School",
          "Taylor Shakespear born to Garren & Katelan Rexburg, Idaho",
          "Blair & family moved to San Antonio, Texas",
          "Tyler returns from LDS mission in New York, Rochester",
          "Taylor Shakespeare blessed by her father, Garren, Salem 1st Ward, Salem, Idaho",
          "Bethany Graduated Bachelor of English Literature College of Southern Utah",
          "KC Completed Paul Mitchell School Instructor Program, San Antonio, Texas",
          "McKelle & Joshua Brown Divorced",
          "CARLENE DIED & REVIVED",
          "Donna Salt Lake Institute of Genealogy Seminar",
          "Bethany graduated Bachelor Degree Graduation College of Southern Utah",
          "Shane graduated Physician’s Assistant West Virginia",
          "Jenelle Relief Society Stake President Henry Fork’s Stake",
          "Donna & Susan Vermont trip to New England",
          "Donna & Susan locked in a cemetery in Chesterfield, New Hampshire",
          "Noah elected President of Sophomore class Venture High School",
          "Danae endowments in Bountiful Temple"
         ],
         "legendgroup": "",
         "marker": {
          "color": "#636efa",
          "line": {
           "width": 0
          },
          "pattern": {
           "shape": ""
          }
         },
         "name": "",
         "offsetgroup": "",
         "orientation": "h",
         "showlegend": false,
         "text": [
          "Donna trip to Columbus, Ohio to visit Amy",
          "Lee Carter graduated from Ohio State as Dr. of Opt...",
          "Lee & Amy moved to Nampa, Idaho",
          "Donna sustained Ward Choir Director Hibbard Third ...",
          "Dee’s family in charge Thueson Reunion in Ashton",
          "Donna with Blair and Carlene to San Antonio, TX",
          "KC & Margie Haynes married & sealed in the Texas, ...",
          "Girls Vacation Park City, Utah",
          "Steve new job at Temple Dept. in SLC, Utah",
          "Steve’s family moved to Bountiful, Utah",
          "Donna directed Music for “The Legacy Continues” No...",
          "Lee & Amy moved new home in Meridian, Idaho",
          "Kim released as Counselor in District Relief Socie...",
          "Kim sustained RS President Daegu, Korea, Camp Walk...",
          "Susan & Monty became foster parents first time",
          "Kysaac Matthew Thueson born in Rexburg, Idaho to M...",
          "Ellie Lynn Brown born to McKelle & Joshua Brown in...",
          "Kysaac Matthew blessed at our home by Matthew Thue...",
          "Blair ordained a High Priest at our home by his br...",
          "Ellie Lynn Blessed by her father in Glendive Ward,...",
          "Donna Beta1 Tester for the New FamilySearch Progra...",
          "Haylee Savannah Thueson born in Pocatello, Idaho 4...",
          "Lyndee graduated Bountiful High School",
          "Lyndee graduated LDS Seminary in Bountiful, Utah",
          "Haylee Savannah blessed by KC Thueson Pocatello",
          "Lacey & Sam lived with Grandma waiting for house",
          "Released from 2 year Part time Service Mission at ...",
          "Donna Sustained as Ward Family History Consultant ...",
          "Paul Received his Eagle Scout Award, Ammon 8th War...",
          "Donna called to World Wide Support Part time Servi...",
          "Lacey Thueson Stoddard graduated BYUI as a Nurse",
          "Donna Beta2 Tester for the New FamilySearch Progra...",
          "Alyssa LaRae Brown born Glendive, Montana",
          "Grandma Burrows has Breast Cancer operation age 89...",
          "Blake awarded his Eagle Scout Award in Bountiful, ...",
          "KC graduated Army Boot Camp Sent to Fort Drum, New...",
          "Brigham ordained Deacon by Monty in West Warren Wa...",
          "Donna redecorated Pinebrook house",
          "Hampton Dee Thueson born Portland, Oregon",
          "Hampton Dee blessed by Matthew Thueson",
          "Donna Released from World Wide Support part time M...",
          "Lydia Elizabeth Carter born in Boise, Idaho",
          "Donna and Susan trip to Maryland for Kim’s baby.",
          "Andrew James Thompson born in Bethesda, Montgomery...",
          "Easton Dee & Noemi Fe Thueson born in Syracuse, Ne...",
          "Lydia Elizabeth Blessed by Lee Carter in Nampa 33r...",
          "Jaylan ordained Deacon by his father Ammon 8th War...",
          "Paul ordained Elder",
          "Donna Right Eye Surgery Ptirgium",
          "Andrew James Blessed by Capt. Leslie Thompson Hibb...",
          "Melissa & Emma officially adopted to Susan & Monty",
          "Sam Stoddard graduates BYU-I w/Bachelors Degree",
          "Capt. Leslie Thompson leaves for Kansas on the way...",
          "Kim & kids come to live with Grandma T",
          "Matthew graduated School of Cordon Bleu in Oregon",
          "Katelan graduated High School at Sugar-Salem, Idah...",
          "Katelan graduated Seminary at Sugar-Salem High Sch...",
          "Paul graduated Hillcrest High School in Idaho Fall...",
          "Paul Graduated Seminary, Hillcrest High School",
          "Blake graduated Bountiful High School in Bountiful...",
          "Paul Endowed in Idaho Falls Temple",
          "Lyndee Endowed in Salt Lake Temple",
          "Parker Endowed in Salt Lake Temple",
          "Lyndee & Shane Ririe married in Salt Lake Temple",
          "Donna Left Eye Cataract removed",
          "Donna Right Eye Cataract removed",
          "David made High Councilman in Rexburg Idaho Henry'...",
          "Parker's Mission Farewell in 25th Ward, Bountiful,...",
          "Parker leaves for Mission in Rancagua, Chile",
          "Les promoted to Major while in Iraq, Kim & kids li...",
          "Danae breaks her ankle",
          "Mom & Kim & kids to Boise",
          "Copeland Carter baptized in Meridian",
          "Major Les home from Iraq for R&R",
          "Steve promoted in Temple Dept. to Area Manager",
          "Samuel Maxwell Stoddard born Cody, Park, Wyoming",
          "Shane graduated BYU-I Bachelor Degree in Business",
          "Katelan Married & Sealed to Garren Shakespear in I...",
          "Melissa & Emma Hardy sealed in IF Temple to Monty ...",
          "Paul leaves for California, Santa Rosa Mission",
          "Les receives University of Maryland Master's Degre...",
          "Tyler received Eagle Scout in Salem Ward",
          "Cole Wyatt Brown born to Joshua & McKelle Glendive...",
          "Blake leaves for Brazil, Buenos Aires South Missio...",
          "Kim leaves for Eppstein-Volckenhousen, Germany to ...",
          "Les serves on Generals Staff in Wiesbaden, Germany",
          "Samuel Maxwell Stoddard adopted to Lacey & Sam",
          "Samuel Maxwell sealed in Rexburg temple & blessed ...",
          "Matt & Maria move back to Rexburg, Idaho",
          "Donna Eye surgery retina peel after hobo spider bi...",
          "David had a heart attack in Rexburg",
          "Katelan Graduated Registered Nurse at BYU Idaho",
          "Madden Elijah Thueson born to Matt & Maria Rexburg...",
          "Madden blessed by his father Matthew in Rexburg 5t...",
          "Kim Counselor in Relief Society Presidency Wiesbad...",
          "Donna & Blair & Carlene go to Hawaii w/Steve & Dei...",
          "Parker returns from mission in Rancagua, Chile",
          "Girls Weekend All girls to Grandmas House",
          "Weston Ririe born to Lyndee & Shane Rexburg, Idaho",
          "McKay Garren Shakespeare born to Katelan & Garren ...",
          "Paul returns from California, Santa Rosa mission",
          "Weston blessed by his father Shane Ririe in Rexbur...",
          "Kim Relief Society President, Germany, Wiesbaden M...",
          "McKay Shakespeare blessed by Garren in Salem 1st W...",
          "Danae Sophomore Class President Bountiful High Sch...",
          "Jordan graduated Weber High School, Ogden, Utah",
          "Jordan graduated LDS Seminary Weber High School, O...",
          "Camren Graduated Bountiful High School",
          "Camren Graduated LDS Seminary Bountiful, Utah",
          "Danae on Bountiful City Youth Council",
          "Donna & Bethany to Europe, Germany, Paris, w/Kim &...",
          "McKaylee Stoddard born to Sam and Lacey Rexburg, I...",
          "Jordan Received His Eagle Scout Award, Warren Ward",
          "Blake returns from mission to Argentina, Buenos Ai...",
          "Parker marries Karissa Welch in the Draper LDS Tem...",
          "McKaylee blessed by her father",
          "Donna’s mother Bernice Johnson Burrows died",
          "Lacey & Sam family moved to Midlothian, Virginia",
          "Camren Served LDS Mission Belgium/Netherlands",
          "Jaylan received Eagle Scout Award Ammon 8th Ward, ...",
          "Les Receives International GeoSpatial Agency Fello...",
          "Allyx Thueson born Matt & Maria Rexburg, Idaho",
          "Bethany leaves for LDS Mission Spokane, Washington",
          "Tyler graduated Sugar-Salem High School",
          "Tyler graduated Seminary Sugar-Salem High School",
          "Blake married Kelli McOmie in Bountiful Temple",
          "Jordan leaves for LDS mission Chihuahua, Mexico",
          "Allyx blessed in Rexburg 5th Ward, Rexburg Idaho C...",
          "Matthew graduated from BYU Idaho Bachelor Degree i...",
          "Kim & Les Family moved to Washington, D.C. area, S...",
          "Tyler leaves for LDS mission New York, Rochester",
          "Amy & Lee in Meridian, Idaho",
          "Liam Carter born to Amy & Lee Carter Meridian, Ida...",
          "Benson D Shakespear born to Katelan & Garren Rexbu...",
          "Benson Blessed by his father, in Salem 1st Ward, S...",
          "Paul marries Rebecca Harker in San Antonio, Texas",
          "Hannah Graduates Hillcrest High School",
          "Hannah graduates Seminary Hillcrest High School",
          "Les & Kim moved to Korea with Army",
          "KC graduated Paul Mitchell Cosmetology School, San...",
          "Andelyn Ririe Born to Lyndee & Shane in Hurricane,...",
          "Danae Vice President of Bountiful High School",
          "Thomas D Stoddard born Midlothian, Virginia",
          "Donna & Deidra go to Seoul, Korea for Kim’s twins",
          "TWINS Benjamin & Elizabeth born to Kim & Les in Se...",
          "Bethany returns home from LDS mission in Spokane, ...",
          "Twins blessed by Les in Seoul English Branch, Mili...",
          "Andelyn blessed by her father in Bountiful 25th Wa...",
          "McKelle & family moved to Rexburg",
          "Donna went to Salt Lake Institute of Genealogy in ...",
          "KC graduated from the Paul Mitchell School in San ...",
          "Camren returned home from LDS mission Belgium/Neth...",
          "Parker & Karissa moved to Rexburg",
          "Paul Wayne Thueson born to Paul & Rebecca, San Ant...",
          "Ty Steven Thueson born to Blake & Kelli Rexburg, I...",
          "Cannon Thueson born to Matt & Maria Rexburg, Idaho",
          "Cannon blessed by his father Rexburg 5th Ward, Rex...",
          "Haylee baptized by her father San Antonio, Texas",
          "Jordan returns from LDS Mission Chihuahua, Mexico ...",
          "Donna, Steve & Deidra to see Lyndee in Hurricane, ...",
          "Hannah graduated from Rexburg Massage Therapy Scho...",
          "Tacy Vice President of Venture High School",
          "Noah Vice President Sophomore Class Venture High S...",
          "Taylor Shakespear born to Garren & Katelan Rexburg...",
          "Blair & family moved to San Antonio, Texas",
          "Tyler returns from LDS mission in New York, Roches...",
          "Taylor Shakespeare blessed by her father, Garren, ...",
          "Bethany Graduated Bachelor of English Literature C...",
          "KC Completed Paul Mitchell School Instructor Progr...",
          "McKelle & Joshua Brown Divorced",
          "CARLENE DIED & REVIVED",
          "Donna Salt Lake Institute of Genealogy Seminar",
          "Bethany graduated Bachelor Degree Graduation Colle...",
          "Shane graduated Physician’s Assistant West Virgini...",
          "Jenelle Relief Society Stake President Henry Fork’...",
          "Donna & Susan Vermont trip to New England",
          "Donna & Susan locked in a cemetery in Chesterfield...",
          "Noah elected President of Sophomore class Venture ...",
          "Danae endowments in Bountiful Temple"
         ],
         "textposition": "auto",
         "type": "bar",
         "x": [
          864000000,
          864000000,
          864000000,
          864000000,
          172800000,
          864000000,
          864000000,
          259200000,
          864000000,
          864000000,
          864000000,
          864000000,
          864000000,
          864000000,
          864000000,
          864000000,
          864000000,
          864000000,
          864000000,
          864000000,
          864000000,
          864000000,
          864000000,
          864000000,
          864000000,
          7862400000,
          864000000,
          864000000,
          864000000,
          864000000,
          864000000,
          864000000,
          864000000,
          864000000,
          864000000,
          864000000,
          864000000,
          864000000,
          864000000,
          28944000000,
          864000000,
          864000000,
          864000000,
          864000000,
          864000000,
          864000000,
          864000000,
          864000000,
          864000000,
          864000000,
          28857600000,
          28857600000,
          864000000,
          864000000,
          864000000,
          864000000,
          864000000,
          864000000,
          864000000,
          864000000,
          864000000,
          864000000,
          864000000,
          864000000,
          864000000,
          864000000,
          864000000,
          864000000,
          864000000,
          864000000,
          864000000,
          864000000,
          864000000,
          1468800000,
          864000000,
          864000000,
          864000000,
          864000000,
          864000000,
          864000000,
          864000000,
          864000000,
          864000000,
          864000000,
          864000000,
          864000000,
          864000000,
          864000000,
          864000000,
          864000000,
          864000000,
          864000000,
          864000000,
          864000000,
          864000000,
          864000000,
          864000000,
          864000000,
          864000000,
          864000000,
          864000000,
          864000000,
          864000000,
          864000000,
          60393600000,
          864000000,
          864000000,
          864000000,
          864000000,
          864000000,
          2505600000,
          864000000,
          864000000,
          864000000,
          864000000,
          864000000,
          864000000,
          864000000,
          864000000,
          864000000,
          864000000,
          864000000,
          864000000,
          864000000,
          864000000,
          864000000,
          864000000,
          864000000,
          864000000,
          864000000,
          864000000,
          864000000,
          864000000,
          864000000,
          864000000,
          864000000,
          864000000,
          864000000,
          864000000,
          864000000,
          864000000,
          60480000000,
          864000000,
          864000000,
          864000000,
          864000000,
          864000000,
          864000000,
          28857600000,
          172800000,
          864000000,
          864000000,
          864000000,
          864000000,
          864000000,
          864000000,
          28857600000,
          864000000,
          864000000,
          864000000,
          28857600000,
          -10627200000,
          -10627200000,
          864000000,
          864000000,
          864000000,
          864000000,
          864000000,
          864000000,
          28857600000,
          28857600000,
          345600000,
          864000000,
          28857600000,
          864000000,
          518400000,
          864000000,
          864000000,
          864000000
         ],
         "xaxis": "x",
         "y": [
          -2,
          -3,
          -4,
          -5,
          -6,
          -7,
          -8,
          -9,
          -10,
          -11,
          -12,
          -13,
          -14,
          -15,
          -16,
          15,
          14,
          13,
          12,
          11,
          10,
          9,
          8,
          7,
          6,
          5,
          4,
          3,
          2,
          1,
          -1,
          -2,
          -3,
          -4,
          -5,
          -6,
          -7,
          -8,
          -9,
          -10,
          -11,
          -12,
          -13,
          -14,
          -15,
          -16,
          15,
          14,
          13,
          12,
          11,
          10,
          9,
          8,
          7,
          6,
          5,
          4,
          3,
          2,
          1,
          -1,
          -2,
          -3,
          -4,
          -5,
          -6,
          -7,
          -8,
          -9,
          -10,
          -11,
          -12,
          -13,
          -14,
          -15,
          -16,
          15,
          14,
          13,
          12,
          11,
          10,
          9,
          8,
          7,
          6,
          5,
          4,
          3,
          2,
          1,
          -1,
          -2,
          -3,
          -4,
          -5,
          -6,
          -7,
          -8,
          -9,
          -10,
          -11,
          -12,
          -13,
          -14,
          -15,
          -16,
          15,
          14,
          13,
          12,
          11,
          10,
          9,
          8,
          7,
          6,
          5,
          4,
          3,
          2,
          1,
          -1,
          -2,
          -3,
          -4,
          -5,
          -6,
          -7,
          -8,
          -9,
          -10,
          -11,
          -12,
          -13,
          -14,
          -15,
          -16,
          15,
          14,
          13,
          12,
          11,
          10,
          9,
          8,
          7,
          6,
          5,
          4,
          3,
          2,
          1,
          -1,
          -2,
          -3,
          -4,
          -5,
          -6,
          -7,
          -8,
          -9,
          -10,
          -11,
          -12,
          -13,
          -14,
          -15,
          -16,
          15,
          14,
          13,
          12,
          11,
          10,
          9,
          8,
          7
         ],
         "yaxis": "y"
        }
       ],
       "layout": {
        "annotations": [
         {
          "font": {},
          "showarrow": false,
          "text": "1960's",
          "textangle": 90,
          "x": 0.98,
          "xanchor": "left",
          "xref": "paper",
          "y": 0.05857142857142857,
          "yanchor": "middle",
          "yref": "paper"
         },
         {
          "font": {},
          "showarrow": false,
          "text": "1970's",
          "textangle": 90,
          "x": 0.98,
          "xanchor": "left",
          "xref": "paper",
          "y": 0.2057142857142857,
          "yanchor": "middle",
          "yref": "paper"
         },
         {
          "font": {},
          "showarrow": false,
          "text": "1980's",
          "textangle": 90,
          "x": 0.98,
          "xanchor": "left",
          "xref": "paper",
          "y": 0.35285714285714287,
          "yanchor": "middle",
          "yref": "paper"
         },
         {
          "font": {},
          "showarrow": false,
          "text": "1990's",
          "textangle": 90,
          "x": 0.98,
          "xanchor": "left",
          "xref": "paper",
          "y": 0.49999999999999994,
          "yanchor": "middle",
          "yref": "paper"
         },
         {
          "font": {},
          "showarrow": false,
          "text": "2000's",
          "textangle": 90,
          "x": 0.98,
          "xanchor": "left",
          "xref": "paper",
          "y": 0.647142857142857,
          "yanchor": "middle",
          "yref": "paper"
         },
         {
          "font": {},
          "showarrow": false,
          "text": "2010's",
          "textangle": 90,
          "x": 0.98,
          "xanchor": "left",
          "xref": "paper",
          "y": 0.7942857142857143,
          "yanchor": "middle",
          "yref": "paper"
         },
         {
          "font": {},
          "showarrow": false,
          "text": "2020's",
          "textangle": 90,
          "x": 0.98,
          "xanchor": "left",
          "xref": "paper",
          "y": 0.9414285714285713,
          "yanchor": "middle",
          "yref": "paper"
         }
        ],
        "barmode": "overlay",
        "height": 4000,
        "hovermode": "x",
        "legend": {
         "tracegroupgap": 0
        },
        "shapes": [
         {
          "line": {
           "color": "black",
           "width": 1
          },
          "type": "line",
          "x0": "0001-01-09",
          "x1": "0010-12-26",
          "xref": "x",
          "y0": 0,
          "y1": 0,
          "yref": "y"
         },
         {
          "line": {
           "color": "black",
           "width": 1
          },
          "type": "line",
          "x0": "0001-01-09",
          "x1": "0010-12-26",
          "xref": "x",
          "y0": 0,
          "y1": 0,
          "yref": "y2"
         },
         {
          "line": {
           "color": "black",
           "width": 1
          },
          "type": "line",
          "x0": "0001-01-09",
          "x1": "0010-12-26",
          "xref": "x",
          "y0": 0,
          "y1": 0,
          "yref": "y3"
         },
         {
          "line": {
           "color": "black",
           "width": 1
          },
          "type": "line",
          "x0": "0001-01-09",
          "x1": "0010-12-26",
          "xref": "x",
          "y0": 0,
          "y1": 0,
          "yref": "y4"
         },
         {
          "line": {
           "color": "black",
           "width": 1
          },
          "type": "line",
          "x0": "0001-01-09",
          "x1": "0010-12-26",
          "xref": "x",
          "y0": 0,
          "y1": 0,
          "yref": "y5"
         },
         {
          "line": {
           "color": "black",
           "width": 1
          },
          "type": "line",
          "x0": "0001-01-09",
          "x1": "0010-12-26",
          "xref": "x",
          "y0": 0,
          "y1": 0,
          "yref": "y6"
         },
         {
          "line": {
           "color": "black",
           "width": 1
          },
          "type": "line",
          "x0": "0001-01-09",
          "x1": "0010-12-26",
          "xref": "x",
          "y0": 0,
          "y1": 0,
          "yref": "y7"
         }
        ],
        "template": {
         "data": {
          "bar": [
           {
            "error_x": {
             "color": "#2a3f5f"
            },
            "error_y": {
             "color": "#2a3f5f"
            },
            "marker": {
             "line": {
              "color": "#E5ECF6",
              "width": 0.5
             },
             "pattern": {
              "fillmode": "overlay",
              "size": 10,
              "solidity": 0.2
             }
            },
            "type": "bar"
           }
          ],
          "barpolar": [
           {
            "marker": {
             "line": {
              "color": "#E5ECF6",
              "width": 0.5
             },
             "pattern": {
              "fillmode": "overlay",
              "size": 10,
              "solidity": 0.2
             }
            },
            "type": "barpolar"
           }
          ],
          "carpet": [
           {
            "aaxis": {
             "endlinecolor": "#2a3f5f",
             "gridcolor": "white",
             "linecolor": "white",
             "minorgridcolor": "white",
             "startlinecolor": "#2a3f5f"
            },
            "baxis": {
             "endlinecolor": "#2a3f5f",
             "gridcolor": "white",
             "linecolor": "white",
             "minorgridcolor": "white",
             "startlinecolor": "#2a3f5f"
            },
            "type": "carpet"
           }
          ],
          "choropleth": [
           {
            "colorbar": {
             "outlinewidth": 0,
             "ticks": ""
            },
            "type": "choropleth"
           }
          ],
          "contour": [
           {
            "colorbar": {
             "outlinewidth": 0,
             "ticks": ""
            },
            "colorscale": [
             [
              0,
              "#0d0887"
             ],
             [
              0.1111111111111111,
              "#46039f"
             ],
             [
              0.2222222222222222,
              "#7201a8"
             ],
             [
              0.3333333333333333,
              "#9c179e"
             ],
             [
              0.4444444444444444,
              "#bd3786"
             ],
             [
              0.5555555555555556,
              "#d8576b"
             ],
             [
              0.6666666666666666,
              "#ed7953"
             ],
             [
              0.7777777777777778,
              "#fb9f3a"
             ],
             [
              0.8888888888888888,
              "#fdca26"
             ],
             [
              1,
              "#f0f921"
             ]
            ],
            "type": "contour"
           }
          ],
          "contourcarpet": [
           {
            "colorbar": {
             "outlinewidth": 0,
             "ticks": ""
            },
            "type": "contourcarpet"
           }
          ],
          "heatmap": [
           {
            "colorbar": {
             "outlinewidth": 0,
             "ticks": ""
            },
            "colorscale": [
             [
              0,
              "#0d0887"
             ],
             [
              0.1111111111111111,
              "#46039f"
             ],
             [
              0.2222222222222222,
              "#7201a8"
             ],
             [
              0.3333333333333333,
              "#9c179e"
             ],
             [
              0.4444444444444444,
              "#bd3786"
             ],
             [
              0.5555555555555556,
              "#d8576b"
             ],
             [
              0.6666666666666666,
              "#ed7953"
             ],
             [
              0.7777777777777778,
              "#fb9f3a"
             ],
             [
              0.8888888888888888,
              "#fdca26"
             ],
             [
              1,
              "#f0f921"
             ]
            ],
            "type": "heatmap"
           }
          ],
          "heatmapgl": [
           {
            "colorbar": {
             "outlinewidth": 0,
             "ticks": ""
            },
            "colorscale": [
             [
              0,
              "#0d0887"
             ],
             [
              0.1111111111111111,
              "#46039f"
             ],
             [
              0.2222222222222222,
              "#7201a8"
             ],
             [
              0.3333333333333333,
              "#9c179e"
             ],
             [
              0.4444444444444444,
              "#bd3786"
             ],
             [
              0.5555555555555556,
              "#d8576b"
             ],
             [
              0.6666666666666666,
              "#ed7953"
             ],
             [
              0.7777777777777778,
              "#fb9f3a"
             ],
             [
              0.8888888888888888,
              "#fdca26"
             ],
             [
              1,
              "#f0f921"
             ]
            ],
            "type": "heatmapgl"
           }
          ],
          "histogram": [
           {
            "marker": {
             "pattern": {
              "fillmode": "overlay",
              "size": 10,
              "solidity": 0.2
             }
            },
            "type": "histogram"
           }
          ],
          "histogram2d": [
           {
            "colorbar": {
             "outlinewidth": 0,
             "ticks": ""
            },
            "colorscale": [
             [
              0,
              "#0d0887"
             ],
             [
              0.1111111111111111,
              "#46039f"
             ],
             [
              0.2222222222222222,
              "#7201a8"
             ],
             [
              0.3333333333333333,
              "#9c179e"
             ],
             [
              0.4444444444444444,
              "#bd3786"
             ],
             [
              0.5555555555555556,
              "#d8576b"
             ],
             [
              0.6666666666666666,
              "#ed7953"
             ],
             [
              0.7777777777777778,
              "#fb9f3a"
             ],
             [
              0.8888888888888888,
              "#fdca26"
             ],
             [
              1,
              "#f0f921"
             ]
            ],
            "type": "histogram2d"
           }
          ],
          "histogram2dcontour": [
           {
            "colorbar": {
             "outlinewidth": 0,
             "ticks": ""
            },
            "colorscale": [
             [
              0,
              "#0d0887"
             ],
             [
              0.1111111111111111,
              "#46039f"
             ],
             [
              0.2222222222222222,
              "#7201a8"
             ],
             [
              0.3333333333333333,
              "#9c179e"
             ],
             [
              0.4444444444444444,
              "#bd3786"
             ],
             [
              0.5555555555555556,
              "#d8576b"
             ],
             [
              0.6666666666666666,
              "#ed7953"
             ],
             [
              0.7777777777777778,
              "#fb9f3a"
             ],
             [
              0.8888888888888888,
              "#fdca26"
             ],
             [
              1,
              "#f0f921"
             ]
            ],
            "type": "histogram2dcontour"
           }
          ],
          "mesh3d": [
           {
            "colorbar": {
             "outlinewidth": 0,
             "ticks": ""
            },
            "type": "mesh3d"
           }
          ],
          "parcoords": [
           {
            "line": {
             "colorbar": {
              "outlinewidth": 0,
              "ticks": ""
             }
            },
            "type": "parcoords"
           }
          ],
          "pie": [
           {
            "automargin": true,
            "type": "pie"
           }
          ],
          "scatter": [
           {
            "fillpattern": {
             "fillmode": "overlay",
             "size": 10,
             "solidity": 0.2
            },
            "type": "scatter"
           }
          ],
          "scatter3d": [
           {
            "line": {
             "colorbar": {
              "outlinewidth": 0,
              "ticks": ""
             }
            },
            "marker": {
             "colorbar": {
              "outlinewidth": 0,
              "ticks": ""
             }
            },
            "type": "scatter3d"
           }
          ],
          "scattercarpet": [
           {
            "marker": {
             "colorbar": {
              "outlinewidth": 0,
              "ticks": ""
             }
            },
            "type": "scattercarpet"
           }
          ],
          "scattergeo": [
           {
            "marker": {
             "colorbar": {
              "outlinewidth": 0,
              "ticks": ""
             }
            },
            "type": "scattergeo"
           }
          ],
          "scattergl": [
           {
            "marker": {
             "colorbar": {
              "outlinewidth": 0,
              "ticks": ""
             }
            },
            "type": "scattergl"
           }
          ],
          "scattermapbox": [
           {
            "marker": {
             "colorbar": {
              "outlinewidth": 0,
              "ticks": ""
             }
            },
            "type": "scattermapbox"
           }
          ],
          "scatterpolar": [
           {
            "marker": {
             "colorbar": {
              "outlinewidth": 0,
              "ticks": ""
             }
            },
            "type": "scatterpolar"
           }
          ],
          "scatterpolargl": [
           {
            "marker": {
             "colorbar": {
              "outlinewidth": 0,
              "ticks": ""
             }
            },
            "type": "scatterpolargl"
           }
          ],
          "scatterternary": [
           {
            "marker": {
             "colorbar": {
              "outlinewidth": 0,
              "ticks": ""
             }
            },
            "type": "scatterternary"
           }
          ],
          "surface": [
           {
            "colorbar": {
             "outlinewidth": 0,
             "ticks": ""
            },
            "colorscale": [
             [
              0,
              "#0d0887"
             ],
             [
              0.1111111111111111,
              "#46039f"
             ],
             [
              0.2222222222222222,
              "#7201a8"
             ],
             [
              0.3333333333333333,
              "#9c179e"
             ],
             [
              0.4444444444444444,
              "#bd3786"
             ],
             [
              0.5555555555555556,
              "#d8576b"
             ],
             [
              0.6666666666666666,
              "#ed7953"
             ],
             [
              0.7777777777777778,
              "#fb9f3a"
             ],
             [
              0.8888888888888888,
              "#fdca26"
             ],
             [
              1,
              "#f0f921"
             ]
            ],
            "type": "surface"
           }
          ],
          "table": [
           {
            "cells": {
             "fill": {
              "color": "#EBF0F8"
             },
             "line": {
              "color": "white"
             }
            },
            "header": {
             "fill": {
              "color": "#C8D4E3"
             },
             "line": {
              "color": "white"
             }
            },
            "type": "table"
           }
          ]
         },
         "layout": {
          "annotationdefaults": {
           "arrowcolor": "#2a3f5f",
           "arrowhead": 0,
           "arrowwidth": 1
          },
          "autotypenumbers": "strict",
          "coloraxis": {
           "colorbar": {
            "outlinewidth": 0,
            "ticks": ""
           }
          },
          "colorscale": {
           "diverging": [
            [
             0,
             "#8e0152"
            ],
            [
             0.1,
             "#c51b7d"
            ],
            [
             0.2,
             "#de77ae"
            ],
            [
             0.3,
             "#f1b6da"
            ],
            [
             0.4,
             "#fde0ef"
            ],
            [
             0.5,
             "#f7f7f7"
            ],
            [
             0.6,
             "#e6f5d0"
            ],
            [
             0.7,
             "#b8e186"
            ],
            [
             0.8,
             "#7fbc41"
            ],
            [
             0.9,
             "#4d9221"
            ],
            [
             1,
             "#276419"
            ]
           ],
           "sequential": [
            [
             0,
             "#0d0887"
            ],
            [
             0.1111111111111111,
             "#46039f"
            ],
            [
             0.2222222222222222,
             "#7201a8"
            ],
            [
             0.3333333333333333,
             "#9c179e"
            ],
            [
             0.4444444444444444,
             "#bd3786"
            ],
            [
             0.5555555555555556,
             "#d8576b"
            ],
            [
             0.6666666666666666,
             "#ed7953"
            ],
            [
             0.7777777777777778,
             "#fb9f3a"
            ],
            [
             0.8888888888888888,
             "#fdca26"
            ],
            [
             1,
             "#f0f921"
            ]
           ],
           "sequentialminus": [
            [
             0,
             "#0d0887"
            ],
            [
             0.1111111111111111,
             "#46039f"
            ],
            [
             0.2222222222222222,
             "#7201a8"
            ],
            [
             0.3333333333333333,
             "#9c179e"
            ],
            [
             0.4444444444444444,
             "#bd3786"
            ],
            [
             0.5555555555555556,
             "#d8576b"
            ],
            [
             0.6666666666666666,
             "#ed7953"
            ],
            [
             0.7777777777777778,
             "#fb9f3a"
            ],
            [
             0.8888888888888888,
             "#fdca26"
            ],
            [
             1,
             "#f0f921"
            ]
           ]
          },
          "colorway": [
           "#636efa",
           "#EF553B",
           "#00cc96",
           "#ab63fa",
           "#FFA15A",
           "#19d3f3",
           "#FF6692",
           "#B6E880",
           "#FF97FF",
           "#FECB52"
          ],
          "font": {
           "color": "#2a3f5f"
          },
          "geo": {
           "bgcolor": "white",
           "lakecolor": "white",
           "landcolor": "#E5ECF6",
           "showlakes": true,
           "showland": true,
           "subunitcolor": "white"
          },
          "hoverlabel": {
           "align": "left"
          },
          "hovermode": "closest",
          "mapbox": {
           "style": "light"
          },
          "paper_bgcolor": "white",
          "plot_bgcolor": "#E5ECF6",
          "polar": {
           "angularaxis": {
            "gridcolor": "white",
            "linecolor": "white",
            "ticks": ""
           },
           "bgcolor": "#E5ECF6",
           "radialaxis": {
            "gridcolor": "white",
            "linecolor": "white",
            "ticks": ""
           }
          },
          "scene": {
           "xaxis": {
            "backgroundcolor": "#E5ECF6",
            "gridcolor": "white",
            "gridwidth": 2,
            "linecolor": "white",
            "showbackground": true,
            "ticks": "",
            "zerolinecolor": "white"
           },
           "yaxis": {
            "backgroundcolor": "#E5ECF6",
            "gridcolor": "white",
            "gridwidth": 2,
            "linecolor": "white",
            "showbackground": true,
            "ticks": "",
            "zerolinecolor": "white"
           },
           "zaxis": {
            "backgroundcolor": "#E5ECF6",
            "gridcolor": "white",
            "gridwidth": 2,
            "linecolor": "white",
            "showbackground": true,
            "ticks": "",
            "zerolinecolor": "white"
           }
          },
          "shapedefaults": {
           "line": {
            "color": "#2a3f5f"
           }
          },
          "ternary": {
           "aaxis": {
            "gridcolor": "white",
            "linecolor": "white",
            "ticks": ""
           },
           "baxis": {
            "gridcolor": "white",
            "linecolor": "white",
            "ticks": ""
           },
           "bgcolor": "#E5ECF6",
           "caxis": {
            "gridcolor": "white",
            "linecolor": "white",
            "ticks": ""
           }
          },
          "title": {
           "x": 0.05
          },
          "xaxis": {
           "automargin": true,
           "gridcolor": "white",
           "linecolor": "white",
           "ticks": "",
           "title": {
            "standoff": 15
           },
           "zerolinecolor": "white",
           "zerolinewidth": 2
          },
          "yaxis": {
           "automargin": true,
           "gridcolor": "white",
           "linecolor": "white",
           "ticks": "",
           "title": {
            "standoff": 15
           },
           "zerolinecolor": "white",
           "zerolinewidth": 2
          }
         }
        },
        "title": {
         "text": "Thueson Family Timeline (works best on desktop) -- Hover over an event to see more information                     <a href=\"https://smartycope.github.io/thueson-reunion/\">Back</a>"
        },
        "width": 6000,
        "xaxis": {
         "anchor": "y",
         "domain": [
          0,
          0.98
         ],
         "range": [
          "0001-01-01",
          "0011-03-31"
         ],
         "type": "date"
        },
        "xaxis2": {
         "anchor": "y2",
         "domain": [
          0,
          0.98
         ],
         "matches": "x",
         "showticklabels": false,
         "type": "date"
        },
        "xaxis3": {
         "anchor": "y3",
         "domain": [
          0,
          0.98
         ],
         "matches": "x",
         "showticklabels": false,
         "type": "date"
        },
        "xaxis4": {
         "anchor": "y4",
         "domain": [
          0,
          0.98
         ],
         "matches": "x",
         "showticklabels": false,
         "type": "date"
        },
        "xaxis5": {
         "anchor": "y5",
         "domain": [
          0,
          0.98
         ],
         "matches": "x",
         "showticklabels": false,
         "type": "date"
        },
        "xaxis6": {
         "anchor": "y6",
         "domain": [
          0,
          0.98
         ],
         "matches": "x",
         "showticklabels": false,
         "type": "date"
        },
        "xaxis7": {
         "anchor": "y7",
         "domain": [
          0,
          0.98
         ],
         "matches": "x",
         "showticklabels": false,
         "type": "date"
        },
        "yaxis": {
         "anchor": "x",
         "domain": [
          0,
          0.11714285714285715
         ],
         "range": [
          -17,
          17
         ],
         "showticklabels": false,
         "tickmode": "array",
         "tickvals": [],
         "title": {
          "text": "1960's"
         }
        },
        "yaxis2": {
         "anchor": "x2",
         "domain": [
          0.14714285714285713,
          0.2642857142857143
         ],
         "matches": "y",
         "range": [
          -17,
          17
         ],
         "showticklabels": false,
         "tickmode": "array",
         "tickvals": [],
         "title": {
          "text": "1970's"
         }
        },
        "yaxis3": {
         "anchor": "x3",
         "domain": [
          0.29428571428571426,
          0.4114285714285714
         ],
         "matches": "y",
         "range": [
          -17,
          17
         ],
         "showticklabels": false,
         "tickmode": "array",
         "tickvals": [],
         "title": {
          "text": "1980's"
         }
        },
        "yaxis4": {
         "anchor": "x4",
         "domain": [
          0.4414285714285714,
          0.5585714285714285
         ],
         "matches": "y",
         "range": [
          -17,
          17
         ],
         "showticklabels": false,
         "tickmode": "array",
         "tickvals": [],
         "title": {
          "text": "1990's"
         }
        },
        "yaxis5": {
         "anchor": "x5",
         "domain": [
          0.5885714285714285,
          0.7057142857142856
         ],
         "matches": "y",
         "range": [
          -17,
          17
         ],
         "showticklabels": false,
         "tickmode": "array",
         "tickvals": [],
         "title": {
          "text": "2000's"
         }
        },
        "yaxis6": {
         "anchor": "x6",
         "domain": [
          0.7357142857142858,
          0.8528571428571429
         ],
         "matches": "y",
         "range": [
          -17,
          17
         ],
         "showticklabels": false,
         "tickmode": "array",
         "tickvals": [],
         "title": {
          "text": "2010's"
         }
        },
        "yaxis7": {
         "anchor": "x7",
         "domain": [
          0.8828571428571428,
          0.9999999999999999
         ],
         "matches": "y",
         "range": [
          -17,
          17
         ],
         "showticklabels": false,
         "tickmode": "array",
         "tickvals": [],
         "title": {
          "text": "2020's"
         }
        }
       }
      }
     },
     "metadata": {},
     "output_type": "display_data"
    }
   ],
   "source": [
    "from itertools import cycle\n",
    "\n",
    "amt = 16\n",
    "var = list(range(-amt, amt))\n",
    "var.reverse()\n",
    "var.remove(0)\n",
    "c = cycle(var)\n",
    "df = df.with_columns(y=pl.lit(np.array([next(c) for _ in range(df.height)])))\n",
    "\n",
    "fig = px.timeline(df,\n",
    "    x_start='adj_start',\n",
    "    x_end='adj_end',\n",
    "    text='event_short',\n",
    "    y='y',\n",
    "    title='Thueson Family Timeline (works best on desktop) -- Hover over an event to see more information                     <a href=\"https://smartycope.github.io/thueson-reunion/\">Back</a>',\n",
    "    facet_row='decade',\n",
    "    # This doesn't work\n",
    "    # category_orders={'decade': list((df['decade'].unique().to_list()))},\n",
    "    height=4000,\n",
    "    width=6000,\n",
    "    hover_data={\n",
    "        'y': False,\n",
    "        'event': False,\n",
    "        'entry': True,\n",
    "        'adj_start': False,\n",
    "        'adj_end': False,\n",
    "        'event_short': False,\n",
    "        'decade': False\n",
    "    },\n",
    "    hover_name='event',\n",
    "    range_x=(datetime.date(1, 1, 1), datetime.date(11, 3, 31)),\n",
    "    range_y=(-(amt+1), amt+1),\n",
    "    labels={'entry': \"When\"}\n",
    ")\n",
    "\n",
    "fig.update_traces(marker=dict(line=dict(width=0)), selector=dict(type='bar'))\n",
    "fig.update_traces(hoverinfo='skip', selector=dict(type='bar'))\n",
    "fig.update_layout(hovermode='x')\n",
    "\n",
    "# This is terrible, but it works\n",
    "i = 0\n",
    "def get_decade():\n",
    "    global i\n",
    "    i += 1\n",
    "    return df['decade'].unique()[i-1]\n",
    "fig.for_each_yaxis(lambda y: y.update(dict(\n",
    "        tickmode='array',\n",
    "        tickvals=[],\n",
    "        showticklabels=False,\n",
    "        title=str(get_decade())[:4] + \"'s\",\n",
    "        # anchor='free',\n",
    "        # position=.5,\n",
    "    ),))\n",
    "\n",
    "for idx, da in enumerate(zip(df['decade'].unique(), fig.layout.annotations)):\n",
    "    decade, annotation = da\n",
    "    facet = f\"y{idx+1}\" if idx > 0 else \"y\"\n",
    "    annotation.text = str(decade)[:4] + \"'s\"\n",
    "\n",
    "    fig.add_shape(\n",
    "        type='line',\n",
    "        y0=0,\n",
    "        x0=min(df['adj_start']),# - pl.duration(weeks=520),\n",
    "        y1=0,\n",
    "        x1=max(df['adj_end']),# + pl.duration(weeks=520),\n",
    "        line=dict(color='black', width=1),\n",
    "        xref='x',\n",
    "        yref=facet,\n",
    "    )\n",
    "\n",
    "fig"
   ]
  },
  {
   "cell_type": "code",
   "execution_count": 16,
   "metadata": {},
   "outputs": [],
   "source": [
    "with open('familyTimeline.html', 'w') as f:\n",
    "    f.write(fig.to_html())"
   ]
  }
 ],
 "metadata": {
  "kernelspec": {
   "display_name": "Python 3",
   "language": "python",
   "name": "python3"
  },
  "language_info": {
   "codemirror_mode": {
    "name": "ipython",
    "version": 3
   },
   "file_extension": ".py",
   "mimetype": "text/x-python",
   "name": "python",
   "nbconvert_exporter": "python",
   "pygments_lexer": "ipython3",
   "version": "3.12.2"
  }
 },
 "nbformat": 4,
 "nbformat_minor": 2
}
